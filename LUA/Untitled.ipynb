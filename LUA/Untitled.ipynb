{
 "cells": [
  {
   "cell_type": "code",
   "execution_count": 16,
   "id": "dcfe2cf8-4b38-4d13-a20c-e222b58b945f",
   "metadata": {},
   "outputs": [
    {
     "name": "stdout",
     "output_type": "stream",
     "text": [
      "Lua — Coding Style_files \n",
      "Lua — Coding Style.html \n",
      "lua-intro.html \n",
      "Project Structure — Coding Style_files \n",
      "Project Structure — Coding Style.html \n",
      "Untitled.ipynb \n",
      "xeus-lua-main \n"
     ]
    }
   ],
   "source": [
    "dirname = '.'\n",
    "f = io.popen('ls ' .. dirname)\n",
    "for name in f:lines() do print(name) end"
   ]
  },
  {
   "cell_type": "code",
   "execution_count": 17,
   "id": "8a5c026f-fd78-4a61-840c-bbab8119fdd5",
   "metadata": {},
   "outputs": [
    {
     "ename": "[string \"dirname = '.'...\"]:4: 'do' expected near 'if'",
     "evalue": "[string \"dirname = '.'...\"]:4: 'do' expected near 'if'",
     "output_type": "error",
     "traceback": [
      "[string \"dirname = '.'...\"]:4: 'do' expected near 'if'"
     ]
    }
   ],
   "source": [
    "dirname = '.'\n",
    "f = io.popen('ls ' .. dirname)\n",
    "for name in f:lines() \n",
    "if \"ipynb\" in name\n",
    "    do print(name) end"
   ]
  },
  {
   "cell_type": "code",
   "execution_count": 5,
   "id": "7684e68b-e0d8-46fc-914d-cb032c4f53f4",
   "metadata": {},
   "outputs": [],
   "source": [
    "-- Lua implementation of PHP scandir function\n",
    "function scandir(directory)\n",
    "    local i, t, popen = 0, {}, io.popen\n",
    "    local pfile = popen('ls -a \"'..directory..'\"')\n",
    "    for filename in pfile:lines() do\n",
    "        i = i + 1\n",
    "        t[i] = filename\n",
    "    end\n",
    "    pfile:close()\n",
    "    return t\n",
    "end\n"
   ]
  },
  {
   "cell_type": "code",
   "execution_count": 9,
   "id": "f4ee83af-1f5b-48c0-8f20-f55162024c16",
   "metadata": {},
   "outputs": [],
   "source": [
    "LIST = scandir(\".\")"
   ]
  },
  {
   "cell_type": "code",
   "execution_count": 10,
   "id": "dc9f12f7-60c8-490b-9843-3befdf7bd2d5",
   "metadata": {},
   "outputs": [
    {
     "ename": "[string \"for fname in LIST do  print(fname)  end\"]:1: attempt to call a table value (for iterator 'for iterator')",
     "evalue": "[string \"for fname in LIST do  print(fname)  end\"]:1: attempt to call a table value (for iterator 'for iterator')",
     "output_type": "error",
     "traceback": [
      "[string \"for fname in LIST do  print(fname)  end\"]:1: attempt to call a table value (for iterator 'for iterator')"
     ]
    }
   ],
   "source": [
    "for fname in LIST do  print(fname)  end"
   ]
  },
  {
   "cell_type": "code",
   "execution_count": 12,
   "id": "f7749b62-e479-4280-869f-a32b3e790f21",
   "metadata": {},
   "outputs": [],
   "source": [
    "function awesome_next(t, k)\n",
    "    k, t = next(t, k)\n",
    "    if not t then return end\n",
    "    return k, table.unpack(t)\n",
    "end\n",
    "\n",
    "\n"
   ]
  },
  {
   "cell_type": "code",
   "execution_count": 13,
   "id": "9ac15ecf-b9bb-4428-85be-ec3624468bd7",
   "metadata": {},
   "outputs": [],
   "source": [
    "for k, a, b, c, d in awesome_next, t do\n",
    "end"
   ]
  },
  {
   "cell_type": "code",
   "execution_count": 15,
   "id": "ee20cbb9-5d21-472f-b7b2-e7685092f9c1",
   "metadata": {},
   "outputs": [
    {
     "name": "stdout",
     "output_type": "stream",
     "text": [
      " \n"
     ]
    }
   ],
   "source": [
    "local f = io.popen(\"dir '~/Desktop'\")\n",
    "if f then\n",
    "    print(f:read(\"*a\"))\n",
    "else\n",
    "    print(\"failed to read\")\n",
    "end\n"
   ]
  },
  {
   "cell_type": "code",
   "execution_count": 20,
   "id": "db82b422-b236-4665-8033-3e450c7069bf",
   "metadata": {},
   "outputs": [
    {
     "ename": "[string \"local env  = sqlite3.sqlite3()...\"]:1: attempt to index a nil value (global 'sqlite3')",
     "evalue": "[string \"local env  = sqlite3.sqlite3()...\"]:1: attempt to index a nil value (global 'sqlite3')",
     "output_type": "error",
     "traceback": [
      "[string \"local env  = sqlite3.sqlite3()...\"]:1: attempt to index a nil value (global 'sqlite3')"
     ]
    }
   ],
   "source": [
    "local env  = sqlite3.sqlite3()\n",
    "local conn = env:connect('mydb.sqlite')"
   ]
  },
  {
   "cell_type": "code",
   "execution_count": 21,
   "id": "c33d8893-075b-49b8-aa1f-ee7826848f4d",
   "metadata": {},
   "outputs": [
    {
     "name": "stdout",
     "output_type": "stream",
     "text": [
      "Wednesday, 06 June 2022 \n",
      "\n"
     ]
    }
   ],
   "source": [
    "print (os. date (\"%A, %m %B %Y\"))"
   ]
  },
  {
   "cell_type": "code",
   "execution_count": null,
   "id": "06417830-4e2d-4900-814d-507e794e4aac",
   "metadata": {},
   "outputs": [],
   "source": []
  }
 ],
 "metadata": {
  "kernelspec": {
   "display_name": "Lua  (XLua)",
   "language": "lua",
   "name": "xlua"
  },
  "language_info": {
   "file_extension": ".lua",
   "mimetype": "text/x-luasrc",
   "name": "lua",
   "version": "14.0.0"
  }
 },
 "nbformat": 4,
 "nbformat_minor": 5
}
