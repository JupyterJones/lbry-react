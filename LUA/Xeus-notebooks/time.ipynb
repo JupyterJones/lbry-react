{
 "cells": [
  {
   "cell_type": "code",
   "execution_count": 1,
   "id": "f2bec435-a52d-4566-bed3-7ac244df761a",
   "metadata": {},
   "outputs": [
    {
     "name": "stdout",
     "output_type": "stream",
     "text": [
      "iter 1 delta 0.002857 \n",
      "iter 2 delta 100.324714 \n",
      "iter 3 delta 200.326432 \n",
      "iter 4 delta 300.882474 \n",
      "iter 5 delta 400.973532 \n",
      "iter 6 delta 501.039798 \n",
      "iter 7 delta 601.127367 \n",
      "iter 8 delta 701.16685 \n",
      "iter 9 delta 801.325594 \n",
      "iter 10 delta 901.527038 \n",
      "expected d ms 1000.0 total_dutation 1001.668349 detla 1.668349 \n"
     ]
    }
   ],
   "source": [
    "-- call function 3 times each 1000 ms\n",
    "d_ms = 100.0\n",
    "n = 10\n",
    "total_duration = ilua.time.duration_ms(function()\n",
    "        \n",
    "    ilua.time.scheduled_ms(n, d_ms, function(iter, delta)\n",
    "    print(\"iter\", iter, \"delta\", delta)\n",
    "    end)\n",
    "end)\n",
    "expected_ms = d_ms * n\n",
    "delta = math.abs(expected_ms - total_duration)\n",
    "print(\"expected d ms\", expected_ms, \"total_dutation\", total_duration, \"detla\", delta)"
   ]
  },
  {
   "cell_type": "code",
   "execution_count": 2,
   "id": "fd62b27b-db31-41ec-b5ba-65add8891e99",
   "metadata": {},
   "outputs": [
    {
     "name": "stdout",
     "output_type": "stream",
     "text": [
      "iter 1 delta 0.016443 \n",
      "iter 2 delta 41.275709 \n",
      "iter 3 delta 82.671897 \n",
      "iter 4 delta 124.1452 \n",
      "iter 5 delta 165.55759 \n",
      "iter 6 delta 206.952067 \n",
      "iter 7 delta 248.534062 \n",
      "iter 8 delta 289.923198 \n",
      "iter 9 delta 331.63938 \n",
      "iter 10 delta 372.99719 \n",
      "iter 11 delta 414.668803 \n",
      "iter 12 delta 456.073674 \n",
      "iter 13 delta 497.539383 \n",
      "iter 14 delta 538.945619 \n",
      "iter 15 delta 580.930554 \n",
      "iter 16 delta 622.345362 \n",
      "iter 17 delta 664.16342 \n",
      "iter 18 delta 705.543021 \n",
      "iter 19 delta 747.054153 \n",
      "iter 20 delta 789.133753 \n",
      "iter 21 delta 831.305671 \n",
      "iter 22 delta 872.83719 \n",
      "iter 23 delta 914.602868 \n",
      "iter 24 delta 956.028879 \n",
      "expected d ms 1000.0 total_dutation 997.793183 detla 2.206817 \n"
     ]
    }
   ],
   "source": [
    "-- call function 100 times with 24 fps\n",
    "fps = 24.0\n",
    "n = 24\n",
    "total_duration = ilua.time.duration_ms(function()\n",
    "        \n",
    "    ilua.time.scheduled_fps(n, fps, function(iter, delta)\n",
    "        print(\"iter\", iter, \"delta\",delta)\n",
    "    end)\n",
    "        \n",
    "end)\n",
    "expected_ms = (1000.0/fps) * n\n",
    "delta = math.abs(expected_ms - total_duration)\n",
    "print(\"expected d ms\", expected_ms, \"total_dutation\", total_duration, \"detla\", math.abs(expected_ms - total_duration))"
   ]
  },
  {
   "cell_type": "code",
   "execution_count": null,
   "id": "f03acca5-9fbb-442a-89a3-0a9f3955bf9d",
   "metadata": {},
   "outputs": [],
   "source": []
  }
 ],
 "metadata": {
  "kernelspec": {
   "display_name": "Lua  (XLua)",
   "language": "lua",
   "name": "xlua"
  },
  "language_info": {
   "file_extension": ".lua",
   "mimetype": "text/x-luasrc",
   "name": "lua",
   "version": "14.0.0"
  }
 },
 "nbformat": 4,
 "nbformat_minor": 5
}
