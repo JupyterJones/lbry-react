{
 "cells": [
  {
   "cell_type": "code",
   "execution_count": 6,
   "id": "6e2eec80-a129-47de-a4d2-4e2c032fb5fa",
   "metadata": {},
   "outputs": [
    {
     "data": {
      "application/vnd.jupyter.widget-view+json": {
       "model_id": "a8664a4268794fd1bdacbda8cc4fd5bc",
       "version_major": 2,
       "version_minor": 0
      },
      "text/plain": [
       "A Jupyter widget"
      ]
     },
     "metadata": {},
     "output_type": "display_data"
    }
   ],
   "source": [
    "canvas = ilua.canvas.canvas({width=700, height=500})\n",
    "ilua.display.display(canvas)\n",
    "canvas:cache()\n",
    "canvas.shadow_offset_x = 1\n",
    "canvas.shadow_offset_y = 2\n",
    "canvas.shadow_blur = 2\n",
    "canvas.shadow_color = 'black'\n",
    "\n",
    "for var=1,100 do\n",
    "    canvas.fill_style = canvas:rand_color()\n",
    "    canvas:fill_circle(canvas:rand_coord(), math.random(1,10))\n",
    "end\n",
    "canvas:flush()"
   ]
  },
  {
   "cell_type": "code",
   "execution_count": 7,
   "id": "5937ced8-33bb-4437-8645-f776b6878125",
   "metadata": {},
   "outputs": [
    {
     "data": {
      "application/vnd.jupyter.widget-view+json": {
       "model_id": "66bbfd9a988541a98ff8c2d9ea481c1a",
       "version_major": 2,
       "version_minor": 0
      },
      "text/plain": [
       "A Jupyter widget"
      ]
     },
     "metadata": {},
     "output_type": "display_data"
    }
   ],
   "source": [
    "canvas = ilua.canvas.canvas({width=700, height=700})\n",
    "ilua.display.display(canvas)\n",
    "canvas:cache()\n",
    "\n",
    "for var=1,1000 do\n",
    "    canvas:begin_path()\n",
    "    canvas:move_to(canvas:rand_coord())\n",
    "    for s=1,5 do\n",
    "        canvas:line_to(canvas:rand_coord())\n",
    "    end\n",
    "    canvas.fill_style = canvas:rand_color()\n",
    "    canvas:fill()\n",
    "end\n",
    "canvas:flush()"
   ]
  },
  {
   "cell_type": "code",
   "execution_count": 8,
   "id": "316fd239-d38f-4f75-81c9-8cb5993532a1",
   "metadata": {},
   "outputs": [
    {
     "data": {
      "application/vnd.jupyter.widget-view+json": {
       "model_id": "b859b91b90c34bbeb63ee2b561de7f62",
       "version_major": 2,
       "version_minor": 0
      },
      "text/plain": [
       "A Jupyter widget"
      ]
     },
     "metadata": {},
     "output_type": "display_data"
    }
   ],
   "source": [
    "canvas = ilua.canvas.canvas({width=700, height=700})\n",
    "ilua.display.display(canvas)\n",
    "canvas:cache()\n",
    "canvas.line_width = 2\n",
    "for var=1,100 do\n",
    "    canvas:begin_path()\n",
    "    canvas:move_to(canvas:rand_coord())\n",
    "    for s=1,4 do\n",
    "        canvas:line_to(canvas:rand_coord())\n",
    "    end\n",
    "    canvas.stroke_style = canvas:rand_color()\n",
    "    canvas:stroke()\n",
    "end\n",
    "canvas:flush()"
   ]
  },
  {
   "cell_type": "code",
   "execution_count": 9,
   "id": "bb8cebac-027c-4e7b-a752-fd506dc6a5e6",
   "metadata": {},
   "outputs": [
    {
     "data": {
      "application/vnd.jupyter.widget-view+json": {
       "model_id": "81fa12d83daa44748b4e056f147b9359",
       "version_major": 2,
       "version_minor": 0
      },
      "text/plain": [
       "A Jupyter widget"
      ]
     },
     "metadata": {},
     "output_type": "display_data"
    }
   ],
   "source": [
    "canvas = ilua.canvas.canvas({width=150, height=150})\n",
    "ilua.display.display(canvas)\n",
    "canvas:cache()\n",
    "canvas.fill_style = \"red\"\n",
    "\n",
    "canvas:begin_path()\n",
    "canvas:move_to({75.0, 40.0})\n",
    "canvas:bezier_curve_to(\n",
    "    {75, 37},\n",
    "    {70, 25},\n",
    "    { 50, 25}\n",
    ")\n",
    "canvas:bezier_curve_to(\n",
    "    {20, 25},\n",
    "    {20, 62.5},\n",
    "    {20, 62.5}\n",
    ")\n",
    "canvas:bezier_curve_to(\n",
    "    {20, 80},\n",
    "    {40, 102},\n",
    "    {75, 120}\n",
    ")\n",
    "canvas:bezier_curve_to(\n",
    "    {110, 102},\n",
    "    {130, 80},\n",
    "    {130, 62.5}\n",
    ")\n",
    "canvas:bezier_curve_to(\n",
    "    {130, 62.5,},\n",
    "    {130, 25},\n",
    "    {100, 25}\n",
    ")\n",
    "canvas:bezier_curve_to(\n",
    "    {85, 25},\n",
    "    {75, 37},\n",
    "    {75, 40}\n",
    ")\n",
    "canvas:fill()\n",
    "canvas:flush()"
   ]
  },
  {
   "cell_type": "code",
   "execution_count": 10,
   "id": "5267b1d1-00e1-4b91-8b85-51960181d605",
   "metadata": {},
   "outputs": [
    {
     "data": {
      "application/vnd.jupyter.widget-view+json": {
       "model_id": "0fdfa86edc704ac2af60f4bdbd7013b2",
       "version_major": 2,
       "version_minor": 0
      },
      "text/plain": [
       "A Jupyter widget"
      ]
     },
     "metadata": {},
     "output_type": "display_data"
    }
   ],
   "source": [
    "canvas = ilua.canvas.canvas({width=150, height=150})\n",
    "ilua.display.display(canvas)\n",
    "canvas:cache()\n",
    "\n",
    "\n",
    "\n",
    "center = {50,50}\n",
    "canvas:with({fill_style='red'}, function()\n",
    "    for var=1,5 do\n",
    "        canvas:fill_rect(center, {10,30})\n",
    "        canvas:rotate_arround(center, 45)\n",
    "        canvas:fill_rect(center, {10,30})\n",
    "    end\n",
    "end)\n",
    "canvas:fill_rect(center, {10,30})\n",
    "canvas:flush()\n"
   ]
  },
  {
   "cell_type": "code",
   "execution_count": 11,
   "id": "2c48d2b7-41da-4235-89a7-9d1f04cf1b81",
   "metadata": {},
   "outputs": [
    {
     "data": {
      "application/vnd.jupyter.widget-view+json": {
       "model_id": "8259d404fa944d5d83ae7df2220ed502",
       "version_major": 2,
       "version_minor": 0
      },
      "text/plain": [
       "A Jupyter widget"
      ]
     },
     "metadata": {},
     "output_type": "display_data"
    }
   ],
   "source": [
    "canvas = ilua.canvas.canvas({width=150, height=150})\n",
    "ilua.display.display(canvas)\n",
    "canvas:cache()\n",
    "\n",
    "\n",
    "\n",
    "center = {50,50}\n",
    "canvas:with_save_and_restore({fill_style='red'}, function()\n",
    "    for var=1,5 do\n",
    "        canvas:fill_rect(center, {10,30})\n",
    "        canvas:rotate_arround(center, 45)\n",
    "        canvas:fill_rect(center, {10,30})\n",
    "    end\n",
    "end)\n",
    "canvas:fill_rect(center, {10,30})\n",
    "canvas:flush()\n"
   ]
  },
  {
   "cell_type": "code",
   "execution_count": null,
   "id": "17899d31-c99a-433f-91d1-88d2a85d64bb",
   "metadata": {},
   "outputs": [],
   "source": []
  },
  {
   "cell_type": "code",
   "execution_count": null,
   "id": "e2fc49ce-2dad-4631-8b13-d0f81ac16b06",
   "metadata": {},
   "outputs": [],
   "source": []
  },
  {
   "cell_type": "code",
   "execution_count": null,
   "id": "2f38428d-0432-4409-af4a-d80286136a70",
   "metadata": {},
   "outputs": [],
   "source": []
  }
 ],
 "metadata": {
  "kernelspec": {
   "display_name": "Lua  (XLua)",
   "language": "lua",
   "name": "xlua"
  },
  "language_info": {
   "file_extension": ".lua",
   "mimetype": "text/x-luasrc",
   "name": "lua",
   "version": "14.0.0"
  }
 },
 "nbformat": 4,
 "nbformat_minor": 5
}
