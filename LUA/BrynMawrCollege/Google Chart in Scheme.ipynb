{
 "metadata": {
  "kernelspec": {
   "codemirror_mode": "scheme",
   "display_name": "Scheme",
   "language": "scheme",
   "name": "calico_scheme_kernel"
  },
  "name": "",
  "signature": "sha256:12af8934b1690915dff5a76a606cdf1cc6a2156d017a5852dc9a1403a185e9c4"
 },
 "nbformat": 3,
 "nbformat_minor": 0,
 "worksheets": [
  {
   "cells": [
    {
     "cell_type": "code",
     "collapsed": false,
     "input": [
      "(import-as \"calico.widgets\" '*)\n",
      "(import-as \"calico.display\" 'display)"
     ],
     "language": "python",
     "metadata": {},
     "outputs": [
      {
       "metadata": {},
       "output_type": "pyout",
       "prompt_number": 8,
       "text": [
        "(display)"
       ]
      }
     ],
     "prompt_number": 8
    },
    {
     "cell_type": "code",
     "collapsed": false,
     "input": [
      "(define gc (GoogleChart \"BarChart\" '(\"Year\" \"Sales\" \"Expenses\") \n",
      "             '((\"2004\"  1000      400)\n",
      "                   (\"2005\"  1170      460)\n",
      "                   (\"2006\"  660       1120)\n",
      "                   (\"2007\"  1030      540))))\n",
      "(display.display gc)"
     ],
     "language": "python",
     "metadata": {},
     "outputs": [
      {
       "html": [
        "\n",
        "<div id=\"chart_div_4\" style=\"height: 400px;\"></div>\n",
        "\n",
        "<script type=\"text/javascript\">\n",
        "        require(['https://www.google.com/jsapi'], function () {\n",
        "          function drawChart() {                \n",
        "            var chart = new google.visualization.BarChart(document.getElementById('chart_div_4'));\n",
        "\n",
        "            var data = google.visualization.arrayToDataTable([['Year', 'Sales', 'Expenses'], ['2004', 1000, 400], ['2005', 1170, 460], ['2006', 660, 1120], ['2007', 1030, 540]]);\n",
        "            var options = {};\n",
        "            chart.draw(data, options);\n",
        "        };\n",
        "        google.load('visualization', '1.0', {'callback': drawChart, 'packages':['corechart']});\n",
        "        });\n",
        "</script>"
       ],
       "metadata": {},
       "output_type": "display_data",
       "text": [
        "<calico.widgets.googlechart.GoogleChart object at 0x7f7b88138750>"
       ]
      }
     ],
     "prompt_number": 9
    },
    {
     "cell_type": "code",
     "collapsed": false,
     "input": [
      "(define gc (GoogleChart \"BarChart\" '() \n",
      "             '((\"2004\"  1000      400)\n",
      "                   (\"2005\"  1170      460)\n",
      "                   (\"2006\"  660       1120)\n",
      "                   (\"2007\"  1030      540))))\n",
      "(display.display gc)"
     ],
     "language": "python",
     "metadata": {},
     "outputs": [
      {
       "html": [
        "\n",
        "<div id=\"chart_div_5\" style=\"height: 400px;\"></div>\n",
        "\n",
        "<script type=\"text/javascript\">\n",
        "        require(['https://www.google.com/jsapi'], function () {\n",
        "          function drawChart() {                \n",
        "            var chart = new google.visualization.BarChart(document.getElementById('chart_div_5'));\n",
        "\n",
        "            var data = google.visualization.arrayToDataTable([['', '', ''], ['2004', 1000, 400], ['2005', 1170, 460], ['2006', 660, 1120], ['2007', 1030, 540]]);\n",
        "            var options = {};\n",
        "            chart.draw(data, options);\n",
        "        };\n",
        "        google.load('visualization', '1.0', {'callback': drawChart, 'packages':['corechart']});\n",
        "        });\n",
        "</script>"
       ],
       "metadata": {},
       "output_type": "display_data",
       "text": [
        "<calico.widgets.googlechart.GoogleChart object at 0x7f7b8cb19e50>"
       ]
      }
     ],
     "prompt_number": 10
    },
    {
     "cell_type": "code",
     "collapsed": false,
     "input": [
      "(define gc (GoogleChart \"ScatterChart\" '() \n",
      "             '((1000      400)\n",
      "                   (1170      460)\n",
      "                   (660       1120)\n",
      "                   (1030      540))))\n",
      "(display.display gc)"
     ],
     "language": "python",
     "metadata": {},
     "outputs": [
      {
       "html": [
        "\n",
        "<div id=\"chart_div_7\" style=\"height: 400px;\"></div>\n",
        "\n",
        "<script type=\"text/javascript\">\n",
        "        require(['https://www.google.com/jsapi'], function () {\n",
        "          function drawChart() {                \n",
        "            var chart = new google.visualization.ScatterChart(document.getElementById('chart_div_7'));\n",
        "\n",
        "            var data = google.visualization.arrayToDataTable([['', ''], [1000, 400], [1170, 460], [660, 1120], [1030, 540]]);\n",
        "            var options = {};\n",
        "            chart.draw(data, options);\n",
        "        };\n",
        "        google.load('visualization', '1.0', {'callback': drawChart, 'packages':['corechart']});\n",
        "        });\n",
        "</script>"
       ],
       "metadata": {},
       "output_type": "display_data",
       "text": [
        "<calico.widgets.googlechart.GoogleChart object at 0x7f7b895e85d0>"
       ]
      }
     ],
     "prompt_number": 12
    },
    {
     "cell_type": "code",
     "collapsed": false,
     "input": [
      "(GoogleChart \"Histogram\" '() '(6 7 8 9 3 2 6))"
     ],
     "language": "python",
     "metadata": {},
     "outputs": [
      {
       "html": [
        "\n",
        "<div id=\"chart_div_8\" style=\"height: 400px;\"></div>\n",
        "\n",
        "<script type=\"text/javascript\">\n",
        "        require(['https://www.google.com/jsapi'], function () {\n",
        "          function drawChart() {                \n",
        "            var chart = new google.visualization.Histogram(document.getElementById('chart_div_8'));\n",
        "\n",
        "            var data = google.visualization.arrayToDataTable([['', ''], [0, 6], [1, 7], [2, 8], [3, 9], [4, 3], [5, 2], [6, 6]]);\n",
        "            var options = {};\n",
        "            chart.draw(data, options);\n",
        "        };\n",
        "        google.load('visualization', '1.0', {'callback': drawChart, 'packages':['corechart']});\n",
        "        });\n",
        "</script>"
       ],
       "metadata": {},
       "output_type": "pyout",
       "prompt_number": 13,
       "text": [
        "<calico.widgets.googlechart.GoogleChart object at 0x7f7b895e8910>"
       ]
      }
     ],
     "prompt_number": 13
    },
    {
     "cell_type": "code",
     "collapsed": false,
     "input": [
      "(define gc (GoogleChart \"AreaChart\" '() '(6 7 8 9 3 2 6)))"
     ],
     "language": "python",
     "metadata": {},
     "outputs": [],
     "prompt_number": 15
    },
    {
     "cell_type": "code",
     "collapsed": false,
     "input": [
      "gc"
     ],
     "language": "python",
     "metadata": {},
     "outputs": [
      {
       "html": [
        "\n",
        "<div id=\"chart_div_9\" style=\"height: 400px;\"></div>\n",
        "\n",
        "<script type=\"text/javascript\">\n",
        "        require(['https://www.google.com/jsapi'], function () {\n",
        "          function drawChart() {                \n",
        "            var chart = new google.visualization.AreaChart(document.getElementById('chart_div_9'));\n",
        "\n",
        "            var data = google.visualization.arrayToDataTable([['', ''], [0, 6], [1, 7], [2, 8], [3, 9], [4, 3], [5, 2], [6, 6]]);\n",
        "            var options = {};\n",
        "            chart.draw(data, options);\n",
        "        };\n",
        "        google.load('visualization', '1.0', {'callback': drawChart, 'packages':['corechart']});\n",
        "        });\n",
        "</script>"
       ],
       "metadata": {},
       "output_type": "pyout",
       "prompt_number": 16,
       "text": [
        "<calico.widgets.googlechart.GoogleChart object at 0x7f7b8cb2a390>"
       ]
      }
     ],
     "prompt_number": 16
    },
    {
     "cell_type": "code",
     "collapsed": false,
     "input": [
      "(define gc (GoogleChart \"ScatterChart\" '() '(6 7 8 9 3 2 6)))"
     ],
     "language": "python",
     "metadata": {},
     "outputs": [],
     "prompt_number": 17
    },
    {
     "cell_type": "code",
     "collapsed": false,
     "input": [
      "gc"
     ],
     "language": "python",
     "metadata": {},
     "outputs": [
      {
       "html": [
        "\n",
        "<div id=\"chart_div_10\" style=\"height: 400px;\"></div>\n",
        "\n",
        "<script type=\"text/javascript\">\n",
        "        require(['https://www.google.com/jsapi'], function () {\n",
        "          function drawChart() {                \n",
        "            var chart = new google.visualization.ScatterChart(document.getElementById('chart_div_10'));\n",
        "\n",
        "            var data = google.visualization.arrayToDataTable([['', ''], [0, 6], [1, 7], [2, 8], [3, 9], [4, 3], [5, 2], [6, 6]]);\n",
        "            var options = {};\n",
        "            chart.draw(data, options);\n",
        "        };\n",
        "        google.load('visualization', '1.0', {'callback': drawChart, 'packages':['corechart']});\n",
        "        });\n",
        "</script>"
       ],
       "metadata": {},
       "output_type": "pyout",
       "prompt_number": 18,
       "text": [
        "<calico.widgets.googlechart.GoogleChart object at 0x7f7b895e8610>"
       ]
      }
     ],
     "prompt_number": 18
    },
    {
     "cell_type": "code",
     "collapsed": false,
     "input": [
      "(GoogleChart \"PieChart\" '() '((\"Pie I have eaten\" .33) (\"Pie I have not yet eaten\" .67)))"
     ],
     "language": "python",
     "metadata": {},
     "outputs": [
      {
       "html": [
        "\n",
        "<div id=\"chart_div_12\" style=\"height: 400px;\"></div>\n",
        "\n",
        "<script type=\"text/javascript\">\n",
        "        require(['https://www.google.com/jsapi'], function () {\n",
        "          function drawChart() {                \n",
        "            var chart = new google.visualization.PieChart(document.getElementById('chart_div_12'));\n",
        "\n",
        "            var data = google.visualization.arrayToDataTable([['', ''], ['Pie I have eaten', 0.33], ['Pie I have not yet eaten', 0.67]]);\n",
        "            var options = {};\n",
        "            chart.draw(data, options);\n",
        "        };\n",
        "        google.load('visualization', '1.0', {'callback': drawChart, 'packages':['corechart']});\n",
        "        });\n",
        "</script>"
       ],
       "metadata": {},
       "output_type": "pyout",
       "prompt_number": 20,
       "text": [
        "<calico.widgets.googlechart.GoogleChart object at 0x7f7b895d4b10>"
       ]
      }
     ],
     "prompt_number": 20
    },
    {
     "cell_type": "code",
     "collapsed": false,
     "input": [
      "(GoogleChart \"LineChart\" '() '(6 7 8 9 3 2 6))"
     ],
     "language": "python",
     "metadata": {},
     "outputs": [
      {
       "html": [
        "\n",
        "<div id=\"chart_div_13\" style=\"height: 400px;\"></div>\n",
        "\n",
        "<script type=\"text/javascript\">\n",
        "        require(['https://www.google.com/jsapi'], function () {\n",
        "          function drawChart() {                \n",
        "            var chart = new google.visualization.LineChart(document.getElementById('chart_div_13'));\n",
        "\n",
        "            var data = google.visualization.arrayToDataTable([['', ''], [0, 6], [1, 7], [2, 8], [3, 9], [4, 3], [5, 2], [6, 6]]);\n",
        "            var options = {};\n",
        "            chart.draw(data, options);\n",
        "        };\n",
        "        google.load('visualization', '1.0', {'callback': drawChart, 'packages':['corechart']});\n",
        "        });\n",
        "</script>"
       ],
       "metadata": {},
       "output_type": "pyout",
       "prompt_number": 21,
       "text": [
        "<calico.widgets.googlechart.GoogleChart object at 0x7f7b89e2cb90>"
       ]
      }
     ],
     "prompt_number": 21
    },
    {
     "cell_type": "code",
     "collapsed": false,
     "input": [
      "(GoogleChart \"ColumnChart\" '() '(6 7 8 9 3 2 6))"
     ],
     "language": "python",
     "metadata": {},
     "outputs": [
      {
       "html": [
        "\n",
        "<div id=\"chart_div_14\" style=\"height: 400px;\"></div>\n",
        "\n",
        "<script type=\"text/javascript\">\n",
        "        require(['https://www.google.com/jsapi'], function () {\n",
        "          function drawChart() {                \n",
        "            var chart = new google.visualization.ColumnChart(document.getElementById('chart_div_14'));\n",
        "\n",
        "            var data = google.visualization.arrayToDataTable([['', ''], [0, 6], [1, 7], [2, 8], [3, 9], [4, 3], [5, 2], [6, 6]]);\n",
        "            var options = {};\n",
        "            chart.draw(data, options);\n",
        "        };\n",
        "        google.load('visualization', '1.0', {'callback': drawChart, 'packages':['corechart']});\n",
        "        });\n",
        "</script>"
       ],
       "metadata": {},
       "output_type": "pyout",
       "prompt_number": 24,
       "text": [
        "<calico.widgets.googlechart.GoogleChart object at 0x7f7b895d49d0>"
       ]
      }
     ],
     "prompt_number": 24
    },
    {
     "cell_type": "code",
     "collapsed": false,
     "input": [
      "(GoogleChart \"BarChart\" '() '[6 7 8 9 3 2 6])"
     ],
     "language": "python",
     "metadata": {},
     "outputs": [
      {
       "html": [
        "\n",
        "<div id=\"chart_div_15\" style=\"height: 400px;\"></div>\n",
        "\n",
        "<script type=\"text/javascript\">\n",
        "        require(['https://www.google.com/jsapi'], function () {\n",
        "          function drawChart() {                \n",
        "            var chart = new google.visualization.BarChart(document.getElementById('chart_div_15'));\n",
        "\n",
        "            var data = google.visualization.arrayToDataTable([['', ''], [0, 6], [1, 7], [2, 8], [3, 9], [4, 3], [5, 2], [6, 6]]);\n",
        "            var options = {};\n",
        "            chart.draw(data, options);\n",
        "        };\n",
        "        google.load('visualization', '1.0', {'callback': drawChart, 'packages':['corechart']});\n",
        "        });\n",
        "</script>"
       ],
       "metadata": {},
       "output_type": "pyout",
       "prompt_number": 25,
       "text": [
        "<calico.widgets.googlechart.GoogleChart object at 0x7f7b895bc4d0>"
       ]
      }
     ],
     "prompt_number": 25
    },
    {
     "cell_type": "code",
     "collapsed": false,
     "input": [],
     "language": "python",
     "metadata": {},
     "outputs": []
    }
   ],
   "metadata": {}
  }
 ]
}