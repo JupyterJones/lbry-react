{
 "metadata": {
  "kernelspec": {
   "codemirror_mode": "scheme",
   "display_name": "Scheme",
   "language": "scheme",
   "name": "calico_scheme_kernel"
  },
  "name": "",
  "signature": "sha256:16ae8a4da675580c7f74ad2177083c7058d7e76a39e3d320a930f81ee1800361"
 },
 "nbformat": 3,
 "nbformat_minor": 0,
 "worksheets": [
  {
   "cells": [
    {
     "cell_type": "heading",
     "level": 1,
     "metadata": {},
     "source": [
      "Jupyter Magics"
     ]
    },
    {
     "cell_type": "markdown",
     "metadata": {},
     "source": [
      "The Calico Scheme language in Jupyter uses the Alternative Magics. If you are using IPython's Python, then please see:\n",
      "\n",
      "http://nbviewer.ipython.org/github/ipython/ipython/blob/1.x/examples/notebooks/Cell%20Magics.ipynb\n",
      "\n"
     ]
    },
    {
     "cell_type": "code",
     "collapsed": false,
     "input": [
      "%magic"
     ],
     "language": "python",
     "metadata": {},
     "outputs": [
      {
       "output_type": "stream",
       "stream": "stdout",
       "text": [
        "Line magics:\n",
        "    %cd PATH - change current directory of session\n",
        "    %connect_info - show connection information\n",
        "    %download URL [FILENAME] - download file from URL\n",
        "    %html CODE - display code as HTML\n",
        "    %install_magic URL - download and install magic from URL\n",
        "    %javascript CODE - send code as JavaScript\n",
        "    %latex TEXT - display text as LaTeX\n",
        "    %lsmagic - list the current line and cell magics\n",
        "    %magic - show installed magics\n",
        "    %reload_magics - reload the magics from the installed files\n",
        "    %shell COMMAND - run the line as a shell command\n",
        "    %time COMMAND - show time to run line\n",
        "\n",
        "Cell magics:\n",
        "    %%file FILENAME - write contents of cell to file\n",
        "    %%html - display contents of cell as HTML\n",
        "    %%javascript - send contents of cell as JavaScript\n",
        "    %%latex - display contents of cell as LaTeX\n",
        "    %%shell - run the contents of the cell as shell commands\n",
        "    %%time - show time to run cell\n",
        "\n",
        "Shell shortcut:\n",
        "    ! COMMAND ... - execute command in shell\n",
        "\n",
        "Any cell magic can be made persistent for rest of session by using %%% prefix.\n",
        "\n",
        "Help on items:\n",
        "    ??item - get detailed help on item\n",
        "    ?item - get help on item\n",
        "\n"
       ]
      }
     ],
     "prompt_number": 1
    },
    {
     "cell_type": "markdown",
     "metadata": {},
     "source": [
      "TODO:\n",
      "\n",
      "Magics:\n",
      "\n",
      "%load FILE\n",
      "%%file -a\n",
      "%run FILE\n",
      "\n",
      "Scheme:\n"
     ]
    },
    {
     "cell_type": "markdown",
     "metadata": {},
     "source": []
    }
   ],
   "metadata": {}
  }
 ]
}