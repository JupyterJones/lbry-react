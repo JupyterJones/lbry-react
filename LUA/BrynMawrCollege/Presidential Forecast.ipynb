{
 "cells": [
  {
   "cell_type": "markdown",
   "metadata": {},
   "source": [
    "# Primary Model\n",
    "\n",
    "http://primarymodel.com/2016-forecast-full/"
   ]
  },
  {
   "cell_type": "code",
   "execution_count": null,
   "metadata": {
    "collapsed": true
   },
   "outputs": [],
   "source": [
    "score  = (56 - 54)   * 0.429  ## Democratic Primary\n",
    "score += (49 - 64)   * 0.170  ## Republican Primary\n",
    "score +=   52.0 *  0.361      ## Democratic vote in 2012\n",
    "score +=   53.7 * -0.377      ## Democratic vote in 2008\n",
    "score +=   50.6"
   ]
  },
  {
   "cell_type": "code",
   "execution_count": 17,
   "metadata": {
    "collapsed": false
   },
   "outputs": [
    {
     "data": {
      "text/html": [
       "\n",
       "<div id=\"disqus_thread\"></div>\n",
       "<script>\n",
       "(function() { // DON'T EDIT BELOW THIS LINE\n",
       "    var d = document, s = d.createElement('script');\n",
       "    s.src = '//athena-brynmawr-edu.disqus.com/embed.js';\n",
       "    s.setAttribute('data-timestamp', +new Date());\n",
       "    (d.head || d.body).appendChild(s);\n",
       "})();\n",
       "</script>\n",
       "<noscript>Please enable JavaScript to view the <a href=\"https://disqus.com/?ref_noscript\">comments powered by Disqus.</a></noscript>\n"
      ],
      "text/plain": [
       "<IPython.core.display.HTML object>"
      ]
     },
     "metadata": {},
     "output_type": "display_data"
    }
   ],
   "source": [
    "%conversation athena-brynmawr-edu"
   ]
  },
  {
   "cell_type": "code",
   "execution_count": null,
   "metadata": {
    "collapsed": true
   },
   "outputs": [],
   "source": []
  }
 ],
 "metadata": {
  "kernelspec": {
   "display_name": "Python 3",
   "language": "python",
   "name": "python3"
  },
  "language_info": {
   "codemirror_mode": {
    "name": "ipython",
    "version": 3
   },
   "file_extension": ".py",
   "mimetype": "text/x-python",
   "name": "python",
   "nbconvert_exporter": "python",
   "pygments_lexer": "ipython3",
   "version": "3.5.1"
  }
 },
 "nbformat": 4,
 "nbformat_minor": 0
}
