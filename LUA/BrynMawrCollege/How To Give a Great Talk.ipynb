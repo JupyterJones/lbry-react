{
 "cells": [
  {
   "cell_type": "markdown",
   "metadata": {},
   "source": [
    "# How to Give a Great Talk\n",
    "\n",
    "## Examples\n",
    "\n",
    "### Videos\n",
    "\n",
    "1. http://www.ted.com/talks/nancy_duarte_the_secret_structure_of_great_talks\n",
    "1. http://www.ted.com/playlists/180/the_10_most_popular_tedx_talks\n",
    "1. http://blog.ted.com/chris-anderson-on-what-makes-a-great-talk-great/\n",
    "1. https://unknowntoexpert.com/public-speaking/top-5-tedtalks-give-great-ted-talk/\n",
    "1. http://www.fastcompany.com/3022070/the-7-steps-to-delivering-a-mind-blowing-ted-talk\n",
    "\n",
    "### Readings\n",
    "\n",
    "1. http://twp.duke.edu/uploads/media_items/paper-to-talk.original.pdf\n",
    "1. https://hbr.org/2013/06/how-to-give-a-killer-presentation\n",
    "1. http://www.forbes.com/sites/dorieclark/2014/01/02/how-to-give-a-ted-worthy-talk/\n",
    "1. http://www.d.umn.edu/~jgallian/goodPPtalk.pdf\n",
    "1. http://blog.hubspot.com/blog/tabid/6307/bid/1056/Steve-Jobs-Guy-Kawasaki-Powerpoint-Best-Practices.aspx?__hstc=34862206.510cb3dd724cd911e695bc5ff538c586.1428079311507.1428079311507.1428079311507.1&__hssc=34862206.1.1428079311508&__hsfp=715758465\n",
    "1. https://homes.cs.washington.edu/~mernst/advice/giving-talk.html\n",
    "\n",
    "### Powerpoint-like Presentations\n",
    "\n",
    "1. http://www.princeton.edu/~archss/webpdfs08/BaharMartonosi.pdf\n",
    "1. http://acmg.seas.harvard.edu/education/presentations/carlton_presentations.pdf\n",
    "1. http://users.ece.cmu.edu/~pueschel/teaching/guides/guide-presentations.pdf\n",
    "1. http://www.slideshare.net/MeetingBoy/i-hate-powerpoint\n",
    "\n",
    "### Why I Hate Powerpoint\n",
    "\n",
    "1. http://www.divinecaroline.com/life-etc/career-money/ten-reasons-i-hate-powerpoint-musings-corner-office\n",
    "1. http://blog.varunarora.com/2012/5-reasons-why-designers-hate-powerpoint/\n",
    "1. http://www.cnn.com/2010/OPINION/10/15/duarte.powerpoint.fatigue/\n",
    "1. https://jeremyharmer.wordpress.com/2010/03/20/10-things-i-hate-about-powerpoint/\n",
    "\n",
    "\n",
    "## Best Ideas\n",
    "\n",
    "1. (Add from class discussion)\n",
    "\n",
    "## Little Ideas\n",
    "\n",
    "1. Be confident\n",
    "1. Speak loudly\n",
    "1. Number/label your slides---makes it easier to reference\n",
    "1. Look at your audience\n",
    "1. Be animated\n",
    "1. Repeat any question or comment... it makes it so that everyone can hear it, makes sure you understand it, and gives you time to think\n",
    "1. What is your goal? To teach them the hardest parts of your research? No, intrigue them enough that they want to know more, or perhaps enlighten and entertain for 15 minutes.\n",
    "1. Practice gives you an idea of what slide is coming next, and helps make your presentation flow"
   ]
  }
 ],
 "metadata": {
  "kernelspec": {
   "display_name": "Python 3",
   "language": "python",
   "name": "python3"
  },
  "language_info": {
   "codemirror_mode": {
    "name": "ipython",
    "version": 3
   },
   "file_extension": ".py",
   "mimetype": "text/x-python",
   "name": "python",
   "nbconvert_exporter": "python",
   "pygments_lexer": "ipython3",
   "version": "3.4.0"
  }
 },
 "nbformat": 4,
 "nbformat_minor": 0
}
