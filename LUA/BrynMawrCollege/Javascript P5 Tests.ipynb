{
 "cells": [
  {
   "cell_type": "code",
   "execution_count": 5,
   "metadata": {
    "collapsed": false
   },
   "outputs": [
    {
     "name": "stdout",
     "output_type": "stream",
     "text": [
      "ok\n"
     ]
    }
   ],
   "source": [
    "console.log(\"ok\");"
   ]
  },
  {
   "cell_type": "code",
   "execution_count": 3,
   "metadata": {
    "collapsed": false
   },
   "outputs": [
    {
     "data": {
      "text/plain": [
       "[object Object]"
      ]
     },
     "execution_count": 3,
     "metadata": {},
     "output_type": "execute_result"
    }
   ],
   "source": [
    "$.getScript(\"https://cdnjs.cloudflare.com/ajax/libs/p5.js/0.4.6/p5.js\");"
   ]
  },
  {
   "cell_type": "code",
   "execution_count": 4,
   "metadata": {
    "collapsed": false
   },
   "outputs": [
    {
     "ename": "ReferenceError",
     "evalue": "p5 is not defined",
     "output_type": "error",
     "traceback": [
      "ReferenceError: p5 is not defined\n    at eval (eval at <anonymous> (http://jupyter.cs.brynmawr.edu/user/dblank/kernelspecs/jskernel/kernel.js?v=20150709073938:53:22), <anonymous>:1:1)\n    at execute (http://jupyter.cs.brynmawr.edu/user/dblank/kernelspecs/jskernel/kernel.js?v=20150709073938:53:17)\n    at CodeCell.execute (http://jupyter.cs.brynmawr.edu/user/dblank/static/notebook/js/codecell.js?v=20150709073938:433:40)\n    at Notebook.execute_cell_and_select_below (http://jupyter.cs.brynmawr.edu/user/dblank/static/notebook/js/notebook.js?v=20150709073938:1643:14)\n    at _actions.run-select-next.handler (http://jupyter.cs.brynmawr.edu/user/dblank/static/notebook/js/actions.js?v=20150709073938:44:30)\n    at Object.final_actions.(anonymous function).handler (http://jupyter.cs.brynmawr.edu/user/dblank/static/notebook/js/actions.js?v=20150709073938:411:25)\n    at ActionHandler.call (http://jupyter.cs.brynmawr.edu/user/dblank/static/notebook/js/actions.js?v=20150709073938:511:36)\n    at ShortcutManager.call_handler (http://jupyter.cs.brynmawr.edu/user/dblank/static/base/js/keyboard.js?v=20150709073938:427:33)\n    at KeyboardManager.handle_keydown (http://jupyter.cs.brynmawr.edu/user/dblank/static/notebook/js/keyboardmanager.js?v=20150709073938:167:43)\n    at HTMLDocument.<anonymous> (http://jupyter.cs.brynmawr.edu/user/dblank/static/notebook/js/keyboardmanager.js?v=20150709073938:131:25)"
     ]
    }
   ],
   "source": [
    "p5"
   ]
  },
  {
   "cell_type": "code",
   "execution_count": null,
   "metadata": {
    "collapsed": true
   },
   "outputs": [],
   "source": []
  }
 ],
 "metadata": {
  "kernelspec": {
   "display_name": "Javascript",
   "language": "",
   "name": "jskernel"
  },
  "language_info": {
   "file_extension": ".js",
   "mimetype": "text/javascript",
   "name": "javascript"
  }
 },
 "nbformat": 4,
 "nbformat_minor": 0
}
