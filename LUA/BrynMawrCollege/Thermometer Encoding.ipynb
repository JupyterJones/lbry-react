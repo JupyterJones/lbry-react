{
 "cells": [
  {
   "cell_type": "markdown",
   "metadata": {},
   "source": [
    "# 1. Thermometer Encoding"
   ]
  },
  {
   "cell_type": "code",
   "execution_count": 1,
   "metadata": {
    "collapsed": true
   },
   "outputs": [],
   "source": [
    "from conx import Network\n",
    "import numpy as np\n",
    "import theano.tensor as T\n",
    "import theano\n",
    "import random"
   ]
  },
  {
   "cell_type": "code",
   "execution_count": 2,
   "metadata": {
    "collapsed": true
   },
   "outputs": [],
   "source": [
    "import matplotlib.pyplot as plt\n",
    "from mpl_toolkits.mplot3d import Axes3D\n",
    "from matplotlib import cm\n",
    "from matplotlib.ticker import LinearLocator, FormatStrFormatter\n",
    "\n",
    "%matplotlib inline"
   ]
  },
  {
   "cell_type": "markdown",
   "metadata": {},
   "source": [
    "## 1.1 Learning to add: one output"
   ]
  },
  {
   "cell_type": "code",
   "execution_count": 64,
   "metadata": {
    "collapsed": true
   },
   "outputs": [],
   "source": [
    "net = Network(2, 2, 1, activation_function=T.nnet.sigmoid)\n",
    "#net.batch = True"
   ]
  },
  {
   "cell_type": "code",
   "execution_count": 65,
   "metadata": {
    "collapsed": true
   },
   "outputs": [],
   "source": [
    "# input low and high values:\n",
    "ilo = -1\n",
    "ihi = 1\n",
    "# output low and high values:\n",
    "olo = 0\n",
    "ohi = 1"
   ]
  },
  {
   "cell_type": "code",
   "execution_count": 66,
   "metadata": {
    "collapsed": true
   },
   "outputs": [],
   "source": [
    "net.set_inputs([[random.random() * 2 - 1, random.random() * 2 - 1] for i in range(1000)])"
   ]
  },
  {
   "cell_type": "code",
   "execution_count": 75,
   "metadata": {
    "collapsed": true
   },
   "outputs": [],
   "source": [
    "f = lambda ins: [((ins[0] + ins[1])/2 + 1)/2]\n",
    "net.set_target_function(f)"
   ]
  },
  {
   "cell_type": "code",
   "execution_count": 78,
   "metadata": {},
   "outputs": [
    {
     "name": "stdout",
     "output_type": "stream",
     "text": [
      "--------------------------------------------------\n",
      "Training for max trails: 5000 ...\n",
      "Epoch: 107 TSS error: 0.858317748173 %correct: 94.19999999999999\n",
      "Epoch: 120 TSS error: 0.125718711285 %correct: 99.6\n",
      "Epoch: 140 TSS error: 0.106452514751 %correct: 99.6\n",
      "Epoch: 160 TSS error: 0.106062935761 %correct: 99.6\n",
      "Epoch: 180 TSS error: 0.0940164321403 %correct: 99.7\n",
      "Epoch: 200 TSS error: 0.107933787015 %correct: 99.7\n",
      "Epoch: 220 TSS error: 0.0656636624831 %correct: 99.7\n",
      "Epoch: 240 TSS error: 0.059195051214 %correct: 99.7\n",
      "Epoch: 260 TSS error: 0.0597954341883 %correct: 99.7\n",
      "Epoch: 280 TSS error: 0.0535763699632 %correct: 99.7\n",
      "Epoch: 298 TSS error: 0.0835849762444 %correct: 99.7\n",
      "\n",
      "Interrupted by user; stopping...\n"
     ]
    },
    {
     "ename": "KeyboardInterrupt",
     "evalue": "",
     "output_type": "error",
     "traceback": [
      "\u001b[0;31m---------------------------------------------------------------------------\u001b[0m",
      "\u001b[0;31mKeyboardInterrupt\u001b[0m                         Traceback (most recent call last)",
      "\u001b[0;32m<ipython-input-78-3735e9ac479b>\u001b[0m in \u001b[0;36m<module>\u001b[0;34m()\u001b[0m\n\u001b[0;32m----> 1\u001b[0;31m \u001b[0mnet\u001b[0m\u001b[0;34m.\u001b[0m\u001b[0mtrain\u001b[0m\u001b[0;34m(\u001b[0m\u001b[0mreport_rate\u001b[0m\u001b[0;34m=\u001b[0m\u001b[0;36m20\u001b[0m\u001b[0;34m,\u001b[0m \u001b[0mtolerance\u001b[0m\u001b[0;34m=\u001b[0m\u001b[0;36m.05\u001b[0m\u001b[0;34m)\u001b[0m\u001b[0;34m\u001b[0m\u001b[0m\n\u001b[0m",
      "\u001b[0;32m/usr/local/lib/python3.5/dist-packages/conx-1.0.6-py3.5.egg/conx/network.py\u001b[0m in \u001b[0;36mtrain\u001b[0;34m(self, **kwargs)\u001b[0m\n\u001b[1;32m    546\u001b[0m                         \u001b[0;32mbreak\u001b[0m\u001b[0;34m\u001b[0m\u001b[0m\n\u001b[1;32m    547\u001b[0m             \u001b[0;32mif\u001b[0m \u001b[0mhandler\u001b[0m\u001b[0;34m.\u001b[0m\u001b[0minterrupted\u001b[0m\u001b[0;34m:\u001b[0m\u001b[0;34m\u001b[0m\u001b[0m\n\u001b[0;32m--> 548\u001b[0;31m                 \u001b[0;32mraise\u001b[0m \u001b[0mKeyboardInterrupt\u001b[0m\u001b[0;34m\u001b[0m\u001b[0m\n\u001b[0m\u001b[1;32m    549\u001b[0m         \u001b[0mself\u001b[0m\u001b[0;34m.\u001b[0m\u001b[0mhistory\u001b[0m\u001b[0;34m[\u001b[0m\u001b[0mself\u001b[0m\u001b[0;34m.\u001b[0m\u001b[0mepoch\u001b[0m\u001b[0;34m]\u001b[0m \u001b[0;34m=\u001b[0m \u001b[0;34m[\u001b[0m\u001b[0merror\u001b[0m\u001b[0;34m,\u001b[0m \u001b[0mcorrect\u001b[0m\u001b[0;34m/\u001b[0m\u001b[0mtotal\u001b[0m\u001b[0;34m]\u001b[0m\u001b[0;34m\u001b[0m\u001b[0m\n\u001b[1;32m    550\u001b[0m         \u001b[0mprint\u001b[0m\u001b[0;34m(\u001b[0m\u001b[0;34m\"-\"\u001b[0m \u001b[0;34m*\u001b[0m \u001b[0;36m50\u001b[0m\u001b[0;34m)\u001b[0m\u001b[0;34m\u001b[0m\u001b[0m\n",
      "\u001b[0;31mKeyboardInterrupt\u001b[0m: "
     ]
    }
   ],
   "source": [
    "net.train(report_rate=20, tolerance=.05)"
   ]
  },
  {
   "cell_type": "code",
   "execution_count": 79,
   "metadata": {},
   "outputs": [
    {
     "name": "stdout",
     "output_type": "stream",
     "text": [
      "--------------------------------------------------\n",
      "Test:\n",
      "******************************\n",
      "Input : -0.6, 0.5 \n",
      "Output:  0.5 \n",
      "Target:  0.5 Correct\n",
      "******************************\n",
      "Input : -0.2, 0.4 \n",
      "Output:  0.6 \n",
      "Target:  0.5 Correct\n",
      "******************************\n",
      "Input :  0.4,-0.6 \n",
      "Output:  0.4 \n",
      "Target:  0.4 Correct\n",
      "******************************\n",
      "Input : -0.9, 0.5 \n",
      "Output:  0.4 \n",
      "Target:  0.4 Correct\n",
      "******************************\n",
      "Input : -0.1, 0.5 \n",
      "Output:  0.6 \n",
      "Target:  0.6 Correct\n",
      "******************************\n",
      "Input : -0.1,-0.3 \n",
      "Output:  0.4 \n",
      "Target:  0.4 Correct\n",
      "******************************\n",
      "Input :  0.2,-0.2 \n",
      "Output:  0.5 \n",
      "Target:  0.5 Correct\n",
      "******************************\n",
      "Input :  0.5,-0.7 \n",
      "Output:  0.5 \n",
      "Target:  0.5 Correct\n",
      "******************************\n",
      "Input : -0.2, 0.6 \n",
      "Output:  0.6 \n",
      "Target:  0.6 Correct\n",
      "******************************\n",
      "Input : -0.2,-0.3 \n",
      "Output:  0.4 \n",
      "Target:  0.4 Correct\n",
      "--------------------------------------------------\n",
      "Epoch: 298 TSS error: 0.000942803980877 %correct: 1.0\n"
     ]
    }
   ],
   "source": [
    "net.test(10)"
   ]
  },
  {
   "cell_type": "markdown",
   "metadata": {},
   "source": [
    "## 1.2 Learning to add: thermometer encoding"
   ]
  },
  {
   "cell_type": "code",
   "execution_count": 30,
   "metadata": {
    "collapsed": true
   },
   "outputs": [],
   "source": [
    "def therm(v, size=10):\n",
    "    \"\"\"\n",
    "    v - move range [ilo, ihi]\n",
    "    returns thermometer encoding:\n",
    "    [olo, olo, olo] \n",
    "    [ohi, olo, olo]\n",
    "    [ohi, ohi, olo]\n",
    "    [ohi, ohi, ohi]\n",
    "    \"\"\"\n",
    "    ro = (ohi - olo) # output range\n",
    "    ri = (ihi - ilo)\n",
    "    t = (v - ilo) / ri # scale from input\n",
    "    t_int = int(t * size) # int part\n",
    "    t_float = round((t * size) - t_int, 2) # left over\n",
    "    # left justified\n",
    "    therm = ([ohi] * t_int + [t_float * ro + olo] + [olo] * size)[:size]\n",
    "    return therm\n",
    "\n",
    "def untherm(vec):\n",
    "    \"\"\"\n",
    "    returns vec decoded - [ilo, ihi]\n",
    "    \"\"\"\n",
    "    size = len(vec)\n",
    "    ro = (ohi - olo) # range\n",
    "    total = 0\n",
    "    for v in vec:\n",
    "        total += ((v - olo) / ro)\n",
    "    scale = total/size\n",
    "    return scale * ro + olo "
   ]
  },
  {
   "cell_type": "code",
   "execution_count": 31,
   "metadata": {},
   "outputs": [
    {
     "data": {
      "text/plain": [
       "[0.0, 0, 0, 0, 0, 0, 0, 0, 0, 0]"
      ]
     },
     "execution_count": 31,
     "metadata": {},
     "output_type": "execute_result"
    }
   ],
   "source": [
    "therm(-1)"
   ]
  },
  {
   "cell_type": "code",
   "execution_count": 32,
   "metadata": {},
   "outputs": [
    {
     "data": {
      "text/plain": [
       "[1, 1, 1, 1, 1, 1, 1, 1, 1, 1]"
      ]
     },
     "execution_count": 32,
     "metadata": {},
     "output_type": "execute_result"
    }
   ],
   "source": [
    "therm(1)"
   ]
  },
  {
   "cell_type": "code",
   "execution_count": 33,
   "metadata": {
    "collapsed": true
   },
   "outputs": [],
   "source": [
    "net = Network(2, 2, 10, activation_function=T.nnet.sigmoid)"
   ]
  },
  {
   "cell_type": "code",
   "execution_count": 35,
   "metadata": {},
   "outputs": [],
   "source": [
    "net.set_inputs([[random.random() * 2 - 1, random.random() * 2 - 1] for i in range(1000)])"
   ]
  },
  {
   "cell_type": "code",
   "execution_count": 36,
   "metadata": {},
   "outputs": [],
   "source": [
    "net.set_target_function(lambda ins: therm((ins[0] + ins[1])/2))"
   ]
  },
  {
   "cell_type": "code",
   "execution_count": 37,
   "metadata": {
    "collapsed": true
   },
   "outputs": [],
   "source": [
    "def test_net(net, res=20):\n",
    "    m = np.zeros((res, res))\n",
    "    step = (ihi - ilo)/res\n",
    "    for i in range(res):\n",
    "        for j in range(res):\n",
    "            m[i][j] = untherm(net.propagate([ilo + i * step, ilo + j * step]))\n",
    "    plt.matshow(m, \n",
    "                origin=\"lower\", # lower puts 0,0 bottom left\n",
    "                extent=[ilo,ihi,ilo,ihi], # tick label ranges\n",
    "                cmap=cm.coolwarm,\n",
    "                interpolation=\"none\")\n",
    "    plt.xlabel(\"input(0)\")\n",
    "    plt.ylabel(\"input(1)\")\n",
    "    plt.colorbar()"
   ]
  },
  {
   "cell_type": "code",
   "execution_count": 38,
   "metadata": {
    "collapsed": true
   },
   "outputs": [],
   "source": [
    "def plot_net(net, res=20, angle=45):\n",
    "    fig = plt.figure()\n",
    "    ax = fig.gca(projection='3d')\n",
    "\n",
    "    # Make data.\n",
    "    X = np.arange(ilo, ihi, (ihi - ilo)/res)\n",
    "    Y = np.arange(ilo, ihi, (ihi - ilo)/res)\n",
    "\n",
    "    Z = np.array([[untherm(net.propagate([x, y])) for x in X] for y in Y])\n",
    "    X, Y = np.meshgrid(X, Y)\n",
    "\n",
    "    # Plot the surface.\n",
    "    surf = ax.plot_surface(X, Y, Z, cmap=cm.coolwarm,\n",
    "                           linewidth=0, antialiased=False)\n",
    "\n",
    "    # Customize the z axis.\n",
    "    ax.set_zlim(olo - 0.01, ohi + 0.01)\n",
    "    ax.zaxis.set_major_locator(LinearLocator(10))\n",
    "    ax.zaxis.set_major_formatter(FormatStrFormatter('%.02f'))\n",
    "    ax.view_init(30, angle) # tilt, rotate\n",
    "\n",
    "    # Add a color bar which maps values to colors.\n",
    "    fig.colorbar(surf, shrink=0.5, aspect=5)\n",
    "    plt.show()\n",
    "    #display(fig)\n",
    "    #fig.clear()"
   ]
  },
  {
   "cell_type": "code",
   "execution_count": 39,
   "metadata": {},
   "outputs": [
    {
     "name": "stdout",
     "output_type": "stream",
     "text": [
      "--------------------------------------------------\n",
      "Training for max trails: 5000 ...\n",
      "Epoch: 0 TSS error: 2510.7056395 %correct: 0.0\n",
      "Epoch: 20 TSS error: 22.7189946448 %correct: 96.2\n",
      "Epoch: 40 TSS error: 85.0225704254 %correct: 69.1\n",
      "Epoch: 60 TSS error: 15.1076404439 %correct: 98.7\n",
      "Epoch: 80 TSS error: 12.4463664997 %correct: 98.7\n",
      "Epoch: 100 TSS error: 12.5302482958 %correct: 98.8\n",
      "Epoch: 120 TSS error: 7.34241388651 %correct: 98.8\n",
      "Epoch: 140 TSS error: 17.810050253 %correct: 98.9\n",
      "Epoch: 160 TSS error: 7.46909319898 %correct: 98.9\n",
      "Epoch: 180 TSS error: 6.92952374574 %correct: 98.9\n",
      "Epoch: 200 TSS error: 11.2168213265 %correct: 99.1\n",
      "Epoch: 220 TSS error: 19.3624863711 %correct: 98.3\n",
      "Epoch: 240 TSS error: 11.6882641271 %correct: 99.1\n",
      "Epoch: 260 TSS error: 7.43680422059 %correct: 99.4\n",
      "Epoch: 280 TSS error: 9.06550120717 %correct: 99.4\n",
      "Epoch: 300 TSS error: 6.93877183779 %correct: 99.4\n",
      "Epoch: 320 TSS error: 64.9006024766 %correct: 78.2\n",
      "Epoch: 340 TSS error: 14.9153496545 %correct: 98.3\n",
      "Epoch: 360 TSS error: 7.02829378367 %correct: 99.4\n",
      "Epoch: 380 TSS error: 7.39079473552 %correct: 99.4\n",
      "Epoch: 400 TSS error: 6.8192970586 %correct: 99.4\n",
      "Epoch: 420 TSS error: 7.61541039185 %correct: 99.4\n",
      "Epoch: 440 TSS error: 7.40743449934 %correct: 99.4\n",
      "Epoch: 449 TSS error: 6.87514890655 %correct: 99.4\n",
      "\n",
      "Interrupted by user; stopping...\n"
     ]
    },
    {
     "ename": "KeyboardInterrupt",
     "evalue": "",
     "output_type": "error",
     "traceback": [
      "\u001b[0;31m---------------------------------------------------------------------------\u001b[0m",
      "\u001b[0;31mKeyboardInterrupt\u001b[0m                         Traceback (most recent call last)",
      "\u001b[0;32m<ipython-input-39-4ed99d27c64d>\u001b[0m in \u001b[0;36m<module>\u001b[0;34m()\u001b[0m\n\u001b[0;32m----> 1\u001b[0;31m \u001b[0mnet\u001b[0m\u001b[0;34m.\u001b[0m\u001b[0mtrain\u001b[0m\u001b[0;34m(\u001b[0m\u001b[0mreport_rate\u001b[0m\u001b[0;34m=\u001b[0m\u001b[0;36m20\u001b[0m\u001b[0;34m,\u001b[0m \u001b[0mtolerance\u001b[0m\u001b[0;34m=\u001b[0m\u001b[0;36m0.3\u001b[0m\u001b[0;34m)\u001b[0m\u001b[0;34m\u001b[0m\u001b[0m\n\u001b[0m",
      "\u001b[0;32m/usr/local/lib/python3.5/dist-packages/conx-1.0.6-py3.5.egg/conx/network.py\u001b[0m in \u001b[0;36mtrain\u001b[0;34m(self, **kwargs)\u001b[0m\n\u001b[1;32m    546\u001b[0m                         \u001b[0;32mbreak\u001b[0m\u001b[0;34m\u001b[0m\u001b[0m\n\u001b[1;32m    547\u001b[0m             \u001b[0;32mif\u001b[0m \u001b[0mhandler\u001b[0m\u001b[0;34m.\u001b[0m\u001b[0minterrupted\u001b[0m\u001b[0;34m:\u001b[0m\u001b[0;34m\u001b[0m\u001b[0m\n\u001b[0;32m--> 548\u001b[0;31m                 \u001b[0;32mraise\u001b[0m \u001b[0mKeyboardInterrupt\u001b[0m\u001b[0;34m\u001b[0m\u001b[0m\n\u001b[0m\u001b[1;32m    549\u001b[0m         \u001b[0mself\u001b[0m\u001b[0;34m.\u001b[0m\u001b[0mhistory\u001b[0m\u001b[0;34m[\u001b[0m\u001b[0mself\u001b[0m\u001b[0;34m.\u001b[0m\u001b[0mepoch\u001b[0m\u001b[0;34m]\u001b[0m \u001b[0;34m=\u001b[0m \u001b[0;34m[\u001b[0m\u001b[0merror\u001b[0m\u001b[0;34m,\u001b[0m \u001b[0mcorrect\u001b[0m\u001b[0;34m/\u001b[0m\u001b[0mtotal\u001b[0m\u001b[0;34m]\u001b[0m\u001b[0;34m\u001b[0m\u001b[0m\n\u001b[1;32m    550\u001b[0m         \u001b[0mprint\u001b[0m\u001b[0;34m(\u001b[0m\u001b[0;34m\"-\"\u001b[0m \u001b[0;34m*\u001b[0m \u001b[0;36m50\u001b[0m\u001b[0;34m)\u001b[0m\u001b[0;34m\u001b[0m\u001b[0m\n",
      "\u001b[0;31mKeyboardInterrupt\u001b[0m: "
     ]
    }
   ],
   "source": [
    "net.train(report_rate=20, tolerance=0.3)"
   ]
  },
  {
   "cell_type": "code",
   "execution_count": 40,
   "metadata": {},
   "outputs": [
    {
     "name": "stdout",
     "output_type": "stream",
     "text": [
      "--------------------------------------------------\n",
      "Test:\n",
      "******************************\n",
      "Input :  0.6, 0.9 \n",
      "Output:  1.0, 1.0, 1.0, 1.0, 1.0, 1.0, 1.0, 1.0, 0.7, 0.1 \n",
      "Target:  1.0, 1.0, 1.0, 1.0, 1.0, 1.0, 1.0, 1.0, 0.6, 0.0 Correct\n",
      "******************************\n",
      "Input :  0.2,-0.8 \n",
      "Output:  1.0, 1.0, 1.0, 0.5, 0.0, 0.0, 0.0, 0.0, 0.0, 0.0 \n",
      "Target:  1.0, 1.0, 1.0, 0.6, 0.0, 0.0, 0.0, 0.0, 0.0, 0.0 Correct\n",
      "******************************\n",
      "Input :  0.4, 0.2 \n",
      "Output:  1.0, 1.0, 1.0, 1.0, 1.0, 1.0, 0.4, 0.0, 0.0, 0.0 \n",
      "Target:  1.0, 1.0, 1.0, 1.0, 1.0, 1.0, 0.4, 0.0, 0.0, 0.0 Correct\n",
      "******************************\n",
      "Input :  0.1,-0.3 \n",
      "Output:  1.0, 1.0, 1.0, 1.0, 0.3, 0.0, 0.0, 0.0, 0.0, 0.0 \n",
      "Target:  1.0, 1.0, 1.0, 1.0, 0.3, 0.0, 0.0, 0.0, 0.0, 0.0 Correct\n",
      "******************************\n",
      "Input :  0.1, 0.2 \n",
      "Output:  1.0, 1.0, 1.0, 1.0, 1.0, 0.9, 0.1, 0.0, 0.0, 0.0 \n",
      "Target:  1.0, 1.0, 1.0, 1.0, 1.0, 0.9, 0.0, 0.0, 0.0, 0.0 Correct\n",
      "******************************\n",
      "Input :  0.5, 0.5 \n",
      "Output:  1.0, 1.0, 1.0, 1.0, 1.0, 1.0, 1.0, 0.7, 0.0, 0.0 \n",
      "Target:  1.0, 1.0, 1.0, 1.0, 1.0, 1.0, 1.0, 0.7, 0.0, 0.0 Correct\n",
      "******************************\n",
      "Input :  1.0, 0.5 \n",
      "Output:  1.0, 1.0, 1.0, 1.0, 1.0, 1.0, 1.0, 1.0, 0.8, 0.1 \n",
      "Target:  1.0, 1.0, 1.0, 1.0, 1.0, 1.0, 1.0, 1.0, 0.8, 0.0 Correct\n",
      "******************************\n",
      "Input : -0.9,-0.6 \n",
      "Output:  0.9, 0.3, 0.0, 0.0, 0.0, 0.0, 0.0, 0.0, 0.0, 0.0 \n",
      "Target:  1.0, 0.4, 0.0, 0.0, 0.0, 0.0, 0.0, 0.0, 0.0, 0.0 Correct\n",
      "******************************\n",
      "Input : -0.1, 0.4 \n",
      "Output:  1.0, 1.0, 1.0, 1.0, 1.0, 0.7, 0.0, 0.0, 0.0, 0.0 \n",
      "Target:  1.0, 1.0, 1.0, 1.0, 1.0, 0.7, 0.0, 0.0, 0.0, 0.0 Correct\n",
      "******************************\n",
      "Input :  0.4, 0.9 \n",
      "Output:  1.0, 1.0, 1.0, 1.0, 1.0, 1.0, 1.0, 1.0, 0.3, 0.0 \n",
      "Target:  1.0, 1.0, 1.0, 1.0, 1.0, 1.0, 1.0, 1.0, 0.3, 0.0 Correct\n",
      "--------------------------------------------------\n",
      "Epoch: 449 TSS error: 0.06501795521 %correct: 1.0\n"
     ]
    }
   ],
   "source": [
    "net.test(10)"
   ]
  },
  {
   "cell_type": "code",
   "execution_count": 23,
   "metadata": {},
   "outputs": [
    {
     "data": {
      "image/png": "[encoded data removed]",
      "text/plain": [
       "<matplotlib.figure.Figure at 0x7f7c539e75c0>"
      ]
     },
     "metadata": {},
     "output_type": "display_data"
    }
   ],
   "source": [
    "test_net(net)"
   ]
  },
  {
   "cell_type": "code",
   "execution_count": 26,
   "metadata": {},
   "outputs": [
    {
     "data": {
      "image/png": "[encoded data removed]",
      "text/plain": [
       "<matplotlib.figure.Figure at 0x7f7c50099e80>"
      ]
     },
     "metadata": {},
     "output_type": "display_data"
    }
   ],
   "source": [
    "plot_net(net, 45)"
   ]
  },
  {
   "cell_type": "code",
   "execution_count": 27,
   "metadata": {
    "collapsed": true
   },
   "outputs": [],
   "source": [
    "from ipywidgets import interact\n",
    "import ipywidgets as widgets"
   ]
  },
  {
   "cell_type": "code",
   "execution_count": 43,
   "metadata": {},
   "outputs": [
    {
     "data": {
      "application/vnd.jupyter.widget-view+json": {
       "model_id": "25878019e5f24e6483c9ba8f63c223dc"
      }
     },
     "metadata": {},
     "output_type": "display_data"
    },
    {
     "data": {
      "text/plain": [
       "<function __main__.<lambda>>"
      ]
     },
     "execution_count": 43,
     "metadata": {},
     "output_type": "execute_result"
    }
   ],
   "source": [
    "interact(lambda i1, i2: untherm(net.propagate([i1, i2])), \n",
    "         i1=widgets.FloatSlider(description=\"i1\",min=-1, max=1,step=.1),\n",
    "         i2=widgets.FloatSlider(description=\"i2\",min=-1, max=1,step=.1))"
   ]
  },
  {
   "cell_type": "code",
   "execution_count": 28,
   "metadata": {
    "collapsed": true
   },
   "outputs": [],
   "source": [
    "def plot_net_angle(angle):\n",
    "    plot_net(net, angle=angle)"
   ]
  },
  {
   "cell_type": "code",
   "execution_count": 29,
   "metadata": {},
   "outputs": [
    {
     "data": {
      "application/vnd.jupyter.widget-view+json": {
       "model_id": "54423d82e24e4b0181416d6c1e307147"
      }
     },
     "metadata": {},
     "output_type": "display_data"
    }
   ],
   "source": [
    "interact(plot_net_angle, angle=widgets.IntSlider(min=-180,max=180,step=10,value=45));"
   ]
  },
  {
   "cell_type": "code",
   "execution_count": 44,
   "metadata": {
    "collapsed": true
   },
   "outputs": [],
   "source": [
    "net = Network(2, 2, 1, 10, activation_function=T.nnet.sigmoid)"
   ]
  },
  {
   "cell_type": "code",
   "execution_count": 45,
   "metadata": {
    "collapsed": true
   },
   "outputs": [],
   "source": [
    "net.set_inputs([[random.random() * 2 - 1, random.random() * 2 - 1] for i in range(1000)])"
   ]
  },
  {
   "cell_type": "code",
   "execution_count": 46,
   "metadata": {
    "collapsed": true
   },
   "outputs": [],
   "source": [
    "net.set_target_function(lambda ins: therm((ins[0] + ins[1])/2))"
   ]
  },
  {
   "cell_type": "code",
   "execution_count": 47,
   "metadata": {},
   "outputs": [
    {
     "name": "stdout",
     "output_type": "stream",
     "text": [
      "--------------------------------------------------\n",
      "Training for max trails: 5000 ...\n",
      "Epoch: 0 TSS error: 2850.16701736 %correct: 0.0\n",
      "Epoch: 20 TSS error: 207.14527796 %correct: 46.400000000000006\n",
      "Epoch: 40 TSS error: 131.305744423 %correct: 67.80000000000001\n",
      "Epoch: 60 TSS error: 170.721752656 %correct: 48.6\n",
      "Epoch: 80 TSS error: 138.248276938 %correct: 64.0\n",
      "Epoch: 100 TSS error: 204.140035426 %correct: 39.6\n",
      "Epoch: 120 TSS error: 148.885256449 %correct: 61.5\n",
      "Epoch: 140 TSS error: 144.722290294 %correct: 56.599999999999994\n",
      "Epoch: 160 TSS error: 188.022897024 %correct: 56.699999999999996\n",
      "Epoch: 180 TSS error: 117.391768592 %correct: 66.10000000000001\n",
      "Epoch: 200 TSS error: 265.415587326 %correct: 36.7\n",
      "Epoch: 220 TSS error: 233.991274135 %correct: 40.5\n",
      "Epoch: 240 TSS error: 269.748310176 %correct: 39.800000000000004\n",
      "Epoch: 260 TSS error: 188.110259912 %correct: 47.599999999999994\n",
      "Epoch: 280 TSS error: 277.862951901 %correct: 26.0\n",
      "Epoch: 300 TSS error: 102.492181463 %correct: 84.1\n",
      "Epoch: 320 TSS error: 124.361227228 %correct: 70.5\n",
      "Epoch: 340 TSS error: 126.341169847 %correct: 66.7\n",
      "Epoch: 360 TSS error: 135.340700656 %correct: 61.6\n",
      "Epoch: 380 TSS error: 127.991074252 %correct: 57.9\n",
      "Epoch: 400 TSS error: 129.534127314 %correct: 61.7\n",
      "Epoch: 420 TSS error: 121.051423436 %correct: 74.7\n",
      "Epoch: 440 TSS error: 193.142507838 %correct: 32.2\n",
      "Epoch: 460 TSS error: 129.260376841 %correct: 66.3\n",
      "Epoch: 480 TSS error: 82.5990204239 %correct: 78.0\n",
      "Epoch: 500 TSS error: 244.520786672 %correct: 28.4\n",
      "Epoch: 520 TSS error: 169.474737281 %correct: 49.5\n",
      "Epoch: 540 TSS error: 178.675058541 %correct: 62.6\n",
      "Epoch: 560 TSS error: 130.207952252 %correct: 71.7\n",
      "Epoch: 580 TSS error: 109.035695015 %correct: 65.10000000000001\n",
      "Epoch: 600 TSS error: 306.46366474 %correct: 25.7\n",
      "Epoch: 620 TSS error: 126.841552378 %correct: 60.8\n",
      "Epoch: 640 TSS error: 172.182212011 %correct: 57.8\n",
      "Epoch: 660 TSS error: 191.39396117 %correct: 42.199999999999996\n",
      "Epoch: 668 TSS error: 96.3898127093 %correct: 81.0\n",
      "\n",
      "Interrupted by user; stopping...\n"
     ]
    },
    {
     "ename": "KeyboardInterrupt",
     "evalue": "",
     "output_type": "error",
     "traceback": [
      "\u001b[0;31m---------------------------------------------------------------------------\u001b[0m",
      "\u001b[0;31mKeyboardInterrupt\u001b[0m                         Traceback (most recent call last)",
      "\u001b[0;32m<ipython-input-47-4ed99d27c64d>\u001b[0m in \u001b[0;36m<module>\u001b[0;34m()\u001b[0m\n\u001b[0;32m----> 1\u001b[0;31m \u001b[0mnet\u001b[0m\u001b[0;34m.\u001b[0m\u001b[0mtrain\u001b[0m\u001b[0;34m(\u001b[0m\u001b[0mreport_rate\u001b[0m\u001b[0;34m=\u001b[0m\u001b[0;36m20\u001b[0m\u001b[0;34m,\u001b[0m \u001b[0mtolerance\u001b[0m\u001b[0;34m=\u001b[0m\u001b[0;36m0.3\u001b[0m\u001b[0;34m)\u001b[0m\u001b[0;34m\u001b[0m\u001b[0m\n\u001b[0m",
      "\u001b[0;32m/usr/local/lib/python3.5/dist-packages/conx-1.0.6-py3.5.egg/conx/network.py\u001b[0m in \u001b[0;36mtrain\u001b[0;34m(self, **kwargs)\u001b[0m\n\u001b[1;32m    546\u001b[0m                         \u001b[0;32mbreak\u001b[0m\u001b[0;34m\u001b[0m\u001b[0m\n\u001b[1;32m    547\u001b[0m             \u001b[0;32mif\u001b[0m \u001b[0mhandler\u001b[0m\u001b[0;34m.\u001b[0m\u001b[0minterrupted\u001b[0m\u001b[0;34m:\u001b[0m\u001b[0;34m\u001b[0m\u001b[0m\n\u001b[0;32m--> 548\u001b[0;31m                 \u001b[0;32mraise\u001b[0m \u001b[0mKeyboardInterrupt\u001b[0m\u001b[0;34m\u001b[0m\u001b[0m\n\u001b[0m\u001b[1;32m    549\u001b[0m         \u001b[0mself\u001b[0m\u001b[0;34m.\u001b[0m\u001b[0mhistory\u001b[0m\u001b[0;34m[\u001b[0m\u001b[0mself\u001b[0m\u001b[0;34m.\u001b[0m\u001b[0mepoch\u001b[0m\u001b[0;34m]\u001b[0m \u001b[0;34m=\u001b[0m \u001b[0;34m[\u001b[0m\u001b[0merror\u001b[0m\u001b[0;34m,\u001b[0m \u001b[0mcorrect\u001b[0m\u001b[0;34m/\u001b[0m\u001b[0mtotal\u001b[0m\u001b[0;34m]\u001b[0m\u001b[0;34m\u001b[0m\u001b[0m\n\u001b[1;32m    550\u001b[0m         \u001b[0mprint\u001b[0m\u001b[0;34m(\u001b[0m\u001b[0;34m\"-\"\u001b[0m \u001b[0;34m*\u001b[0m \u001b[0;36m50\u001b[0m\u001b[0;34m)\u001b[0m\u001b[0;34m\u001b[0m\u001b[0m\n",
      "\u001b[0;31mKeyboardInterrupt\u001b[0m: "
     ]
    }
   ],
   "source": [
    "net.train(report_rate=20, tolerance=0.3)"
   ]
  },
  {
   "cell_type": "code",
   "execution_count": null,
   "metadata": {
    "collapsed": true
   },
   "outputs": [],
   "source": []
  }
 ],
 "metadata": {
  "kernelspec": {
   "display_name": "Python 3",
   "language": "python",
   "name": "python3"
  },
  "language_info": {
   "codemirror_mode": {
    "name": "ipython",
    "version": 3
   },
   "file_extension": ".py",
   "mimetype": "text/x-python",
   "name": "python",
   "nbconvert_exporter": "python",
   "pygments_lexer": "ipython3",
   "version": "3.5.3"
  }
 },
 "nbformat": 4,
 "nbformat_minor": 2
}
