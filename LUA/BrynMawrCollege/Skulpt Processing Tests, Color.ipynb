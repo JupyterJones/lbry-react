{
 "cells": [
  {
   "cell_type": "markdown",
   "metadata": {},
   "source": [
    "<h1>Skulpt Processing Tests, Color</h1>\n",
    "\n",
    "Testing all Color functions at [ProcessingJS Reference](http://processingjs.org/reference/)"
   ]
  },
  {
   "cell_type": "markdown",
   "metadata": {},
   "source": [
    "#Table of Contents\n",
    "* [1. Color](#1.-Color)\n",
    "\t* [1.1 Setting](#1.1-Setting)\n",
    "\t\t* [1.1.1 background()](#1.1.1-background%28%29)\n",
    "\t\t* [1.1.2 colorMode()](#1.1.2-colorMode%28%29)\n",
    "\t\t* [1.1.3 fill()](#1.1.3-fill%28%29)\n",
    "\t\t* [1.1.4 noFill()](#1.1.4-noFill%28%29)\n",
    "\t\t* [1.1.5 noStroke()](#1.1.5-noStroke%28%29)\n",
    "\t\t* [1.1.6 stroke()](#1.1.6-stroke%28%29)\n",
    "\t* [1.2 Creating & Reading](#1.2-Creating-&-Reading)\n",
    "\t\t* [1.2.1 alpha()](#1.2.1-alpha%28%29)\n",
    "\t\t* [1.2.2 blendColor()](#1.2.2-blendColor%28%29)\n",
    "\t\t* [1.2.3 blue()](#1.2.3-blue%28%29)\n",
    "\t\t* [1.2.4 brightness()](#1.2.4-brightness%28%29)\n",
    "\t\t* [1.2.5 color()](#1.2.5-color%28%29)\n",
    "\t\t* [1.2.6 green()](#1.2.6-green%28%29)\n",
    "\t\t* [1.2.7 hue()](#1.2.7-hue%28%29)\n",
    "\t\t* [1.2.8 lerpColor()](#1.2.8-lerpColor%28%29)\n",
    "\t\t* [1.2.9 red()](#1.2.9-red%28%29)\n",
    "\t\t* [1.2.10 saturation()](#1.2.10-saturation%28%29)\n"
   ]
  },
  {
   "cell_type": "markdown",
   "metadata": {},
   "source": [
    "# 1. Color"
   ]
  },
  {
   "cell_type": "markdown",
   "metadata": {},
   "source": [
    "## 1.1 Setting"
   ]
  },
  {
   "cell_type": "markdown",
   "metadata": {},
   "source": [
    "### 1.1.1 background()"
   ]
  },
  {
   "cell_type": "markdown",
   "metadata": {},
   "source": [
    "http://processingjs.org/reference/background_/"
   ]
  },
  {
   "cell_type": "code",
   "execution_count": 3,
   "metadata": {
    "collapsed": false
   },
   "outputs": [
    {
     "data": {
      "text/html": [
       "\n",
       "<div id='canvas_div_3'>\n",
       "      <pre id='output_3' ></pre>\n",
       "      <div id='canvas_3'></div><br/>\n",
       "</div>\n",
       "<script>\n",
       "/*\n",
       "var component = document.getElementById(\"output_3\");\n",
       "if (component != undefined)\n",
       "    component.remove();\n",
       "component = document.getElementById(\"canvas_div_3\");\n",
       "if (component != undefined)\n",
       "    component.remove();\n",
       "\n",
       "$(\"<div id='canvas_div_3'>       <pre id='output_3' ></pre>       <div id='canvas_3'></div><br/>    </div>\").appendTo('body');    \n",
       "*/\n",
       "require([window.location.protocol + \"//calysto.github.io/javascripts/skulpt/skulpt.min.js\",\n",
       "         window.location.protocol + \"//calysto.github.io/javascripts/processing/processing.js\"], function () {\n",
       "  require([window.location.protocol + \"//calysto.github.io/javascripts/skulpt/skulpt-stdlib.js\"], function () {\n",
       "    function outf_3(text) {\n",
       "        var mypre = document.getElementById(\"output_3\"); \n",
       "        mypre.innerHTML = mypre.innerHTML + text; \n",
       "    }\n",
       "    function builtinRead(x) {\n",
       "        if (Sk.builtinFiles === undefined || \n",
       "            Sk.builtinFiles[\"files\"][x] === undefined)\n",
       "            throw \"File not found: '\" + x + \"'\";\n",
       "        return Sk.builtinFiles[\"files\"][x];\n",
       "    }\n",
       "    function runit(id) { \n",
       "       var prog = 'from processing import *\\n\\ndef setup():\\n    background(51);\\n\\nrun()'; \n",
       "       var mypre = document.getElementById(\"output_\" + id); \n",
       "       mypre.innerHTML = ''; \n",
       "       Sk.canvas = \"canvas_\" + id;\n",
       "       Sk.pre = \"output_\" + id;\n",
       "       Sk.configure({output:outf_3, read:builtinRead, python3:false}); \n",
       "       var myPromise = Sk.misceval.asyncToPromise(function() {\n",
       "           return Sk.importMainWithBody(\"<stdin>\", false, prog, true);\n",
       "       });\n",
       "       myPromise.then(\n",
       "        function(mod) {\n",
       "            console.log('success');\n",
       "        },\n",
       "        function(err) {\n",
       "            alert(err.toString());\n",
       "        });\n",
       "    }\n",
       "    runit(3);\n",
       "  });\n",
       "});\n",
       "\n",
       "</script>\n"
      ],
      "text/plain": [
       "<IPython.core.display.HTML object>"
      ]
     },
     "metadata": {},
     "output_type": "display_data"
    }
   ],
   "source": [
    "from processing import *\n",
    "\n",
    "def setup():\n",
    "    background(51);\n",
    "\n",
    "run()"
   ]
  },
  {
   "cell_type": "markdown",
   "metadata": {},
   "source": [
    "Should look like:\n",
    "\n",
    "<img src=\"http://processingjs.org/reference/background_.gif\">"
   ]
  },
  {
   "cell_type": "code",
   "execution_count": 4,
   "metadata": {
    "collapsed": false
   },
   "outputs": [
    {
     "data": {
      "text/html": [
       "\n",
       "<div id='canvas_div_4'>\n",
       "      <pre id='output_4' ></pre>\n",
       "      <div id='canvas_4'></div><br/>\n",
       "</div>\n",
       "<script>\n",
       "/*\n",
       "var component = document.getElementById(\"output_4\");\n",
       "if (component != undefined)\n",
       "    component.remove();\n",
       "component = document.getElementById(\"canvas_div_4\");\n",
       "if (component != undefined)\n",
       "    component.remove();\n",
       "\n",
       "$(\"<div id='canvas_div_4'>       <pre id='output_4' ></pre>       <div id='canvas_4'></div><br/>    </div>\").appendTo('body');    \n",
       "*/\n",
       "require([window.location.protocol + \"//calysto.github.io/javascripts/skulpt/skulpt.min.js\",\n",
       "         window.location.protocol + \"//calysto.github.io/javascripts/processing/processing.js\"], function () {\n",
       "  require([window.location.protocol + \"//calysto.github.io/javascripts/skulpt/skulpt-stdlib.js\"], function () {\n",
       "    function outf_4(text) {\n",
       "        var mypre = document.getElementById(\"output_4\"); \n",
       "        mypre.innerHTML = mypre.innerHTML + text; \n",
       "    }\n",
       "    function builtinRead(x) {\n",
       "        if (Sk.builtinFiles === undefined || \n",
       "            Sk.builtinFiles[\"files\"][x] === undefined)\n",
       "            throw \"File not found: '\" + x + \"'\";\n",
       "        return Sk.builtinFiles[\"files\"][x];\n",
       "    }\n",
       "    function runit(id) { \n",
       "       var prog = 'from processing import *\\n\\ndef setup():\\n    background(255, 204, 0);\\n\\nrun()'; \n",
       "       var mypre = document.getElementById(\"output_\" + id); \n",
       "       mypre.innerHTML = ''; \n",
       "       Sk.canvas = \"canvas_\" + id;\n",
       "       Sk.pre = \"output_\" + id;\n",
       "       Sk.configure({output:outf_4, read:builtinRead, python3:false}); \n",
       "       var myPromise = Sk.misceval.asyncToPromise(function() {\n",
       "           return Sk.importMainWithBody(\"<stdin>\", false, prog, true);\n",
       "       });\n",
       "       myPromise.then(\n",
       "        function(mod) {\n",
       "            console.log('success');\n",
       "        },\n",
       "        function(err) {\n",
       "            alert(err.toString());\n",
       "        });\n",
       "    }\n",
       "    runit(4);\n",
       "  });\n",
       "});\n",
       "\n",
       "</script>\n"
      ],
      "text/plain": [
       "<IPython.core.display.HTML object>"
      ]
     },
     "metadata": {},
     "output_type": "display_data"
    }
   ],
   "source": [
    "from processing import *\n",
    "\n",
    "def setup():\n",
    "    background(255, 204, 0);\n",
    "\n",
    "run()"
   ]
  },
  {
   "cell_type": "markdown",
   "metadata": {},
   "source": [
    "Should look like:\n",
    "    \n",
    "<img src=\"http://processingjs.org/reference/background_2.gif\">"
   ]
  },
  {
   "cell_type": "code",
   "execution_count": 5,
   "metadata": {
    "collapsed": false
   },
   "outputs": [
    {
     "name": "stdout",
     "output_type": "stream",
     "text": [
      "Downloaded 'background_3.jpg'.\n"
     ]
    }
   ],
   "source": [
    "%download http://processingjs.org/reference/background_3.jpg"
   ]
  },
  {
   "cell_type": "markdown",
   "metadata": {},
   "source": [
    "<img src=\"background_3.jpg\" id=\"background_3.jpg\">"
   ]
  },
  {
   "cell_type": "code",
   "execution_count": 9,
   "metadata": {
    "collapsed": false
   },
   "outputs": [
    {
     "data": {
      "text/html": [
       "\n",
       "<div id='canvas_div_8'>\n",
       "      <pre id='output_8' ></pre>\n",
       "      <div id='canvas_8'></div><br/>\n",
       "</div>\n",
       "<script>\n",
       "/*\n",
       "var component = document.getElementById(\"output_8\");\n",
       "if (component != undefined)\n",
       "    component.remove();\n",
       "component = document.getElementById(\"canvas_div_8\");\n",
       "if (component != undefined)\n",
       "    component.remove();\n",
       "\n",
       "$(\"<div id='canvas_div_8'>       <pre id='output_8' ></pre>       <div id='canvas_8'></div><br/>    </div>\").appendTo('body');    \n",
       "*/\n",
       "require([window.location.protocol + \"//calysto.github.io/javascripts/skulpt/skulpt.min.js\",\n",
       "         window.location.protocol + \"//calysto.github.io/javascripts/processing/processing.js\"], function () {\n",
       "  require([window.location.protocol + \"//calysto.github.io/javascripts/skulpt/skulpt-stdlib.js\"], function () {\n",
       "    function outf_8(text) {\n",
       "        var mypre = document.getElementById(\"output_8\"); \n",
       "        mypre.innerHTML = mypre.innerHTML + text; \n",
       "    }\n",
       "    function builtinRead(x) {\n",
       "        if (Sk.builtinFiles === undefined || \n",
       "            Sk.builtinFiles[\"files\"][x] === undefined)\n",
       "            throw \"File not found: '\" + x + \"'\";\n",
       "        return Sk.builtinFiles[\"files\"][x];\n",
       "    }\n",
       "    function runit(id) { \n",
       "       var prog = 'from processing import *\\n\\ndef setup():\\n    global b\\n    #b = loadImage(\"http://jupyter.cs.brynmawr.edu/user/dblank/notebooks/Public/Examples/SkulptPython/background_3.jpg\")\\n    b = loadImage(\"background_3.jpg\");\\n    #b = createImage(100, 100, GIF)\\n\\ndef draw():\\n    background(b);\\n\\nrun()'; \n",
       "       var mypre = document.getElementById(\"output_\" + id); \n",
       "       mypre.innerHTML = ''; \n",
       "       Sk.canvas = \"canvas_\" + id;\n",
       "       Sk.pre = \"output_\" + id;\n",
       "       Sk.configure({output:outf_8, read:builtinRead, python3:false}); \n",
       "       var myPromise = Sk.misceval.asyncToPromise(function() {\n",
       "           return Sk.importMainWithBody(\"<stdin>\", false, prog, true);\n",
       "       });\n",
       "       myPromise.then(\n",
       "        function(mod) {\n",
       "            console.log('success');\n",
       "        },\n",
       "        function(err) {\n",
       "            alert(err.toString());\n",
       "        });\n",
       "    }\n",
       "    runit(8);\n",
       "  });\n",
       "});\n",
       "\n",
       "</script>\n"
      ],
      "text/plain": [
       "<IPython.core.display.HTML object>"
      ]
     },
     "metadata": {},
     "output_type": "display_data"
    }
   ],
   "source": [
    "from processing import *\n",
    "\n",
    "def setup():\n",
    "    global b\n",
    "    #b = loadImage(\"http://jupyter.cs.brynmawr.edu/user/dblank/notebooks/Public/Examples/SkulptPython/background_3.jpg\")\n",
    "    b = loadImage(\"background_3.jpg\");\n",
    "    #b = createImage(100, 100, GIF)\n",
    "\n",
    "def draw():\n",
    "    background(b);\n",
    "\n",
    "run()"
   ]
  },
  {
   "cell_type": "markdown",
   "metadata": {},
   "source": [
    "Should look like:\n",
    "    \n",
    "<img src=\"http://processingjs.org/reference/background_3.jpg\">"
   ]
  },
  {
   "cell_type": "markdown",
   "metadata": {},
   "source": [
    "### 1.1.2 colorMode()"
   ]
  },
  {
   "cell_type": "markdown",
   "metadata": {},
   "source": [
    "http://processingjs.org/reference/colorMode_/"
   ]
  },
  {
   "cell_type": "code",
   "execution_count": 10,
   "metadata": {
    "collapsed": false
   },
   "outputs": [
    {
     "data": {
      "text/html": [
       "\n",
       "<div id='canvas_div_9'>\n",
       "      <pre id='output_9' ></pre>\n",
       "      <div id='canvas_9'></div><br/>\n",
       "</div>\n",
       "<script>\n",
       "/*\n",
       "var component = document.getElementById(\"output_9\");\n",
       "if (component != undefined)\n",
       "    component.remove();\n",
       "component = document.getElementById(\"canvas_div_9\");\n",
       "if (component != undefined)\n",
       "    component.remove();\n",
       "\n",
       "$(\"<div id='canvas_div_9'>       <pre id='output_9' ></pre>       <div id='canvas_9'></div><br/>    </div>\").appendTo('body');    \n",
       "*/\n",
       "require([window.location.protocol + \"//calysto.github.io/javascripts/skulpt/skulpt.min.js\",\n",
       "         window.location.protocol + \"//calysto.github.io/javascripts/processing/processing.js\"], function () {\n",
       "  require([window.location.protocol + \"//calysto.github.io/javascripts/skulpt/skulpt-stdlib.js\"], function () {\n",
       "    function outf_9(text) {\n",
       "        var mypre = document.getElementById(\"output_9\"); \n",
       "        mypre.innerHTML = mypre.innerHTML + text; \n",
       "    }\n",
       "    function builtinRead(x) {\n",
       "        if (Sk.builtinFiles === undefined || \n",
       "            Sk.builtinFiles[\"files\"][x] === undefined)\n",
       "            throw \"File not found: '\" + x + \"'\";\n",
       "        return Sk.builtinFiles[\"files\"][x];\n",
       "    }\n",
       "    function runit(id) { \n",
       "       var prog = 'from processing import *\\n\\ndef setup():\\n    noStroke();\\n    colorMode(RGB, 100);\\n    for i in range(100):\\n      for j in range(100):\\n        stroke(i, j, 0);\\n        point(i, j);\\nrun()'; \n",
       "       var mypre = document.getElementById(\"output_\" + id); \n",
       "       mypre.innerHTML = ''; \n",
       "       Sk.canvas = \"canvas_\" + id;\n",
       "       Sk.pre = \"output_\" + id;\n",
       "       Sk.configure({output:outf_9, read:builtinRead, python3:false}); \n",
       "       var myPromise = Sk.misceval.asyncToPromise(function() {\n",
       "           return Sk.importMainWithBody(\"<stdin>\", false, prog, true);\n",
       "       });\n",
       "       myPromise.then(\n",
       "        function(mod) {\n",
       "            console.log('success');\n",
       "        },\n",
       "        function(err) {\n",
       "            alert(err.toString());\n",
       "        });\n",
       "    }\n",
       "    runit(9);\n",
       "  });\n",
       "});\n",
       "\n",
       "</script>\n"
      ],
      "text/plain": [
       "<IPython.core.display.HTML object>"
      ]
     },
     "metadata": {},
     "output_type": "display_data"
    }
   ],
   "source": [
    "from processing import *\n",
    "\n",
    "def setup():\n",
    "    noStroke();\n",
    "    colorMode(RGB, 100);\n",
    "    for i in range(100):\n",
    "      for j in range(100):\n",
    "        stroke(i, j, 0);\n",
    "        point(i, j);\n",
    "run()"
   ]
  },
  {
   "cell_type": "markdown",
   "metadata": {},
   "source": [
    "Should look like:\n",
    "\n",
    "<img src=\"http://processingjs.org/reference/colorMode_.jpg\">\n"
   ]
  },
  {
   "cell_type": "markdown",
   "metadata": {},
   "source": [
    "### 1.1.3 fill()"
   ]
  },
  {
   "cell_type": "markdown",
   "metadata": {},
   "source": [
    "http://processingjs.org/reference/fill_/"
   ]
  },
  {
   "cell_type": "code",
   "execution_count": 11,
   "metadata": {
    "collapsed": false
   },
   "outputs": [
    {
     "data": {
      "text/html": [
       "\n",
       "<div id='canvas_div_10'>\n",
       "      <pre id='output_10' ></pre>\n",
       "      <div id='canvas_10'></div><br/>\n",
       "</div>\n",
       "<script>\n",
       "/*\n",
       "var component = document.getElementById(\"output_10\");\n",
       "if (component != undefined)\n",
       "    component.remove();\n",
       "component = document.getElementById(\"canvas_div_10\");\n",
       "if (component != undefined)\n",
       "    component.remove();\n",
       "\n",
       "$(\"<div id='canvas_div_10'>       <pre id='output_10' ></pre>       <div id='canvas_10'></div><br/>    </div>\").appendTo('body');    \n",
       "*/\n",
       "require([window.location.protocol + \"//calysto.github.io/javascripts/skulpt/skulpt.min.js\",\n",
       "         window.location.protocol + \"//calysto.github.io/javascripts/processing/processing.js\"], function () {\n",
       "  require([window.location.protocol + \"//calysto.github.io/javascripts/skulpt/skulpt-stdlib.js\"], function () {\n",
       "    function outf_10(text) {\n",
       "        var mypre = document.getElementById(\"output_10\"); \n",
       "        mypre.innerHTML = mypre.innerHTML + text; \n",
       "    }\n",
       "    function builtinRead(x) {\n",
       "        if (Sk.builtinFiles === undefined || \n",
       "            Sk.builtinFiles[\"files\"][x] === undefined)\n",
       "            throw \"File not found: '\" + x + \"'\";\n",
       "        return Sk.builtinFiles[\"files\"][x];\n",
       "    }\n",
       "    function runit(id) { \n",
       "       var prog = 'from processing import *\\n\\ndef setup():\\n    fill(153);\\n\\n    rect(30, 20, 55, 55);\\nrun()'; \n",
       "       var mypre = document.getElementById(\"output_\" + id); \n",
       "       mypre.innerHTML = ''; \n",
       "       Sk.canvas = \"canvas_\" + id;\n",
       "       Sk.pre = \"output_\" + id;\n",
       "       Sk.configure({output:outf_10, read:builtinRead, python3:false}); \n",
       "       var myPromise = Sk.misceval.asyncToPromise(function() {\n",
       "           return Sk.importMainWithBody(\"<stdin>\", false, prog, true);\n",
       "       });\n",
       "       myPromise.then(\n",
       "        function(mod) {\n",
       "            console.log('success');\n",
       "        },\n",
       "        function(err) {\n",
       "            alert(err.toString());\n",
       "        });\n",
       "    }\n",
       "    runit(10);\n",
       "  });\n",
       "});\n",
       "\n",
       "</script>\n"
      ],
      "text/plain": [
       "<IPython.core.display.HTML object>"
      ]
     },
     "metadata": {},
     "output_type": "display_data"
    }
   ],
   "source": [
    "from processing import *\n",
    "\n",
    "def setup():\n",
    "    fill(153);\n",
    "\n",
    "    rect(30, 20, 55, 55);\n",
    "run()"
   ]
  },
  {
   "cell_type": "markdown",
   "metadata": {},
   "source": [
    "Should look like:\n",
    "\n",
    "<img src=\"http://processingjs.org/reference/fill_.gif\">"
   ]
  },
  {
   "cell_type": "code",
   "execution_count": 12,
   "metadata": {
    "collapsed": false
   },
   "outputs": [
    {
     "data": {
      "text/html": [
       "\n",
       "<div id='canvas_div_11'>\n",
       "      <pre id='output_11' ></pre>\n",
       "      <div id='canvas_11'></div><br/>\n",
       "</div>\n",
       "<script>\n",
       "/*\n",
       "var component = document.getElementById(\"output_11\");\n",
       "if (component != undefined)\n",
       "    component.remove();\n",
       "component = document.getElementById(\"canvas_div_11\");\n",
       "if (component != undefined)\n",
       "    component.remove();\n",
       "\n",
       "$(\"<div id='canvas_div_11'>       <pre id='output_11' ></pre>       <div id='canvas_11'></div><br/>    </div>\").appendTo('body');    \n",
       "*/\n",
       "require([window.location.protocol + \"//calysto.github.io/javascripts/skulpt/skulpt.min.js\",\n",
       "         window.location.protocol + \"//calysto.github.io/javascripts/processing/processing.js\"], function () {\n",
       "  require([window.location.protocol + \"//calysto.github.io/javascripts/skulpt/skulpt-stdlib.js\"], function () {\n",
       "    function outf_11(text) {\n",
       "        var mypre = document.getElementById(\"output_11\"); \n",
       "        mypre.innerHTML = mypre.innerHTML + text; \n",
       "    }\n",
       "    function builtinRead(x) {\n",
       "        if (Sk.builtinFiles === undefined || \n",
       "            Sk.builtinFiles[\"files\"][x] === undefined)\n",
       "            throw \"File not found: '\" + x + \"'\";\n",
       "        return Sk.builtinFiles[\"files\"][x];\n",
       "    }\n",
       "    function runit(id) { \n",
       "       var prog = 'from processing import *\\n\\ndef setup():\\n    fill(204, 102, 0)\\n    rect(30, 20, 55, 55)\\n\\nrun()'; \n",
       "       var mypre = document.getElementById(\"output_\" + id); \n",
       "       mypre.innerHTML = ''; \n",
       "       Sk.canvas = \"canvas_\" + id;\n",
       "       Sk.pre = \"output_\" + id;\n",
       "       Sk.configure({output:outf_11, read:builtinRead, python3:false}); \n",
       "       var myPromise = Sk.misceval.asyncToPromise(function() {\n",
       "           return Sk.importMainWithBody(\"<stdin>\", false, prog, true);\n",
       "       });\n",
       "       myPromise.then(\n",
       "        function(mod) {\n",
       "            console.log('success');\n",
       "        },\n",
       "        function(err) {\n",
       "            alert(err.toString());\n",
       "        });\n",
       "    }\n",
       "    runit(11);\n",
       "  });\n",
       "});\n",
       "\n",
       "</script>\n"
      ],
      "text/plain": [
       "<IPython.core.display.HTML object>"
      ]
     },
     "metadata": {},
     "output_type": "display_data"
    }
   ],
   "source": [
    "from processing import *\n",
    "\n",
    "def setup():\n",
    "    fill(204, 102, 0)\n",
    "    rect(30, 20, 55, 55)\n",
    "\n",
    "run()"
   ]
  },
  {
   "cell_type": "markdown",
   "metadata": {},
   "source": [
    "Should look like:\n",
    "\n",
    "<img src=\"http://processingjs.org/reference/fill_2.gif\">"
   ]
  },
  {
   "cell_type": "markdown",
   "metadata": {},
   "source": [
    "### 1.1.4 noFill()"
   ]
  },
  {
   "cell_type": "markdown",
   "metadata": {},
   "source": [
    "http://processingjs.org/reference/noFill_/"
   ]
  },
  {
   "cell_type": "code",
   "execution_count": 13,
   "metadata": {
    "collapsed": false
   },
   "outputs": [
    {
     "data": {
      "text/html": [
       "\n",
       "<div id='canvas_div_12'>\n",
       "      <pre id='output_12' ></pre>\n",
       "      <div id='canvas_12'></div><br/>\n",
       "</div>\n",
       "<script>\n",
       "/*\n",
       "var component = document.getElementById(\"output_12\");\n",
       "if (component != undefined)\n",
       "    component.remove();\n",
       "component = document.getElementById(\"canvas_div_12\");\n",
       "if (component != undefined)\n",
       "    component.remove();\n",
       "\n",
       "$(\"<div id='canvas_div_12'>       <pre id='output_12' ></pre>       <div id='canvas_12'></div><br/>    </div>\").appendTo('body');    \n",
       "*/\n",
       "require([window.location.protocol + \"//calysto.github.io/javascripts/skulpt/skulpt.min.js\",\n",
       "         window.location.protocol + \"//calysto.github.io/javascripts/processing/processing.js\"], function () {\n",
       "  require([window.location.protocol + \"//calysto.github.io/javascripts/skulpt/skulpt-stdlib.js\"], function () {\n",
       "    function outf_12(text) {\n",
       "        var mypre = document.getElementById(\"output_12\"); \n",
       "        mypre.innerHTML = mypre.innerHTML + text; \n",
       "    }\n",
       "    function builtinRead(x) {\n",
       "        if (Sk.builtinFiles === undefined || \n",
       "            Sk.builtinFiles[\"files\"][x] === undefined)\n",
       "            throw \"File not found: '\" + x + \"'\";\n",
       "        return Sk.builtinFiles[\"files\"][x];\n",
       "    }\n",
       "    function runit(id) { \n",
       "       var prog = 'from processing import *\\n\\ndef setup():\\n    rect(15, 10, 55, 55);\\n\\n    noFill();\\n\\n    rect(30, 20, 55, 55);\\nrun()'; \n",
       "       var mypre = document.getElementById(\"output_\" + id); \n",
       "       mypre.innerHTML = ''; \n",
       "       Sk.canvas = \"canvas_\" + id;\n",
       "       Sk.pre = \"output_\" + id;\n",
       "       Sk.configure({output:outf_12, read:builtinRead, python3:false}); \n",
       "       var myPromise = Sk.misceval.asyncToPromise(function() {\n",
       "           return Sk.importMainWithBody(\"<stdin>\", false, prog, true);\n",
       "       });\n",
       "       myPromise.then(\n",
       "        function(mod) {\n",
       "            console.log('success');\n",
       "        },\n",
       "        function(err) {\n",
       "            alert(err.toString());\n",
       "        });\n",
       "    }\n",
       "    runit(12);\n",
       "  });\n",
       "});\n",
       "\n",
       "</script>\n"
      ],
      "text/plain": [
       "<IPython.core.display.HTML object>"
      ]
     },
     "metadata": {},
     "output_type": "display_data"
    }
   ],
   "source": [
    "from processing import *\n",
    "\n",
    "def setup():\n",
    "    rect(15, 10, 55, 55);\n",
    "\n",
    "    noFill();\n",
    "\n",
    "    rect(30, 20, 55, 55);\n",
    "run()"
   ]
  },
  {
   "cell_type": "markdown",
   "metadata": {},
   "source": [
    "Should look like:\n",
    "\n",
    "<img src=\"http://processingjs.org/reference/noFill_.gif\">"
   ]
  },
  {
   "cell_type": "markdown",
   "metadata": {},
   "source": [
    "### 1.1.5 noStroke()"
   ]
  },
  {
   "cell_type": "markdown",
   "metadata": {},
   "source": [
    "http://processingjs.org/reference/noStroke_/"
   ]
  },
  {
   "cell_type": "code",
   "execution_count": 14,
   "metadata": {
    "collapsed": false
   },
   "outputs": [
    {
     "data": {
      "text/html": [
       "\n",
       "<div id='canvas_div_13'>\n",
       "      <pre id='output_13' ></pre>\n",
       "      <div id='canvas_13'></div><br/>\n",
       "</div>\n",
       "<script>\n",
       "/*\n",
       "var component = document.getElementById(\"output_13\");\n",
       "if (component != undefined)\n",
       "    component.remove();\n",
       "component = document.getElementById(\"canvas_div_13\");\n",
       "if (component != undefined)\n",
       "    component.remove();\n",
       "\n",
       "$(\"<div id='canvas_div_13'>       <pre id='output_13' ></pre>       <div id='canvas_13'></div><br/>    </div>\").appendTo('body');    \n",
       "*/\n",
       "require([window.location.protocol + \"//calysto.github.io/javascripts/skulpt/skulpt.min.js\",\n",
       "         window.location.protocol + \"//calysto.github.io/javascripts/processing/processing.js\"], function () {\n",
       "  require([window.location.protocol + \"//calysto.github.io/javascripts/skulpt/skulpt-stdlib.js\"], function () {\n",
       "    function outf_13(text) {\n",
       "        var mypre = document.getElementById(\"output_13\"); \n",
       "        mypre.innerHTML = mypre.innerHTML + text; \n",
       "    }\n",
       "    function builtinRead(x) {\n",
       "        if (Sk.builtinFiles === undefined || \n",
       "            Sk.builtinFiles[\"files\"][x] === undefined)\n",
       "            throw \"File not found: '\" + x + \"'\";\n",
       "        return Sk.builtinFiles[\"files\"][x];\n",
       "    }\n",
       "    function runit(id) { \n",
       "       var prog = 'from processing import *\\n\\ndef setup():\\n    noStroke()\\n    rect(30, 20, 55, 55)\\nrun()'; \n",
       "       var mypre = document.getElementById(\"output_\" + id); \n",
       "       mypre.innerHTML = ''; \n",
       "       Sk.canvas = \"canvas_\" + id;\n",
       "       Sk.pre = \"output_\" + id;\n",
       "       Sk.configure({output:outf_13, read:builtinRead, python3:false}); \n",
       "       var myPromise = Sk.misceval.asyncToPromise(function() {\n",
       "           return Sk.importMainWithBody(\"<stdin>\", false, prog, true);\n",
       "       });\n",
       "       myPromise.then(\n",
       "        function(mod) {\n",
       "            console.log('success');\n",
       "        },\n",
       "        function(err) {\n",
       "            alert(err.toString());\n",
       "        });\n",
       "    }\n",
       "    runit(13);\n",
       "  });\n",
       "});\n",
       "\n",
       "</script>\n"
      ],
      "text/plain": [
       "<IPython.core.display.HTML object>"
      ]
     },
     "metadata": {},
     "output_type": "display_data"
    }
   ],
   "source": [
    "from processing import *\n",
    "\n",
    "def setup():\n",
    "    noStroke()\n",
    "    rect(30, 20, 55, 55)\n",
    "run()"
   ]
  },
  {
   "cell_type": "markdown",
   "metadata": {},
   "source": [
    "Should look like:\n",
    "\n",
    "<img src=\"http://processingjs.org/reference/noStroke_.gif\">"
   ]
  },
  {
   "cell_type": "markdown",
   "metadata": {},
   "source": [
    "### 1.1.6 stroke()"
   ]
  },
  {
   "cell_type": "markdown",
   "metadata": {},
   "source": [
    "http://processingjs.org/reference/stroke_/"
   ]
  },
  {
   "cell_type": "code",
   "execution_count": 15,
   "metadata": {
    "collapsed": false
   },
   "outputs": [
    {
     "data": {
      "text/html": [
       "\n",
       "<div id='canvas_div_14'>\n",
       "      <pre id='output_14' ></pre>\n",
       "      <div id='canvas_14'></div><br/>\n",
       "</div>\n",
       "<script>\n",
       "/*\n",
       "var component = document.getElementById(\"output_14\");\n",
       "if (component != undefined)\n",
       "    component.remove();\n",
       "component = document.getElementById(\"canvas_div_14\");\n",
       "if (component != undefined)\n",
       "    component.remove();\n",
       "\n",
       "$(\"<div id='canvas_div_14'>       <pre id='output_14' ></pre>       <div id='canvas_14'></div><br/>    </div>\").appendTo('body');    \n",
       "*/\n",
       "require([window.location.protocol + \"//calysto.github.io/javascripts/skulpt/skulpt.min.js\",\n",
       "         window.location.protocol + \"//calysto.github.io/javascripts/processing/processing.js\"], function () {\n",
       "  require([window.location.protocol + \"//calysto.github.io/javascripts/skulpt/skulpt-stdlib.js\"], function () {\n",
       "    function outf_14(text) {\n",
       "        var mypre = document.getElementById(\"output_14\"); \n",
       "        mypre.innerHTML = mypre.innerHTML + text; \n",
       "    }\n",
       "    function builtinRead(x) {\n",
       "        if (Sk.builtinFiles === undefined || \n",
       "            Sk.builtinFiles[\"files\"][x] === undefined)\n",
       "            throw \"File not found: '\" + x + \"'\";\n",
       "        return Sk.builtinFiles[\"files\"][x];\n",
       "    }\n",
       "    function runit(id) { \n",
       "       var prog = 'from processing import *\\n\\ndef setup():\\n    stroke(153);\\n\\n    rect(30, 20, 55, 55);\\nrun()'; \n",
       "       var mypre = document.getElementById(\"output_\" + id); \n",
       "       mypre.innerHTML = ''; \n",
       "       Sk.canvas = \"canvas_\" + id;\n",
       "       Sk.pre = \"output_\" + id;\n",
       "       Sk.configure({output:outf_14, read:builtinRead, python3:false}); \n",
       "       var myPromise = Sk.misceval.asyncToPromise(function() {\n",
       "           return Sk.importMainWithBody(\"<stdin>\", false, prog, true);\n",
       "       });\n",
       "       myPromise.then(\n",
       "        function(mod) {\n",
       "            console.log('success');\n",
       "        },\n",
       "        function(err) {\n",
       "            alert(err.toString());\n",
       "        });\n",
       "    }\n",
       "    runit(14);\n",
       "  });\n",
       "});\n",
       "\n",
       "</script>\n"
      ],
      "text/plain": [
       "<IPython.core.display.HTML object>"
      ]
     },
     "metadata": {},
     "output_type": "display_data"
    }
   ],
   "source": [
    "from processing import *\n",
    "\n",
    "def setup():\n",
    "    stroke(153);\n",
    "\n",
    "    rect(30, 20, 55, 55);\n",
    "run()"
   ]
  },
  {
   "cell_type": "markdown",
   "metadata": {},
   "source": [
    "Should look like:\n",
    "\n",
    "<img src=\"http://processingjs.org/reference/stroke_.gif\">"
   ]
  },
  {
   "cell_type": "code",
   "execution_count": 16,
   "metadata": {
    "collapsed": false
   },
   "outputs": [
    {
     "data": {
      "text/html": [
       "\n",
       "<div id='canvas_div_15'>\n",
       "      <pre id='output_15' ></pre>\n",
       "      <div id='canvas_15'></div><br/>\n",
       "</div>\n",
       "<script>\n",
       "/*\n",
       "var component = document.getElementById(\"output_15\");\n",
       "if (component != undefined)\n",
       "    component.remove();\n",
       "component = document.getElementById(\"canvas_div_15\");\n",
       "if (component != undefined)\n",
       "    component.remove();\n",
       "\n",
       "$(\"<div id='canvas_div_15'>       <pre id='output_15' ></pre>       <div id='canvas_15'></div><br/>    </div>\").appendTo('body');    \n",
       "*/\n",
       "require([window.location.protocol + \"//calysto.github.io/javascripts/skulpt/skulpt.min.js\",\n",
       "         window.location.protocol + \"//calysto.github.io/javascripts/processing/processing.js\"], function () {\n",
       "  require([window.location.protocol + \"//calysto.github.io/javascripts/skulpt/skulpt-stdlib.js\"], function () {\n",
       "    function outf_15(text) {\n",
       "        var mypre = document.getElementById(\"output_15\"); \n",
       "        mypre.innerHTML = mypre.innerHTML + text; \n",
       "    }\n",
       "    function builtinRead(x) {\n",
       "        if (Sk.builtinFiles === undefined || \n",
       "            Sk.builtinFiles[\"files\"][x] === undefined)\n",
       "            throw \"File not found: '\" + x + \"'\";\n",
       "        return Sk.builtinFiles[\"files\"][x];\n",
       "    }\n",
       "    function runit(id) { \n",
       "       var prog = 'from processing import *\\n\\ndef setup():\\n    stroke(204, 102, 0);\\n\\n    rect(30, 20, 55, 55);\\nrun()'; \n",
       "       var mypre = document.getElementById(\"output_\" + id); \n",
       "       mypre.innerHTML = ''; \n",
       "       Sk.canvas = \"canvas_\" + id;\n",
       "       Sk.pre = \"output_\" + id;\n",
       "       Sk.configure({output:outf_15, read:builtinRead, python3:false}); \n",
       "       var myPromise = Sk.misceval.asyncToPromise(function() {\n",
       "           return Sk.importMainWithBody(\"<stdin>\", false, prog, true);\n",
       "       });\n",
       "       myPromise.then(\n",
       "        function(mod) {\n",
       "            console.log('success');\n",
       "        },\n",
       "        function(err) {\n",
       "            alert(err.toString());\n",
       "        });\n",
       "    }\n",
       "    runit(15);\n",
       "  });\n",
       "});\n",
       "\n",
       "</script>\n"
      ],
      "text/plain": [
       "<IPython.core.display.HTML object>"
      ]
     },
     "metadata": {},
     "output_type": "display_data"
    }
   ],
   "source": [
    "from processing import *\n",
    "\n",
    "def setup():\n",
    "    stroke(204, 102, 0);\n",
    "\n",
    "    rect(30, 20, 55, 55);\n",
    "run()"
   ]
  },
  {
   "cell_type": "markdown",
   "metadata": {},
   "source": [
    "Should look like:\n",
    "\n",
    "<img src=\"http://processingjs.org/reference/stroke_2.gif\">"
   ]
  },
  {
   "cell_type": "markdown",
   "metadata": {},
   "source": [
    "## 1.2 Creating & Reading"
   ]
  },
  {
   "cell_type": "markdown",
   "metadata": {},
   "source": [
    "### 1.2.1 alpha()"
   ]
  },
  {
   "cell_type": "markdown",
   "metadata": {},
   "source": [
    "http://processingjs.org/reference/alpha_/"
   ]
  },
  {
   "cell_type": "code",
   "execution_count": 17,
   "metadata": {
    "collapsed": false
   },
   "outputs": [
    {
     "data": {
      "text/html": [
       "\n",
       "<div id='canvas_div_16'>\n",
       "      <pre id='output_16' ></pre>\n",
       "      <div id='canvas_16'></div><br/>\n",
       "</div>\n",
       "<script>\n",
       "/*\n",
       "var component = document.getElementById(\"output_16\");\n",
       "if (component != undefined)\n",
       "    component.remove();\n",
       "component = document.getElementById(\"canvas_div_16\");\n",
       "if (component != undefined)\n",
       "    component.remove();\n",
       "\n",
       "$(\"<div id='canvas_div_16'>       <pre id='output_16' ></pre>       <div id='canvas_16'></div><br/>    </div>\").appendTo('body');    \n",
       "*/\n",
       "require([window.location.protocol + \"//calysto.github.io/javascripts/skulpt/skulpt.min.js\",\n",
       "         window.location.protocol + \"//calysto.github.io/javascripts/processing/processing.js\"], function () {\n",
       "  require([window.location.protocol + \"//calysto.github.io/javascripts/skulpt/skulpt-stdlib.js\"], function () {\n",
       "    function outf_16(text) {\n",
       "        var mypre = document.getElementById(\"output_16\"); \n",
       "        mypre.innerHTML = mypre.innerHTML + text; \n",
       "    }\n",
       "    function builtinRead(x) {\n",
       "        if (Sk.builtinFiles === undefined || \n",
       "            Sk.builtinFiles[\"files\"][x] === undefined)\n",
       "            throw \"File not found: '\" + x + \"'\";\n",
       "        return Sk.builtinFiles[\"files\"][x];\n",
       "    }\n",
       "    function runit(id) { \n",
       "       var prog = 'from processing import *\\n\\ndef setup():\\n    noStroke()\\n    c = color(0, 126, 255, 102)\\n    fill(c)\\n    rect(15, 15, 35, 70)\\n    value = alpha(c)  ## Sets \"value\" to \"102\"\\n    fill(value)\\n    rect(50, 15, 35, 70)\\n\\nrun()'; \n",
       "       var mypre = document.getElementById(\"output_\" + id); \n",
       "       mypre.innerHTML = ''; \n",
       "       Sk.canvas = \"canvas_\" + id;\n",
       "       Sk.pre = \"output_\" + id;\n",
       "       Sk.configure({output:outf_16, read:builtinRead, python3:false}); \n",
       "       var myPromise = Sk.misceval.asyncToPromise(function() {\n",
       "           return Sk.importMainWithBody(\"<stdin>\", false, prog, true);\n",
       "       });\n",
       "       myPromise.then(\n",
       "        function(mod) {\n",
       "            console.log('success');\n",
       "        },\n",
       "        function(err) {\n",
       "            alert(err.toString());\n",
       "        });\n",
       "    }\n",
       "    runit(16);\n",
       "  });\n",
       "});\n",
       "\n",
       "</script>\n"
      ],
      "text/plain": [
       "<IPython.core.display.HTML object>"
      ]
     },
     "metadata": {},
     "output_type": "display_data"
    }
   ],
   "source": [
    "from processing import *\n",
    "\n",
    "def setup():\n",
    "    noStroke()\n",
    "    c = color(0, 126, 255, 102)\n",
    "    fill(c)\n",
    "    rect(15, 15, 35, 70)\n",
    "    value = alpha(c)  ## Sets \"value\" to \"102\"\n",
    "    fill(value)\n",
    "    rect(50, 15, 35, 70)\n",
    "\n",
    "run()"
   ]
  },
  {
   "cell_type": "markdown",
   "metadata": {
    "collapsed": true
   },
   "source": [
    "Should look like:\n",
    "\n",
    "<img src=\"http://processingjs.org/reference/alpha_.gif\">"
   ]
  },
  {
   "cell_type": "markdown",
   "metadata": {},
   "source": [
    "### 1.2.2 blendColor()"
   ]
  },
  {
   "cell_type": "markdown",
   "metadata": {},
   "source": [
    "http://processingjs.org/reference/blendColor_/"
   ]
  },
  {
   "cell_type": "code",
   "execution_count": 18,
   "metadata": {
    "collapsed": false
   },
   "outputs": [
    {
     "data": {
      "text/html": [
       "\n",
       "<div id='canvas_div_17'>\n",
       "      <pre id='output_17' ></pre>\n",
       "      <div id='canvas_17'></div><br/>\n",
       "</div>\n",
       "<script>\n",
       "/*\n",
       "var component = document.getElementById(\"output_17\");\n",
       "if (component != undefined)\n",
       "    component.remove();\n",
       "component = document.getElementById(\"canvas_div_17\");\n",
       "if (component != undefined)\n",
       "    component.remove();\n",
       "\n",
       "$(\"<div id='canvas_div_17'>       <pre id='output_17' ></pre>       <div id='canvas_17'></div><br/>    </div>\").appendTo('body');    \n",
       "*/\n",
       "require([window.location.protocol + \"//calysto.github.io/javascripts/skulpt/skulpt.min.js\",\n",
       "         window.location.protocol + \"//calysto.github.io/javascripts/processing/processing.js\"], function () {\n",
       "  require([window.location.protocol + \"//calysto.github.io/javascripts/skulpt/skulpt-stdlib.js\"], function () {\n",
       "    function outf_17(text) {\n",
       "        var mypre = document.getElementById(\"output_17\"); \n",
       "        mypre.innerHTML = mypre.innerHTML + text; \n",
       "    }\n",
       "    function builtinRead(x) {\n",
       "        if (Sk.builtinFiles === undefined || \n",
       "            Sk.builtinFiles[\"files\"][x] === undefined)\n",
       "            throw \"File not found: '\" + x + \"'\";\n",
       "        return Sk.builtinFiles[\"files\"][x];\n",
       "    }\n",
       "    function runit(id) { \n",
       "       var prog = 'from processing import *\\n\\ndef setup():\\n    orange = color(204, 102, 0);\\n    blue = color(0, 102, 153);\\n    orangeblueadd = blendColor(orange, blue, ADD);\\n    background(51);\\n    noStroke();\\n    fill(orange);\\n    rect(14, 20, 20, 60);\\n    fill(orangeblueadd);\\n    rect(40, 20, 20, 60);\\n    fill(blue);\\n    rect(66, 20, 20, 60);\\n    \\nrun()'; \n",
       "       var mypre = document.getElementById(\"output_\" + id); \n",
       "       mypre.innerHTML = ''; \n",
       "       Sk.canvas = \"canvas_\" + id;\n",
       "       Sk.pre = \"output_\" + id;\n",
       "       Sk.configure({output:outf_17, read:builtinRead, python3:false}); \n",
       "       var myPromise = Sk.misceval.asyncToPromise(function() {\n",
       "           return Sk.importMainWithBody(\"<stdin>\", false, prog, true);\n",
       "       });\n",
       "       myPromise.then(\n",
       "        function(mod) {\n",
       "            console.log('success');\n",
       "        },\n",
       "        function(err) {\n",
       "            alert(err.toString());\n",
       "        });\n",
       "    }\n",
       "    runit(17);\n",
       "  });\n",
       "});\n",
       "\n",
       "</script>\n"
      ],
      "text/plain": [
       "<IPython.core.display.HTML object>"
      ]
     },
     "metadata": {},
     "output_type": "display_data"
    }
   ],
   "source": [
    "from processing import *\n",
    "\n",
    "def setup():\n",
    "    orange = color(204, 102, 0);\n",
    "    blue = color(0, 102, 153);\n",
    "    orangeblueadd = blendColor(orange, blue, ADD);\n",
    "    background(51);\n",
    "    noStroke();\n",
    "    fill(orange);\n",
    "    rect(14, 20, 20, 60);\n",
    "    fill(orangeblueadd);\n",
    "    rect(40, 20, 20, 60);\n",
    "    fill(blue);\n",
    "    rect(66, 20, 20, 60);\n",
    "    \n",
    "run()"
   ]
  },
  {
   "cell_type": "markdown",
   "metadata": {},
   "source": [
    "Should look like:\n",
    "\n",
    "<img src=\"http://processingjs.org/reference/blend_color.gif\">"
   ]
  },
  {
   "cell_type": "markdown",
   "metadata": {},
   "source": [
    "### 1.2.3 blue()"
   ]
  },
  {
   "cell_type": "markdown",
   "metadata": {},
   "source": [
    "http://processingjs.org/reference/blue_/"
   ]
  },
  {
   "cell_type": "code",
   "execution_count": 19,
   "metadata": {
    "collapsed": false
   },
   "outputs": [
    {
     "data": {
      "text/html": [
       "\n",
       "<div id='canvas_div_18'>\n",
       "      <pre id='output_18' ></pre>\n",
       "      <div id='canvas_18'></div><br/>\n",
       "</div>\n",
       "<script>\n",
       "/*\n",
       "var component = document.getElementById(\"output_18\");\n",
       "if (component != undefined)\n",
       "    component.remove();\n",
       "component = document.getElementById(\"canvas_div_18\");\n",
       "if (component != undefined)\n",
       "    component.remove();\n",
       "\n",
       "$(\"<div id='canvas_div_18'>       <pre id='output_18' ></pre>       <div id='canvas_18'></div><br/>    </div>\").appendTo('body');    \n",
       "*/\n",
       "require([window.location.protocol + \"//calysto.github.io/javascripts/skulpt/skulpt.min.js\",\n",
       "         window.location.protocol + \"//calysto.github.io/javascripts/processing/processing.js\"], function () {\n",
       "  require([window.location.protocol + \"//calysto.github.io/javascripts/skulpt/skulpt-stdlib.js\"], function () {\n",
       "    function outf_18(text) {\n",
       "        var mypre = document.getElementById(\"output_18\"); \n",
       "        mypre.innerHTML = mypre.innerHTML + text; \n",
       "    }\n",
       "    function builtinRead(x) {\n",
       "        if (Sk.builtinFiles === undefined || \n",
       "            Sk.builtinFiles[\"files\"][x] === undefined)\n",
       "            throw \"File not found: '\" + x + \"'\";\n",
       "        return Sk.builtinFiles[\"files\"][x];\n",
       "    }\n",
       "    function runit(id) { \n",
       "       var prog = 'from processing import *\\n\\ndef setup():\\n    noStroke();\\n    c = color(0, 126, 255);\\n    fill(c);\\n    rect(15, 20, 35, 60);\\n    value = blue(c);  ## Sets \"value\" to \"255\"\\n    fill(value);\\n    rect(50, 20, 35, 60);\\n    \\nrun()'; \n",
       "       var mypre = document.getElementById(\"output_\" + id); \n",
       "       mypre.innerHTML = ''; \n",
       "       Sk.canvas = \"canvas_\" + id;\n",
       "       Sk.pre = \"output_\" + id;\n",
       "       Sk.configure({output:outf_18, read:builtinRead, python3:false}); \n",
       "       var myPromise = Sk.misceval.asyncToPromise(function() {\n",
       "           return Sk.importMainWithBody(\"<stdin>\", false, prog, true);\n",
       "       });\n",
       "       myPromise.then(\n",
       "        function(mod) {\n",
       "            console.log('success');\n",
       "        },\n",
       "        function(err) {\n",
       "            alert(err.toString());\n",
       "        });\n",
       "    }\n",
       "    runit(18);\n",
       "  });\n",
       "});\n",
       "\n",
       "</script>\n"
      ],
      "text/plain": [
       "<IPython.core.display.HTML object>"
      ]
     },
     "metadata": {},
     "output_type": "display_data"
    }
   ],
   "source": [
    "from processing import *\n",
    "\n",
    "def setup():\n",
    "    noStroke();\n",
    "    c = color(0, 126, 255);\n",
    "    fill(c);\n",
    "    rect(15, 20, 35, 60);\n",
    "    value = blue(c);  ## Sets \"value\" to \"255\"\n",
    "    fill(value);\n",
    "    rect(50, 20, 35, 60);\n",
    "    \n",
    "run()"
   ]
  },
  {
   "cell_type": "markdown",
   "metadata": {},
   "source": [
    "Should look like:\n",
    "\n",
    "<img src=\"http://processingjs.org/reference/blue_.gif\">"
   ]
  },
  {
   "cell_type": "markdown",
   "metadata": {},
   "source": [
    "### 1.2.4 brightness()"
   ]
  },
  {
   "cell_type": "markdown",
   "metadata": {},
   "source": [
    "http://processingjs.org/reference/brightness_/"
   ]
  },
  {
   "cell_type": "code",
   "execution_count": 20,
   "metadata": {
    "collapsed": false
   },
   "outputs": [
    {
     "data": {
      "text/html": [
       "\n",
       "<div id='canvas_div_19'>\n",
       "      <pre id='output_19' ></pre>\n",
       "      <div id='canvas_19'></div><br/>\n",
       "</div>\n",
       "<script>\n",
       "/*\n",
       "var component = document.getElementById(\"output_19\");\n",
       "if (component != undefined)\n",
       "    component.remove();\n",
       "component = document.getElementById(\"canvas_div_19\");\n",
       "if (component != undefined)\n",
       "    component.remove();\n",
       "\n",
       "$(\"<div id='canvas_div_19'>       <pre id='output_19' ></pre>       <div id='canvas_19'></div><br/>    </div>\").appendTo('body');    \n",
       "*/\n",
       "require([window.location.protocol + \"//calysto.github.io/javascripts/skulpt/skulpt.min.js\",\n",
       "         window.location.protocol + \"//calysto.github.io/javascripts/processing/processing.js\"], function () {\n",
       "  require([window.location.protocol + \"//calysto.github.io/javascripts/skulpt/skulpt-stdlib.js\"], function () {\n",
       "    function outf_19(text) {\n",
       "        var mypre = document.getElementById(\"output_19\"); \n",
       "        mypre.innerHTML = mypre.innerHTML + text; \n",
       "    }\n",
       "    function builtinRead(x) {\n",
       "        if (Sk.builtinFiles === undefined || \n",
       "            Sk.builtinFiles[\"files\"][x] === undefined)\n",
       "            throw \"File not found: '\" + x + \"'\";\n",
       "        return Sk.builtinFiles[\"files\"][x];\n",
       "    }\n",
       "    function runit(id) { \n",
       "       var prog = 'from processing import *\\n\\ndef setup():\\n    noStroke();\\n    colorMode(HSB, 255);\\n    c = color(0, 126, 255);\\n    fill(c);\\n    rect(15, 20, 35, 60);\\n    value = brightness(c);  ## Sets \"value\" to \"255\"\\n    fill(value);\\n    rect(50, 20, 35, 60);    \\nrun()'; \n",
       "       var mypre = document.getElementById(\"output_\" + id); \n",
       "       mypre.innerHTML = ''; \n",
       "       Sk.canvas = \"canvas_\" + id;\n",
       "       Sk.pre = \"output_\" + id;\n",
       "       Sk.configure({output:outf_19, read:builtinRead, python3:false}); \n",
       "       var myPromise = Sk.misceval.asyncToPromise(function() {\n",
       "           return Sk.importMainWithBody(\"<stdin>\", false, prog, true);\n",
       "       });\n",
       "       myPromise.then(\n",
       "        function(mod) {\n",
       "            console.log('success');\n",
       "        },\n",
       "        function(err) {\n",
       "            alert(err.toString());\n",
       "        });\n",
       "    }\n",
       "    runit(19);\n",
       "  });\n",
       "});\n",
       "\n",
       "</script>\n"
      ],
      "text/plain": [
       "<IPython.core.display.HTML object>"
      ]
     },
     "metadata": {},
     "output_type": "display_data"
    }
   ],
   "source": [
    "from processing import *\n",
    "\n",
    "def setup():\n",
    "    noStroke();\n",
    "    colorMode(HSB, 255);\n",
    "    c = color(0, 126, 255);\n",
    "    fill(c);\n",
    "    rect(15, 20, 35, 60);\n",
    "    value = brightness(c);  ## Sets \"value\" to \"255\"\n",
    "    fill(value);\n",
    "    rect(50, 20, 35, 60);    \n",
    "run()"
   ]
  },
  {
   "cell_type": "markdown",
   "metadata": {},
   "source": [
    "Should look like:\n",
    "\n",
    "<img src=\"http://processingjs.org/reference/brightness_.gif\">"
   ]
  },
  {
   "cell_type": "markdown",
   "metadata": {},
   "source": [
    "### 1.2.5 color()"
   ]
  },
  {
   "cell_type": "markdown",
   "metadata": {},
   "source": [
    "http://processingjs.org/reference/color_/"
   ]
  },
  {
   "cell_type": "code",
   "execution_count": 21,
   "metadata": {
    "collapsed": false
   },
   "outputs": [
    {
     "data": {
      "text/html": [
       "\n",
       "<div id='canvas_div_20'>\n",
       "      <pre id='output_20' ></pre>\n",
       "      <div id='canvas_20'></div><br/>\n",
       "</div>\n",
       "<script>\n",
       "/*\n",
       "var component = document.getElementById(\"output_20\");\n",
       "if (component != undefined)\n",
       "    component.remove();\n",
       "component = document.getElementById(\"canvas_div_20\");\n",
       "if (component != undefined)\n",
       "    component.remove();\n",
       "\n",
       "$(\"<div id='canvas_div_20'>       <pre id='output_20' ></pre>       <div id='canvas_20'></div><br/>    </div>\").appendTo('body');    \n",
       "*/\n",
       "require([window.location.protocol + \"//calysto.github.io/javascripts/skulpt/skulpt.min.js\",\n",
       "         window.location.protocol + \"//calysto.github.io/javascripts/processing/processing.js\"], function () {\n",
       "  require([window.location.protocol + \"//calysto.github.io/javascripts/skulpt/skulpt-stdlib.js\"], function () {\n",
       "    function outf_20(text) {\n",
       "        var mypre = document.getElementById(\"output_20\"); \n",
       "        mypre.innerHTML = mypre.innerHTML + text; \n",
       "    }\n",
       "    function builtinRead(x) {\n",
       "        if (Sk.builtinFiles === undefined || \n",
       "            Sk.builtinFiles[\"files\"][x] === undefined)\n",
       "            throw \"File not found: '\" + x + \"'\";\n",
       "        return Sk.builtinFiles[\"files\"][x];\n",
       "    }\n",
       "    function runit(id) { \n",
       "       var prog = 'from processing import *\\n\\ndef setup():\\n    c1 = color(102, 102, 0);\\n    fill(c1);\\n    noStroke();\\n    rect(30, 20, 55, 55);    \\nrun()'; \n",
       "       var mypre = document.getElementById(\"output_\" + id); \n",
       "       mypre.innerHTML = ''; \n",
       "       Sk.canvas = \"canvas_\" + id;\n",
       "       Sk.pre = \"output_\" + id;\n",
       "       Sk.configure({output:outf_20, read:builtinRead, python3:false}); \n",
       "       var myPromise = Sk.misceval.asyncToPromise(function() {\n",
       "           return Sk.importMainWithBody(\"<stdin>\", false, prog, true);\n",
       "       });\n",
       "       myPromise.then(\n",
       "        function(mod) {\n",
       "            console.log('success');\n",
       "        },\n",
       "        function(err) {\n",
       "            alert(err.toString());\n",
       "        });\n",
       "    }\n",
       "    runit(20);\n",
       "  });\n",
       "});\n",
       "\n",
       "</script>\n"
      ],
      "text/plain": [
       "<IPython.core.display.HTML object>"
      ]
     },
     "metadata": {},
     "output_type": "display_data"
    }
   ],
   "source": [
    "from processing import *\n",
    "\n",
    "def setup():\n",
    "    c1 = color(102, 102, 0);\n",
    "    fill(c1);\n",
    "    noStroke();\n",
    "    rect(30, 20, 55, 55);    \n",
    "run()"
   ]
  },
  {
   "cell_type": "markdown",
   "metadata": {},
   "source": [
    "Should look like:\n",
    "\n",
    "<img src=\"http://processingjs.org/reference/color_.gif\">"
   ]
  },
  {
   "cell_type": "markdown",
   "metadata": {},
   "source": [
    "### 1.2.6 green()"
   ]
  },
  {
   "cell_type": "markdown",
   "metadata": {},
   "source": [
    "http://processingjs.org/reference/green_/"
   ]
  },
  {
   "cell_type": "code",
   "execution_count": 22,
   "metadata": {
    "collapsed": false
   },
   "outputs": [
    {
     "data": {
      "text/html": [
       "\n",
       "<div id='canvas_div_21'>\n",
       "      <pre id='output_21' ></pre>\n",
       "      <div id='canvas_21'></div><br/>\n",
       "</div>\n",
       "<script>\n",
       "/*\n",
       "var component = document.getElementById(\"output_21\");\n",
       "if (component != undefined)\n",
       "    component.remove();\n",
       "component = document.getElementById(\"canvas_div_21\");\n",
       "if (component != undefined)\n",
       "    component.remove();\n",
       "\n",
       "$(\"<div id='canvas_div_21'>       <pre id='output_21' ></pre>       <div id='canvas_21'></div><br/>    </div>\").appendTo('body');    \n",
       "*/\n",
       "require([window.location.protocol + \"//calysto.github.io/javascripts/skulpt/skulpt.min.js\",\n",
       "         window.location.protocol + \"//calysto.github.io/javascripts/processing/processing.js\"], function () {\n",
       "  require([window.location.protocol + \"//calysto.github.io/javascripts/skulpt/skulpt-stdlib.js\"], function () {\n",
       "    function outf_21(text) {\n",
       "        var mypre = document.getElementById(\"output_21\"); \n",
       "        mypre.innerHTML = mypre.innerHTML + text; \n",
       "    }\n",
       "    function builtinRead(x) {\n",
       "        if (Sk.builtinFiles === undefined || \n",
       "            Sk.builtinFiles[\"files\"][x] === undefined)\n",
       "            throw \"File not found: '\" + x + \"'\";\n",
       "        return Sk.builtinFiles[\"files\"][x];\n",
       "    }\n",
       "    function runit(id) { \n",
       "       var prog = 'from processing import *\\n\\ndef setup():\\n    noStroke();\\n\\n    c = color(0, 126, 255);\\n\\n    fill(c);\\n\\n    rect(15, 20, 35, 60);\\n\\n    value = green(c);  ## Sets \"value\" to \"126\"\\n\\n    fill(value);\\n\\n    rect(50, 20, 35, 60);\\n    \\nrun()'; \n",
       "       var mypre = document.getElementById(\"output_\" + id); \n",
       "       mypre.innerHTML = ''; \n",
       "       Sk.canvas = \"canvas_\" + id;\n",
       "       Sk.pre = \"output_\" + id;\n",
       "       Sk.configure({output:outf_21, read:builtinRead, python3:false}); \n",
       "       var myPromise = Sk.misceval.asyncToPromise(function() {\n",
       "           return Sk.importMainWithBody(\"<stdin>\", false, prog, true);\n",
       "       });\n",
       "       myPromise.then(\n",
       "        function(mod) {\n",
       "            console.log('success');\n",
       "        },\n",
       "        function(err) {\n",
       "            alert(err.toString());\n",
       "        });\n",
       "    }\n",
       "    runit(21);\n",
       "  });\n",
       "});\n",
       "\n",
       "</script>\n"
      ],
      "text/plain": [
       "<IPython.core.display.HTML object>"
      ]
     },
     "metadata": {},
     "output_type": "display_data"
    }
   ],
   "source": [
    "from processing import *\n",
    "\n",
    "def setup():\n",
    "    noStroke();\n",
    "\n",
    "    c = color(0, 126, 255);\n",
    "\n",
    "    fill(c);\n",
    "\n",
    "    rect(15, 20, 35, 60);\n",
    "\n",
    "    value = green(c);  ## Sets \"value\" to \"126\"\n",
    "\n",
    "    fill(value);\n",
    "\n",
    "    rect(50, 20, 35, 60);\n",
    "    \n",
    "run()"
   ]
  },
  {
   "cell_type": "markdown",
   "metadata": {},
   "source": [
    "Should look like:\n",
    "\n",
    "<img src=\"http://processingjs.org/reference/green_.gif\">"
   ]
  },
  {
   "cell_type": "markdown",
   "metadata": {},
   "source": [
    "### 1.2.7 hue()"
   ]
  },
  {
   "cell_type": "markdown",
   "metadata": {},
   "source": [
    "http://processingjs.org/reference/hue_/"
   ]
  },
  {
   "cell_type": "code",
   "execution_count": 23,
   "metadata": {
    "collapsed": false
   },
   "outputs": [
    {
     "data": {
      "text/html": [
       "\n",
       "<div id='canvas_div_22'>\n",
       "      <pre id='output_22' ></pre>\n",
       "      <div id='canvas_22'></div><br/>\n",
       "</div>\n",
       "<script>\n",
       "/*\n",
       "var component = document.getElementById(\"output_22\");\n",
       "if (component != undefined)\n",
       "    component.remove();\n",
       "component = document.getElementById(\"canvas_div_22\");\n",
       "if (component != undefined)\n",
       "    component.remove();\n",
       "\n",
       "$(\"<div id='canvas_div_22'>       <pre id='output_22' ></pre>       <div id='canvas_22'></div><br/>    </div>\").appendTo('body');    \n",
       "*/\n",
       "require([window.location.protocol + \"//calysto.github.io/javascripts/skulpt/skulpt.min.js\",\n",
       "         window.location.protocol + \"//calysto.github.io/javascripts/processing/processing.js\"], function () {\n",
       "  require([window.location.protocol + \"//calysto.github.io/javascripts/skulpt/skulpt-stdlib.js\"], function () {\n",
       "    function outf_22(text) {\n",
       "        var mypre = document.getElementById(\"output_22\"); \n",
       "        mypre.innerHTML = mypre.innerHTML + text; \n",
       "    }\n",
       "    function builtinRead(x) {\n",
       "        if (Sk.builtinFiles === undefined || \n",
       "            Sk.builtinFiles[\"files\"][x] === undefined)\n",
       "            throw \"File not found: '\" + x + \"'\";\n",
       "        return Sk.builtinFiles[\"files\"][x];\n",
       "    }\n",
       "    function runit(id) { \n",
       "       var prog = 'from processing import *\\n\\ndef setup():\\n    noStroke();\\n    colorMode(HSB, 255);\\n    c = color(0, 126, 255);\\n    fill(c);\\n    rect(15, 20, 35, 60);\\n    value = hue(c);  ## Sets \"value\" to \"0\"\\n    fill(value);\\n    rect(50, 20, 35, 60);    \\nrun()'; \n",
       "       var mypre = document.getElementById(\"output_\" + id); \n",
       "       mypre.innerHTML = ''; \n",
       "       Sk.canvas = \"canvas_\" + id;\n",
       "       Sk.pre = \"output_\" + id;\n",
       "       Sk.configure({output:outf_22, read:builtinRead, python3:false}); \n",
       "       var myPromise = Sk.misceval.asyncToPromise(function() {\n",
       "           return Sk.importMainWithBody(\"<stdin>\", false, prog, true);\n",
       "       });\n",
       "       myPromise.then(\n",
       "        function(mod) {\n",
       "            console.log('success');\n",
       "        },\n",
       "        function(err) {\n",
       "            alert(err.toString());\n",
       "        });\n",
       "    }\n",
       "    runit(22);\n",
       "  });\n",
       "});\n",
       "\n",
       "</script>\n"
      ],
      "text/plain": [
       "<IPython.core.display.HTML object>"
      ]
     },
     "metadata": {},
     "output_type": "display_data"
    }
   ],
   "source": [
    "from processing import *\n",
    "\n",
    "def setup():\n",
    "    noStroke();\n",
    "    colorMode(HSB, 255);\n",
    "    c = color(0, 126, 255);\n",
    "    fill(c);\n",
    "    rect(15, 20, 35, 60);\n",
    "    value = hue(c);  ## Sets \"value\" to \"0\"\n",
    "    fill(value);\n",
    "    rect(50, 20, 35, 60);    \n",
    "run()"
   ]
  },
  {
   "cell_type": "markdown",
   "metadata": {},
   "source": [
    "Should look like:\n",
    "\n",
    "<img src=\"http://processingjs.org/reference/hue_.gif\">"
   ]
  },
  {
   "cell_type": "markdown",
   "metadata": {},
   "source": [
    "### 1.2.8 lerpColor()"
   ]
  },
  {
   "cell_type": "markdown",
   "metadata": {},
   "source": [
    "http://processingjs.org/reference/lerpColor_/"
   ]
  },
  {
   "cell_type": "code",
   "execution_count": 24,
   "metadata": {
    "collapsed": false
   },
   "outputs": [
    {
     "data": {
      "text/html": [
       "\n",
       "<div id='canvas_div_23'>\n",
       "      <pre id='output_23' ></pre>\n",
       "      <div id='canvas_23'></div><br/>\n",
       "</div>\n",
       "<script>\n",
       "/*\n",
       "var component = document.getElementById(\"output_23\");\n",
       "if (component != undefined)\n",
       "    component.remove();\n",
       "component = document.getElementById(\"canvas_div_23\");\n",
       "if (component != undefined)\n",
       "    component.remove();\n",
       "\n",
       "$(\"<div id='canvas_div_23'>       <pre id='output_23' ></pre>       <div id='canvas_23'></div><br/>    </div>\").appendTo('body');    \n",
       "*/\n",
       "require([window.location.protocol + \"//calysto.github.io/javascripts/skulpt/skulpt.min.js\",\n",
       "         window.location.protocol + \"//calysto.github.io/javascripts/processing/processing.js\"], function () {\n",
       "  require([window.location.protocol + \"//calysto.github.io/javascripts/skulpt/skulpt-stdlib.js\"], function () {\n",
       "    function outf_23(text) {\n",
       "        var mypre = document.getElementById(\"output_23\"); \n",
       "        mypre.innerHTML = mypre.innerHTML + text; \n",
       "    }\n",
       "    function builtinRead(x) {\n",
       "        if (Sk.builtinFiles === undefined || \n",
       "            Sk.builtinFiles[\"files\"][x] === undefined)\n",
       "            throw \"File not found: '\" + x + \"'\";\n",
       "        return Sk.builtinFiles[\"files\"][x];\n",
       "    }\n",
       "    function runit(id) { \n",
       "       var prog = 'from processing import *\\n\\ndef setup():\\n    stroke(255);\\n\\n    background(51);\\n\\n    from_ = color(204, 102, 0);\\n\\n    to = color(0, 102, 153);\\n\\n    interA = lerpColor(from_, to, .33);\\n\\n    interB = lerpColor(from_, to, .66);\\n\\n    fill(from_);\\n\\n    rect(10, 20, 20, 60);\\n\\n    fill(interA);\\n\\n    rect(30, 20, 20, 60);\\n\\n    fill(interB);\\n\\n    rect(50, 20, 20, 60);\\n\\n    fill(to);\\n\\n    rect(70, 20, 20, 60); \\nrun()'; \n",
       "       var mypre = document.getElementById(\"output_\" + id); \n",
       "       mypre.innerHTML = ''; \n",
       "       Sk.canvas = \"canvas_\" + id;\n",
       "       Sk.pre = \"output_\" + id;\n",
       "       Sk.configure({output:outf_23, read:builtinRead, python3:false}); \n",
       "       var myPromise = Sk.misceval.asyncToPromise(function() {\n",
       "           return Sk.importMainWithBody(\"<stdin>\", false, prog, true);\n",
       "       });\n",
       "       myPromise.then(\n",
       "        function(mod) {\n",
       "            console.log('success');\n",
       "        },\n",
       "        function(err) {\n",
       "            alert(err.toString());\n",
       "        });\n",
       "    }\n",
       "    runit(23);\n",
       "  });\n",
       "});\n",
       "\n",
       "</script>\n"
      ],
      "text/plain": [
       "<IPython.core.display.HTML object>"
      ]
     },
     "metadata": {},
     "output_type": "display_data"
    }
   ],
   "source": [
    "from processing import *\n",
    "\n",
    "def setup():\n",
    "    stroke(255);\n",
    "\n",
    "    background(51);\n",
    "\n",
    "    from_ = color(204, 102, 0);\n",
    "\n",
    "    to = color(0, 102, 153);\n",
    "\n",
    "    interA = lerpColor(from_, to, .33);\n",
    "\n",
    "    interB = lerpColor(from_, to, .66);\n",
    "\n",
    "    fill(from_);\n",
    "\n",
    "    rect(10, 20, 20, 60);\n",
    "\n",
    "    fill(interA);\n",
    "\n",
    "    rect(30, 20, 20, 60);\n",
    "\n",
    "    fill(interB);\n",
    "\n",
    "    rect(50, 20, 20, 60);\n",
    "\n",
    "    fill(to);\n",
    "\n",
    "    rect(70, 20, 20, 60); \n",
    "run()"
   ]
  },
  {
   "cell_type": "markdown",
   "metadata": {},
   "source": [
    "Should look like:\n",
    "\n",
    "<img src=\"http://processingjs.org/reference/lerpColor.jpg\">"
   ]
  },
  {
   "cell_type": "markdown",
   "metadata": {},
   "source": [
    "### 1.2.9 red()"
   ]
  },
  {
   "cell_type": "markdown",
   "metadata": {},
   "source": [
    "http://processingjs.org/reference/red_/"
   ]
  },
  {
   "cell_type": "code",
   "execution_count": 25,
   "metadata": {
    "collapsed": false
   },
   "outputs": [
    {
     "data": {
      "text/html": [
       "\n",
       "<div id='canvas_div_24'>\n",
       "      <pre id='output_24' ></pre>\n",
       "      <div id='canvas_24'></div><br/>\n",
       "</div>\n",
       "<script>\n",
       "/*\n",
       "var component = document.getElementById(\"output_24\");\n",
       "if (component != undefined)\n",
       "    component.remove();\n",
       "component = document.getElementById(\"canvas_div_24\");\n",
       "if (component != undefined)\n",
       "    component.remove();\n",
       "\n",
       "$(\"<div id='canvas_div_24'>       <pre id='output_24' ></pre>       <div id='canvas_24'></div><br/>    </div>\").appendTo('body');    \n",
       "*/\n",
       "require([window.location.protocol + \"//calysto.github.io/javascripts/skulpt/skulpt.min.js\",\n",
       "         window.location.protocol + \"//calysto.github.io/javascripts/processing/processing.js\"], function () {\n",
       "  require([window.location.protocol + \"//calysto.github.io/javascripts/skulpt/skulpt-stdlib.js\"], function () {\n",
       "    function outf_24(text) {\n",
       "        var mypre = document.getElementById(\"output_24\"); \n",
       "        mypre.innerHTML = mypre.innerHTML + text; \n",
       "    }\n",
       "    function builtinRead(x) {\n",
       "        if (Sk.builtinFiles === undefined || \n",
       "            Sk.builtinFiles[\"files\"][x] === undefined)\n",
       "            throw \"File not found: '\" + x + \"'\";\n",
       "        return Sk.builtinFiles[\"files\"][x];\n",
       "    }\n",
       "    function runit(id) { \n",
       "       var prog = 'from processing import *\\n\\ndef setup():\\n    noStroke();\\n\\n    c = color(0, 126, 255);\\n\\n    fill(c);\\n\\n    rect(15, 20, 35, 60);\\n\\n    value = red(c);  ## Sets \"value\" to \"0\"\\n\\n    fill(value);\\n\\n    rect(50, 20, 35, 60);    \\nrun()'; \n",
       "       var mypre = document.getElementById(\"output_\" + id); \n",
       "       mypre.innerHTML = ''; \n",
       "       Sk.canvas = \"canvas_\" + id;\n",
       "       Sk.pre = \"output_\" + id;\n",
       "       Sk.configure({output:outf_24, read:builtinRead, python3:false}); \n",
       "       var myPromise = Sk.misceval.asyncToPromise(function() {\n",
       "           return Sk.importMainWithBody(\"<stdin>\", false, prog, true);\n",
       "       });\n",
       "       myPromise.then(\n",
       "        function(mod) {\n",
       "            console.log('success');\n",
       "        },\n",
       "        function(err) {\n",
       "            alert(err.toString());\n",
       "        });\n",
       "    }\n",
       "    runit(24);\n",
       "  });\n",
       "});\n",
       "\n",
       "</script>\n"
      ],
      "text/plain": [
       "<IPython.core.display.HTML object>"
      ]
     },
     "metadata": {},
     "output_type": "display_data"
    }
   ],
   "source": [
    "from processing import *\n",
    "\n",
    "def setup():\n",
    "    noStroke();\n",
    "\n",
    "    c = color(0, 126, 255);\n",
    "\n",
    "    fill(c);\n",
    "\n",
    "    rect(15, 20, 35, 60);\n",
    "\n",
    "    value = red(c);  ## Sets \"value\" to \"0\"\n",
    "\n",
    "    fill(value);\n",
    "\n",
    "    rect(50, 20, 35, 60);    \n",
    "run()"
   ]
  },
  {
   "cell_type": "markdown",
   "metadata": {},
   "source": [
    "Should look like:\n",
    "\n",
    "<img src=\"http://processingjs.org/reference/blue_.gif\">"
   ]
  },
  {
   "cell_type": "markdown",
   "metadata": {},
   "source": [
    "### 1.2.10 saturation()"
   ]
  },
  {
   "cell_type": "markdown",
   "metadata": {},
   "source": [
    "http://processingjs.org/reference/saturation_/"
   ]
  },
  {
   "cell_type": "code",
   "execution_count": 26,
   "metadata": {
    "collapsed": false
   },
   "outputs": [
    {
     "data": {
      "text/html": [
       "\n",
       "<div id='canvas_div_25'>\n",
       "      <pre id='output_25' ></pre>\n",
       "      <div id='canvas_25'></div><br/>\n",
       "</div>\n",
       "<script>\n",
       "/*\n",
       "var component = document.getElementById(\"output_25\");\n",
       "if (component != undefined)\n",
       "    component.remove();\n",
       "component = document.getElementById(\"canvas_div_25\");\n",
       "if (component != undefined)\n",
       "    component.remove();\n",
       "\n",
       "$(\"<div id='canvas_div_25'>       <pre id='output_25' ></pre>       <div id='canvas_25'></div><br/>    </div>\").appendTo('body');    \n",
       "*/\n",
       "require([window.location.protocol + \"//calysto.github.io/javascripts/skulpt/skulpt.min.js\",\n",
       "         window.location.protocol + \"//calysto.github.io/javascripts/processing/processing.js\"], function () {\n",
       "  require([window.location.protocol + \"//calysto.github.io/javascripts/skulpt/skulpt-stdlib.js\"], function () {\n",
       "    function outf_25(text) {\n",
       "        var mypre = document.getElementById(\"output_25\"); \n",
       "        mypre.innerHTML = mypre.innerHTML + text; \n",
       "    }\n",
       "    function builtinRead(x) {\n",
       "        if (Sk.builtinFiles === undefined || \n",
       "            Sk.builtinFiles[\"files\"][x] === undefined)\n",
       "            throw \"File not found: '\" + x + \"'\";\n",
       "        return Sk.builtinFiles[\"files\"][x];\n",
       "    }\n",
       "    function runit(id) { \n",
       "       var prog = 'from processing import *\\n\\ndef setup():\\n    noStroke();\\n    colorMode(HSB, 255);\\n    c = color(0, 126, 255);\\n    fill(c);\\n    rect(15, 20, 35, 60);\\n    value = saturation(c);  ## Sets \"value\" to \"126\"\\n    fill(value);\\n    rect(50, 20, 35, 60);    \\nrun()'; \n",
       "       var mypre = document.getElementById(\"output_\" + id); \n",
       "       mypre.innerHTML = ''; \n",
       "       Sk.canvas = \"canvas_\" + id;\n",
       "       Sk.pre = \"output_\" + id;\n",
       "       Sk.configure({output:outf_25, read:builtinRead, python3:false}); \n",
       "       var myPromise = Sk.misceval.asyncToPromise(function() {\n",
       "           return Sk.importMainWithBody(\"<stdin>\", false, prog, true);\n",
       "       });\n",
       "       myPromise.then(\n",
       "        function(mod) {\n",
       "            console.log('success');\n",
       "        },\n",
       "        function(err) {\n",
       "            alert(err.toString());\n",
       "        });\n",
       "    }\n",
       "    runit(25);\n",
       "  });\n",
       "});\n",
       "\n",
       "</script>\n"
      ],
      "text/plain": [
       "<IPython.core.display.HTML object>"
      ]
     },
     "metadata": {},
     "output_type": "display_data"
    }
   ],
   "source": [
    "from processing import *\n",
    "\n",
    "def setup():\n",
    "    noStroke();\n",
    "    colorMode(HSB, 255);\n",
    "    c = color(0, 126, 255);\n",
    "    fill(c);\n",
    "    rect(15, 20, 35, 60);\n",
    "    value = saturation(c);  ## Sets \"value\" to \"126\"\n",
    "    fill(value);\n",
    "    rect(50, 20, 35, 60);    \n",
    "run()"
   ]
  },
  {
   "cell_type": "markdown",
   "metadata": {},
   "source": [
    "Should look like:\n",
    "\n",
    "<img src=\"http://processingjs.org/reference/saturation_.gif\">"
   ]
  }
 ],
 "metadata": {
  "kernelspec": {
   "display_name": "Skulpt Python",
   "language": "python",
   "name": "skulpt_python"
  },
  "language_info": {
   "codemirror_mode": {
    "name": "text/x-python",
    "version": 2
   },
   "file_extension": ".py",
   "mimetype": "text/x-python",
   "name": "python"
  }
 },
 "nbformat": 4,
 "nbformat_minor": 0
}
