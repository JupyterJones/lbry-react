{
 "cells": [
  {
   "cell_type": "code",
   "execution_count": 17,
   "metadata": {
    "collapsed": false
   },
   "outputs": [
    {
     "name": "stdout",
     "output_type": "stream",
     "text": [
      "Downloaded 'bot1.svg'.\n"
     ]
    }
   ],
   "source": [
    "%download https://processing.org/examples/bot1.svg"
   ]
  },
  {
   "cell_type": "code",
   "execution_count": 18,
   "metadata": {
    "collapsed": false,
    "scrolled": true
   },
   "outputs": [
    {
     "data": {
      "text/html": [
       "\n",
       "<div id='canvas_div_16'>\n",
       "      <pre id='output_16' ></pre>\n",
       "      <div id='canvas_16'></div><br/>\n",
       "</div>\n",
       "<script>\n",
       "/*\n",
       "var component = document.getElementById(\"output_16\");\n",
       "if (component != undefined)\n",
       "    component.remove();\n",
       "component = document.getElementById(\"canvas_div_16\");\n",
       "if (component != undefined)\n",
       "    component.remove();\n",
       "\n",
       "$(\"<div id='canvas_div_16'>       <pre id='output_16' ></pre>       <div id='canvas_16'></div><br/>    </div>\").appendTo('body');    \n",
       "*/\n",
       "require([window.location.protocol + \"//calysto.github.io/javascripts/skulpt/skulpt.min.js\",\n",
       "         window.location.protocol + \"//calysto.github.io/javascripts/processing/processing.js\"], function () {\n",
       "  require([window.location.protocol + \"//calysto.github.io/javascripts/skulpt/skulpt-stdlib.js\"], function () {\n",
       "    function outf_16(text) {\n",
       "        var mypre = document.getElementById(\"output_16\"); \n",
       "        mypre.innerHTML = mypre.innerHTML + text; \n",
       "    }\n",
       "    function builtinRead(x) {\n",
       "        if (Sk.builtinFiles === undefined || \n",
       "            Sk.builtinFiles[\"files\"][x] === undefined)\n",
       "            throw \"File not found: '\" + x + \"'\";\n",
       "        return Sk.builtinFiles[\"files\"][x];\n",
       "    }\n",
       "    function runit(id) { \n",
       "       var prog = 'from processing import *\\n\\ndef draw():\\n    s = loadShape(\"bot1.svg\")\\n    smooth()\\n    shape(s, 10, 10, 80, 80)\\n\\nrun()'; \n",
       "       var mypre = document.getElementById(\"output_\" + id); \n",
       "       mypre.innerHTML = ''; \n",
       "       Sk.canvas = \"canvas_\" + id;\n",
       "       Sk.pre = \"output_\" + id;\n",
       "       Sk.configure({output:outf_16, read:builtinRead, python3:false}); \n",
       "       var myPromise = Sk.misceval.asyncToPromise(function() {\n",
       "           return Sk.importMainWithBody(\"<stdin>\", false, prog, true);\n",
       "       });\n",
       "       myPromise.then(\n",
       "        function(mod) {\n",
       "            console.log('success');\n",
       "        },\n",
       "        function(err) {\n",
       "            alert(err.toString());\n",
       "        });\n",
       "    }\n",
       "    runit(16);\n",
       "  });\n",
       "});\n",
       "\n",
       "</script>\n"
      ],
      "text/plain": [
       "<IPython.core.display.HTML object>"
      ]
     },
     "metadata": {},
     "output_type": "display_data"
    }
   ],
   "source": [
    "from processing import *\n",
    "\n",
    "def draw():\n",
    "    s = loadShape(\"bot1.svg\")\n",
    "    smooth()\n",
    "    shape(s, 10, 10, 80, 80)\n",
    "\n",
    "run()"
   ]
  },
  {
   "cell_type": "code",
   "execution_count": 19,
   "metadata": {
    "collapsed": false
   },
   "outputs": [
    {
     "data": {
      "text/html": [
       "\n",
       "<div id='canvas_div_17'>\n",
       "      <pre id='output_17' ></pre>\n",
       "      <div id='canvas_17'></div><br/>\n",
       "</div>\n",
       "<script>\n",
       "/*\n",
       "var component = document.getElementById(\"output_17\");\n",
       "if (component != undefined)\n",
       "    component.remove();\n",
       "component = document.getElementById(\"canvas_div_17\");\n",
       "if (component != undefined)\n",
       "    component.remove();\n",
       "\n",
       "$(\"<div id='canvas_div_17'>       <pre id='output_17' ></pre>       <div id='canvas_17'></div><br/>    </div>\").appendTo('body');    \n",
       "*/\n",
       "require([window.location.protocol + \"//calysto.github.io/javascripts/skulpt/skulpt.min.js\",\n",
       "         window.location.protocol + \"//calysto.github.io/javascripts/processing/processing.js\"], function () {\n",
       "  require([window.location.protocol + \"//calysto.github.io/javascripts/skulpt/skulpt-stdlib.js\"], function () {\n",
       "    function outf_17(text) {\n",
       "        var mypre = document.getElementById(\"output_17\"); \n",
       "        mypre.innerHTML = mypre.innerHTML + text; \n",
       "    }\n",
       "    function builtinRead(x) {\n",
       "        if (Sk.builtinFiles === undefined || \n",
       "            Sk.builtinFiles[\"files\"][x] === undefined)\n",
       "            throw \"File not found: '\" + x + \"'\";\n",
       "        return Sk.builtinFiles[\"files\"][x];\n",
       "    }\n",
       "    function runit(id) { \n",
       "       var prog = 'from processing import *\\n        \\ndef setup():\\n    size(512, 512, WEBGL)\\n\\ndef draw():\\n    rect(screen.width / 2, screen.height / 2, 100, 100)\\n\\nrun()'; \n",
       "       var mypre = document.getElementById(\"output_\" + id); \n",
       "       mypre.innerHTML = ''; \n",
       "       Sk.canvas = \"canvas_\" + id;\n",
       "       Sk.pre = \"output_\" + id;\n",
       "       Sk.configure({output:outf_17, read:builtinRead, python3:false}); \n",
       "       var myPromise = Sk.misceval.asyncToPromise(function() {\n",
       "           return Sk.importMainWithBody(\"<stdin>\", false, prog, true);\n",
       "       });\n",
       "       myPromise.then(\n",
       "        function(mod) {\n",
       "            console.log('success');\n",
       "        },\n",
       "        function(err) {\n",
       "            alert(err.toString());\n",
       "        });\n",
       "    }\n",
       "    runit(17);\n",
       "  });\n",
       "});\n",
       "\n",
       "</script>\n"
      ],
      "text/plain": [
       "<IPython.core.display.HTML object>"
      ]
     },
     "metadata": {},
     "output_type": "display_data"
    }
   ],
   "source": [
    "from processing import *\n",
    "        \n",
    "def setup():\n",
    "    size(512, 512, WEBGL)\n",
    "\n",
    "def draw():\n",
    "    rect(screen.width / 2, screen.height / 2, 100, 100)\n",
    "\n",
    "run()"
   ]
  },
  {
   "cell_type": "code",
   "execution_count": null,
   "metadata": {
    "collapsed": true
   },
   "outputs": [],
   "source": []
  }
 ],
 "metadata": {
  "kernelspec": {
   "display_name": "Skulpt Python",
   "language": "python",
   "name": "skulpt_python"
  },
  "language_info": {
   "codemirror_mode": {
    "name": "text/x-python",
    "version": 2
   },
   "file_extension": ".py",
   "mimetype": "text/x-python",
   "name": "python"
  }
 },
 "nbformat": 4,
 "nbformat_minor": 0
}
