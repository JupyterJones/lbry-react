{
 "cells": [
  {
   "cell_type": "markdown",
   "metadata": {},
   "source": [
    "# NBGrader Notes"
   ]
  },
  {
   "cell_type": "code",
   "execution_count": null,
   "metadata": {
    "collapsed": false,
    "nbgrader": {
     "grade": false,
     "grade_id": "1",
     "locked": false,
     "solution": false
    }
   },
   "outputs": [],
   "source": [
    "!nbgrader extension install"
   ]
  },
  {
   "cell_type": "code",
   "execution_count": null,
   "metadata": {
    "collapsed": false,
    "nbgrader": {
     "grade": false,
     "grade_id": "2",
     "locked": false,
     "solution": false
    }
   },
   "outputs": [],
   "source": [
    "!nbgrader extension activate"
   ]
  },
  {
   "cell_type": "code",
   "execution_count": null,
   "metadata": {
    "collapsed": true
   },
   "outputs": [],
   "source": [
    "%%bash\n",
    "\n",
    "nbgrader extension install\n",
    "for user in $USERS; do\n",
    "    cd $HOME/$user\n",
    "    sudo -U $user nbgrader extension activate\n",
    "done"
   ]
  },
  {
   "cell_type": "markdown",
   "metadata": {},
   "source": [
    "Restart Server"
   ]
  },
  {
   "cell_type": "code",
   "execution_count": null,
   "metadata": {
    "collapsed": true
   },
   "outputs": [],
   "source": [
    "! mkdir -p ~/nbgrader/cs245"
   ]
  },
  {
   "cell_type": "markdown",
   "metadata": {},
   "source": [
    "Put this notebook there. Reopen, for next command."
   ]
  },
  {
   "cell_type": "code",
   "execution_count": null,
   "metadata": {
    "collapsed": false,
    "format": "row"
   },
   "outputs": [],
   "source": [
    "%%file nbgrader_config.py\n",
    "\n",
    "c = get_config()\n",
    "\n",
    "c.NbGrader.course_id = \"cs245\"\n",
    "c.TransferApp.exchange_directory = \"/opt/nbgrader/exchange/\""
   ]
  },
  {
   "cell_type": "code",
   "execution_count": null,
   "metadata": {
    "collapsed": false,
    "nbgrader": {
     "grade": false,
     "grade_id": "3",
     "locked": false,
     "solution": false
    }
   },
   "outputs": [],
   "source": [
    "import os\n",
    "\n",
    "if not os.path.exists(\"release\"):\n",
    "    os.makedirs(\"release\")\n",
    "\n",
    "if not os.path.exists(\"source/cs245-lab01\"):\n",
    "    os.makedirs(\"source/cs245-lab01\")"
   ]
  },
  {
   "cell_type": "code",
   "execution_count": null,
   "metadata": {
    "collapsed": true
   },
   "outputs": [],
   "source": [
    "import os\n",
    "\n",
    "# remove an existing database\n",
    "if os.path.exists(\"gradebook.db\"):\n",
    "    os.remove(\"gradebook.db\")"
   ]
  },
  {
   "cell_type": "code",
   "execution_count": null,
   "metadata": {
    "collapsed": false
   },
   "outputs": [],
   "source": [
    "#import shutil\n",
    "#import os\n",
    "#\n",
    "#if os.path.exists(\"release/cs206-assignment01\"):\n",
    "#    shutil.rmtree('release/cs206-assignment01')\n"
   ]
  },
  {
   "cell_type": "code",
   "execution_count": null,
   "metadata": {
    "collapsed": false
   },
   "outputs": [],
   "source": [
    "# create a connection to the db using the nbgrader API\n",
    "from nbgrader.api import Gradebook\n",
    "gb = Gradebook(\"sqlite:///gradebook.db\")"
   ]
  },
  {
   "cell_type": "code",
   "execution_count": null,
   "metadata": {
    "collapsed": false
   },
   "outputs": [],
   "source": [
    "# add some students to the database\n",
    "gb.add_student(\"dblank\", first_name=\"Douglas\", last_name=\"Blank\")"
   ]
  },
  {
   "cell_type": "code",
   "execution_count": null,
   "metadata": {
    "collapsed": false
   },
   "outputs": [],
   "source": [
    "# add the assignment to the database and specify a due date\n",
    "gb.add_assignment(\"cs245-lab02\", duedate=\"2016-12-09 17:00:00.000000 PST\")\n",
    "#gb.remove_assignment(\"cs206-assignment01\")"
   ]
  },
  {
   "cell_type": "markdown",
   "metadata": {},
   "source": [
    "# Edit nbgrader_config.py\n",
    "\n",
    "Add assignment:\n",
    "\n",
    "```python\n",
    "c.NbGrader.db_assignments = [dict(name=\"cs245-lab01\"), dict(name=\"cs245-lab02\")]\n",
    "```"
   ]
  },
  {
   "cell_type": "code",
   "execution_count": null,
   "metadata": {
    "collapsed": false
   },
   "outputs": [],
   "source": [
    "! nbgrader assign \"cs245-lab02\""
   ]
  },
  {
   "cell_type": "code",
   "execution_count": null,
   "metadata": {
    "collapsed": false
   },
   "outputs": [],
   "source": [
    "! nbgrader release \"cs245-lab02\""
   ]
  },
  {
   "cell_type": "code",
   "execution_count": null,
   "metadata": {
    "collapsed": false
   },
   "outputs": [],
   "source": [
    "! nbgrader list"
   ]
  },
  {
   "cell_type": "code",
   "execution_count": null,
   "metadata": {
    "collapsed": false
   },
   "outputs": [],
   "source": [
    "! nbgrader collect \"cs206-assignment01\" --update"
   ]
  }
 ],
 "metadata": {
  "kernelspec": {
   "display_name": "Python 3",
   "language": "python",
   "name": "python3"
  },
  "language_info": {
   "codemirror_mode": {
    "name": "ipython",
    "version": 3
   },
   "file_extension": ".py",
   "mimetype": "text/x-python",
   "name": "python",
   "nbconvert_exporter": "python",
   "pygments_lexer": "ipython3",
   "version": "3.5.2"
  }
 },
 "nbformat": 4,
 "nbformat_minor": 0
}
