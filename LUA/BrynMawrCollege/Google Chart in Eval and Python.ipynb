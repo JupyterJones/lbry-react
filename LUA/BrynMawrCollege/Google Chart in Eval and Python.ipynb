{
 "metadata": {
  "kernelspec": {
   "codemirror_mode": "python",
   "display_name": "Eval",
   "language": "python",
   "name": "eval_kernel"
  },
  "name": "",
  "signature": "sha256:dab0489dbef5c8b8b38f6f7b02ab2c2f309d31ea4761511cc5ca7302e1f05879"
 },
 "nbformat": 3,
 "nbformat_minor": 0,
 "worksheets": [
  {
   "cells": [
    {
     "cell_type": "code",
     "collapsed": false,
     "input": [
      "from calico.widgets import GoogleChart\n",
      "from calico.display import display"
     ],
     "language": "python",
     "metadata": {},
     "outputs": [],
     "prompt_number": 28
    },
    {
     "cell_type": "code",
     "collapsed": false,
     "input": [
      "gc = GoogleChart(\"BarChart\", keys=['Year', 'Sales', 'Expenses'], \n",
      "             data=[['2004',  1000,      400],\n",
      "                   ['2005',  1170,      460],\n",
      "                   ['2006',  660,       1120],\n",
      "                   ['2007',  1030,      540]], \n",
      "             title='Company Performance', \n",
      "             vAxis={\"title\": 'Year',  \"titleTextStyle\": {\"color\": 'red'}})\n",
      "display(gc)"
     ],
     "language": "python",
     "metadata": {},
     "outputs": [
      {
       "html": [
        "\n",
        "<div id=\"chart_div_12\" style=\"height: 400px;\"></div>\n",
        "\n",
        "<script type=\"text/javascript\">\n",
        "        require(['https://www.google.com/jsapi'], function () {\n",
        "          function drawChart() {                \n",
        "            var chart = new google.visualization.BarChart(document.getElementById('chart_div_12'));\n",
        "\n",
        "            var data = google.visualization.arrayToDataTable([['Year', 'Sales', 'Expenses'], ['2004', 1000, 400], ['2005', 1170, 460], ['2006', 660, 1120], ['2007', 1030, 540]]);\n",
        "            var options = {'vAxis': {'titleTextStyle': {'color': 'red'}, 'title': 'Year'}, 'title': 'Company Performance'};\n",
        "            chart.draw(data, options);\n",
        "        };\n",
        "        google.load('visualization', '1.0', {'callback': drawChart, 'packages':['corechart']});\n",
        "        });\n",
        "</script>"
       ],
       "metadata": {},
       "output_type": "display_data",
       "text": [
        "<calico.widgets.googlechart.GoogleChart object at 0x7f63057c73d0>"
       ]
      }
     ],
     "prompt_number": 29
    },
    {
     "cell_type": "code",
     "collapsed": false,
     "input": [
      "gc = GoogleChart(\"BarChart\", data=\n",
      "                  [['2004', 1000,      400],\n",
      "                   ['2005', 1170,      460],\n",
      "                   ['2006', 660,       1120],\n",
      "                   ['2007', 1030,      540]], \n",
      "             title='Company Performance', \n",
      "             vAxis={\"title\": 'Year',  \"titleTextStyle\": {\"color\": 'red'}})\n",
      "display(gc)"
     ],
     "language": "python",
     "metadata": {},
     "outputs": [
      {
       "html": [
        "\n",
        "<div id=\"chart_div_13\" style=\"height: 400px;\"></div>\n",
        "\n",
        "<script type=\"text/javascript\">\n",
        "        require(['https://www.google.com/jsapi'], function () {\n",
        "          function drawChart() {                \n",
        "            var chart = new google.visualization.BarChart(document.getElementById('chart_div_13'));\n",
        "\n",
        "            var data = google.visualization.arrayToDataTable([['', '', ''], ['2004', 1000, 400], ['2005', 1170, 460], ['2006', 660, 1120], ['2007', 1030, 540]]);\n",
        "            var options = {'vAxis': {'titleTextStyle': {'color': 'red'}, 'title': 'Year'}, 'title': 'Company Performance'};\n",
        "            chart.draw(data, options);\n",
        "        };\n",
        "        google.load('visualization', '1.0', {'callback': drawChart, 'packages':['corechart']});\n",
        "        });\n",
        "</script>"
       ],
       "metadata": {},
       "output_type": "display_data",
       "text": [
        "<calico.widgets.googlechart.GoogleChart object at 0x7f63057c7350>"
       ]
      }
     ],
     "prompt_number": 30
    },
    {
     "cell_type": "code",
     "collapsed": false,
     "input": [
      "gc = GoogleChart(\"ScatterChart\", data=\n",
      "             [[1000,      400],\n",
      "              [1170,      460],\n",
      "              [660,       1120],\n",
      "              [1030,      540]], \n",
      "             title='Company Performance', \n",
      "             vAxis={\"title\": 'Year',  \"titleTextStyle\": {\"color\": 'red'}})\n",
      "display(gc)"
     ],
     "language": "python",
     "metadata": {},
     "outputs": [
      {
       "html": [
        "\n",
        "<div id=\"chart_div_15\" style=\"height: 400px;\"></div>\n",
        "\n",
        "<script type=\"text/javascript\">\n",
        "        require(['https://www.google.com/jsapi'], function () {\n",
        "          function drawChart() {                \n",
        "            var chart = new google.visualization.ScatterChart(document.getElementById('chart_div_15'));\n",
        "\n",
        "            var data = google.visualization.arrayToDataTable([['', ''], [1000, 400], [1170, 460], [660, 1120], [1030, 540]]);\n",
        "            var options = {'vAxis': {'titleTextStyle': {'color': 'red'}, 'title': 'Year'}, 'title': 'Company Performance'};\n",
        "            chart.draw(data, options);\n",
        "        };\n",
        "        google.load('visualization', '1.0', {'callback': drawChart, 'packages':['corechart']});\n",
        "        });\n",
        "</script>"
       ],
       "metadata": {},
       "output_type": "display_data",
       "text": [
        "<calico.widgets.googlechart.GoogleChart object at 0x7f63057c73d0>"
       ]
      }
     ],
     "prompt_number": 32
    },
    {
     "cell_type": "code",
     "collapsed": false,
     "input": [
      "GoogleChart(\"Histogram\", data=[6, 7, 8, 9, 3, 2, 6])"
     ],
     "language": "python",
     "metadata": {},
     "outputs": [
      {
       "html": [
        "\n",
        "<div id=\"chart_div_16\" style=\"height: 400px;\"></div>\n",
        "\n",
        "<script type=\"text/javascript\">\n",
        "        require(['https://www.google.com/jsapi'], function () {\n",
        "          function drawChart() {                \n",
        "            var chart = new google.visualization.Histogram(document.getElementById('chart_div_16'));\n",
        "\n",
        "            var data = google.visualization.arrayToDataTable([['', ''], [0, 6], [1, 7], [2, 8], [3, 9], [4, 3], [5, 2], [6, 6]]);\n",
        "            var options = {};\n",
        "            chart.draw(data, options);\n",
        "        };\n",
        "        google.load('visualization', '1.0', {'callback': drawChart, 'packages':['corechart']});\n",
        "        });\n",
        "</script>"
       ],
       "metadata": {},
       "output_type": "pyout",
       "prompt_number": 33,
       "text": [
        "<calico.widgets.googlechart.GoogleChart object at 0x7f63057c7350>"
       ]
      }
     ],
     "prompt_number": 33
    },
    {
     "cell_type": "code",
     "collapsed": false,
     "input": [
      "gc = GoogleChart(\"AreaChart\", data=[6, 7, 8, 9, 3, 2, 6])"
     ],
     "language": "python",
     "metadata": {},
     "outputs": [],
     "prompt_number": 34
    },
    {
     "cell_type": "code",
     "collapsed": false,
     "input": [
      "gc"
     ],
     "language": "python",
     "metadata": {},
     "outputs": [
      {
       "html": [
        "\n",
        "<div id=\"chart_div_17\" style=\"height: 400px;\"></div>\n",
        "\n",
        "<script type=\"text/javascript\">\n",
        "        require(['https://www.google.com/jsapi'], function () {\n",
        "          function drawChart() {                \n",
        "            var chart = new google.visualization.AreaChart(document.getElementById('chart_div_17'));\n",
        "\n",
        "            var data = google.visualization.arrayToDataTable([['', ''], [0, 6], [1, 7], [2, 8], [3, 9], [4, 3], [5, 2], [6, 6]]);\n",
        "            var options = {};\n",
        "            chart.draw(data, options);\n",
        "        };\n",
        "        google.load('visualization', '1.0', {'callback': drawChart, 'packages':['corechart']});\n",
        "        });\n",
        "</script>"
       ],
       "metadata": {},
       "output_type": "pyout",
       "prompt_number": 35,
       "text": [
        "<calico.widgets.googlechart.GoogleChart object at 0x7f63057c7610>"
       ]
      }
     ],
     "prompt_number": 35
    },
    {
     "cell_type": "code",
     "collapsed": false,
     "input": [
      "gc = GoogleChart(\"ScatterChart\", data=[6, 7, 8, 9, 3, 2, 6])"
     ],
     "language": "python",
     "metadata": {},
     "outputs": [],
     "prompt_number": 21
    },
    {
     "cell_type": "code",
     "collapsed": false,
     "input": [
      "gc"
     ],
     "language": "python",
     "metadata": {},
     "outputs": [
      {
       "html": [
        "\n",
        "<div id=\"chart_div_7\" style=\"height: 400px;\"></div>\n",
        "\n",
        "<script type=\"text/javascript\">\n",
        "        require(['https://www.google.com/jsapi'], function () {\n",
        "          function drawChart() {                \n",
        "            var chart = new google.visualization.ScatterChart(document.getElementById('chart_div_7'));\n",
        "\n",
        "            var data = google.visualization.arrayToDataTable([['', ''], [0, 6], [1, 7], [2, 8], [3, 9], [4, 3], [5, 2], [6, 6]]);\n",
        "            var options = {};\n",
        "            chart.draw(data, options);\n",
        "        };\n",
        "        google.load('visualization', '1.0', {'callback': drawChart, 'packages':['corechart']});\n",
        "        });\n",
        "</script>"
       ],
       "metadata": {},
       "output_type": "pyout",
       "prompt_number": 22,
       "text": [
        "<calico.widgets.googlechart.GoogleChart object at 0x7f63057c7450>"
       ]
      }
     ],
     "prompt_number": 22
    },
    {
     "cell_type": "code",
     "collapsed": false,
     "input": [
      "GoogleChart(\"PieChart\", data=[[\"Pie I have eaten\", .33], [\"Pie I have not yet eaten\", .67]])"
     ],
     "language": "python",
     "metadata": {},
     "outputs": [
      {
       "html": [
        "\n",
        "<div id=\"chart_div_8\" style=\"height: 400px;\"></div>\n",
        "\n",
        "<script type=\"text/javascript\">\n",
        "        require(['https://www.google.com/jsapi'], function () {\n",
        "          function drawChart() {                \n",
        "            var chart = new google.visualization.PieChart(document.getElementById('chart_div_8'));\n",
        "\n",
        "            var data = google.visualization.arrayToDataTable([['', ''], ['Pie I have eaten', 0.33], ['Pie I have not yet eaten', 0.67]]);\n",
        "            var options = {};\n",
        "            chart.draw(data, options);\n",
        "        };\n",
        "        google.load('visualization', '1.0', {'callback': drawChart, 'packages':['corechart']});\n",
        "        });\n",
        "</script>"
       ],
       "metadata": {},
       "output_type": "pyout",
       "prompt_number": 23,
       "text": [
        "<calico.widgets.googlechart.GoogleChart object at 0x7f63057c7510>"
       ]
      }
     ],
     "prompt_number": 23
    },
    {
     "cell_type": "code",
     "collapsed": false,
     "input": [
      "GoogleChart(\"LineChart\", data=[6, 7, 8, 9, 3, 2, 6])"
     ],
     "language": "python",
     "metadata": {},
     "outputs": [
      {
       "html": [
        "\n",
        "<div id=\"chart_div_9\" style=\"height: 400px;\"></div>\n",
        "\n",
        "<script type=\"text/javascript\">\n",
        "        require(['https://www.google.com/jsapi'], function () {\n",
        "          function drawChart() {                \n",
        "            var chart = new google.visualization.LineChart(document.getElementById('chart_div_9'));\n",
        "\n",
        "            var data = google.visualization.arrayToDataTable([['', ''], [0, 6], [1, 7], [2, 8], [3, 9], [4, 3], [5, 2], [6, 6]]);\n",
        "            var options = {};\n",
        "            chart.draw(data, options);\n",
        "        };\n",
        "        google.load('visualization', '1.0', {'callback': drawChart, 'packages':['corechart']});\n",
        "        });\n",
        "</script>"
       ],
       "metadata": {},
       "output_type": "pyout",
       "prompt_number": 24,
       "text": [
        "<calico.widgets.googlechart.GoogleChart object at 0x7f63057c7390>"
       ]
      }
     ],
     "prompt_number": 24
    },
    {
     "cell_type": "code",
     "collapsed": false,
     "input": [
      "GoogleChart(\"ColumnChart\", data=[6, 7, 8, 9, 3, 2, 6])"
     ],
     "language": "python",
     "metadata": {},
     "outputs": [
      {
       "html": [
        "\n",
        "<div id=\"chart_div_10\" style=\"height: 400px;\"></div>\n",
        "\n",
        "<script type=\"text/javascript\">\n",
        "        require(['https://www.google.com/jsapi'], function () {\n",
        "          function drawChart() {                \n",
        "            var chart = new google.visualization.ColumnChart(document.getElementById('chart_div_10'));\n",
        "\n",
        "            var data = google.visualization.arrayToDataTable([['', ''], [0, 6], [1, 7], [2, 8], [3, 9], [4, 3], [5, 2], [6, 6]]);\n",
        "            var options = {};\n",
        "            chart.draw(data, options);\n",
        "        };\n",
        "        google.load('visualization', '1.0', {'callback': drawChart, 'packages':['corechart']});\n",
        "        });\n",
        "</script>"
       ],
       "metadata": {},
       "output_type": "pyout",
       "prompt_number": 25,
       "text": [
        "<calico.widgets.googlechart.GoogleChart object at 0x7f63057c74d0>"
       ]
      }
     ],
     "prompt_number": 25
    },
    {
     "cell_type": "code",
     "collapsed": false,
     "input": [
      "GoogleChart(\"BarChart\", data=[6, 7, 8, 9, 3, 2, 6])"
     ],
     "language": "python",
     "metadata": {},
     "outputs": [
      {
       "html": [
        "\n",
        "<div id=\"chart_div_11\" style=\"height: 400px;\"></div>\n",
        "\n",
        "<script type=\"text/javascript\">\n",
        "        require(['https://www.google.com/jsapi'], function () {\n",
        "          function drawChart() {                \n",
        "            var chart = new google.visualization.BarChart(document.getElementById('chart_div_11'));\n",
        "\n",
        "            var data = google.visualization.arrayToDataTable([['', ''], [0, 6], [1, 7], [2, 8], [3, 9], [4, 3], [5, 2], [6, 6]]);\n",
        "            var options = {};\n",
        "            chart.draw(data, options);\n",
        "        };\n",
        "        google.load('visualization', '1.0', {'callback': drawChart, 'packages':['corechart']});\n",
        "        });\n",
        "</script>"
       ],
       "metadata": {},
       "output_type": "pyout",
       "prompt_number": 26,
       "text": [
        "<calico.widgets.googlechart.GoogleChart object at 0x7f63057c7550>"
       ]
      }
     ],
     "prompt_number": 26
    }
   ],
   "metadata": {}
  }
 ]
}