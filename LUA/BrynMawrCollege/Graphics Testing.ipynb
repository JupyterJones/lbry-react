{
 "cells": [
  {
   "cell_type": "code",
   "execution_count": 1,
   "metadata": {
    "collapsed": false
   },
   "outputs": [],
   "source": [
    "import calysto.graphics as graphics"
   ]
  },
  {
   "cell_type": "code",
   "execution_count": 2,
   "metadata": {
    "collapsed": true
   },
   "outputs": [],
   "source": [
    "canvas = graphics.Canvas(size=(600, 200))"
   ]
  },
  {
   "cell_type": "code",
   "execution_count": 3,
   "metadata": {
    "collapsed": false
   },
   "outputs": [
    {
     "data": {
      "image/png": "[encoded data removed]",
      "image/svg+xml": [
       "<svg baseProfile=\"full\" height=\"200\" version=\"1.1\" width=\"600\" xmlns=\"http://www.w3.org/2000/svg\" xmlns:ev=\"http://www.w3.org/2001/xml-events\" xmlns:xlink=\"http://www.w3.org/1999/xlink\"><defs /></svg>"
      ],
      "text/plain": [
       "<Canvas (600, 200)>"
      ]
     },
     "execution_count": 3,
     "metadata": {},
     "output_type": "execute_result"
    }
   ],
   "source": [
    "canvas"
   ]
  },
  {
   "cell_type": "code",
   "execution_count": 6,
   "metadata": {
    "collapsed": false
   },
   "outputs": [
    {
     "data": {
      "image/png": "[encoded data removed]",
      "image/svg+xml": [
       "<svg baseProfile=\"full\" height=\"200\" version=\"1.1\" width=\"600\" xmlns=\"http://www.w3.org/2000/svg\" xmlns:ev=\"http://www.w3.org/2001/xml-events\" xmlns:xlink=\"http://www.w3.org/1999/xlink\"><defs /><rect fill=\"purple\" height=\"50\" stroke=\"black\" stroke-width=\"1\" width=\"50\" x=\"10\" y=\"10\" /><text x=\"10\" y=\"180\">1</text><rect fill=\"purple\" height=\"50\" stroke=\"black\" stroke-width=\"1\" width=\"50\" x=\"100\" y=\"100\" /></svg>"
      ],
      "text/plain": [
       "<Canvas (600, 200)>"
      ]
     },
     "execution_count": 6,
     "metadata": {},
     "output_type": "execute_result"
    }
   ],
   "source": [
    "canvas.draw(graphics.Rectangle((100,100), (50,50)))"
   ]
  },
  {
   "cell_type": "code",
   "execution_count": 5,
   "metadata": {
    "collapsed": false
   },
   "outputs": [
    {
     "data": {
      "image/png": "[encoded data removed]",
      "image/svg+xml": [
       "<svg baseProfile=\"full\" height=\"200\" version=\"1.1\" width=\"600\" xmlns=\"http://www.w3.org/2000/svg\" xmlns:ev=\"http://www.w3.org/2001/xml-events\" xmlns:xlink=\"http://www.w3.org/1999/xlink\"><defs /><rect fill=\"purple\" height=\"50\" stroke=\"black\" stroke-width=\"1\" width=\"50\" x=\"10\" y=\"10\" /><text x=\"10\" y=\"180\">1</text></svg>"
      ],
      "text/plain": [
       "<Canvas (600, 200)>"
      ]
     },
     "execution_count": 5,
     "metadata": {},
     "output_type": "execute_result"
    }
   ],
   "source": [
    "canvas.draw(graphics.Text(\"1\", (10,180)))"
   ]
  },
  {
   "cell_type": "code",
   "execution_count": 7,
   "metadata": {
    "collapsed": true
   },
   "outputs": [],
   "source": [
    "rect = graphics.Rectangle((300,100), (50,50))"
   ]
  },
  {
   "cell_type": "code",
   "execution_count": 8,
   "metadata": {
    "collapsed": false
   },
   "outputs": [
    {
     "data": {
      "image/png": "[encoded data removed]",
      "image/svg+xml": [
       "<svg baseProfile=\"full\" height=\"200\" version=\"1.1\" width=\"600\" xmlns=\"http://www.w3.org/2000/svg\" xmlns:ev=\"http://www.w3.org/2001/xml-events\" xmlns:xlink=\"http://www.w3.org/1999/xlink\"><defs /><rect fill=\"purple\" height=\"50\" stroke=\"black\" stroke-width=\"1\" width=\"50\" x=\"10\" y=\"10\" /><text x=\"10\" y=\"180\">1</text><rect fill=\"purple\" height=\"50\" stroke=\"black\" stroke-width=\"1\" width=\"50\" x=\"100\" y=\"100\" /><rect fill=\"purple\" height=\"50\" stroke=\"black\" stroke-width=\"1\" width=\"50\" x=\"300\" y=\"100\" /></svg>"
      ],
      "text/plain": [
       "<Canvas (600, 200)>"
      ]
     },
     "execution_count": 8,
     "metadata": {},
     "output_type": "execute_result"
    }
   ],
   "source": [
    "rect.draw(canvas)"
   ]
  },
  {
   "cell_type": "code",
   "execution_count": 9,
   "metadata": {
    "collapsed": true
   },
   "outputs": [],
   "source": [
    "rect.fill(\"red\")"
   ]
  },
  {
   "cell_type": "code",
   "execution_count": 10,
   "metadata": {
    "collapsed": false
   },
   "outputs": [
    {
     "data": {
      "image/png": "[encoded data removed]",
      "image/svg+xml": [
       "<svg baseProfile=\"full\" height=\"200\" version=\"1.1\" width=\"600\" xmlns=\"http://www.w3.org/2000/svg\" xmlns:ev=\"http://www.w3.org/2001/xml-events\" xmlns:xlink=\"http://www.w3.org/1999/xlink\"><defs /><rect fill=\"purple\" height=\"50\" stroke=\"black\" stroke-width=\"1\" width=\"50\" x=\"10\" y=\"10\" /><text x=\"10\" y=\"180\">1</text><rect fill=\"purple\" height=\"50\" stroke=\"black\" stroke-width=\"1\" width=\"50\" x=\"100\" y=\"100\" /><rect fill=\"red\" height=\"50\" stroke=\"black\" stroke-width=\"1\" width=\"50\" x=\"300\" y=\"100\" /></svg>"
      ],
      "text/plain": [
       "<Canvas (600, 200)>"
      ]
     },
     "execution_count": 10,
     "metadata": {},
     "output_type": "execute_result"
    }
   ],
   "source": [
    "canvas"
   ]
  },
  {
   "cell_type": "code",
   "execution_count": 13,
   "metadata": {
    "collapsed": false
   },
   "outputs": [
    {
     "name": "stdout",
     "output_type": "stream",
     "text": [
      "Help on method stroke in module calysto.graphics:\n",
      "\n",
      "stroke(color) method of calysto.graphics.Rectangle instance\n",
      "\n"
     ]
    }
   ],
   "source": [
    "rect.stroke?"
   ]
  },
  {
   "cell_type": "code",
   "execution_count": 12,
   "metadata": {
    "collapsed": false
   },
   "outputs": [
    {
     "data": {
      "image/png": "[encoded data removed]",
      "image/svg+xml": [
       "<svg baseProfile=\"full\" height=\"200\" version=\"1.1\" width=\"600\" xmlns=\"http://www.w3.org/2000/svg\" xmlns:ev=\"http://www.w3.org/2001/xml-events\" xmlns:xlink=\"http://www.w3.org/1999/xlink\"><defs /><rect fill=\"purple\" height=\"50\" stroke=\"black\" stroke-width=\"1\" width=\"50\" x=\"10\" y=\"10\" /><text x=\"10\" y=\"180\">1</text><rect fill=\"purple\" height=\"50\" stroke=\"black\" stroke-width=\"1\" width=\"50\" x=\"100\" y=\"100\" /><rect fill=\"red\" height=\"50\" stroke=\"red\" stroke-width=\"1\" width=\"50\" x=\"300\" y=\"100\" /></svg>"
      ],
      "text/plain": [
       "<Canvas (600, 200)>"
      ]
     },
     "execution_count": 12,
     "metadata": {},
     "output_type": "execute_result"
    }
   ],
   "source": [
    "canvas"
   ]
  },
  {
   "cell_type": "code",
   "execution_count": 14,
   "metadata": {
    "collapsed": true
   },
   "outputs": [],
   "source": [
    "rect.fill(graphics.Color(0, 0, 0, 0))"
   ]
  },
  {
   "cell_type": "code",
   "execution_count": 15,
   "metadata": {
    "collapsed": false
   },
   "outputs": [
    {
     "data": {
      "image/png": "[encoded data removed]",
      "image/svg+xml": [
       "<svg baseProfile=\"full\" height=\"200\" version=\"1.1\" width=\"600\" xmlns=\"http://www.w3.org/2000/svg\" xmlns:ev=\"http://www.w3.org/2001/xml-events\" xmlns:xlink=\"http://www.w3.org/1999/xlink\"><defs /><rect fill=\"purple\" height=\"50\" stroke=\"black\" stroke-width=\"1\" width=\"50\" x=\"10\" y=\"10\" /><text x=\"10\" y=\"180\">1</text><rect fill=\"purple\" height=\"50\" stroke=\"black\" stroke-width=\"1\" width=\"50\" x=\"100\" y=\"100\" /><rect fill=\"&lt;calysto.graphics.Color object at 0x7fd2f2726a90&gt;\" height=\"50\" stroke=\"red\" stroke-width=\"1\" width=\"50\" x=\"300\" y=\"100\" /></svg>"
      ],
      "text/plain": [
       "<Canvas (600, 200)>"
      ]
     },
     "execution_count": 15,
     "metadata": {},
     "output_type": "execute_result"
    }
   ],
   "source": [
    "canvas"
   ]
  },
  {
   "cell_type": "code",
   "execution_count": 17,
   "metadata": {
    "collapsed": false
   },
   "outputs": [
    {
     "data": {
      "image/png": "[encoded data removed]",
      "image/svg+xml": [
       "<svg baseProfile=\"full\" height=\"200\" version=\"1.1\" width=\"600\" xmlns=\"http://www.w3.org/2000/svg\" xmlns:ev=\"http://www.w3.org/2001/xml-events\" xmlns:xlink=\"http://www.w3.org/1999/xlink\"><defs /><rect fill=\"purple\" height=\"50\" stroke=\"black\" stroke-width=\"1\" width=\"50\" x=\"10\" y=\"10\" /><text x=\"10\" y=\"180\">1</text><rect fill=\"purple\" height=\"50\" stroke=\"black\" stroke-width=\"1\" width=\"50\" x=\"100\" y=\"100\" /><rect fill=\"&lt;calysto.graphics.Color object at 0x7fd2f2726a90&gt;\" height=\"50\" stroke=\"red\" stroke-width=\"1\" width=\"50\" x=\"300\" y=\"100\" /><rect fill=\"purple\" height=\"50\" stroke=\"black\" stroke-width=\"1\" width=\"50\" x=\"250\" y=\"90\" /><rect fill=\"purple\" height=\"50\" stroke=\"black\" stroke-width=\"1\" width=\"50\" x=\"270\" y=\"90\" /></svg>"
      ],
      "text/plain": [
       "<Canvas (600, 200)>"
      ]
     },
     "execution_count": 17,
     "metadata": {},
     "output_type": "execute_result"
    }
   ],
   "source": [
    "canvas.draw(graphics.Rectangle((270, 90), (50, 50)))"
   ]
  },
  {
   "cell_type": "code",
   "execution_count": 18,
   "metadata": {
    "collapsed": false
   },
   "outputs": [
    {
     "data": {
      "image/png": "[encoded data removed]",
      "image/svg+xml": [
       "<svg baseProfile=\"full\" height=\"200\" version=\"1.1\" width=\"600\" xmlns=\"http://www.w3.org/2000/svg\" xmlns:ev=\"http://www.w3.org/2001/xml-events\" xmlns:xlink=\"http://www.w3.org/1999/xlink\"><defs /><rect fill=\"purple\" height=\"50\" stroke=\"black\" stroke-width=\"1\" width=\"50\" x=\"10\" y=\"10\" /><text x=\"10\" y=\"180\">1</text><rect fill=\"purple\" height=\"50\" stroke=\"black\" stroke-width=\"1\" width=\"50\" x=\"100\" y=\"100\" /><rect fill=\"&lt;calysto.graphics.Color object at 0x7fd2f2726a90&gt;\" height=\"50\" stroke=\"red\" stroke-width=\"1\" width=\"50\" x=\"300\" y=\"100\" /><rect fill=\"purple\" height=\"50\" stroke=\"black\" stroke-width=\"1\" width=\"50\" x=\"250\" y=\"90\" /><rect fill=\"purple\" height=\"50\" stroke=\"black\" stroke-width=\"1\" width=\"50\" x=\"270\" y=\"90\" /></svg>"
      ],
      "text/plain": [
       "<Canvas (600, 200)>"
      ]
     },
     "execution_count": 18,
     "metadata": {},
     "output_type": "execute_result"
    }
   ],
   "source": [
    "rect.move((0,0))"
   ]
  },
  {
   "cell_type": "code",
   "execution_count": 24,
   "metadata": {
    "collapsed": false
   },
   "outputs": [],
   "source": [
    "canvas.shapes.remove(rect)"
   ]
  },
  {
   "cell_type": "code",
   "execution_count": 25,
   "metadata": {
    "collapsed": false
   },
   "outputs": [
    {
     "data": {
      "image/png": "[encoded data removed]",
      "image/svg+xml": [
       "<svg baseProfile=\"full\" height=\"200\" version=\"1.1\" width=\"600\" xmlns=\"http://www.w3.org/2000/svg\" xmlns:ev=\"http://www.w3.org/2001/xml-events\" xmlns:xlink=\"http://www.w3.org/1999/xlink\"><defs /><rect fill=\"purple\" height=\"50\" stroke=\"black\" stroke-width=\"1\" width=\"50\" x=\"10\" y=\"10\" /><text x=\"10\" y=\"180\">1</text><rect fill=\"purple\" height=\"50\" stroke=\"black\" stroke-width=\"1\" width=\"50\" x=\"100\" y=\"100\" /><rect fill=\"purple\" height=\"50\" stroke=\"black\" stroke-width=\"1\" width=\"50\" x=\"250\" y=\"90\" /><rect fill=\"purple\" height=\"50\" stroke=\"black\" stroke-width=\"1\" width=\"50\" x=\"270\" y=\"90\" /></svg>"
      ],
      "text/plain": [
       "<Canvas (600, 200)>"
      ]
     },
     "execution_count": 25,
     "metadata": {},
     "output_type": "execute_result"
    }
   ],
   "source": [
    "canvas"
   ]
  },
  {
   "cell_type": "code",
   "execution_count": 26,
   "metadata": {
    "collapsed": true
   },
   "outputs": [],
   "source": [
    "canvas.shapes.insert(0, rect)"
   ]
  },
  {
   "cell_type": "code",
   "execution_count": 27,
   "metadata": {
    "collapsed": false
   },
   "outputs": [
    {
     "data": {
      "image/png": "[encoded data removed]",
      "image/svg+xml": [
       "<svg baseProfile=\"full\" height=\"200\" version=\"1.1\" width=\"600\" xmlns=\"http://www.w3.org/2000/svg\" xmlns:ev=\"http://www.w3.org/2001/xml-events\" xmlns:xlink=\"http://www.w3.org/1999/xlink\"><defs /><rect fill=\"&lt;calysto.graphics.Color object at 0x7fd2f2726a90&gt;\" height=\"50\" stroke=\"red\" stroke-width=\"1\" width=\"50\" x=\"300\" y=\"100\" /><rect fill=\"purple\" height=\"50\" stroke=\"black\" stroke-width=\"1\" width=\"50\" x=\"10\" y=\"10\" /><text x=\"10\" y=\"180\">1</text><rect fill=\"purple\" height=\"50\" stroke=\"black\" stroke-width=\"1\" width=\"50\" x=\"100\" y=\"100\" /><rect fill=\"purple\" height=\"50\" stroke=\"black\" stroke-width=\"1\" width=\"50\" x=\"250\" y=\"90\" /><rect fill=\"purple\" height=\"50\" stroke=\"black\" stroke-width=\"1\" width=\"50\" x=\"270\" y=\"90\" /></svg>"
      ],
      "text/plain": [
       "<Canvas (600, 200)>"
      ]
     },
     "execution_count": 27,
     "metadata": {},
     "output_type": "execute_result"
    }
   ],
   "source": [
    "canvas"
   ]
  },
  {
   "cell_type": "code",
   "execution_count": 31,
   "metadata": {
    "collapsed": false
   },
   "outputs": [],
   "source": [
    "canvas.shapes.sort(key=lambda shape: shape.start)"
   ]
  },
  {
   "cell_type": "code",
   "execution_count": 32,
   "metadata": {
    "collapsed": false
   },
   "outputs": [
    {
     "data": {
      "image/png": "[encoded data removed]",
      "image/svg+xml": [
       "<svg baseProfile=\"full\" height=\"200\" version=\"1.1\" width=\"600\" xmlns=\"http://www.w3.org/2000/svg\" xmlns:ev=\"http://www.w3.org/2001/xml-events\" xmlns:xlink=\"http://www.w3.org/1999/xlink\"><defs /><rect fill=\"purple\" height=\"50\" stroke=\"black\" stroke-width=\"1\" width=\"50\" x=\"10\" y=\"10\" /><text x=\"10\" y=\"180\">1</text><rect fill=\"purple\" height=\"50\" stroke=\"black\" stroke-width=\"1\" width=\"50\" x=\"100\" y=\"100\" /><rect fill=\"purple\" height=\"50\" stroke=\"black\" stroke-width=\"1\" width=\"50\" x=\"250\" y=\"90\" /><rect fill=\"purple\" height=\"50\" stroke=\"black\" stroke-width=\"1\" width=\"50\" x=\"270\" y=\"90\" /><rect fill=\"&lt;calysto.graphics.Color object at 0x7fd2f2726a90&gt;\" height=\"50\" stroke=\"red\" stroke-width=\"1\" width=\"50\" x=\"300\" y=\"100\" /></svg>"
      ],
      "text/plain": [
       "<Canvas (600, 200)>"
      ]
     },
     "execution_count": 32,
     "metadata": {},
     "output_type": "execute_result"
    }
   ],
   "source": [
    "canvas"
   ]
  },
  {
   "cell_type": "code",
   "execution_count": 33,
   "metadata": {
    "collapsed": false
   },
   "outputs": [
    {
     "data": {
      "text/plain": [
       "'noname.svg'"
      ]
     },
     "execution_count": 33,
     "metadata": {},
     "output_type": "execute_result"
    }
   ],
   "source": [
    "canvas.filename"
   ]
  },
  {
   "cell_type": "code",
   "execution_count": null,
   "metadata": {
    "collapsed": true
   },
   "outputs": [],
   "source": []
  }
 ],
 "metadata": {
  "kernelspec": {
   "display_name": "MetaKernel Python",
   "language": "python",
   "name": "metakernel_python"
  },
  "language_info": {
   "file_extension": ".py",
   "help_links": [
    {
     "text": "MetaKernel Magics",
     "url": "https://github.com/calysto/metakernel/blob/master/metakernel/magics/README.md"
    }
   ],
   "mimetype": "text/x-python",
   "name": "python"
  }
 },
 "nbformat": 4,
 "nbformat_minor": 0
}
