{
 "metadata": {
  "name": "",
  "signature": "sha256:cb9eaf84c8bc4ad8ba7eb7ba3747c43e40a612fdaab8e9176d3418493c0def5c"
 },
 "nbformat": 3,
 "nbformat_minor": 0,
 "worksheets": [
  {
   "cells": [
    {
     "cell_type": "code",
     "collapsed": false,
     "input": [
      "!wget http://www.wavsource.com/snds_2014-12-02_2358380582496563/people/women/arrete_toute_de_suite.wav"
     ],
     "language": "python",
     "metadata": {},
     "outputs": [
      {
       "output_type": "stream",
       "stream": "stdout",
       "text": [
        "--2014-12-08 16:44:54--  http://www.wavsource.com/snds_2014-12-02_2358380582496563/people/women/arrete_toute_de_suite.wav\n",
        "Resolving www.wavsource.com (www.wavsource.com)... 50.6.138.194\n",
        "Connecting to www.wavsource.com (www.wavsource.com)|50.6.138.194|:80... connected.\n",
        "HTTP request sent, awaiting response... 200 OK\n",
        "Length: 2956 (2.9K) [audio/x-wav]\n",
        "Saving to: \u2018arrete_toute_de_suite.wav\u2019\n",
        "\n",
        "100%[======================================>] 2,956       --.-K/s   in 0.02s   \n",
        "\n",
        "2014-12-08 16:44:54 (153 KB/s) - \u2018arrete_toute_de_suite.wav\u2019 saved [2956/2956]\n",
        "\n"
       ]
      }
     ],
     "prompt_number": 2
    },
    {
     "cell_type": "code",
     "collapsed": true,
     "input": [
      "from IPython.display import Audio"
     ],
     "language": "python",
     "metadata": {},
     "outputs": [],
     "prompt_number": 3
    },
    {
     "cell_type": "code",
     "collapsed": false,
     "input": [
      "Audio(\"arrete_toute_de_suite.wav\")"
     ],
     "language": "python",
     "metadata": {},
     "outputs": [
      {
       "html": [
        "\n",
        "                <audio controls=\"controls\" >\n",
        "                    <source src=\"data:audio/x-wav;base64,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\" type=\"audio/x-wav\" />\n",
        "                    Your browser does not support the audio element.\n",
        "                </audio>\n",
        "              "
       ],
       "metadata": {},
       "output_type": "pyout",
       "prompt_number": 4,
       "text": [
        "<IPython.lib.display.Audio object>"
       ]
      }
     ],
     "prompt_number": 4
    },
    {
     "cell_type": "code",
     "collapsed": true,
     "input": [
      "import scipy.io.wavfile as wav"
     ],
     "language": "python",
     "metadata": {},
     "outputs": [],
     "prompt_number": 1
    },
    {
     "cell_type": "code",
     "collapsed": false,
     "input": [
      "rate,sig=wav.read(\"arrete_toute_de_suite.wav\")"
     ],
     "language": "python",
     "metadata": {},
     "outputs": [
      {
       "output_type": "stream",
       "stream": "stderr",
       "text": [
        "/usr/lib/python2.7/dist-packages/scipy/io/wavfile.py:42: WavFileWarning: Unknown wave file format\n",
        "  warnings.warn(\"Unknown wave file format\", WavFileWarning)\n"
       ]
      },
      {
       "ename": "TypeError",
       "evalue": "data type \"<i0\" not understood",
       "output_type": "pyerr",
       "traceback": [
        "\u001b[1;31m---------------------------------------------------------------------------\u001b[0m",
        "\u001b[1;31mTypeError\u001b[0m                                 Traceback (most recent call last)",
        "\u001b[1;32m<ipython-input-5-81a61ef88efe>\u001b[0m in \u001b[0;36m<module>\u001b[1;34m()\u001b[0m\n\u001b[1;32m----> 1\u001b[1;33m \u001b[0mrate\u001b[0m\u001b[1;33m,\u001b[0m\u001b[0msig\u001b[0m\u001b[1;33m=\u001b[0m\u001b[0mwav\u001b[0m\u001b[1;33m.\u001b[0m\u001b[0mread\u001b[0m\u001b[1;33m(\u001b[0m\u001b[1;34m\"arrete_toute_de_suite.wav\"\u001b[0m\u001b[1;33m)\u001b[0m\u001b[1;33m\u001b[0m\u001b[0m\n\u001b[0m",
        "\u001b[1;32m/usr/lib/python2.7/dist-packages/scipy/io/wavfile.pyc\u001b[0m in \u001b[0;36mread\u001b[1;34m(filename, mmap)\u001b[0m\n\u001b[0;32m    164\u001b[0m                 \u001b[0m_skip_unknown_chunk\u001b[0m\u001b[1;33m(\u001b[0m\u001b[0mfid\u001b[0m\u001b[1;33m)\u001b[0m\u001b[1;33m\u001b[0m\u001b[0m\n\u001b[0;32m    165\u001b[0m             \u001b[1;32melif\u001b[0m \u001b[0mchunk_id\u001b[0m \u001b[1;33m==\u001b[0m \u001b[1;34mb'data'\u001b[0m\u001b[1;33m:\u001b[0m\u001b[1;33m\u001b[0m\u001b[0m\n\u001b[1;32m--> 166\u001b[1;33m                 \u001b[0mdata\u001b[0m \u001b[1;33m=\u001b[0m \u001b[0m_read_data_chunk\u001b[0m\u001b[1;33m(\u001b[0m\u001b[0mfid\u001b[0m\u001b[1;33m,\u001b[0m \u001b[0mcomp\u001b[0m\u001b[1;33m,\u001b[0m \u001b[0mnoc\u001b[0m\u001b[1;33m,\u001b[0m \u001b[0mbits\u001b[0m\u001b[1;33m,\u001b[0m \u001b[0mmmap\u001b[0m\u001b[1;33m=\u001b[0m\u001b[0mmmap\u001b[0m\u001b[1;33m)\u001b[0m\u001b[1;33m\u001b[0m\u001b[0m\n\u001b[0m\u001b[0;32m    167\u001b[0m             \u001b[1;32melif\u001b[0m \u001b[0mchunk_id\u001b[0m \u001b[1;33m==\u001b[0m \u001b[1;34mb'LIST'\u001b[0m\u001b[1;33m:\u001b[0m\u001b[1;33m\u001b[0m\u001b[0m\n\u001b[0;32m    168\u001b[0m                 \u001b[1;31m# Someday this could be handled properly but for now skip it\u001b[0m\u001b[1;33m\u001b[0m\u001b[1;33m\u001b[0m\u001b[0m\n",
        "\u001b[1;32m/usr/lib/python2.7/dist-packages/scipy/io/wavfile.pyc\u001b[0m in \u001b[0;36m_read_data_chunk\u001b[1;34m(fid, comp, noc, bits, mmap)\u001b[0m\n\u001b[0;32m     69\u001b[0m             \u001b[0mdtype\u001b[0m \u001b[1;33m+=\u001b[0m \u001b[1;34m'f%d'\u001b[0m \u001b[1;33m%\u001b[0m \u001b[0mbytes\u001b[0m\u001b[1;33m\u001b[0m\u001b[0m\n\u001b[0;32m     70\u001b[0m     \u001b[1;32mif\u001b[0m \u001b[1;32mnot\u001b[0m \u001b[0mmmap\u001b[0m\u001b[1;33m:\u001b[0m\u001b[1;33m\u001b[0m\u001b[0m\n\u001b[1;32m---> 71\u001b[1;33m         \u001b[0mdata\u001b[0m \u001b[1;33m=\u001b[0m \u001b[0mnumpy\u001b[0m\u001b[1;33m.\u001b[0m\u001b[0mfromstring\u001b[0m\u001b[1;33m(\u001b[0m\u001b[0mfid\u001b[0m\u001b[1;33m.\u001b[0m\u001b[0mread\u001b[0m\u001b[1;33m(\u001b[0m\u001b[0msize\u001b[0m\u001b[1;33m)\u001b[0m\u001b[1;33m,\u001b[0m \u001b[0mdtype\u001b[0m\u001b[1;33m=\u001b[0m\u001b[0mdtype\u001b[0m\u001b[1;33m)\u001b[0m\u001b[1;33m\u001b[0m\u001b[0m\n\u001b[0m\u001b[0;32m     72\u001b[0m     \u001b[1;32melse\u001b[0m\u001b[1;33m:\u001b[0m\u001b[1;33m\u001b[0m\u001b[0m\n\u001b[0;32m     73\u001b[0m         \u001b[0mstart\u001b[0m \u001b[1;33m=\u001b[0m \u001b[0mfid\u001b[0m\u001b[1;33m.\u001b[0m\u001b[0mtell\u001b[0m\u001b[1;33m(\u001b[0m\u001b[1;33m)\u001b[0m\u001b[1;33m\u001b[0m\u001b[0m\n",
        "\u001b[1;31mTypeError\u001b[0m: data type \"<i0\" not understood"
       ]
      }
     ],
     "prompt_number": 5
    },
    {
     "cell_type": "code",
     "collapsed": true,
     "input": [],
     "language": "python",
     "metadata": {},
     "outputs": []
    }
   ],
   "metadata": {}
  }
 ]
}