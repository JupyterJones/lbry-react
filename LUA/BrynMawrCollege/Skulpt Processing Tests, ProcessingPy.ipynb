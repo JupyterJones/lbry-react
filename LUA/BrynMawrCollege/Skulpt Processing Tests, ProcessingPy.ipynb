{
 "cells": [
  {
   "cell_type": "markdown",
   "metadata": {},
   "source": [
    "# 1. Skulpt Processing Tests, Processing.py"
   ]
  },
  {
   "cell_type": "markdown",
   "metadata": {},
   "source": [
    "These tests are from Processing.py\n",
    "\n",
    "http://py.processing.org/\n",
    "\n",
    "The titles below come from provided examples of the Downloaded Processing Examples in Python mode."
   ]
  },
  {
   "cell_type": "markdown",
   "metadata": {},
   "source": [
    "#Table of Contents\n",
    "* [1. Skulpt Processing Tests, Processing.py](#1.-Skulpt-Processing-Tests,-Processing.py)\n",
    "\t* [1.1 Basic/Form/Piechart](#1.1-Basic/Form/Piechart)\n",
    "\t* [1.2 Basics/Form/ShapePrimitives](#1.2-Basics/Form/ShapePrimitives)\n",
    "\t* [1.3 Basics/Form/Bezier](#1.3-Basics/Form/Bezier)\n"
   ]
  },
  {
   "cell_type": "markdown",
   "metadata": {},
   "source": [
    "## 1.1 Basic/Form/Piechart"
   ]
  },
  {
   "cell_type": "markdown",
   "metadata": {},
   "source": [
    "https://processing.org/examples/piechart.html"
   ]
  },
  {
   "cell_type": "code",
   "execution_count": 1,
   "metadata": {
    "collapsed": false
   },
   "outputs": [
    {
     "data": {
      "text/html": [
       "\n",
       "<div id='canvas_div_1'>\n",
       "      <pre id='output_1' ></pre>\n",
       "      <div id='canvas_1'></div><br/>\n",
       "</div>\n",
       "<script>\n",
       "/*\n",
       "var component = document.getElementById(\"output_1\");\n",
       "if (component != undefined)\n",
       "    component.remove();\n",
       "component = document.getElementById(\"canvas_div_1\");\n",
       "if (component != undefined)\n",
       "    component.remove();\n",
       "\n",
       "$(\"<div id='canvas_div_1'>       <pre id='output_1' ></pre>       <div id='canvas_1'></div><br/>    </div>\").appendTo('body');    \n",
       "*/\n",
       "require([window.location.protocol + \"//calysto.github.io/javascripts/skulpt/skulpt.min.js\",\n",
       "         window.location.protocol + \"//calysto.github.io/javascripts/processing/processing.js\"], function () {\n",
       "  require([window.location.protocol + \"//calysto.github.io/javascripts/skulpt/skulpt-stdlib.js\"], function () {\n",
       "    function outf_1(text) {\n",
       "        var mypre = document.getElementById(\"output_1\"); \n",
       "        mypre.innerHTML = mypre.innerHTML + text; \n",
       "    }\n",
       "    function builtinRead(x) {\n",
       "        if (Sk.builtinFiles === undefined || \n",
       "            Sk.builtinFiles[\"files\"][x] === undefined)\n",
       "            throw \"File not found: '\" + x + \"'\";\n",
       "        return Sk.builtinFiles[\"files\"][x];\n",
       "    }\n",
       "    function runit(id) { \n",
       "       var prog = '# Basics/Form/PieChart\\nfrom processing import *\\n\\nangles = (30, 10, 45, 35, 60, 38, 75, 67)\\n\\n\\ndef setup():\\n    size(640, 360)\\n    noStroke()\\n    noLoop()    # Run once and stop\\n\\n\\ndef draw():\\n    background(100)\\n    pieChart(300, angles)\\n\\n\\ndef pieChart(diameter, data):\\n    lastAngle = 0\\n    for i, angle in enumerate(data):\\n        gray = map(i, 0, len(data), 0, 255)\\n        fill(gray)\\n        arc(width() / 2, height() / 2, diameter, diameter,\\n            lastAngle, lastAngle + radians(angle))\\n        lastAngle += radians(angle)\\n\\nrun()'; \n",
       "       var mypre = document.getElementById(\"output_\" + id); \n",
       "       mypre.innerHTML = ''; \n",
       "       Sk.canvas = \"canvas_\" + id;\n",
       "       Sk.pre = \"output_\" + id;\n",
       "       Sk.configure({output:outf_1, read:builtinRead, python3:false}); \n",
       "       var myPromise = Sk.misceval.asyncToPromise(function() {\n",
       "           return Sk.importMainWithBody(\"<stdin>\", false, prog, true);\n",
       "       });\n",
       "       myPromise.then(\n",
       "        function(mod) {\n",
       "            console.log('success');\n",
       "        },\n",
       "        function(err) {\n",
       "            alert(err.toString());\n",
       "        });\n",
       "    }\n",
       "    runit(1);\n",
       "  });\n",
       "});\n",
       "\n",
       "</script>\n"
      ],
      "text/plain": [
       "<IPython.core.display.HTML object>"
      ]
     },
     "metadata": {},
     "output_type": "display_data"
    }
   ],
   "source": [
    "# Basics/Form/PieChart\n",
    "from processing import *\n",
    "\n",
    "angles = (30, 10, 45, 35, 60, 38, 75, 67)\n",
    "\n",
    "\n",
    "def setup():\n",
    "    size(640, 360)\n",
    "    noStroke()\n",
    "    noLoop()    # Run once and stop\n",
    "\n",
    "\n",
    "def draw():\n",
    "    background(100)\n",
    "    pieChart(300, angles)\n",
    "\n",
    "\n",
    "def pieChart(diameter, data):\n",
    "    lastAngle = 0\n",
    "    for i, angle in enumerate(data):\n",
    "        gray = map(i, 0, len(data), 0, 255)\n",
    "        fill(gray)\n",
    "        arc(width() / 2, height() / 2, diameter, diameter,\n",
    "            lastAngle, lastAngle + radians(angle))\n",
    "        lastAngle += radians(angle)\n",
    "\n",
    "run()"
   ]
  },
  {
   "cell_type": "markdown",
   "metadata": {},
   "source": [
    "## 1.2 Basics/Form/ShapePrimitives"
   ]
  },
  {
   "cell_type": "code",
   "execution_count": 2,
   "metadata": {
    "collapsed": false
   },
   "outputs": [
    {
     "data": {
      "text/html": [
       "\n",
       "<div id='canvas_div_2'>\n",
       "      <pre id='output_2' ></pre>\n",
       "      <div id='canvas_2'></div><br/>\n",
       "</div>\n",
       "<script>\n",
       "/*\n",
       "var component = document.getElementById(\"output_2\");\n",
       "if (component != undefined)\n",
       "    component.remove();\n",
       "component = document.getElementById(\"canvas_div_2\");\n",
       "if (component != undefined)\n",
       "    component.remove();\n",
       "\n",
       "$(\"<div id='canvas_div_2'>       <pre id='output_2' ></pre>       <div id='canvas_2'></div><br/>    </div>\").appendTo('body');    \n",
       "*/\n",
       "require([window.location.protocol + \"//calysto.github.io/javascripts/skulpt/skulpt.min.js\",\n",
       "         window.location.protocol + \"//calysto.github.io/javascripts/processing/processing.js\"], function () {\n",
       "  require([window.location.protocol + \"//calysto.github.io/javascripts/skulpt/skulpt-stdlib.js\"], function () {\n",
       "    function outf_2(text) {\n",
       "        var mypre = document.getElementById(\"output_2\"); \n",
       "        mypre.innerHTML = mypre.innerHTML + text; \n",
       "    }\n",
       "    function builtinRead(x) {\n",
       "        if (Sk.builtinFiles === undefined || \n",
       "            Sk.builtinFiles[\"files\"][x] === undefined)\n",
       "            throw \"File not found: '\" + x + \"'\";\n",
       "        return Sk.builtinFiles[\"files\"][x];\n",
       "    }\n",
       "    function runit(id) { \n",
       "       var prog = '# Basics/Form/ShapePrimitives\\nfrom processing import *\\n\\ndef setup():\\n    size(640, 360)\\n    background(0)\\n    noStroke()\\n    noLoop()\\n\\ndef draw():\\n    fill(204)\\n    triangle(18, 18, 18, 360, 81, 360)\\n    fill(102)\\n    rect(81, 81, 63, 63)\\n    fill(204)\\n    quad(189, 18, 216, 18, 216, 360, 144, 360)\\n    fill(255)\\n    ellipse(252, 144, 72, 72)\\n    fill(204)\\n    triangle(288, 18, 351, 360, 288, 360)\\n    fill(255)\\n    arc(479, 300, 280, 280, PI, TWO_PI)\\n\\nrun()'; \n",
       "       var mypre = document.getElementById(\"output_\" + id); \n",
       "       mypre.innerHTML = ''; \n",
       "       Sk.canvas = \"canvas_\" + id;\n",
       "       Sk.pre = \"output_\" + id;\n",
       "       Sk.configure({output:outf_2, read:builtinRead, python3:false}); \n",
       "       var myPromise = Sk.misceval.asyncToPromise(function() {\n",
       "           return Sk.importMainWithBody(\"<stdin>\", false, prog, true);\n",
       "       });\n",
       "       myPromise.then(\n",
       "        function(mod) {\n",
       "            console.log('success');\n",
       "        },\n",
       "        function(err) {\n",
       "            alert(err.toString());\n",
       "        });\n",
       "    }\n",
       "    runit(2);\n",
       "  });\n",
       "});\n",
       "\n",
       "</script>\n"
      ],
      "text/plain": [
       "<IPython.core.display.HTML object>"
      ]
     },
     "metadata": {},
     "output_type": "display_data"
    }
   ],
   "source": [
    "# Basics/Form/ShapePrimitives\n",
    "from processing import *\n",
    "\n",
    "def setup():\n",
    "    size(640, 360)\n",
    "    background(0)\n",
    "    noStroke()\n",
    "    noLoop()\n",
    "\n",
    "def draw():\n",
    "    fill(204)\n",
    "    triangle(18, 18, 18, 360, 81, 360)\n",
    "    fill(102)\n",
    "    rect(81, 81, 63, 63)\n",
    "    fill(204)\n",
    "    quad(189, 18, 216, 18, 216, 360, 144, 360)\n",
    "    fill(255)\n",
    "    ellipse(252, 144, 72, 72)\n",
    "    fill(204)\n",
    "    triangle(288, 18, 351, 360, 288, 360)\n",
    "    fill(255)\n",
    "    arc(479, 300, 280, 280, PI, TWO_PI)\n",
    "\n",
    "run()"
   ]
  },
  {
   "cell_type": "markdown",
   "metadata": {},
   "source": [
    "## 1.3 Basics/Form/Bezier"
   ]
  },
  {
   "cell_type": "code",
   "execution_count": 3,
   "metadata": {
    "collapsed": false
   },
   "outputs": [
    {
     "data": {
      "text/html": [
       "\n",
       "<div id='canvas_div_3'>\n",
       "      <pre id='output_3' ></pre>\n",
       "      <div id='canvas_3'></div><br/>\n",
       "</div>\n",
       "<script>\n",
       "/*\n",
       "var component = document.getElementById(\"output_3\");\n",
       "if (component != undefined)\n",
       "    component.remove();\n",
       "component = document.getElementById(\"canvas_div_3\");\n",
       "if (component != undefined)\n",
       "    component.remove();\n",
       "\n",
       "$(\"<div id='canvas_div_3'>       <pre id='output_3' ></pre>       <div id='canvas_3'></div><br/>    </div>\").appendTo('body');    \n",
       "*/\n",
       "require([window.location.protocol + \"//calysto.github.io/javascripts/skulpt/skulpt.min.js\",\n",
       "         window.location.protocol + \"//calysto.github.io/javascripts/processing/processing.js\"], function () {\n",
       "  require([window.location.protocol + \"//calysto.github.io/javascripts/skulpt/skulpt-stdlib.js\"], function () {\n",
       "    function outf_3(text) {\n",
       "        var mypre = document.getElementById(\"output_3\"); \n",
       "        mypre.innerHTML = mypre.innerHTML + text; \n",
       "    }\n",
       "    function builtinRead(x) {\n",
       "        if (Sk.builtinFiles === undefined || \n",
       "            Sk.builtinFiles[\"files\"][x] === undefined)\n",
       "            throw \"File not found: '\" + x + \"'\";\n",
       "        return Sk.builtinFiles[\"files\"][x];\n",
       "    }\n",
       "    function runit(id) { \n",
       "       var prog = '# Basics/Form/Bezier\\nfrom processing import *\\n\\ndef setup():\\n    size(640, 360)\\n    stroke(255)\\n    noFill()\\n\\ndef draw():\\n    background(0)\\n    for i in range(0, 200, 20):\\n        bezier(mouseX() - (i / 2.0), 40 + i, 410, 20, 440,\\n               300, 240 - (i / 16.0), 300 + (i / 8.0))\\n\\nrun()'; \n",
       "       var mypre = document.getElementById(\"output_\" + id); \n",
       "       mypre.innerHTML = ''; \n",
       "       Sk.canvas = \"canvas_\" + id;\n",
       "       Sk.pre = \"output_\" + id;\n",
       "       Sk.configure({output:outf_3, read:builtinRead, python3:false}); \n",
       "       var myPromise = Sk.misceval.asyncToPromise(function() {\n",
       "           return Sk.importMainWithBody(\"<stdin>\", false, prog, true);\n",
       "       });\n",
       "       myPromise.then(\n",
       "        function(mod) {\n",
       "            console.log('success');\n",
       "        },\n",
       "        function(err) {\n",
       "            alert(err.toString());\n",
       "        });\n",
       "    }\n",
       "    runit(3);\n",
       "  });\n",
       "});\n",
       "\n",
       "</script>\n"
      ],
      "text/plain": [
       "<IPython.core.display.HTML object>"
      ]
     },
     "metadata": {},
     "output_type": "display_data"
    }
   ],
   "source": [
    "# Basics/Form/Bezier\n",
    "from processing import *\n",
    "\n",
    "def setup():\n",
    "    size(640, 360)\n",
    "    stroke(255)\n",
    "    noFill()\n",
    "\n",
    "def draw():\n",
    "    background(0)\n",
    "    for i in range(0, 200, 20):\n",
    "        bezier(mouseX() - (i / 2.0), 40 + i, 410, 20, 440,\n",
    "               300, 240 - (i / 16.0), 300 + (i / 8.0))\n",
    "\n",
    "run()"
   ]
  }
 ],
 "metadata": {
  "kernelspec": {
   "display_name": "Skulpt Python",
   "language": "python",
   "name": "skulpt_python"
  },
  "language_info": {
   "codemirror_mode": {
    "name": "text/x-python",
    "version": 2
   },
   "file_extension": ".py",
   "mimetype": "text/x-python",
   "name": "python"
  }
 },
 "nbformat": 4,
 "nbformat_minor": 0
}
