{
 "cells": [
  {
   "cell_type": "code",
   "execution_count": 42,
   "metadata": {
    "collapsed": false
   },
   "outputs": [
    {
     "name": "stdout",
     "output_type": "stream",
     "text": [
      "Overwriting example.html\n"
     ]
    }
   ],
   "source": [
    "%%file example.html\n",
    "\n",
    "<html>\n",
    "<head>\n",
    "  <script src=\"//cdnjs.cloudflare.com/ajax/libs/p5.js/0.4.2/p5.js\"></script>\n",
    "  <script src=\"//cdnjs.cloudflare.com/ajax/libs/p5.js/0.4.2/addons/p5.dom.js\"></script>\n",
    "\n",
    "<script>\n",
    "\n",
    "function setup() {\n",
    "}\n",
    "\n",
    "function draw() {\n",
    "    ellipse(mouseX, mouseY, 80, 80);\n",
    "}\n",
    "\n",
    "</script>\n",
    "</head>\n",
    "<body>\n",
    "</body>"
   ]
  },
  {
   "cell_type": "code",
   "execution_count": 43,
   "metadata": {
    "collapsed": false
   },
   "outputs": [
    {
     "data": {
      "text/html": [
       "<iframe src=\"example.html\">"
      ],
      "text/plain": [
       "<IPython.core.display.HTML object>"
      ]
     },
     "metadata": {},
     "output_type": "display_data"
    }
   ],
   "source": [
    "%%html\n",
    "<iframe src=\"example.html\">"
   ]
  }
 ],
 "metadata": {
  "kernelspec": {
   "display_name": "Python 3",
   "language": "python",
   "name": "python3"
  },
  "language_info": {
   "codemirror_mode": {
    "name": "ipython",
    "version": 3
   },
   "file_extension": ".py",
   "mimetype": "text/x-python",
   "name": "python",
   "nbconvert_exporter": "python",
   "pygments_lexer": "ipython3",
   "version": "3.4.0"
  }
 },
 "nbformat": 4,
 "nbformat_minor": 0
}
