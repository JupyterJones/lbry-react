{
 "cells": [
  {
   "cell_type": "code",
   "execution_count": null,
   "id": "0bc075d1",
   "metadata": {},
   "outputs": [],
   "source": [
    "https://jupyter.brynmawr.edu/services/public/dblank/jupyter.cs/Examples"
   ]
  },
  {
   "cell_type": "code",
   "execution_count": 4,
   "id": "658f3c2d",
   "metadata": {},
   "outputs": [
    {
     "data": {
      "text/html": [
       "\n",
       "<canvas id=\"myCanvas\" width=\"200\" height=\"100\" style=\"border:1px solid #d3d3d3;\">\n",
       "Your browser does not support the HTML5 canvas tag.</canvas>\n",
       "\n",
       "<script>\n",
       "var c = document.getElementById(\"myCanvas\");\n",
       "var ctx = c.getContext(\"2d\");\n",
       "\n",
       "// Create gradient\n",
       "var grd = ctx.createRadialGradient(75,50,5,90,60,100);\n",
       "grd.addColorStop(0,\"red\");\n",
       "grd.addColorStop(1,\"white\");\n",
       "\n",
       "// Fill with gradient\n",
       "ctx.fillStyle = grd;\n",
       "ctx.fillRect(10,10,150,80);\n",
       "</script>\n"
      ],
      "text/plain": [
       "<IPython.core.display.HTML object>"
      ]
     },
     "metadata": {},
     "output_type": "display_data"
    }
   ],
   "source": [
    "%%html\n",
    "\n",
    "<canvas id=\"myCanvas\" width=\"200\" height=\"100\" style=\"border:1px solid #d3d3d3;\">\n",
    "Your browser does not support the HTML5 canvas tag.</canvas>\n",
    "\n",
    "<script>\n",
    "var c = document.getElementById(\"myCanvas\");\n",
    "var ctx = c.getContext(\"2d\");\n",
    "\n",
    "// Create gradient\n",
    "var grd = ctx.createRadialGradient(75,50,5,90,60,100);\n",
    "grd.addColorStop(0,\"red\");\n",
    "grd.addColorStop(1,\"white\");\n",
    "\n",
    "// Fill with gradient\n",
    "ctx.fillStyle = grd;\n",
    "ctx.fillRect(10,10,150,80);\n",
    "</script>"
   ]
  },
  {
   "cell_type": "code",
   "execution_count": 5,
   "id": "5cf3fcdb",
   "metadata": {},
   "outputs": [
    {
     "data": {
      "text/html": [
       "\n",
       "<iframe id=\"iframe_4\"></iframe>\n",
       "    \n",
       "<script>\n",
       "var canvas = document.getElementById(\"myCanvas\")\n",
       "var image = canvas.toDataURL()\n",
       "$('#iframe_4').attr('src', image);\n",
       "$('#iframe_4').attr('width', canvas.width + 5);\n",
       "$('#iframe_4').attr('height', canvas.height + 5);\n",
       "</script>\n",
       "\n"
      ],
      "text/plain": [
       "<IPython.core.display.HTML object>"
      ]
     },
     "metadata": {},
     "output_type": "display_data"
    }
   ],
   "source": [
    "%%html\n",
    "\n",
    "<iframe id=\"iframe_4\"></iframe>\n",
    "    \n",
    "<script>\n",
    "var canvas = document.getElementById(\"myCanvas\")\n",
    "var image = canvas.toDataURL()\n",
    "$('#iframe_4').attr('src', image);\n",
    "$('#iframe_4').attr('width', canvas.width + 5);\n",
    "$('#iframe_4').attr('height', canvas.height + 5);\n",
    "</script>\n",
    "\n"
   ]
  },
  {
   "cell_type": "code",
   "execution_count": 3,
   "id": "534b0dde",
   "metadata": {},
   "outputs": [
    {
     "ename": "SyntaxError",
     "evalue": "invalid syntax (1699686757.py, line 1)",
     "output_type": "error",
     "traceback": [
      "\u001b[0;36m  Input \u001b[0;32mIn [3]\u001b[0;36m\u001b[0m\n\u001b[0;31m    -- by default we use a nice pretty-printer\u001b[0m\n\u001b[0m          ^\u001b[0m\n\u001b[0;31mSyntaxError\u001b[0m\u001b[0;31m:\u001b[0m invalid syntax\n"
     ]
    }
   ],
   "source": [
    "-- by default we use a nice pretty-printer\n",
    "print(\"print pretty:\")\n",
    "a_table = {table_key=1}\n",
    "print(a_table)\n",
    "\n",
    "--to use luas default \n",
    "print(\"\\nprint default:\")\n",
    "ilua.config.printer = \"print\"\n",
    "print( a_table)\n",
    "\n",
    "--to use pretty printer again\n",
    "print(\"\\nprint pretty again:\")\n",
    "ilua.config.printer = \"pprint\"\n",
    "print(a_table)\n"
   ]
  },
  {
   "cell_type": "code",
   "execution_count": 2,
   "id": "388c760c",
   "metadata": {},
   "outputs": [
    {
     "ename": "SyntaxError",
     "evalue": "unterminated string literal (detected at line 11) (536295267.py, line 11)",
     "output_type": "error",
     "traceback": [
      "\u001b[0;36m  Input \u001b[0;32mIn [2]\u001b[0;36m\u001b[0m\n\u001b[0;31m    TeCGraf is Lua's birthplace,\u001b[0m\n\u001b[0m                  ^\u001b[0m\n\u001b[0;31mSyntaxError\u001b[0m\u001b[0;31m:\u001b[0m unterminated string literal (detected at line 11)\n"
     ]
    }
   ],
   "source": [
    "entry{\n",
    "      title = \"Tecgraf\",\n",
    "      org = \"Computer Graphics Technology Group, PUC-Rio\",\n",
    "      url = \"http://www.tecgraf.puc-rio.br/\",\n",
    "      contact = \"Waldemar Celes\",\n",
    "      description = [[\n",
    "        TeCGraf is the result of a partnership between PUC-Rio,\n",
    "        the Pontifical Catholic University of Rio de Janeiro,\n",
    "        and <A HREF=\"http://www.petrobras.com.br/\">PETROBRAS</A>,\n",
    "        the Brazilian Oil Company.\n",
    "        TeCGraf is Lua's birthplace,\n",
    "        and the language has been used there since 1993.\n",
    "        Currently, more than thirty programmers in TeCGraf use\n",
    "        Lua regularly; they have written more than two hundred\n",
    "        thousand lines of code, distributed among dozens of\n",
    "        final products.]]\n",
    "      }"
   ]
  }
 ],
 "metadata": {
  "kernelspec": {
   "display_name": "xeus-lua",
   "language": "python",
   "name": "xeus-lua"
  },
  "language_info": {
   "codemirror_mode": {
    "name": "ipython",
    "version": 3
   },
   "file_extension": ".py",
   "mimetype": "text/x-python",
   "name": "python",
   "nbconvert_exporter": "python",
   "pygments_lexer": "ipython3",
   "version": "3.10.5"
  }
 },
 "nbformat": 4,
 "nbformat_minor": 5
}
