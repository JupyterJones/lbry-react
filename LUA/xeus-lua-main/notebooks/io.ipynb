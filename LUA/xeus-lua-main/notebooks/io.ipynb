{
 "cells": [
  {
   "cell_type": "code",
   "execution_count": 2,
   "id": "e5c74c7f-379a-4c34-9c1f-de24a7c26a67",
   "metadata": {},
   "outputs": [
    {
     "name": "stdin",
     "output_type": "stream",
     "text": [
      " aaa\n"
     ]
    }
   ],
   "source": [
    "-- get user input\n",
    "the_input = io.read()"
   ]
  },
  {
   "cell_type": "code",
   "execution_count": 1,
   "id": "1ca8d063-b779-4a11-ad2e-eade6be69c3d",
   "metadata": {},
   "outputs": [
    {
     "name": "stream",
     "output_type": "stream",
     "text": [
      "xlua rocks! \n"
     ]
    }
   ],
   "source": [
    "-- Opens a file in write\n",
    "file = io.open(\"test.txt\", \"w\")\n",
    "\n",
    "-- sets the default output file as test.txt\n",
    "io.output(file)\n",
    "\n",
    "-- write to file\n",
    "io.write(\"xlua rocks!\")\n",
    "\n",
    "-- closes the open file\n",
    "io.close(file)\n",
    "\n",
    "-- make stdout the default again\n",
    "io.output(io.stdout)\n",
    "\n",
    "-- Opens a file in read\n",
    "file = io.open(\"test.txt\", \"r\")\n",
    "\n",
    "-- sets the default input file as test.lua\n",
    "io.input(file)\n",
    "\n",
    "-- prints the first line of the file\n",
    "print(io.read())\n",
    "\n",
    "-- closes the open file\n",
    "io.close(file)\n",
    "\n",
    "-- make stdout the default again\n",
    "io.input(io.stdin)"
   ]
  },
  {
   "cell_type": "code",
   "execution_count": null,
   "id": "810a6d0f-9767-4e1c-b0c7-cd4e1b51515f",
   "metadata": {},
   "outputs": [],
   "source": []
  },
  {
   "cell_type": "code",
   "execution_count": null,
   "id": "026842a5-28ec-45da-b8ce-d754196c1ad6",
   "metadata": {},
   "outputs": [],
   "source": [
    "-- make sure io.read is working again\n",
    "-- io.input(io.stdin)\n",
    "the_input = io.read()"
   ]
  }
 ],
 "metadata": {
  "kernelspec": {
   "display_name": "Lua 0.2 (XLua)",
   "language": "lua",
   "name": "xlua"
  },
  "language_info": {
   "file_extension": ".lua",
   "mimetype": "text/x-luasrc",
   "name": "lua",
   "version": "14.0.0"
  }
 },
 "nbformat": 4,
 "nbformat_minor": 5
}
