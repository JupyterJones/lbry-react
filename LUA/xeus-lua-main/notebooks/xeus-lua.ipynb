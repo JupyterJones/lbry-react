{
 "cells": [
  {
   "cell_type": "markdown",
   "metadata": {},
   "source": [
    "<center>\n",
    "    <h1>lua kernel based on xeus</h1>\n",
    "</center>"
   ]
  },
  {
   "cell_type": "markdown",
   "metadata": {},
   "source": [
    "# Simple code execution"
   ]
  },
  {
   "cell_type": "code",
   "execution_count": null,
   "metadata": {},
   "outputs": [],
   "source": [
    "a = 3"
   ]
  }
 ],
 "metadata": {
  "kernelspec": {
   "display_name": "Python 5.4.0 (xlua)",
   "language": "text/x-luasrc",
   "name": "xlua"
  },
  "language_info": {
   "file_extension": "lua",
   "mimetype": "text/x-luasrc",
   "name": "xlua",
   "version": "5.4.0"
  }
 },
 "nbformat": 4,
 "nbformat_minor": 4
}
