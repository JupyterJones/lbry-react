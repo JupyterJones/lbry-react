{
 "cells": [
  {
   "cell_type": "code",
   "execution_count": null,
   "metadata": {},
   "outputs": [],
   "source": [
    "https://trac.ffmpeg.org/wiki/Slideshow"
   ]
  },
  {
   "cell_type": "code",
   "execution_count": 2,
   "metadata": {},
   "outputs": [
    {
     "name": "stdout",
     "output_type": "stream",
     "text": [
      "cropping-resizing-sharpening-convert-video-to-gif.html\r\n",
      "fade-zoom-slide-spin.html\r\n",
      "FFMPEG1525.html\r\n",
      "FFMPEG-bk.html\r\n",
      "ffmpeg-examples.html\r\n",
      "FFMPEG.html\r\n",
      "FFmpeg-Line-Commands.html\r\n",
      "images-to-video-add-sound-screen-capture.html\r\n",
      "images-to-video-subtitles-add-sound-screen-capture.html\r\n",
      "index.html\r\n",
      "overlay-video-on-video.html\r\n",
      "scrolling-text.html\r\n",
      "single-image-to-video-add-text-credits.html\r\n",
      "slideshow.html\r\n",
      "video-background-blur-mask-image-overlays.html\r\n",
      "video-transitions.html\r\n"
     ]
    }
   ],
   "source": [
    "!ls *.html"
   ]
  },
  {
   "cell_type": "code",
   "execution_count": 3,
   "metadata": {},
   "outputs": [
    {
     "name": "stdout",
     "output_type": "stream",
     "text": [
      "cropping-resizing-sharpening-convert-video-to-gif.html.ipynb\r\n",
      "fade-zoom-slide-spin.html.ipynb\r\n",
      "FFmpeg-Line-Commands.html.ipynb\r\n",
      "images-to-video-add-sound-screen-capture.html.ipynb\r\n",
      "index.html.ipynb\r\n",
      "overlay-video-on-video.html.ipynb\r\n",
      "slideshow.html.ipynb\r\n"
     ]
    }
   ],
   "source": [
    "!ls *.html.ipynb"
   ]
  },
  {
   "cell_type": "markdown",
   "metadata": {},
   "source": [
    "<b>INDEX TO JUPYTER NOTEBOOKS</b>&nbsp;&nbsp;&nbsp;&nbsp;<a href= \"index.html.ipynb\" target=\"_blank\">index.html.ipynb</a>&nbsp;&nbsp;&nbsp;&nbsp;|&nbsp;&nbsp;&nbsp;&nbsp;\n",
    "<a href= \"overlay-video-on-video.html.ipynb\" target=\"_blank\">overlay-video-on-video.html.ipynb</a><br />\n",
    "<a href= \"images-to-video-add-sound-screen-capture.html.ipynb\" target=\"_blank\">images-to-video-add-sound-screen-capture.html.ipynb</a>&nbsp;&nbsp;&nbsp;&nbsp;|&nbsp;&nbsp;&nbsp;&nbsp;\n",
    "<a href= \"fade-zoom-slide-spin.html.ipynb\" target=\"_blank\">fade-zoom-slide-spin.html.ipynb</a><br />\n",
    "<a href= \"overlay-video-on-video.html.ipynb\" target=\"_blank\">overlay-video-on-video.html.ipynb</a>&nbsp;&nbsp;&nbsp;&nbsp;|&nbsp;&nbsp;&nbsp;&nbsp;\n",
    "<a href= \"overlay-video-on-video.html.ipynb\" target=\"_blank\">overlay-video-on-video.html.ipynb</a><br />\n",
    "<a href= \"slideshow.html.ipynb\" target=\"_blank\">slideshow.html.ipynb</a>"
   ]
  },
  {
   "cell_type": "markdown",
   "metadata": {},
   "source": [
    "<b>INDEX TO HTML PAGES</b>&nbsp;&nbsp;&nbsp;&nbsp;<a href= \"Command-Line-Commands.html\" target=\"_blank\">Command-Line-Commands.html</a>&nbsp;&nbsp;&nbsp;&nbsp;|&nbsp;&nbsp;&nbsp;&nbsp;\n",
    "<a href= \"cropping-resizing-sharpening-convert-video-to-gif.html\" target=\"_blank\">cropping-resizing-sharpening-convert-video-to-gif.html</a><br />\n",
    "<a href= \"fade-zoom-slide-spin.html\" target=\"_blank\">fade-zoom-slide-spin.html</a>&nbsp;&nbsp;&nbsp;&nbsp;|&nbsp;&nbsp;&nbsp;&nbsp;\n",
    "<a href= \"FFMPEG1525.html\" target=\"_blank\">FFMPEG1525.html</a><br />\n",
    "<a href= \"FFMPEG-bk.html\" target=\"_blank\">FFMPEG-bk.html</a>&nbsp;&nbsp;&nbsp;&nbsp;|&nbsp;&nbsp;&nbsp;&nbsp;\n",
    "<a href= \"ffmpeg-examples.html\" target=\"_blank\">ffmpeg-examples.html</a><br />\n",
    "<a href= \"FFMPEG.html\" target=\"_blank\">FFMPEG.html</a>&nbsp;&nbsp;&nbsp;&nbsp;|&nbsp;&nbsp;&nbsp;&nbsp;\n",
    "<a href= \"images-to-video-add-sound-screen-capture.html\" target=\"_blank\">images-to-video-add-sound-screen-capture.html</a><br />\n",
    "<a href= \"images-to-video-subtitles-add-sound-screen-capture.html\" target=\"_blank\">images-to-video-subtitles-add-sound-screen-capture.html</a><br />\n",
    "<a href= \"index.html\" target=\"_blank\">index.html</a>&nbsp;&nbsp;&nbsp;&nbsp;|&nbsp;&nbsp;&nbsp;&nbsp;\n",
    "<a href= \"overlay-video-on-video.html\" target=\"_blank\">overlay-video-on-video.html</a><br />\n",
    "<a href= \"single-image-to-video-add-text-credits.html\" target=\"_blank\">single-image-to-video-add-text-credits.html</a>&nbsp;&nbsp;&nbsp;&nbsp;|&nbsp;&nbsp;&nbsp;&nbsp;\n",
    "<a href= \"slideshow.html\" target=\"_blank\">slideshow.html</a><br />"
   ]
  },
  {
   "cell_type": "code",
   "execution_count": null,
   "metadata": {},
   "outputs": [],
   "source": [
    "# %load index.html\n",
    "<html>\n",
    "<head>\n",
    "<title>Home-FFmpeg-Examples</title>\n",
    "<link rel=\"stylesheet\" type=\"text/css\" href=\"mystyle.css\">\n",
    "<link rel=\"shortcut icon\" href=\"favicon.ico\" type=\"image/x-icon\">\n",
    "</head>\n",
    "<body>\n",
    "<div class = \"sectT\">\n",
    "<h1>Home-FFmpeg-Examples</h1>\n",
    "<ul>\n",
    "<li><a href =\"FFmpeg-Line-Commands.html\" target = \"_blank\">FFmpeg Summaries Command Line Commands</a></li>\n",
    "<li><a href =\"images-to-video-subtitles-add-sound-screen-capture.html\" target = \"_blank\"\">images-to-video-add-sound-screen-capture</a>\n",
    "<li><a href =\"single-image-to-video-add-text-credits.html\" target = \"_blank\">single-image-to-video-add-text-credits</a>\n",
    "<li><a href =\"fade-zoom-slide-spin.html\" target = \"_blank\">fade-zoom-slide-spin</a></li>\n",
    "<li><a href =\"overlay-video-on-video.html\" target = \"_blank\">overlay-video-on-video</a></li>\n",
    "<li><a href =\"cropping-resizing-sharpening-convert-video-to-gif.html\" target = \"_blank\">cropping-resizing-sharpening-convert-video-to-gif</a></li>\n",
    "<li><a href =\"video-background-blur-mask-image-overlays.html\" target = \"_blank\">video-background-blur-mask-image-overlays</a></li>\n",
    "<li><a href =\"scrolling-text.html\" target = \"_blank\">Create a video of scrolling text 0r add text to a video</a></li>\n",
    "<li><a href =\"video-transitions.html\" target = \"_blank\">Creating Video Transitions</a></li>  \n",
    "\n",
    "<br /><br />\n",
    "\n",
    "<li><a href =\"https://www.adweek.com/digital/royalty-free-music/\" target = \"_blank\">Sources: royalty-free-music</a></li>\n",
    "<!--li><a href =\"#sliding\">Simple Sliding Overlay Without Sound</a></li>\n",
    "<li><a href =\"#sliding-text\">Sliding a Text Image From Right to Left</a></li-->\n",
    "</ul>\n",
    "</div>\n",
    "\n",
    "<h2 id=\"sliding\">Simple Single image Overlay Without Sound</h2>\n",
    "<p>Simple Single image Overlay Without Sound</p>\n",
    "<a href = \"fade-zoom-slide-spin.html#sliding\" target=\"_blank\">Example: Simple Single image Overlay Without Sound</a>\n",
    "\n",
    "<p>\n",
    "EXAMPLE \n",
    "<pre>\n",
    "ffmpeg -i vids/short.mp4 -loop 1 -i small.png -filter_complex \\\n",
    "\"[1:v]fade=t=in:st=10:d=2,fade=t=out:st=20:d=3[over];[0:v][over]overlay=50:50\" \\\n",
    "-pix_fmt yuv420p -c:a copy -t 30 vids/VIDEO.mp4\n",
    "\n",
    "         \n",
    "</pre>\n",
    "</p>\n",
    "<pre>\n",
    "ffmpeg -i vids/short.mp4 -vf \"zoompan=z='zoom+0.001':x='if(gte(zoom,1.5),x,x-1)':y='y':d=700\" \\\n",
    "-c:a copy -t 30 vids/ZOOM.mp4\t\n",
    "</pre>\n",
    "\n",
    "<p>Simple Zoom</p>\n",
    "<pre>\n",
    "ffmpeg -i vids/ZOOM.mp4 -i small.png -filter_complex 'overlay[out]' -map '[out]' vids/zoom-small.mp4\t\n",
    "</pre>\n",
    "\n",
    "<h2 id=\"sliding\">Simple Sliding Overlay Without Sound</h2>\n",
    "<p>Simple Sliding Overlay Without Sound</p>\n",
    "<a href = \"fade-zoom-slide-spin.html#sliding\" target=\"_blank\">Example: Simple Sliding Overlay Without Sound</a>\n",
    "<pre class=\"prebox\">\n",
    "ffmpeg -i vids/short.mp4 -i small.png -filter_complex \\\n",
    "\"[0:v][1:v]overlay=enable='between=(t,5,20)':x=120+t*28:y=t*10[out]\" \\\n",
    "-map \"[out]\" vids/imageslide.mp4\t\n",
    "</pre>\n",
    "\n",
    "\n",
    "<h2 id=\"sliding-text\">Scrolling a Text Image Across a Video</h2>\n",
    "<p>Simple Sliding Overlay Without Sound</p>\n",
    "<a href = \"fade-zoom-slide-spin.html#sliding-text\" target=\"_blank\">Scrolling a Text Image Across a Video</a>\n",
    "<pre class=\"prebox\">\n",
    "ffmpeg -i vids/short.mp4 -i scrolling-text.png -filter_complex \\\n",
    "\"[0:v][1:v]overlay=enable='between=(t,3,30)':x=1220-t*60:y=50[out]\" \\\n",
    "-map \"[out]\" vids/imagescroll.mp4\n",
    "</pre>\n",
    "</body> \n",
    "</html>\n",
    "<pre>\n",
    "ffmpeg -i credit.jpg overlay=enable='between=(t,0,10)':x=1220-t*60:y=50[out]\" -map \"[out]\" credit-fade.mp4\n",
    "\n",
    "ffmpeg -loop 1 -i credit.jpg -c:v libx264 \\\n",
    "-vf drawtext=\"fontsize=100:fontcolor=yellow:fontfile=/usr/share/fonts/truetype/freefont/FreeSans.ttf:textfile=header_text.txt:x=(w-text_w)/2:y=(h-text_h-line_h)/2\",\"crop=1240:940:40:10\" -t 3 -pix_fmt yuv420p -crf 16 -r 12 -y header.mp4\n",
    "\n",
    "\n",
    "ffmpeg -loop 1 -i credit.jpg -c:v libx264 \\\n",
    "\n",
    "\n",
    "\n",
    "ffmpeg -i short.mp4 -i scrolling-text.png -loop 1 imagescroll.mp4\n",
    "\n",
    "</pre>"
   ]
  },
  {
   "cell_type": "code",
   "execution_count": null,
   "metadata": {},
   "outputs": [],
   "source": []
  }
 ],
 "metadata": {
  "kernelspec": {
   "display_name": "Python 2",
   "language": "python",
   "name": "python2"
  },
  "language_info": {
   "codemirror_mode": {
    "name": "ipython",
    "version": 2
   },
   "file_extension": ".py",
   "mimetype": "text/x-python",
   "name": "python",
   "nbconvert_exporter": "python",
   "pygments_lexer": "ipython2",
   "version": "2.7.15rc1"
  },
  "toc": {
   "base_numbering": 1,
   "nav_menu": {},
   "number_sections": true,
   "sideBar": true,
   "skip_h1_title": false,
   "title_cell": "Table of Contents",
   "title_sidebar": "Contents",
   "toc_cell": false,
   "toc_position": {},
   "toc_section_display": true,
   "toc_window_display": false
  }
 },
 "nbformat": 4,
 "nbformat_minor": 2
}
