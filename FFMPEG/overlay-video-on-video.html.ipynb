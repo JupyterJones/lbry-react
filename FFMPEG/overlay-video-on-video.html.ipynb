{
 "cells": [
  {
   "cell_type": "markdown",
   "metadata": {},
   "source": [
    "<a href=\"overlay-video-on-video.html\" target=\"_blank\">overlay-video-on-video.html</a>"
   ]
  },
  {
   "cell_type": "code",
   "execution_count": null,
   "metadata": {},
   "outputs": [],
   "source": [
    "%%writefile overlay-video-on-video.html\n",
    "<html>\n",
    "<head>\n",
    "<title>overlay Video on Video Examples</title>\n",
    "<link rel=\"stylesheet\" type=\"text/css\" href=\"mystyle.css\">\n",
    "</head>\n",
    "<body>\n",
    "<div class=\"sect\">\n",
    "<h2 id=\"sliding-text\">Sliding an Overlay video across another Video</h2>\n",
    "<p>Sliding a Video From Right to Left ( The image is below )<br />\n",
    "Slide the text image across a video - start after 3 seconds end at 30 seconds.<br />\n",
    "between=(t,3,30) <br /> \n",
    "Start location 1220 (x=1220) with each step of t move left 60px (x=1220-t*60).<br />\n",
    "Set y axis at 50px (y=50[out]) <br />\n",
    "<div class=\"Vbox\">\n",
    "<video width=\"400\" controls>\n",
    "  <source src=\"vids/videoslide.mp4\" type=\"video/mp4\">\n",
    "  <!--source src=\"VIDEO.mp4\" type=\"video/ogg\"-->\n",
    "  Your browser does not support HTML5 video.\n",
    "</video>\n",
    "\n",
    "</div>\n",
    "<pre class=\"prebox\">\n",
    "ffmpeg -i vids/Bhengs-Sari-Sari-Philippine-Home-Store.mp4 -i vids/spin5a.mp4 \\\n",
    "-filter_complex \"[0:v][1:v]overlay=enable='between=(t,5,30)':x=20+t*28:y=t*10[out]\" \\\n",
    "-map \"[out]\" -t 30 vids/videoslide.mp4\n",
    "</pre>\n",
    "</div>\n",
    "<hr>"
   ]
  },
  {
   "cell_type": "code",
   "execution_count": null,
   "metadata": {},
   "outputs": [],
   "source": []
  }
 ],
 "metadata": {
  "kernelspec": {
   "display_name": "Python 2",
   "language": "python",
   "name": "python2"
  },
  "language_info": {
   "codemirror_mode": {
    "name": "ipython",
    "version": 2
   },
   "file_extension": ".py",
   "mimetype": "text/x-python",
   "name": "python",
   "nbconvert_exporter": "python",
   "pygments_lexer": "ipython2",
   "version": "2.7.15rc1"
  },
  "toc": {
   "base_numbering": 1,
   "nav_menu": {},
   "number_sections": true,
   "sideBar": true,
   "skip_h1_title": false,
   "title_cell": "Table of Contents",
   "title_sidebar": "Contents",
   "toc_cell": false,
   "toc_position": {},
   "toc_section_display": true,
   "toc_window_display": false
  }
 },
 "nbformat": 4,
 "nbformat_minor": 2
}
