{
 "cells": [
  {
   "cell_type": "markdown",
   "metadata": {},
   "source": [
    "# Ceate a file list from directory \" use \""
   ]
  },
  {
   "cell_type": "code",
   "execution_count": 9,
   "metadata": {},
   "outputs": [],
   "source": [
    "!rm imagelist.txt\n",
    "!ls use>>imagelist.txt"
   ]
  },
  {
   "cell_type": "markdown",
   "metadata": {},
   "source": [
    "convert <b>imagelist.txt</b> from:<br />\n",
    "use/001.png<br />\n",
    "use/002.png<br />\n",
    "use/003.png<br />\n",
    "use/004.png<br />\n",
    "&nbsp;&nbsp;&nbsp;&nbsp;to<br />\n",
    "<b>uselist.txt</b> in format of:<br />\n",
    "file 'use/001.png'<br />\n",
    "file 'use/002.png'<br />\n",
    "file 'use/003.png'<br />\n",
    "file 'use/004.png'<br />"
   ]
  },
  {
   "cell_type": "code",
   "execution_count": 11,
   "metadata": {},
   "outputs": [],
   "source": [
    "f0 = open(\"uselist.txt\",\"w\")\n",
    "for f in open(\"imagelist.txt\").readlines():\n",
    "    f =f.replace(\"\\n\", \"\")\n",
    "    f0.write(\"file 'use/\"+f+\"'\\n\")\n",
    "f0.close()"
   ]
  },
  {
   "cell_type": "markdown",
   "metadata": {},
   "source": [
    "# View new file uselist.txt"
   ]
  },
  {
   "cell_type": "code",
   "execution_count": null,
   "metadata": {},
   "outputs": [],
   "source": [
    "# %load uselist.txt\n",
    "file 'use/001.png'\n",
    "file 'use/002.png'\n",
    "file 'use/003.png'\n",
    "file 'use/004.png'\n",
    "file 'use/005.png'\n",
    "file 'use/006.png'\n",
    "file 'use/007.png'\n",
    "file 'use/008.png'\n",
    "file 'use/009.png'\n",
    "file 'use/010.png'\n",
    "file 'use/011.png'\n",
    "file 'use/012.png'\n",
    "file 'use/013.png'\n",
    "file 'use/014.png'\n",
    "file 'use/015.png'\n",
    "file 'use/016.png'\n",
    "file 'use/017.png'\n",
    "file 'use/018.png'\n",
    "file 'use/019.png'\n",
    "file 'use/020.png'\n",
    "file 'use/021.png'\n",
    "file 'use/022.png'\n",
    "file 'use/023.png'\n"
   ]
  },
  {
   "cell_type": "markdown",
   "metadata": {},
   "source": [
    "### The two bottom command work equally well to create a video from images\n",
    "The top only works id files are in sequential order<br />\n",
    "THe bottom will work where the filenames are not<br />"
   ]
  },
  {
   "cell_type": "code",
   "execution_count": null,
   "metadata": {},
   "outputs": [],
   "source": [
    "!ffmpeg -framerate 2 -i use/%03d.png -c:v libx264 -r 30 -pix_fmt yuv420p TESTJUNK.mp4"
   ]
  },
  {
   "cell_type": "code",
   "execution_count": null,
   "metadata": {},
   "outputs": [],
   "source": [
    "!ffmpeg -y -r 1 -f concat -safe 0 -i \"uselist.txt\" -c:v libx264 -vf \"fps=25,format=yuv420p\" \"TESTout2.mp4\""
   ]
  },
  {
   "cell_type": "markdown",
   "metadata": {},
   "source": [
    "### Example video:"
   ]
  },
  {
   "cell_type": "code",
   "execution_count": 2,
   "metadata": {},
   "outputs": [
    {
     "data": {
      "text/html": [
       "<video width=\"320\" height=\"320\" controls>\n",
       "  <source src=\"TESTJUNK.mp4\" type=\"video/mp4\">\n",
       "</video>"
      ],
      "text/plain": [
       "<IPython.core.display.HTML object>"
      ]
     },
     "metadata": {},
     "output_type": "display_data"
    }
   ],
   "source": [
    "%%HTML\n",
    "<video width=\"320\" height=\"320\" controls>\n",
    "  <source src=\"TESTJUNK.mp4\" type=\"video/mp4\">\n",
    "</video>"
   ]
  },
  {
   "cell_type": "code",
   "execution_count": 3,
   "metadata": {},
   "outputs": [
    {
     "data": {
      "text/html": [
       "<video width=\"400\" height=\"400\" controls>\n",
       "  <source src=\"TESTout2.mp4\" type=\"video/mp4\">\n",
       "</video>"
      ],
      "text/plain": [
       "<IPython.core.display.HTML object>"
      ]
     },
     "metadata": {},
     "output_type": "display_data"
    }
   ],
   "source": [
    "%%HTML\n",
    "<video width=\"400\" height=\"400\" controls>\n",
    "  <source src=\"TESTout2.mp4\" type=\"video/mp4\">\n",
    "</video>"
   ]
  },
  {
   "cell_type": "code",
   "execution_count": null,
   "metadata": {},
   "outputs": [],
   "source": [
    "!ffmpeg -y -r 1 -f concat -safe 0 -i \"uselist.txt\" -c:v libx264 \\\n",
    "-vf \"fps=25,format=yuv420p\" \"TESTout2.mp4\""
   ]
  },
  {
   "cell_type": "code",
   "execution_count": null,
   "metadata": {},
   "outputs": [],
   "source": [
    "!ffmpeg -r 2 -f concat -safe 0 \\\n",
    "-i uselist.txt -c:v libx264 -s 640*640 -b:v 2000k -vf fps=30,format=yuv420p \\\n",
    "vids/outyuv420p.mp4\n",
    "\n",
    "\n",
    "\n",
    "#https://superuser.com/questions/1212023/ffmpeg-settings-for-converting-still-images-to-video-for-archival"
   ]
  },
  {
   "cell_type": "code",
   "execution_count": 4,
   "metadata": {},
   "outputs": [
    {
     "data": {
      "text/html": [
       "<video width=\"400\" height=\"400\" controls>\n",
       "  <source src=\"vids/outyuv420p.mp4\" type=\"video/mp4\">\n",
       "</video>"
      ],
      "text/plain": [
       "<IPython.core.display.HTML object>"
      ]
     },
     "metadata": {},
     "output_type": "display_data"
    }
   ],
   "source": [
    "%%HTML\n",
    "<video width=\"400\" height=\"400\" controls>\n",
    "  <source src=\"vids/outyuv420p.mp4\" type=\"video/mp4\">\n",
    "</video>"
   ]
  },
  {
   "cell_type": "code",
   "execution_count": null,
   "metadata": {},
   "outputs": [],
   "source": [
    "!ffmpeg -framerate 1 -i use/%03d.png -c:v libx264 -preset veryslow -crf 0 vids/outputveryslow2.mp4"
   ]
  },
  {
   "cell_type": "code",
   "execution_count": 1,
   "metadata": {},
   "outputs": [
    {
     "data": {
      "text/html": [
       "<video width=\"320\" height=\"320\" controls>\n",
       "  <source src=\"vids/outputveryslow2.mp4\" type=\"video/mp4\">\n",
       "</video>"
      ],
      "text/plain": [
       "<IPython.core.display.HTML object>"
      ]
     },
     "metadata": {},
     "output_type": "display_data"
    }
   ],
   "source": [
    "%%HTML\n",
    "<video width=\"320\" height=\"320\" controls>\n",
    "  <source src=\"vids/outputveryslow2.mp4\" type=\"video/mp4\">\n",
    "</video>"
   ]
  },
  {
   "cell_type": "code",
   "execution_count": null,
   "metadata": {},
   "outputs": [],
   "source": [
    "!mkdir ipynb-media"
   ]
  },
  {
   "cell_type": "code",
   "execution_count": null,
   "metadata": {},
   "outputs": [],
   "source": [
    "!ffmpeg -framerate 1 -i JPG/%1d.jpg ipynb-media/video3a.mkv\n"
   ]
  },
  {
   "cell_type": "code",
   "execution_count": null,
   "metadata": {},
   "outputs": [],
   "source": [
    "%%HTML\n",
    "<video width=\"400\" height=\"400\" controls>\n",
    "  <source src=\"ipynb-media/video3a.mkv\" type=\"video/mp4\">\n",
    "</video>"
   ]
  },
  {
   "cell_type": "code",
   "execution_count": null,
   "metadata": {},
   "outputs": [],
   "source": [
    "%%HTML\n",
    "<video width=\"400\" height=\"400\" controls>\n",
    "  <source src=\"ipynb-media/video3a.mkv\" type=\"video/mp4\">\n",
    "</video>"
   ]
  },
  {
   "cell_type": "code",
   "execution_count": null,
   "metadata": {},
   "outputs": [],
   "source": [
    "%%HTML\n",
    "<video width=\"400\" height=\"400\" controls>\n",
    "  <source src=\"ipynb-media/video3a.mkv\" type=\"video/mp4\">\n",
    "</video>"
   ]
  },
  {
   "cell_type": "code",
   "execution_count": 6,
   "metadata": {},
   "outputs": [
    {
     "data": {
      "text/html": [
       "<video width=\"400\" height=\"400\" controls>\n",
       "  <source src=\"ipynb-media/video3a.mkv\" type=\"video/mp4\">\n",
       "</video>"
      ],
      "text/plain": [
       "<IPython.core.display.HTML object>"
      ]
     },
     "metadata": {},
     "output_type": "display_data"
    }
   ],
   "source": [
    "%%HTML\n",
    "<video width=\"400\" height=\"400\" controls>\n",
    "  <source src=\"ipynb-media/video3a.mkv\" type=\"video/mp4\">\n",
    "</video>"
   ]
  },
  {
   "cell_type": "code",
   "execution_count": 5,
   "metadata": {},
   "outputs": [
    {
     "data": {
      "text/html": [
       "<video width=\"400\" height=\"400\" controls>\n",
       "  <source src=\"ipynb-media/tiny.mkv\" type=\"video/mp4\">\n",
       "</video>"
      ],
      "text/plain": [
       "<IPython.core.display.HTML object>"
      ]
     },
     "metadata": {},
     "output_type": "display_data"
    }
   ],
   "source": [
    "%%HTML\n",
    "<video width=\"400\" height=\"400\" controls>\n",
    "  <source src=\"ipynb-media/tiny.mkv\" type=\"video/mp4\">\n",
    "</video>"
   ]
  },
  {
   "cell_type": "markdown",
   "metadata": {},
   "source": [
    "# High end Beautiful<br>\n",
    "!ffmpeg -framerate 1 -i JPG/%1d.jpg -c:v huffyuv ipynb-media/huffyuv.avi<br>\n",
    "!ffmpeg -framerate 1 -i JPG/%1d.jpg -c:v libx264 -crf 0 ipynb-media/libx264.mkv <br><br>\n",
    "\n",
    "## Weird colors\n",
    "!ffmpeg -r 1 -pattern_type glob -i 'use/*.png' ipynb-media/globout.webm<br> \n",
    "!ffmpeg -r 1 -pattern_type glob -i 'use/*.png' -c:v libvpx-vp9 ipynb-media/globout-vp9.webm<br> <br> \n",
    "## Standard\n",
    "!ffmpeg -framerate 1 -i JPG/%1d.jpg -vcodec libvpx ipynb-media/lossless1libvpx-vp9.webm<br>\n",
    "!ffmpeg -i ipynb-media/libx264.mkv -c:v libvpx-vp9 -b:v 2M ipynb-media/llibvpx-vp9.webm\n",
    "# Grayscale videos<br>    \n",
    "!ffmpeg -framerate 1 -i JPG/%1d.jpg -c:v ffv1 ipynb-media/ffv1.avi<br>\n",
    "!ffmpeg -framerate 1 -i JPG/%1d.jpg -c:v libx265 -crf 0 ipynb-media/libx265.mkv<br>    "
   ]
  },
  {
   "cell_type": "code",
   "execution_count": null,
   "metadata": {},
   "outputs": [],
   "source": [
    "!ls ipynb-media"
   ]
  },
  {
   "cell_type": "code",
   "execution_count": null,
   "metadata": {},
   "outputs": [],
   "source": [
    "!ffmpeg -i TESTout2.mp4 -vf scale=150:150 ipynb-media/tiny.mkv"
   ]
  },
  {
   "cell_type": "code",
   "execution_count": null,
   "metadata": {},
   "outputs": [],
   "source": [
    "!ls vids"
   ]
  },
  {
   "cell_type": "markdown",
   "metadata": {},
   "source": [
    "# Loop the file ipynb-media/vidonvid1.mp4 45 seconds"
   ]
  },
  {
   "cell_type": "code",
   "execution_count": null,
   "metadata": {},
   "outputs": [],
   "source": [
    "!ffmpeg -stream_loop -1 -i ipynb-media/vidonvid1.mp4 \\\n",
    "-c copy -fflags +genpts -t 45 ipynb-media/vidonvid45.mp4"
   ]
  },
  {
   "cell_type": "markdown",
   "metadata": {},
   "source": [
    "# Loop the file ipynb-media/vidonvid1.mp4 five times"
   ]
  },
  {
   "cell_type": "code",
   "execution_count": null,
   "metadata": {},
   "outputs": [],
   "source": [
    "!echo \"file 'ipynb-media/vidonvid1.mp4'\" >>confile.txt\n",
    "!echo \"file 'ipynb-media/vidonvid1.mp4'\" >>confile.txt\n",
    "!echo \"file 'ipynb-media/vidonvid1.mp4'\" >>confile.txt\n",
    "!echo \"file 'ipynb-media/vidonvid1.mp4'\" >>confile.txt\n",
    "!echo \"file 'ipynb-media/vidonvid1.mp4'\" >>confile.txt\n",
    "\n",
    "!ffmpeg -f concat -i confile.txt -c copy ipynb-media/vidonvid1x5.mp4"
   ]
  },
  {
   "cell_type": "code",
   "execution_count": null,
   "metadata": {},
   "outputs": [],
   "source": [
    "!ffmpeg -f concat -i <(for i in {1..4}; do printf \"file '%s'\\n\" ipynb-media/vidonvid1.mp4; done) -c copy ipynb-media/vidonvid1x4.mp4"
   ]
  },
  {
   "cell_type": "code",
   "execution_count": null,
   "metadata": {},
   "outputs": [],
   "source": [
    "fade=t=in:st=10:d=2,fade=t=out:st=20:d=3\n",
    "-filter_complex \\\n",
    "\"[1:v] format=pix_fmts=yuva420p, fade=t=in:st=3:alpha=1 [logo]; \\\n",
    "[0:v][logo] overlay [outv]\"                \n",
    "                "
   ]
  },
  {
   "cell_type": "code",
   "execution_count": null,
   "metadata": {},
   "outputs": [],
   "source": [
    "!ffmpeg -i vids/Bhengs-Sari-Sari-Philippine-Home-Store.mp4 -i vids/spin5a.mp4 -i vids/ZOOM.mp4 \\\n",
    "-i ipynb-media/vidonvid1x4.mp4 -filter_complex \\\n",
    "\"nullsrc=size=1280x720 [base]; \\\n",
    "[0:v] setpts=PTS-STARTPTS, scale=1280x720 [upperleft]; \\\n",
    "[1:v] fade=t=in:st=1:d=3:alpha=1,fade=t=out:st=20:d=8, setpts=PTS-STARTPTS, scale=320x212 [upperright]; \\\n",
    "[2:v] setpts=PTS-STARTPTS, scale=380x380 [lowerleft]; \\\n",
    "[3:v] setpts=PTS-STARTPTS, scale=420x420 [lowerright]; \\\n",
    "[base][upperleft] overlay=shortest=1 [tmp1]; \\\n",
    "[tmp1][upperright] overlay=shortest=1:x=950:y=10 [tmp2]; \\\n",
    "[tmp2][lowerleft] overlay=shortest=1:x=10:y=320 [tmp3]; \\\n",
    "[tmp3][lowerright] overlay=shortest=1:x=540:y=250\" \\\n",
    "-s 1280x720 -framerate 17 -c:v libx264 -c:a copy -t 20 ipynb-media/WOW20.mkv"
   ]
  },
  {
   "cell_type": "code",
   "execution_count": 8,
   "metadata": {},
   "outputs": [
    {
     "data": {
      "text/html": [
       "<video width=\"400\" height=\"400\" controls>\n",
       "  <source src=\"ipynb-media/WOW20.mkv\" type=\"video/mp4\">\n",
       "</video>"
      ],
      "text/plain": [
       "<IPython.core.display.HTML object>"
      ]
     },
     "metadata": {},
     "output_type": "display_data"
    }
   ],
   "source": [
    "%%HTML\n",
    "<video width=\"400\" height=\"400\" controls>\n",
    "  <source src=\"ipynb-media/WOW20.mkv\" type=\"video/mp4\">\n",
    "</video>"
   ]
  },
  {
   "cell_type": "code",
   "execution_count": null,
   "metadata": {},
   "outputs": [],
   "source": [
    "ipynb-media/tiny.mkv\n",
    "/home/jack/Desktop/video-resources/junk/NEW-VIDS/FFMPEG/vids/ZOOM.mp4"
   ]
  },
  {
   "cell_type": "code",
   "execution_count": null,
   "metadata": {},
   "outputs": [],
   "source": [
    "!ffmpeg -i vids/fadesubtitled-sound.mp4 -i ipynb-media/tiny.mkv -filter_complex \\\n",
    "\"nullsrc=size=1000x1000 [base]; [0:v] setpts=PTS-STARTPTS, scale=1000x1000  [upperleft];  \\\n",
    "[1:v] setpts=PTS-STARTPTS, scale=250x250 [lowerright]; \\\n",
    "[base][upperleft] overlay=shortest=1 [tmp1]; \\\n",
    "[tmp1][lowerright] overlay=shortest=1:x=700:y=700\" \\\n",
    "-s 1000x1000 -framerate 17 -c:v libx264 ipynb-media/vidonvid1.mp4\n"
   ]
  },
  {
   "cell_type": "code",
   "execution_count": null,
   "metadata": {},
   "outputs": [],
   "source": [
    "!ffmpeg -i ipynb-media/tiny.mkv -i TESTout2.mp4 -filter_complex \\\n",
    "\"nullsrc=size=640x640 [base]; \\\n",
    "[0:v] setpts=PTS-STARTPTS, scale=150x150  [upperleft];  \\\n",
    "[1:v] setpts=PTS-STARTPTS, scale=650x650 [lowerright]; \\\n",
    "[base][upperleft] overlay=shortest=1 [tmp1]; \\\n",
    "[tmp1][lowerright] overlay=shortest=1:x=100:y=100\" \\\n",
    "-s 640x640 -framerate 17 -c:v libx264 ipynb-media/vidonvid.mp4\n"
   ]
  },
  {
   "cell_type": "markdown",
   "metadata": {},
   "source": [
    "# with audio\n",
    "ffmpeg -i input.flv -vcodec libvpx -acodec libvorbis output.webm"
   ]
  },
  {
   "cell_type": "code",
   "execution_count": null,
   "metadata": {},
   "outputs": [],
   "source": [
    "!ls vids"
   ]
  },
  {
   "cell_type": "code",
   "execution_count": null,
   "metadata": {},
   "outputs": [],
   "source": [
    "!cp TESTout2.mp4 vids"
   ]
  },
  {
   "cell_type": "markdown",
   "metadata": {},
   "source": [
    "# Tried and Proven "
   ]
  },
  {
   "cell_type": "code",
   "execution_count": null,
   "metadata": {},
   "outputs": [],
   "source": [
    "!ffmpeg -i vids/Bhengs-Sari-Sari-Philippine-Home-Store.mp4 -i vids/spin5a.mp4 -i vids/ZOOM.mp4 \\\n",
    "-i ipynb-media/vidonvid1.mp4 -filter_complex \\\n",
    "\"nullsrc=size=1280x720 [base]; \\\n",
    "[0:v] setpts=PTS-STARTPTS, scale=1280x720 [upperleft]; \\\n",
    "[1:v] setpts=PTS-STARTPTS, scale=320x212 [upperright]; \\\n",
    "[2:v] setpts=PTS-STARTPTS, scale=380x380 [lowerleft]; \\\n",
    "[3:v] setpts=PTS-STARTPTS, scale=420x420 [lowerright]; \\\n",
    "[base][upperleft] overlay=shortest=1 [tmp1]; \\\n",
    "[tmp1][upperright] overlay=shortest=1:x=950:y=10 [tmp2]; \\\n",
    "[tmp2][lowerleft] overlay=shortest=1:x=10:y=320 [tmp3]; \\\n",
    "[tmp3][lowerright] overlay=shortest=1:x=540:y=250\" \\\n",
    "-s 1280x720 -framerate 17 -c:v libx264 -c:a copy -t 20 ipynb-media/WOW14.mkv"
   ]
  },
  {
   "cell_type": "code",
   "execution_count": null,
   "metadata": {},
   "outputs": [],
   "source": [
    "!ffmpeg -i vids/fadesubtitled-sound.mp4 -i ipynb-media/tiny.mkv -filter_complex \\\n",
    "\"nullsrc=size=1000x1000 [base]; [0:v] setpts=PTS-STARTPTS, scale=1000x1000  [upperleft];  \\\n",
    "[1:v] setpts=PTS-STARTPTS, scale=250x250 [lowerright]; \\\n",
    "[base][upperleft] overlay=shortest=1 [tmp1]; \\\n",
    "[tmp1][lowerright] overlay=shortest=1:x=700:y=700\" \\\n",
    "-s 1000x1000 -framerate 17 -c:v libx264 ipynb-media/vidonvid1.mp4\n"
   ]
  }
 ],
 "metadata": {
  "kernelspec": {
   "display_name": "Python 2",
   "language": "python",
   "name": "python2"
  },
  "language_info": {
   "codemirror_mode": {
    "name": "ipython",
    "version": 2
   },
   "file_extension": ".py",
   "mimetype": "text/x-python",
   "name": "python",
   "nbconvert_exporter": "python",
   "pygments_lexer": "ipython2",
   "version": "2.7.15rc1"
  },
  "toc": {
   "base_numbering": 1,
   "nav_menu": {
    "height": "245px",
    "width": "530px"
   },
   "number_sections": true,
   "sideBar": true,
   "skip_h1_title": false,
   "title_cell": "Table of Contents",
   "title_sidebar": "Contents",
   "toc_cell": false,
   "toc_position": {},
   "toc_section_display": true,
   "toc_window_display": false
  }
 },
 "nbformat": 4,
 "nbformat_minor": 2
}
