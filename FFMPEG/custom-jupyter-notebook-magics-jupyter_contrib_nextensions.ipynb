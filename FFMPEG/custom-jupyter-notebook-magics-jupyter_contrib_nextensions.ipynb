{
 "cells": [
  {
   "cell_type": "markdown",
   "metadata": {},
   "source": [
    "# Notebook Setup "
   ]
  },
  {
   "cell_type": "code",
   "execution_count": null,
   "metadata": {},
   "outputs": [],
   "source": [
    "https://towardsdatascience.com/jupyter-notebook-extensions-517fa69d2231"
   ]
  },
  {
   "cell_type": "code",
   "execution_count": null,
   "metadata": {},
   "outputs": [],
   "source": [
    "!pip install jupyter_contrib_nbextensions && jupyter contrib nbextension install"
   ]
  },
  {
   "cell_type": "code",
   "execution_count": null,
   "metadata": {},
   "outputs": [],
   "source": [
    "https://ipython-books.github.io/14-creating-an-ipython-extension-with-custom-magic-commands/"
   ]
  },
  {
   "cell_type": "markdown",
   "metadata": {},
   "source": [
    "# Custom Magics"
   ]
  },
  {
   "cell_type": "code",
   "execution_count": 8,
   "metadata": {},
   "outputs": [],
   "source": [
    "from IPython.core.magic import (register_line_magic,\n",
    "                                register_cell_magic)"
   ]
  },
  {
   "cell_type": "code",
   "execution_count": 9,
   "metadata": {},
   "outputs": [
    {
     "name": "stdout",
     "output_type": "stream",
     "text": [
      "Good Day!\n",
      "Buenos días!\n"
     ]
    }
   ],
   "source": [
    "@register_line_magic\n",
    "def hello(line):\n",
    "    if line == 'Spanish':\n",
    "        print(\"Buenos días!\")\n",
    "    else:\n",
    "        print(\"Good Day!\")\n",
    "%hello\n",
    "%hello Spanish"
   ]
  },
  {
   "cell_type": "code",
   "execution_count": 15,
   "metadata": {},
   "outputs": [],
   "source": [
    "@register_line_magic\n",
    "def LST(line):\n",
    "    if line == 'LST':\n",
    "        !ls vids/\n",
    "    else:\n",
    "        print(\"NULL\")"
   ]
  },
  {
   "cell_type": "code",
   "execution_count": 16,
   "metadata": {},
   "outputs": [
    {
     "name": "stdout",
     "output_type": "stream",
     "text": [
      " 1280x200out.mp4\r\n",
      " 2019-01-21_17:55.mp4\r\n",
      " 2019-01-21-18-01.mp4\r\n",
      " Bhengs-Sari-Sari-Philippine-Home-Store.mp4\r\n",
      "'Bings House Renovation Update - Constuction in the Philippines.mp4'\r\n",
      " Bings-store-blurry.mp4\r\n",
      " Bings-store.mp4\r\n",
      " BingstoreSharpen.mp4\r\n",
      " credit.mp4\r\n",
      " datcon.mp4\r\n",
      " encoders-codecs.txt\r\n",
      " fadesubtitled-sound.mp4\r\n",
      " FinalSlideshow640.mp4\r\n",
      " first.mp4\r\n",
      " header.mp4\r\n",
      " imagescroll.mp4\r\n",
      " imageslide.mp4\r\n",
      " intro.mp4\r\n",
      " intro.webm\r\n",
      " JOINED.mkv\r\n",
      " JOINED.mp4\r\n",
      " outputveryslow2.mkv\r\n",
      " outputveryslow2.mp4\r\n",
      " outyuv420p.mp4\r\n",
      " overlay-zoom.mp4\r\n",
      " Philippine-Construction-Bhengs-Store-Update.mp4\r\n",
      "'Philippine Construction -Bings Store - Neighbors Baby part 2 of 2.mp4'\r\n",
      " Philippine-Construction-Bings-Store-part1-of-2.mp4\r\n",
      " SharpenBingstore2.mp4\r\n",
      " SharpenBingstore3.mp4\r\n",
      " short2.mp4\r\n",
      " short.mp4\r\n",
      " shortSlideshow640.mp4\r\n",
      " spin5a.mp4\r\n",
      " store.mp4\r\n",
      " subtitled.mp4\r\n",
      " subtitled-sound.mp4\r\n",
      " subtitled-test.mp4\r\n",
      " test2.mkv\r\n",
      " test.mkv\r\n",
      " TESTout2.mp4\r\n",
      " TEXT.mp4\r\n",
      " use-store.mp4\r\n",
      " VIDEO.mp4\r\n",
      " videoslide.mp4\r\n",
      " vid-from-images.mp4\r\n",
      " vid.ogv\r\n",
      " vid.webm\r\n",
      " ZOOM.mp4\r\n",
      " zoom-small2.mp4\r\n",
      " zoom-small.mp4\r\n"
     ]
    }
   ],
   "source": [
    "%LST LST"
   ]
  },
  {
   "cell_type": "markdown",
   "metadata": {},
   "source": [
    "# List Available Cell Magics"
   ]
  },
  {
   "cell_type": "code",
   "execution_count": 3,
   "metadata": {},
   "outputs": [
    {
     "data": {
      "application/json": {
       "cell": {
        "!": "OSMagics",
        "HTML": "Other",
        "SVG": "Other",
        "bash": "Other",
        "capture": "ExecutionMagics",
        "debug": "ExecutionMagics",
        "file": "Other",
        "html": "DisplayMagics",
        "javascript": "DisplayMagics",
        "js": "DisplayMagics",
        "latex": "DisplayMagics",
        "perl": "Other",
        "prun": "ExecutionMagics",
        "pypy": "Other",
        "python": "Other",
        "python2": "Other",
        "python3": "Other",
        "ruby": "Other",
        "script": "ScriptMagics",
        "sh": "Other",
        "svg": "DisplayMagics",
        "sx": "OSMagics",
        "system": "OSMagics",
        "time": "ExecutionMagics",
        "timeit": "ExecutionMagics",
        "writefile": "OSMagics"
       },
       "line": {
        "alias": "OSMagics",
        "alias_magic": "BasicMagics",
        "autocall": "AutoMagics",
        "automagic": "AutoMagics",
        "autosave": "KernelMagics",
        "bookmark": "OSMagics",
        "cat": "Other",
        "cd": "OSMagics",
        "clear": "KernelMagics",
        "colors": "BasicMagics",
        "config": "ConfigMagics",
        "connect_info": "KernelMagics",
        "cp": "Other",
        "debug": "ExecutionMagics",
        "dhist": "OSMagics",
        "dirs": "OSMagics",
        "doctest_mode": "BasicMagics",
        "ed": "Other",
        "edit": "KernelMagics",
        "env": "OSMagics",
        "gui": "BasicMagics",
        "hist": "Other",
        "history": "HistoryMagics",
        "killbgscripts": "ScriptMagics",
        "ldir": "Other",
        "less": "KernelMagics",
        "lf": "Other",
        "lk": "Other",
        "ll": "Other",
        "load": "CodeMagics",
        "load_ext": "ExtensionMagics",
        "loadpy": "CodeMagics",
        "logoff": "LoggingMagics",
        "logon": "LoggingMagics",
        "logstart": "LoggingMagics",
        "logstate": "LoggingMagics",
        "logstop": "LoggingMagics",
        "ls": "Other",
        "lsmagic": "BasicMagics",
        "lx": "Other",
        "macro": "ExecutionMagics",
        "magic": "BasicMagics",
        "man": "KernelMagics",
        "matplotlib": "PylabMagics",
        "mkdir": "Other",
        "more": "KernelMagics",
        "mv": "Other",
        "notebook": "BasicMagics",
        "page": "BasicMagics",
        "pastebin": "CodeMagics",
        "pdb": "ExecutionMagics",
        "pdef": "NamespaceMagics",
        "pdoc": "NamespaceMagics",
        "pfile": "NamespaceMagics",
        "pinfo": "NamespaceMagics",
        "pinfo2": "NamespaceMagics",
        "popd": "OSMagics",
        "pprint": "BasicMagics",
        "precision": "BasicMagics",
        "profile": "BasicMagics",
        "prun": "ExecutionMagics",
        "psearch": "NamespaceMagics",
        "psource": "NamespaceMagics",
        "pushd": "OSMagics",
        "pwd": "OSMagics",
        "pycat": "OSMagics",
        "pylab": "PylabMagics",
        "qtconsole": "KernelMagics",
        "quickref": "BasicMagics",
        "recall": "HistoryMagics",
        "rehashx": "OSMagics",
        "reload_ext": "ExtensionMagics",
        "rep": "Other",
        "rerun": "HistoryMagics",
        "reset": "NamespaceMagics",
        "reset_selective": "NamespaceMagics",
        "rm": "Other",
        "rmdir": "Other",
        "run": "ExecutionMagics",
        "save": "CodeMagics",
        "sc": "OSMagics",
        "set_env": "OSMagics",
        "store": "StoreMagics",
        "sx": "OSMagics",
        "system": "OSMagics",
        "tb": "ExecutionMagics",
        "time": "ExecutionMagics",
        "timeit": "ExecutionMagics",
        "unalias": "OSMagics",
        "unload_ext": "ExtensionMagics",
        "who": "NamespaceMagics",
        "who_ls": "NamespaceMagics",
        "whos": "NamespaceMagics",
        "xdel": "NamespaceMagics",
        "xmode": "BasicMagics"
       }
      },
      "text/plain": [
       "Available line magics:\n",
       "%alias  %alias_magic  %autocall  %automagic  %autosave  %bookmark  %cat  %cd  %clear  %colors  %config  %connect_info  %cp  %debug  %dhist  %dirs  %doctest_mode  %ed  %edit  %env  %gui  %hist  %history  %killbgscripts  %ldir  %less  %lf  %lk  %ll  %load  %load_ext  %loadpy  %logoff  %logon  %logstart  %logstate  %logstop  %ls  %lsmagic  %lx  %macro  %magic  %man  %matplotlib  %mkdir  %more  %mv  %notebook  %page  %pastebin  %pdb  %pdef  %pdoc  %pfile  %pinfo  %pinfo2  %popd  %pprint  %precision  %profile  %prun  %psearch  %psource  %pushd  %pwd  %pycat  %pylab  %qtconsole  %quickref  %recall  %rehashx  %reload_ext  %rep  %rerun  %reset  %reset_selective  %rm  %rmdir  %run  %save  %sc  %set_env  %store  %sx  %system  %tb  %time  %timeit  %unalias  %unload_ext  %who  %who_ls  %whos  %xdel  %xmode\n",
       "\n",
       "Available cell magics:\n",
       "%%!  %%HTML  %%SVG  %%bash  %%capture  %%debug  %%file  %%html  %%javascript  %%js  %%latex  %%perl  %%prun  %%pypy  %%python  %%python2  %%python3  %%ruby  %%script  %%sh  %%svg  %%sx  %%system  %%time  %%timeit  %%writefile\n",
       "\n",
       "Automagic is ON, % prefix IS NOT needed for line magics."
      ]
     },
     "execution_count": 3,
     "metadata": {},
     "output_type": "execute_result"
    }
   ],
   "source": [
    "%lsmagic "
   ]
  },
  {
   "cell_type": "code",
   "execution_count": 11,
   "metadata": {},
   "outputs": [],
   "source": []
  },
  {
   "cell_type": "code",
   "execution_count": null,
   "metadata": {},
   "outputs": [],
   "source": []
  },
  {
   "cell_type": "code",
   "execution_count": null,
   "metadata": {},
   "outputs": [],
   "source": []
  },
  {
   "cell_type": "code",
   "execution_count": null,
   "metadata": {},
   "outputs": [],
   "source": []
  },
  {
   "cell_type": "code",
   "execution_count": null,
   "metadata": {},
   "outputs": [],
   "source": []
  },
  {
   "cell_type": "code",
   "execution_count": null,
   "metadata": {},
   "outputs": [],
   "source": []
  },
  {
   "cell_type": "code",
   "execution_count": null,
   "metadata": {},
   "outputs": [],
   "source": []
  },
  {
   "cell_type": "code",
   "execution_count": null,
   "metadata": {},
   "outputs": [],
   "source": []
  },
  {
   "cell_type": "code",
   "execution_count": null,
   "metadata": {},
   "outputs": [],
   "source": []
  },
  {
   "cell_type": "code",
   "execution_count": null,
   "metadata": {},
   "outputs": [],
   "source": []
  },
  {
   "cell_type": "code",
   "execution_count": null,
   "metadata": {},
   "outputs": [],
   "source": []
  },
  {
   "cell_type": "code",
   "execution_count": null,
   "metadata": {},
   "outputs": [],
   "source": []
  },
  {
   "cell_type": "code",
   "execution_count": null,
   "metadata": {},
   "outputs": [],
   "source": []
  },
  {
   "cell_type": "code",
   "execution_count": null,
   "metadata": {
    "scrolled": true
   },
   "outputs": [],
   "source": []
  },
  {
   "cell_type": "code",
   "execution_count": null,
   "metadata": {},
   "outputs": [],
   "source": []
  },
  {
   "cell_type": "markdown",
   "metadata": {},
   "source": [
    "## Shortcuts \n",
    "Command Mode (press Esc to enable)<br/>\n",
    "<pre>\n",
    "Enter enter   edit mode\n",
    "Shift-Enter   run cell, select below\n",
    "Ctrl-Enter    run cell\n",
    "Alt-Enter     run cell, insert below\n",
    "Y             to code\n",
    "M             to markdown\n",
    "R             to raw\n",
    "1             to heading 1\n",
    "2,3,4,5,6     to heading 2,3,4,5,6\n",
    "Up/K          select cell above\n",
    "Down/J        select cell below\n",
    "A/B           insert cell above/below\n",
    "X             cut selected cell\n",
    "C             copy selected cell\n",
    "Shift-V       paste cell above\n",
    "V             paste cell below\n",
    "Z             undo last cell deletion\n",
    "D,D           delete selected cell\n",
    "Shift-M       merge cell below\n",
    "Ctrl-S        Save and Checkpoint\n",
    "L             toggle line numbers\n",
    "O             toggle output\n",
    "Shift-O       toggle output scrolling\n",
    "Esc           close pager\n",
    "H             show keyboard shortcut help dialog\n",
    "I,I           interrupt kernel\n",
    "0,0           restart kernel\n",
    "Space         scroll down\n",
    "Shift-Space   scroll up\n",
    "Shift ignore\n",
    "\n",
    "</pre>\n",
    "### Edit Mode (press Enter to enable)<br/>\n",
    "<pre>\n",
    "Tab  code&nbsp;&nbsp;&nbsp;&nbsp;&nbsp;&nbsp;    completion or indent\n",
    "Shift-Tab&nbsp;&nbsp;&nbsp;&nbsp;&nbsp;&nbsp;    tooltip\n",
    "Ctrl-]&nbsp;&nbsp;&nbsp;&nbsp;&nbsp;&nbsp;       indent\n",
    "Ctrl-[ &nbsp;&nbsp;&nbsp;&nbsp;&nbsp;&nbsp;      dedent\n",
    "Ctrl-A &nbsp;&nbsp;&nbsp;&nbsp;&nbsp;&nbsp;      select all\n",
    "Ctrl-Z &nbsp;&nbsp;&nbsp;&nbsp;&nbsp;&nbsp;      undo\n",
    "Ctrl-Shift-Z&nbsp;&nbsp;&nbsp;&nbsp;&nbsp;&nbsp; redo\n",
    "Ctrl-Y&nbsp;&nbsp;&nbsp;&nbsp;&nbsp;&nbsp;       redo\n",
    "Ctrl-Home &nbsp;&nbsp;&nbsp;&nbsp;&nbsp;&nbsp;   go to cell start\n",
    "Ctrl-Up &nbsp;&nbsp;&nbsp;&nbsp;&nbsp;&nbsp;     go to cell start\n",
    "Ctrl-End  &nbsp;&nbsp;&nbsp;&nbsp;&nbsp;&nbsp;   go to cell end\n",
    "Ctrl-Down &nbsp;&nbsp;&nbsp;&nbsp;&nbsp;&nbsp;   go to cell end\n",
    "Ctrl-Left&nbsp;&nbsp;&nbsp;&nbsp;&nbsp;&nbsp;    go one word left\n",
    "Ctrl-Right &nbsp;&nbsp;&nbsp;&nbsp;&nbsp;&nbsp;  go one word right\n",
    "Ctrl-Backspace&nbsp;&nbsp;&nbsp;&nbsp;&nbsp;&nbsp; delete word before\n",
    "Ctrl-Delete&nbsp;&nbsp;&nbsp;&nbsp;&nbsp;&nbsp;  delete word after\n",
    "Esc    &nbsp;&nbsp;&nbsp;&nbsp;&nbsp;&nbsp;      command mode\n",
    "Ctrl-M  &nbsp;&nbsp;&nbsp;&nbsp;&nbsp;&nbsp;     command mode\n",
    "Shift-Enter &nbsp;&nbsp;&nbsp;&nbsp;&nbsp;&nbsp; run cell, select below\n",
    "Ctrl-Enter&nbsp;&nbsp;&nbsp;&nbsp;&nbsp;&nbsp;   run cell\n",
    "Alt-Enter&nbsp;&nbsp;&nbsp;&nbsp;&nbsp;&nbsp;    run cell, insert below\n",
    "Ctrl-Shift-Subtract&nbsp;&nbsp;&nbsp;&nbsp;&nbsp;&nbsp; split cell\n",
    "Ctrl-Shift--&nbsp;&nbsp;&nbsp;&nbsp;&nbsp;&nbsp; split cell\n",
    "Ctrl-S  &nbsp;&nbsp;&nbsp;&nbsp;&nbsp;&nbsp;     Save and Checkpoint\n",
    "Up&nbsp;&nbsp;&nbsp;&nbsp;&nbsp;&nbsp;           move cursor up or previous cell\n",
    "Down &nbsp;&nbsp;&nbsp;&nbsp;&nbsp;&nbsp;        move cursor down or next cell\n",
    "Ctrl-/ &nbsp;&nbsp;&nbsp;&nbsp;&nbsp;&nbsp;      toggle comment on current or selected lines\n",
    "</pre>"
   ]
  }
 ],
 "metadata": {
  "kernelspec": {
   "display_name": "Python 2",
   "language": "python",
   "name": "python2"
  },
  "language_info": {
   "codemirror_mode": {
    "name": "ipython",
    "version": 2
   },
   "file_extension": ".py",
   "mimetype": "text/x-python",
   "name": "python",
   "nbconvert_exporter": "python",
   "pygments_lexer": "ipython2",
   "version": "2.7.15rc1"
  },
  "toc": {
   "base_numbering": 1,
   "nav_menu": {
    "height": "173px",
    "width": "160px"
   },
   "number_sections": true,
   "sideBar": true,
   "skip_h1_title": false,
   "title_cell": "Table of Contents",
   "title_sidebar": "Contents",
   "toc_cell": false,
   "toc_position": {},
   "toc_section_display": true,
   "toc_window_display": false
  }
 },
 "nbformat": 4,
 "nbformat_minor": 2
}
