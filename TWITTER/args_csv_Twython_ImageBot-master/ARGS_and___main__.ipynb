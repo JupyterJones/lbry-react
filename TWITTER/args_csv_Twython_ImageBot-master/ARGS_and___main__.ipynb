{
 "cells": [
  {
   "cell_type": "markdown",
   "metadata": {},
   "source": [
    "# Understand ARGS and if __name__ == \"__main__\":"
   ]
  },
  {
   "cell_type": "markdown",
   "metadata": {},
   "source": [
    "!ls"
   ]
  },
  {
   "cell_type": "markdown",
   "metadata": {},
   "source": [
    "# Important note"
   ]
  },
  {
   "cell_type": "code",
   "execution_count": 66,
   "metadata": {
    "collapsed": true
   },
   "outputs": [],
   "source": [
    "%reset -f "
   ]
  },
  {
   "cell_type": "code",
   "execution_count": null,
   "metadata": {
    "collapsed": true
   },
   "outputs": [],
   "source": [
    "%reset -f resets all variables. It is very important when testing script in a notebook. \n",
    "It prevents variables from being carried from cell to cell. \n",
    "an example:\n",
    "    image = Image.open('test.jpg')\n",
    "The object variable stays in memory through the whole notebook until reused/reassigned. \n",
    "If you plan on reusing, remember what you did. I have found when running and testing scripts it is \n",
    "necessary to keep track of vaiables and objects in memory. It is easy to have notebook working fine.\n",
    "Then close it and reopen the next day and it will not work. That is almost always due to vaiables\n",
    "in memory, that you forgot were there.\n",
    "    Or you may copy a nice functioning notebook script in to a file and it will not execute properly, because it was using a \n",
    "variable from another cell.\n",
    "\n",
    "Hint: %reset askes for a confirmation if you use   %reset -f it forces it to release all variables \n",
    "      without confirmation.\n",
    "if you wish to releaseonleone variable simply enter  del ( the variable name ) or ( the variable name ) = None\n",
    "Example:\n",
    "    image = Image.open('test.jpg')\n",
    "    To release the image object / variable above use:\n",
    "        \n",
    "image = None\n",
    "or\n",
    "del image    "
   ]
  },
  {
   "cell_type": "code",
   "execution_count": null,
   "metadata": {
    "collapsed": true
   },
   "outputs": [],
   "source": []
  },
  {
   "cell_type": "markdown",
   "metadata": {
    "collapsed": true
   },
   "source": [
    "'__main__' is the name of the scope in which top-level code executes.\n",
    "A module’s __name__ is set equal to '__main__' when read from standard input, a script, or\n",
    "from an interactive prompt.\n",
    "\n",
    "A module can discover whether or not it is running in the main scope by checking its own __name__,\n",
    "which allows a common idiom for conditionally executing code in a module when it is run as a script \n",
    "or with python -m but not when it is imported:\n",
    "\n",
    "if __name__ == \"__main__\":\n",
    "    # execute only if run as a script\n",
    "    main()\n",
    "\n",
    "Including a __main__.py module, has the same effect for a package if the module is run with -m.\n",
    "e.g.\n",
    "user$ python -m myscript.py\n"
   ]
  },
  {
   "cell_type": "code",
   "execution_count": 33,
   "metadata": {},
   "outputs": [
    {
     "name": "stdout",
     "output_type": "stream",
     "text": [
      "/usr/local/bin/python\r\n"
     ]
    }
   ],
   "source": [
    "!which python"
   ]
  },
  {
   "cell_type": "markdown",
   "metadata": {},
   "source": [
    "# A little about sys.argv"
   ]
  },
  {
   "cell_type": "code",
   "execution_count": null,
   "metadata": {
    "collapsed": true
   },
   "outputs": [],
   "source": [
    "learn by example:"
   ]
  },
  {
   "cell_type": "raw",
   "metadata": {},
   "source": [
    "sys.argv receives the input as a list or a string NOT as an integer.\n",
    "the example below uses sys.argv[1]. That means there is only one argv that will be presented.\n",
    "even if multiple arguments are used only the first will be used.\n",
    "Example 2:\n",
    "    if a = sys.argv[2] is used only the second will be used\n",
    "    \n",
    "Below the string examples is an intro to using integers    "
   ]
  },
  {
   "cell_type": "markdown",
   "metadata": {},
   "source": [
    "#### Example1: Below\n",
    "This example will print only the first arg if multiple args are given."
   ]
  },
  {
   "cell_type": "code",
   "execution_count": 116,
   "metadata": {},
   "outputs": [
    {
     "name": "stdout",
     "output_type": "stream",
     "text": [
      "Overwriting ArgTest1.py\n"
     ]
    }
   ],
   "source": [
    "%%writefile ArgTest1.py\n",
    "#!/usr/local/bin/python\n",
    "import sys\n",
    "a = sys.argv[1]\n",
    "print a"
   ]
  },
  {
   "cell_type": "markdown",
   "metadata": {},
   "source": [
    "##### Notice I am using 2 args but only the first is being used"
   ]
  },
  {
   "cell_type": "code",
   "execution_count": 117,
   "metadata": {},
   "outputs": [
    {
     "name": "stdout",
     "output_type": "stream",
     "text": [
      "456\r\n"
     ]
    }
   ],
   "source": [
    "!python ArgTest1.py 456 721"
   ]
  },
  {
   "cell_type": "raw",
   "metadata": {},
   "source": [
    "------- end example 1"
   ]
  },
  {
   "cell_type": "markdown",
   "metadata": {},
   "source": [
    "#### Example 2: Below\n",
    "This example will print only the second arg if multiple args are given."
   ]
  },
  {
   "cell_type": "code",
   "execution_count": 118,
   "metadata": {},
   "outputs": [
    {
     "name": "stdout",
     "output_type": "stream",
     "text": [
      "Overwriting ArgTest2.py\n"
     ]
    }
   ],
   "source": [
    "%%writefile ArgTest2.py\n",
    "#!/usr/local/bin/python\n",
    "import sys\n",
    "a = sys.argv[2]\n",
    "print a \n",
    "#or \n",
    "print sys.argv[2]\n",
    "# This will print twice to show the argv may be used directly or assigned to a variable."
   ]
  },
  {
   "cell_type": "markdown",
   "metadata": {},
   "source": [
    "notice the amount of args given do not matter it will print the second sys.argv[2]<br />\n",
    "This will prints twice to show the argv may be used directly or assigned to a variable."
   ]
  },
  {
   "cell_type": "code",
   "execution_count": 119,
   "metadata": {},
   "outputs": [
    {
     "name": "stdout",
     "output_type": "stream",
     "text": [
      "721\r\n",
      "721\r\n"
     ]
    }
   ],
   "source": [
    "#ArgTest2.py script executes \" print a\"  AND \" print sys.argv[2] \"\n",
    "!python ArgTest2.py 456 721 34 655"
   ]
  },
  {
   "cell_type": "raw",
   "metadata": {},
   "source": [
    "------- end example 2"
   ]
  },
  {
   "cell_type": "markdown",
   "metadata": {},
   "source": [
    "#### Example 3: Below\n",
    "This example will print all args if multiple args are given."
   ]
  },
  {
   "cell_type": "code",
   "execution_count": 122,
   "metadata": {},
   "outputs": [
    {
     "name": "stdout",
     "output_type": "stream",
     "text": [
      "Overwriting ArgTest3.py\n"
     ]
    }
   ],
   "source": [
    "%%writefile ArgTest3.py\n",
    "#!/usr/local/bin/python\n",
    "import sys\n",
    "# notice the colon after the 1. sys.argv[1:] - turns into a list\n",
    "a,b,c,d,e,f = sys.argv[1:]\n",
    "print sys.argv[1:]\n",
    "#or identify the elements and get the unformated results\n",
    "#to work correctly all 6 elements must be supplied\n",
    "print a,b,c,d,e,f"
   ]
  },
  {
   "cell_type": "code",
   "execution_count": 127,
   "metadata": {},
   "outputs": [
    {
     "name": "stdout",
     "output_type": "stream",
     "text": [
      "['456', '721', '45', '2827', '234', '23']\r\n",
      "456 721 45 2827 234 23\r\n"
     ]
    }
   ],
   "source": [
    "!python ArgTest3.py 456 721 45 2827 234 23"
   ]
  },
  {
   "cell_type": "raw",
   "metadata": {},
   "source": [
    "------- end example 3"
   ]
  },
  {
   "cell_type": "markdown",
   "metadata": {},
   "source": [
    "## notice result concatenates a and b it does not add them\n",
    "They are treated as a string"
   ]
  },
  {
   "cell_type": "code",
   "execution_count": 135,
   "metadata": {},
   "outputs": [
    {
     "name": "stdout",
     "output_type": "stream",
     "text": [
      "Writing ArgInteger.py\n"
     ]
    }
   ],
   "source": [
    "%%writefile ArgInteger.py\n",
    "#!/usr/local/bin/python\n",
    "import sys\n",
    "# notice the colon after the 1. sys.argv[1:]\n",
    "a,b = sys.argv[1:]\n",
    "print a+b"
   ]
  },
  {
   "cell_type": "code",
   "execution_count": 136,
   "metadata": {},
   "outputs": [
    {
     "name": "stdout",
     "output_type": "stream",
     "text": [
      "456721\r\n"
     ]
    }
   ],
   "source": [
    "!python ArgInteger.py 456 721"
   ]
  },
  {
   "cell_type": "markdown",
   "metadata": {},
   "source": [
    "# How to use integers as args"
   ]
  },
  {
   "cell_type": "code",
   "execution_count": 129,
   "metadata": {},
   "outputs": [
    {
     "name": "stdout",
     "output_type": "stream",
     "text": [
      "Writing ArgInteger01.py\n"
     ]
    }
   ],
   "source": [
    "%%writefile ArgInteger01.py\n",
    "#!/usr/local/bin/python\n",
    "import sys\n",
    "# notice the colon after the 1. sys.argv[1:]\n",
    "a,b = sys.argv[1:]\n",
    "a=int(a);b=int(b)\n",
    "print a+b"
   ]
  },
  {
   "cell_type": "code",
   "execution_count": 131,
   "metadata": {},
   "outputs": [
    {
     "name": "stdout",
     "output_type": "stream",
     "text": [
      "1177\r\n"
     ]
    }
   ],
   "source": [
    "!python ArgInteger01.py 456 721"
   ]
  },
  {
   "cell_type": "markdown",
   "metadata": {},
   "source": [
    "# using a float must me declared as a float not as an integer"
   ]
  },
  {
   "cell_type": "code",
   "execution_count": 152,
   "metadata": {},
   "outputs": [
    {
     "name": "stdout",
     "output_type": "stream",
     "text": [
      "Overwriting ArgInteger02.py\n"
     ]
    }
   ],
   "source": [
    "%%writefile ArgInteger02.py\n",
    "#!/usr/local/bin/python\n",
    "import sys\n",
    "# notice the colon after the 1. sys.argv[1:]\n",
    "a,b,c = sys.argv[1:]\n",
    "a=int(a);b=int(b);c=float(c)\n",
    "print (a+b)/c"
   ]
  },
  {
   "cell_type": "code",
   "execution_count": 153,
   "metadata": {},
   "outputs": [
    {
     "name": "stdout",
     "output_type": "stream",
     "text": [
      "374.840764331\r\n"
     ]
    }
   ],
   "source": [
    "!python ArgInteger02.py 456 721 3.14"
   ]
  },
  {
   "cell_type": "markdown",
   "metadata": {},
   "source": [
    "# BELOW WILL NOT WORK\n",
    "The Argv input must be converted to an integer AFTER converted to a variable."
   ]
  },
  {
   "cell_type": "code",
   "execution_count": 137,
   "metadata": {},
   "outputs": [
    {
     "name": "stdout",
     "output_type": "stream",
     "text": [
      "Writing ArgInteger0B.py\n"
     ]
    }
   ],
   "source": [
    "%%writefile ArgInteger0B.py\n",
    "#!/usr/local/bin/python\n",
    "import sys\n",
    "a,b = int(sys.argv[1:])\n",
    "print a+b"
   ]
  },
  {
   "cell_type": "code",
   "execution_count": 138,
   "metadata": {
    "scrolled": true
   },
   "outputs": [
    {
     "name": "stdout",
     "output_type": "stream",
     "text": [
      "Traceback (most recent call last):\r\n",
      "  File \"ArgInteger0B.py\", line 3, in <module>\r\n",
      "    a,b = int(sys.argv[1:])\r\n",
      "TypeError: int() argument must be a string or a number, not 'list'\r\n"
     ]
    }
   ],
   "source": [
    "!python ArgInteger0B.py 456 721"
   ]
  },
  {
   "cell_type": "markdown",
   "metadata": {},
   "source": [
    "# the above is an intentional error"
   ]
  },
  {
   "cell_type": "code",
   "execution_count": 163,
   "metadata": {
    "collapsed": true
   },
   "outputs": [],
   "source": [
    "# The example below eventhough it requires 3 three args only uses thw first and thisrd ( A and C )"
   ]
  },
  {
   "cell_type": "code",
   "execution_count": 164,
   "metadata": {},
   "outputs": [
    {
     "name": "stdout",
     "output_type": "stream",
     "text": [
      "Overwriting ArgInteger03.py\n"
     ]
    }
   ],
   "source": [
    "%%writefile ArgInteger03.py\n",
    "#!/usr/local/bin/python\n",
    "import sys\n",
    "A,B,C = sys.argv[1:]\n",
    "A=int(A);C=int(C)\n",
    "print A+C"
   ]
  },
  {
   "cell_type": "code",
   "execution_count": 165,
   "metadata": {
    "scrolled": true
   },
   "outputs": [
    {
     "name": "stdout",
     "output_type": "stream",
     "text": [
      "20\r\n"
     ]
    }
   ],
   "source": [
    "!python ArgInteger03.py 10 2 10"
   ]
  },
  {
   "cell_type": "markdown",
   "metadata": {},
   "source": [
    "# Practical Examples - CSV view"
   ]
  },
  {
   "cell_type": "code",
   "execution_count": 172,
   "metadata": {},
   "outputs": [
    {
     "name": "stdout",
     "output_type": "stream",
     "text": [
      "Overwriting viewCSV2.py\n"
     ]
    }
   ],
   "source": [
    "%%writefile viewCSV2.py\n",
    "import sys\n",
    "filename = sys.argv[1]\n",
    "print filename"
   ]
  },
  {
   "cell_type": "code",
   "execution_count": 173,
   "metadata": {
    "scrolled": true
   },
   "outputs": [
    {
     "name": "stdout",
     "output_type": "stream",
     "text": [
      "/home/jack/Desktop/deep-dream-generator/notebooks/CSV_DATA/datasets/LakeHuron.csv\r\n"
     ]
    }
   ],
   "source": [
    "!python viewCSV2.py /home/jack/Desktop/deep-dream-generator/notebooks/CSV_DATA/datasets/LakeHuron.csv"
   ]
  },
  {
   "cell_type": "markdown",
   "metadata": {},
   "source": [
    "# ----------------------------"
   ]
  },
  {
   "cell_type": "markdown",
   "metadata": {},
   "source": [
    "# Now open and view the file"
   ]
  },
  {
   "cell_type": "code",
   "execution_count": 260,
   "metadata": {},
   "outputs": [
    {
     "name": "stdout",
     "output_type": "stream",
     "text": [
      "Overwriting viewCSV.py\n"
     ]
    }
   ],
   "source": [
    "%%writefile viewCSV.py\n",
    "#!/usr/local/bin/python\n",
    "import sys\n",
    "filename = sys.argv[1]\n",
    "with open(filename) as myfile:\n",
    "    head = [next(myfile) for x in xrange(6)]\n",
    "    mystring = ''.join(head)\n",
    "    print mystring"
   ]
  },
  {
   "cell_type": "code",
   "execution_count": 261,
   "metadata": {
    "scrolled": true
   },
   "outputs": [
    {
     "name": "stdout",
     "output_type": "stream",
     "text": [
      "\"\",\"time\",\"LakeHuron\"\r\n",
      "\"1\",1875,580.38\r\n",
      "\"2\",1876,581.86\r\n",
      "\"3\",1877,580.97\r\n",
      "\"4\",1878,580.8\r\n",
      "\"5\",1879,579.79\r\n",
      "\r\n"
     ]
    }
   ],
   "source": [
    "!python viewCSV.py /home/jack/Desktop/deep-dream-generator/notebooks/CSV_DATA/datasets/LakeHuron.csv"
   ]
  },
  {
   "cell_type": "markdown",
   "metadata": {},
   "source": [
    "## -------------------------------------------"
   ]
  },
  {
   "cell_type": "code",
   "execution_count": 191,
   "metadata": {},
   "outputs": [
    {
     "name": "stdout",
     "output_type": "stream",
     "text": [
      "Overwriting viewCSV01.py\n"
     ]
    }
   ],
   "source": [
    "%%writefile viewCSV01.py\n",
    "import sys\n",
    "#filename = \"/home/jack/Desktop/deep-dream-generator/notebooks/CSV_DATA/datasets/LakeHuron.csv\"\n",
    "#filename = sys.argv[1:]\n",
    "input1 = sys.argv[1]\n",
    "with open(input1) as myfile:\n",
    "    head = [next(myfile) for x in xrange(6)]\n",
    "    xx = \"info :\"\n",
    "    dd=xx.join(head)\n",
    "    print dd"
   ]
  },
  {
   "cell_type": "code",
   "execution_count": 192,
   "metadata": {
    "scrolled": true
   },
   "outputs": [
    {
     "name": "stdout",
     "output_type": "stream",
     "text": [
      "\"\",\"time\",\"LakeHuron\"\r\n",
      "info :\"1\",1875,580.38\r\n",
      "info :\"2\",1876,581.86\r\n",
      "info :\"3\",1877,580.97\r\n",
      "info :\"4\",1878,580.8\r\n",
      "info :\"5\",1879,579.79\r\n",
      "\r\n"
     ]
    }
   ],
   "source": [
    "!python viewCSV01.py /home/jack/Desktop/deep-dream-generator/notebooks/CSV_DATA/datasets/LakeHuron.csv"
   ]
  },
  {
   "cell_type": "markdown",
   "metadata": {},
   "source": [
    "# EXAMPLE:\n",
    "## Dec2Year.py Change a decimal year into full readable year."
   ]
  },
  {
   "cell_type": "code",
   "execution_count": 234,
   "metadata": {},
   "outputs": [
    {
     "name": "stdout",
     "output_type": "stream",
     "text": [
      "Overwriting Year2Dec.py\n"
     ]
    }
   ],
   "source": [
    "%%writefile Dec2Year.py\n",
    "from datetime import timedelta, datetime\n",
    "import sys\n",
    "input1 = sys.argv[1]\n",
    "number = float(input1)\n",
    "def ConvertDecimalYear(number):\n",
    "    year = int(number)\n",
    "    d = timedelta(days=(number - year)*365)\n",
    "    day_one = datetime(year,1,1)\n",
    "    date = d + day_one\n",
    "    without = date.replace(microsecond=0)\n",
    "    return without\n",
    "\n",
    "print ConvertDecimalYear(number)"
   ]
  },
  {
   "cell_type": "code",
   "execution_count": 236,
   "metadata": {},
   "outputs": [
    {
     "name": "stdout",
     "output_type": "stream",
     "text": [
      "1972-05-01 18:53:30\r\n"
     ]
    }
   ],
   "source": [
    "!python Year2Dec.py  1972.333663448"
   ]
  },
  {
   "cell_type": "code",
   "execution_count": null,
   "metadata": {
    "collapsed": true
   },
   "outputs": [],
   "source": [
    "# mySum.py Example"
   ]
  },
  {
   "cell_type": "code",
   "execution_count": 276,
   "metadata": {},
   "outputs": [
    {
     "name": "stdout",
     "output_type": "stream",
     "text": [
      "Overwriting date2decimel.py\n"
     ]
    }
   ],
   "source": [
    "%%writefile date2decimel.py\n",
    "#!/usr/local/bin/python\n",
    "import sys\n",
    "MonthNum = int(sys.argv[1]) \n",
    "DateI = int(sys.argv[2])\n",
    "mn = (MonthNum-1)*30.14\n",
    "r = mn+DateI-1\n",
    "op = 365.25/r-365.25\n",
    "print \"fraction: \",r/365.25\n",
    "print \"\\n\"\n",
    "print \"Notice the change format of print after being turned into an object\"\n",
    "fraction = \"fraction: \",r/365.25\n",
    "print fraction"
   ]
  },
  {
   "cell_type": "code",
   "execution_count": 239,
   "metadata": {},
   "outputs": [
    {
     "name": "stdout",
     "output_type": "stream",
     "text": [
      "fraction:  0.794688569473\r\n",
      "\r\n",
      "\r\n",
      "Notice the change format of print after being turned into an object\r\n",
      "('fraction: ', 0.7946885694729637)\r\n"
     ]
    }
   ],
   "source": [
    "!python date2decimel.py 10 20"
   ]
  },
  {
   "cell_type": "code",
   "execution_count": 245,
   "metadata": {},
   "outputs": [
    {
     "name": "stdout",
     "output_type": "stream",
     "text": [
      "Overwriting DEC2year.py\n"
     ]
    }
   ],
   "source": [
    "%%writefile DEC2year.py\n",
    "import calendar\n",
    "import sys\n",
    "fract = float(sys.argv[1]) \n",
    "days=(365.25*fract)+30.4166;months = (days/30.4166)\n",
    "wholeMonth = int(months);monthname=calendar.month_name[wholeMonth]\n",
    "days=(months-wholeMonth)*24;wholeDay= int(days)\n",
    "hours = (days-wholeDay)*60;wholeHour=int(hours)\n",
    "minutes = (hours-wholeHour)*60;minute = int(minutes)\n",
    "sec = int((minutes-minute)*60)\n",
    "print \"Date:\",monthname,wholeDay,wholeHour,minute,sec \n"
   ]
  },
  {
   "cell_type": "code",
   "execution_count": 246,
   "metadata": {},
   "outputs": [
    {
     "name": "stdout",
     "output_type": "stream",
     "text": [
      "Date: October 13 1 39 15\r\n"
     ]
    }
   ],
   "source": [
    "!python DEC2year.py .7946885694729637"
   ]
  },
  {
   "cell_type": "markdown",
   "metadata": {},
   "source": [
    "# -------------------------------"
   ]
  },
  {
   "cell_type": "code",
   "execution_count": 362,
   "metadata": {},
   "outputs": [
    {
     "name": "stdout",
     "output_type": "stream",
     "text": [
      "co2\n",
      "315.42\n",
      "316.31\n",
      "316.50\n",
      "317.56\n",
      "318.13\n",
      "318.00\n",
      "316.39\n",
      "314.65\n",
      "313.68\n",
      "313.18\n",
      "314.66\n",
      "315.43\n",
      "316.27\n",
      "316.81\n",
      "317.42\n",
      "318.87\n",
      "319.87\n",
      "319.43\n",
      "318.01\n",
      "315.74\n",
      "314.00\n",
      "313.68\n",
      "314.84\n",
      "316.03\n",
      "316.73\n",
      "317.54\n",
      "318.38\n",
      "319.31\n",
      "320.42\n",
      "319.61\n",
      "318.42\n",
      "316.63\n",
      "314.83\n",
      "315.16\n",
      "315.94\n",
      "316.85\n",
      "317.78\n",
      "318.40\n",
      "319.53\n",
      "320.42\n",
      "320.85\n",
      "320.45\n",
      "319.45\n",
      "317.25\n",
      "316.11\n",
      "315.27\n",
      "316.53\n",
      "317.53\n",
      "318.58\n",
      "318.92\n",
      "319.70\n",
      "321.22\n",
      "322.08\n",
      "321.31\n",
      "319.58\n",
      "317.61\n",
      "316.05\n",
      "315.83\n",
      "316.91\n",
      "318.20\n",
      "319.41\n",
      "320.07\n",
      "320.74\n",
      "321.40\n",
      "322.06\n",
      "321.73\n",
      "320.27\n",
      "318.54\n",
      "316.54\n",
      "316.71\n",
      "317.53\n",
      "318.55\n",
      "319.27\n",
      "320.28\n",
      "320.73\n",
      "321.97\n",
      "322.00\n",
      "321.71\n",
      "321.05\n",
      "318.71\n",
      "317.66\n",
      "317.14\n",
      "318.70\n",
      "319.25\n",
      "320.46\n",
      "321.43\n",
      "322.23\n",
      "323.54\n",
      "323.91\n",
      "323.59\n",
      "322.24\n",
      "320.20\n",
      "318.48\n",
      "317.94\n",
      "319.63\n",
      "320.87\n",
      "322.17\n",
      "322.34\n",
      "322.88\n",
      "324.25\n",
      "324.83\n",
      "323.93\n",
      "322.38\n",
      "320.76\n",
      "319.10\n",
      "319.24\n",
      "320.56\n",
      "321.80\n",
      "322.40\n",
      "322.99\n",
      "323.73\n",
      "324.86\n",
      "325.40\n",
      "325.20\n",
      "323.98\n",
      "321.95\n",
      "320.18\n",
      "320.09\n",
      "321.16\n",
      "322.74\n",
      "323.83\n",
      "324.26\n",
      "325.47\n",
      "326.50\n",
      "327.21\n",
      "326.54\n",
      "325.72\n",
      "323.50\n",
      "322.22\n",
      "321.62\n",
      "322.69\n",
      "323.95\n",
      "324.89\n",
      "325.82\n",
      "326.77\n",
      "327.97\n",
      "327.91\n",
      "327.50\n",
      "326.18\n",
      "324.53\n",
      "322.93\n",
      "322.90\n",
      "323.85\n",
      "324.96\n",
      "326.01\n",
      "326.51\n",
      "327.01\n",
      "327.62\n",
      "328.76\n",
      "328.40\n",
      "327.20\n",
      "325.27\n",
      "323.20\n",
      "323.40\n",
      "324.63\n",
      "325.85\n",
      "326.60\n",
      "327.47\n",
      "327.58\n",
      "329.56\n",
      "329.90\n",
      "328.92\n",
      "327.88\n",
      "326.16\n",
      "324.68\n",
      "325.04\n",
      "326.34\n",
      "327.39\n",
      "328.37\n",
      "329.40\n",
      "330.14\n",
      "331.33\n",
      "332.31\n",
      "331.90\n",
      "330.70\n",
      "329.15\n",
      "327.35\n",
      "327.02\n",
      "327.99\n",
      "328.48\n",
      "329.18\n",
      "330.55\n",
      "331.32\n",
      "332.48\n",
      "332.92\n",
      "332.08\n",
      "331.01\n",
      "329.23\n",
      "327.27\n",
      "327.21\n",
      "328.29\n",
      "329.41\n",
      "330.23\n",
      "331.25\n",
      "331.87\n",
      "333.14\n",
      "333.80\n",
      "333.43\n",
      "331.73\n",
      "329.90\n",
      "328.40\n",
      "328.17\n",
      "329.32\n",
      "330.59\n",
      "331.58\n",
      "332.39\n",
      "333.33\n",
      "334.41\n",
      "334.71\n",
      "334.17\n",
      "332.89\n",
      "330.77\n",
      "329.14\n",
      "328.78\n",
      "330.14\n",
      "331.52\n",
      "332.75\n",
      "333.24\n",
      "334.53\n",
      "335.90\n",
      "336.57\n",
      "336.10\n",
      "334.76\n",
      "332.59\n",
      "331.42\n",
      "330.98\n",
      "332.24\n",
      "333.68\n",
      "334.80\n",
      "335.22\n",
      "336.47\n",
      "337.59\n",
      "337.84\n",
      "337.72\n",
      "336.37\n",
      "334.51\n",
      "332.60\n",
      "332.38\n",
      "333.75\n",
      "334.78\n",
      "336.05\n",
      "336.59\n",
      "337.79\n",
      "338.71\n",
      "339.30\n",
      "339.12\n",
      "337.56\n",
      "335.92\n",
      "333.75\n",
      "333.70\n",
      "335.12\n",
      "336.56\n",
      "337.84\n",
      "338.19\n",
      "339.91\n",
      "340.60\n",
      "341.29\n",
      "341.00\n",
      "339.39\n",
      "337.43\n",
      "335.72\n",
      "335.84\n",
      "336.93\n",
      "338.04\n",
      "339.06\n",
      "340.30\n",
      "341.21\n",
      "342.33\n",
      "342.74\n",
      "342.08\n",
      "340.32\n",
      "338.26\n",
      "336.52\n",
      "336.68\n",
      "338.19\n",
      "339.44\n",
      "340.57\n",
      "341.44\n",
      "342.53\n",
      "343.39\n",
      "343.96\n",
      "343.18\n",
      "341.88\n",
      "339.65\n",
      "337.81\n",
      "337.69\n",
      "339.09\n",
      "340.32\n",
      "341.20\n",
      "342.35\n",
      "342.93\n",
      "344.77\n",
      "345.58\n",
      "345.14\n",
      "343.81\n",
      "342.21\n",
      "339.69\n",
      "339.82\n",
      "340.98\n",
      "342.82\n",
      "343.52\n",
      "344.33\n",
      "345.11\n",
      "346.88\n",
      "347.25\n",
      "346.62\n",
      "345.22\n",
      "343.11\n",
      "340.90\n",
      "341.18\n",
      "342.80\n",
      "344.04\n",
      "344.79\n",
      "345.82\n",
      "347.25\n",
      "348.17\n",
      "348.74\n",
      "348.07\n",
      "346.38\n",
      "344.51\n",
      "342.92\n",
      "342.62\n",
      "344.06\n",
      "345.38\n",
      "346.11\n",
      "346.78\n",
      "347.68\n",
      "349.37\n",
      "350.03\n",
      "349.37\n",
      "347.76\n",
      "345.73\n",
      "344.68\n",
      "343.99\n",
      "345.48\n",
      "346.72\n",
      "347.84\n",
      "348.29\n",
      "349.23\n",
      "350.80\n",
      "351.66\n",
      "351.07\n",
      "349.33\n",
      "347.92\n",
      "346.27\n",
      "346.18\n",
      "347.64\n",
      "348.78\n",
      "350.25\n",
      "351.54\n",
      "352.05\n",
      "353.41\n",
      "354.04\n",
      "353.62\n",
      "352.22\n",
      "350.27\n",
      "348.55\n",
      "348.72\n",
      "349.91\n",
      "351.18\n",
      "352.60\n",
      "352.92\n",
      "353.53\n",
      "355.26\n",
      "355.52\n",
      "354.97\n",
      "353.75\n",
      "351.52\n",
      "349.64\n",
      "349.83\n",
      "351.14\n",
      "352.37\n",
      "353.50\n",
      "354.55\n",
      "355.23\n",
      "356.04\n",
      "357.00\n",
      "356.07\n",
      "354.67\n",
      "352.76\n",
      "350.82\n",
      "351.04\n",
      "352.69\n",
      "354.07\n",
      "354.59\n",
      "355.63\n",
      "357.03\n",
      "358.48\n",
      "359.22\n",
      "358.12\n",
      "356.06\n",
      "353.92\n",
      "352.05\n",
      "352.11\n",
      "353.64\n",
      "354.89\n",
      "355.88\n",
      "356.63\n",
      "357.72\n",
      "359.07\n",
      "359.58\n",
      "359.17\n",
      "356.94\n",
      "354.92\n",
      "352.94\n",
      "353.23\n",
      "354.09\n",
      "355.33\n",
      "356.63\n",
      "357.10\n",
      "358.32\n",
      "359.41\n",
      "360.23\n",
      "359.55\n",
      "357.53\n",
      "355.48\n",
      "353.67\n",
      "353.95\n",
      "355.30\n",
      "356.78\n",
      "358.34\n",
      "358.89\n",
      "359.95\n",
      "361.25\n",
      "361.67\n",
      "360.94\n",
      "359.55\n",
      "357.49\n",
      "355.84\n",
      "356.00\n",
      "357.59\n",
      "359.05\n",
      "359.98\n",
      "361.03\n",
      "361.66\n",
      "363.48\n",
      "363.82\n",
      "363.30\n",
      "361.94\n",
      "359.50\n",
      "358.11\n",
      "357.80\n",
      "359.61\n",
      "360.74\n",
      "362.09\n",
      "363.29\n",
      "364.06\n",
      "364.76\n",
      "365.45\n",
      "365.01\n",
      "363.70\n",
      "361.54\n",
      "359.51\n",
      "359.65\n",
      "360.80\n",
      "362.38\n",
      "363.23\n",
      "364.06\n",
      "364.61\n",
      "366.40\n",
      "366.84\n",
      "365.68\n",
      "364.52\n",
      "362.57\n",
      "360.24\n",
      "360.83\n",
      "362.49\n",
      "364.34\n"
     ]
    }
   ],
   "source": [
    "import pandas as pd\n",
    "from datetime import datetime\n",
    "import csv\n",
    "import matplotlib.pyplot as plt\n",
    "import matplotlib.dates as mdates\n",
    "CsvPath =\"../deep-dream-generator/notebooks/CSV_DATA/datasets/co2.csv\"\n",
    "#df = pd.read_csv(CsvPath,  usecols=\"co2\")\n",
    "data = pd.read_csv(CsvPath, usecols=[2])\n",
    "print data.to_string(index=False)"
   ]
  },
  {
   "cell_type": "code",
   "execution_count": 253,
   "metadata": {},
   "outputs": [
    {
     "name": "stdout",
     "output_type": "stream",
     "text": [
      "        co2\n",
      "0    315.42\n",
      "1    316.31\n",
      "2    316.50\n",
      "3    317.56\n",
      "4    318.13\n",
      "5    318.00\n",
      "6    316.39\n",
      "7    314.65\n",
      "8    313.68\n",
      "9    313.18\n",
      "10   314.66\n",
      "11   315.43\n",
      "12   316.27\n",
      "13   316.81\n",
      "14   317.42\n",
      "15   318.87\n",
      "16   319.87\n",
      "17   319.43\n",
      "18   318.01\n",
      "19   315.74\n",
      "20   314.00\n",
      "21   313.68\n",
      "22   314.84\n",
      "23   316.03\n",
      "24   316.73\n",
      "25   317.54\n",
      "26   318.38\n",
      "27   319.31\n",
      "28   320.42\n",
      "29   319.61\n",
      "..      ...\n",
      "438  361.94\n",
      "439  359.50\n",
      "440  358.11\n",
      "441  357.80\n",
      "442  359.61\n",
      "443  360.74\n",
      "444  362.09\n",
      "445  363.29\n",
      "446  364.06\n",
      "447  364.76\n",
      "448  365.45\n",
      "449  365.01\n",
      "450  363.70\n",
      "451  361.54\n",
      "452  359.51\n",
      "453  359.65\n",
      "454  360.80\n",
      "455  362.38\n",
      "456  363.23\n",
      "457  364.06\n",
      "458  364.61\n",
      "459  366.40\n",
      "460  366.84\n",
      "461  365.68\n",
      "462  364.52\n",
      "463  362.57\n",
      "464  360.24\n",
      "465  360.83\n",
      "466  362.49\n",
      "467  364.34\n",
      "\n",
      "[468 rows x 1 columns]\n"
     ]
    }
   ],
   "source": [
    "import pandas as pd\n",
    "from datetime import datetime\n",
    "import csv\n",
    "import matplotlib.pyplot as plt\n",
    "import matplotlib.dates as mdates\n",
    "CsvPath =\"../deep-dream-generator/notebooks/CSV_DATA/datasets/co2.csv\"\n",
    "#df = pd.read_csv(CsvPath,  usecols=\"co2\")\n",
    "data = pd.read_csv(CsvPath, usecols=[2])\n",
    "print data"
   ]
  },
  {
   "cell_type": "code",
   "execution_count": 258,
   "metadata": {},
   "outputs": [
    {
     "name": "stdout",
     "output_type": "stream",
     "text": [
      "            time\n",
      "0    1959.000000\n",
      "1    1959.083333\n",
      "2    1959.166667\n",
      "3    1959.250000\n",
      "4    1959.333333\n",
      "5    1959.416667\n",
      "6    1959.500000\n",
      "7    1959.583333\n",
      "8    1959.666667\n",
      "9    1959.750000\n",
      "10   1959.833333\n",
      "11   1959.916667\n",
      "12   1960.000000\n",
      "13   1960.083333\n",
      "14   1960.166667\n",
      "15   1960.250000\n",
      "16   1960.333333\n",
      "17   1960.416667\n",
      "18   1960.500000\n",
      "19   1960.583333\n",
      "20   1960.666667\n",
      "21   1960.750000\n",
      "22   1960.833333\n",
      "23   1960.916667\n",
      "24   1961.000000\n",
      "25   1961.083333\n",
      "26   1961.166667\n",
      "27   1961.250000\n",
      "28   1961.333333\n",
      "29   1961.416667\n",
      "..           ...\n",
      "438  1995.500000\n",
      "439  1995.583333\n",
      "440  1995.666667\n",
      "441  1995.750000\n",
      "442  1995.833333\n",
      "443  1995.916667\n",
      "444  1996.000000\n",
      "445  1996.083333\n",
      "446  1996.166667\n",
      "447  1996.250000\n",
      "448  1996.333333\n",
      "449  1996.416667\n",
      "450  1996.500000\n",
      "451  1996.583333\n",
      "452  1996.666667\n",
      "453  1996.750000\n",
      "454  1996.833333\n",
      "455  1996.916667\n",
      "456  1997.000000\n",
      "457  1997.083333\n",
      "458  1997.166667\n",
      "459  1997.250000\n",
      "460  1997.333333\n",
      "461  1997.416667\n",
      "462  1997.500000\n",
      "463  1997.583333\n",
      "464  1997.666667\n",
      "465  1997.750000\n",
      "466  1997.833333\n",
      "467  1997.916667\n",
      "\n",
      "[468 rows x 1 columns]\n"
     ]
    }
   ],
   "source": [
    "import pandas as pd\n",
    "from datetime import datetime\n",
    "import csv\n",
    "import matplotlib.pyplot as plt\n",
    "import matplotlib.dates as mdates\n",
    "df = pd.read_csv(\"../deep-dream-generator/notebooks/CSV_DATA/datasets/co2.csv\",  usecols=[1])\n",
    "print df"
   ]
  },
  {
   "cell_type": "code",
   "execution_count": 350,
   "metadata": {},
   "outputs": [
    {
     "name": "stdout",
     "output_type": "stream",
     "text": [
      "Overwriting SeeCSV.py\n"
     ]
    }
   ],
   "source": [
    "%%writefile SeeCSV.py\n",
    "#!/usr/local/bin/python\n",
    "# filename and amount of rows to view\n",
    "import sys\n",
    "filename, row = sys.argv[1:]\n",
    "Nn = int(row)\n",
    "with open(filename) as myfile:\n",
    "    head = [next(myfile) for x in xrange(Nn)]\n",
    "    mystring = ''.join(head)\n",
    "    print mystring"
   ]
  },
  {
   "cell_type": "code",
   "execution_count": 351,
   "metadata": {},
   "outputs": [
    {
     "name": "stdout",
     "output_type": "stream",
     "text": [
      "\"\",\"time\",\"co2\"\r\n",
      "\"1\",1959,315.42\r\n",
      "\"2\",1959.08333333334,316.31\r\n",
      "\"3\",1959.16666666668,316.5\r\n",
      "\"4\",1959.25000000002,317.56\r\n",
      "\"5\",1959.33333333336,318.13\r\n",
      "\"6\",1959.4166666667,318\r\n",
      "\"7\",1959.50000000004,316.39\r\n",
      "\r\n"
     ]
    }
   ],
   "source": [
    "!python SeeCSV.py /home/jack/Desktop/deep-dream-generator/notebooks/CSV_DATA/datasets/co2.csv 8"
   ]
  },
  {
   "cell_type": "code",
   "execution_count": 292,
   "metadata": {},
   "outputs": [
    {
     "name": "stdout",
     "output_type": "stream",
     "text": [
      "Overwriting SeeCSV2.py\n"
     ]
    }
   ],
   "source": [
    "%%writefile SeeCSV2.py\n",
    "#!/usr/local/bin/python\n",
    "# filename and amount of rows to view\n",
    "import sys\n",
    "def main():    \n",
    "    filename, row = sys.argv[1:]\n",
    "    Nn = int(row)\n",
    "    with open(filename) as myfile:\n",
    "        head = [next(myfile) for x in xrange(Nn)]\n",
    "        mystring = ''.join(head)\n",
    "        print mystring\n",
    "        \n",
    "if __name__ == \"__main__\":\n",
    "    main()"
   ]
  },
  {
   "cell_type": "markdown",
   "metadata": {},
   "source": [
    "## Run SeeCSV3.py Straight from the python command SeeCSV3.py\n",
    "## Or use as a module"
   ]
  },
  {
   "cell_type": "code",
   "execution_count": 374,
   "metadata": {
    "collapsed": true
   },
   "outputs": [],
   "source": [
    "%reset -f"
   ]
  },
  {
   "cell_type": "code",
   "execution_count": 373,
   "metadata": {},
   "outputs": [
    {
     "name": "stdout",
     "output_type": "stream",
     "text": [
      "Overwriting SeeCSV3.py\n"
     ]
    }
   ],
   "source": [
    "%%writefile SeeCSV3.py\n",
    "#!/usr/local/bin/python\n",
    "# filename and amount of rows to view\n",
    "import sys\n",
    "filename = str(sys.argv[1])\n",
    "row = int(sys.argv[1])\n",
    "#Nn = int(row)\n",
    "def main(filename, row):    \n",
    "    \n",
    "    with open(filename) as myfile:\n",
    "        head = [next(myfile) for x in xrange(row)]\n",
    "        mystring = ''.join(head)\n",
    "        print mystring\n",
    "        \n",
    "if __name__ == \"__main__\":\n",
    "    main(filename, row)"
   ]
  },
  {
   "cell_type": "code",
   "execution_count": 376,
   "metadata": {},
   "outputs": [
    {
     "name": "stdout",
     "output_type": "stream",
     "text": [
      "Writing test.py\n"
     ]
    }
   ],
   "source": [
    "%%writefile test.py\n",
    "import sys\n",
    "filename = sys.argv[1]\n",
    "row = sys.argv[2]\n",
    "Nn = int(row)\n",
    "print filename,Nn"
   ]
  },
  {
   "cell_type": "code",
   "execution_count": 379,
   "metadata": {},
   "outputs": [
    {
     "name": "stdout",
     "output_type": "stream",
     "text": [
      "34 646\r\n"
     ]
    }
   ],
   "source": [
    "!python test.py 34 646"
   ]
  },
  {
   "cell_type": "code",
   "execution_count": 390,
   "metadata": {},
   "outputs": [
    {
     "name": "stdout",
     "output_type": "stream",
     "text": [
      "Overwriting SeeCSV3.py\n"
     ]
    }
   ],
   "source": [
    "%%writefile SeeCSV3.py\n",
    "#!/usr/local/bin/python\n",
    "# filename and amount of rows to view\n",
    "import sys\n",
    "filename = sys.argv[1]\n",
    "row = sys.argv[2]\n",
    "\n",
    "def main(filename, row):    \n",
    "    \n",
    "    with open(filename) as myfile:\n",
    "        Nn = int(row)\n",
    "        head = [next(myfile) for x in xrange(Nn)]\n",
    "        Mstring=''.join(head)\n",
    "        print Mstring\n",
    "\n",
    "if __name__ == \"__main__\":\n",
    "    main(filename, row)"
   ]
  },
  {
   "cell_type": "code",
   "execution_count": 392,
   "metadata": {},
   "outputs": [
    {
     "name": "stdout",
     "output_type": "stream",
     "text": [
      "airmiles.csv\t   JohnsonJohnson.csv\t   stackloss.csv\r\n",
      "AirPassengers.csv  LakeHuron.csv\t   sunspot.month.csv\r\n",
      "airquality.csv\t   lh.csv\t\t   sunspots.csv\r\n",
      "anscombe.csv\t   LifeCycleSavings.csv    sunspot.year.csv\r\n",
      "attenu.csv\t   longley.csv\t\t   swiss.csv\r\n",
      "attitude.csv\t   lynx.csv\t\t   Titanic.csv\r\n",
      "austres.csv\t   morley.csv\t\t   ToothGrowth.csv\r\n",
      "BJsales.csv\t   mtcars.csv\t\t   treering.csv\r\n",
      "BOD.csv\t\t   nhtemp.csv\t\t   trees.csv\r\n",
      "cars.csv\t   Nile.csv\t\t   UCBAdmissions.csv\r\n",
      "chickwts.csv\t   nottem.csv\t\t   UKDriverDeaths.csv\r\n",
      "co2.csv\t\t   npk.csv\t\t   UKgas.csv\r\n",
      "crimtab.csv\t   occupationalStatus.csv  USAccDeaths.csv\r\n",
      "discoveries.csv    OrchardSprays.csv\t   USArrests.csv\r\n",
      "esoph.csv\t   PlantGrowth.csv\t   USJudgeRatings.csv\r\n",
      "euro.csv\t   precip.csv\t\t   USPersonalExpenditure.csv\r\n",
      "faithful.csv\t   presidents.csv\t   uspop.csv\r\n",
      "Formaldehyde.csv   pressure.csv\t\t   VADeaths.csv\r\n",
      "freeny.csv\t   Puromycin.csv\t   volcano.csv\r\n",
      "HairEyeColor.csv   quakes.csv\t\t   warpbreaks.csv\r\n",
      "infert.csv\t   randu.csv\t\t   women.csv\r\n",
      "InsectSprays.csv   rivers.csv\t\t   WorldPhones.csv\r\n",
      "iris.csv\t   rock.csv\t\t   WWWusage.csv\r\n",
      "islands.csv\t   sleep.csv\r\n"
     ]
    }
   ],
   "source": [
    "!ls ../deep-dream-generator/notebooks/CSV_DATA/datasets"
   ]
  },
  {
   "cell_type": "code",
   "execution_count": 391,
   "metadata": {},
   "outputs": [
    {
     "name": "stdout",
     "output_type": "stream",
     "text": [
      "\"\",\"time\",\"co2\"\r\n",
      "\"1\",1959,315.42\r\n",
      "\"2\",1959.08333333334,316.31\r\n",
      "\"3\",1959.16666666668,316.5\r\n",
      "\"4\",1959.25000000002,317.56\r\n",
      "\"5\",1959.33333333336,318.13\r\n",
      "\"6\",1959.4166666667,318\r\n",
      "\"7\",1959.50000000004,316.39\r\n",
      "\r\n"
     ]
    }
   ],
   "source": [
    "!python SeeCSV3.py /home/jack/Desktop/deep-dream-generator/notebooks/CSV_DATA/datasets/co2.csv 8"
   ]
  },
  {
   "cell_type": "code",
   "execution_count": 372,
   "metadata": {},
   "outputs": [
    {
     "name": "stdout",
     "output_type": "stream",
     "text": [
      "\"\",\"time\",\"co2\"\n",
      "\"1\",1959,315.42\n",
      "\"2\",1959.08333333334,316.31\n",
      "\"3\",1959.16666666668,316.5\n",
      "\"4\",1959.25000000002,317.56\n",
      "\"5\",1959.33333333336,318.13\n",
      "\"6\",1959.4166666667,318\n",
      "\"7\",1959.50000000004,316.39\n",
      "\n"
     ]
    }
   ],
   "source": [
    "import SeeCSV3\n",
    "filename = \"/home/jack/Desktop/deep-dream-generator/notebooks/CSV_DATA/datasets/co2.csv\"\n",
    "row= 8\n",
    "SeeCSV3.main(filename,row)"
   ]
  },
  {
   "cell_type": "code",
   "execution_count": 139,
   "metadata": {},
   "outputs": [
    {
     "name": "stdout",
     "output_type": "stream",
     "text": [
      "[356, 'b', 'c']\n"
     ]
    }
   ],
   "source": [
    "list = [[356], ['b'], ['c']]\n",
    "newList = [l[0] for l in list]\n",
    "print newList"
   ]
  },
  {
   "cell_type": "code",
   "execution_count": 141,
   "metadata": {},
   "outputs": [
    {
     "name": "stdout",
     "output_type": "stream",
     "text": [
      "365, b, c\n"
     ]
    }
   ],
   "source": [
    "# The 365 MUST be a string not a number\n",
    "List = [['365'], ['b'], ['c']]\n",
    "newList = [l[0] for l in List]\n",
    "Simple = (\", \".join(newList))\n",
    "print Simple"
   ]
  },
  {
   "cell_type": "code",
   "execution_count": 143,
   "metadata": {},
   "outputs": [
    {
     "data": {
      "text/plain": [
       "\"[356],['b'],['c']\""
      ]
     },
     "execution_count": 143,
     "metadata": {},
     "output_type": "execute_result"
    }
   ],
   "source": [
    "List = [[356], ['b'], ['c']]\n",
    "\",\".join(str(x) for x in List)"
   ]
  },
  {
   "cell_type": "code",
   "execution_count": 127,
   "metadata": {},
   "outputs": [
    {
     "name": "stdout",
     "output_type": "stream",
     "text": [
      "a b c\n"
     ]
    }
   ],
   "source": [
    "List = [['a'], ['b'], ['c']]\n",
    "newList = [l[0] for l in List]\n",
    "Simple = (\" \".join(newList))\n",
    "print Simple"
   ]
  },
  {
   "cell_type": "code",
   "execution_count": 138,
   "metadata": {},
   "outputs": [
    {
     "data": {
      "text/plain": [
       "\"[[356], ['b'], ['c']]\""
      ]
     },
     "execution_count": 138,
     "metadata": {},
     "output_type": "execute_result"
    }
   ],
   "source": [
    "List = [[356], ['b'], ['c']]\n",
    "str(List)\n"
   ]
  },
  {
   "cell_type": "code",
   "execution_count": 153,
   "metadata": {},
   "outputs": [
    {
     "name": "stdout",
     "output_type": "stream",
     "text": [
      "356],['b'],['c'\n"
     ]
    }
   ],
   "source": [
    "#A great variety can be done with this 1:-1 for instance 4:-2 removes the first 4 and last 2\n",
    "List = [[356], ['b'], ['c']]\n",
    "newstring = \",\".join(str(x) for x in List)\n",
    "\n",
    "print str(newstring)[1:-1]\n"
   ]
  },
  {
   "cell_type": "code",
   "execution_count": 128,
   "metadata": {},
   "outputs": [
    {
     "name": "stdout",
     "output_type": "stream",
     "text": [
      "this is testing\n"
     ]
    }
   ],
   "source": [
    "List = [['this'], ['is'], ['testing']]\n",
    "newList = [l[0] for l in List]\n",
    "Simple = (\" \".join(newList))\n",
    "print Simple"
   ]
  },
  {
   "cell_type": "code",
   "execution_count": 142,
   "metadata": {},
   "outputs": [
    {
     "data": {
      "text/plain": [
       "[['a'], ['b'], ['c']]"
      ]
     },
     "execution_count": 142,
     "metadata": {},
     "output_type": "execute_result"
    }
   ],
   "source": [
    "import ast\n",
    "List = [['a'], ['b'], ['c']]\n",
    "ast.literal_eval(repr(List))\n"
   ]
  },
  {
   "cell_type": "code",
   "execution_count": 165,
   "metadata": {},
   "outputs": [
    {
     "data": {
      "text/plain": [
       "\"[356],['b'],['c']\""
      ]
     },
     "execution_count": 165,
     "metadata": {},
     "output_type": "execute_result"
    }
   ],
   "source": [
    "List = [[356], ['b'], ['c']]\n",
    "\",\".join(str(x) for x in List)"
   ]
  },
  {
   "cell_type": "code",
   "execution_count": 167,
   "metadata": {},
   "outputs": [
    {
     "name": "stdout",
     "output_type": "stream",
     "text": [
      "356,b,c\n"
     ]
    }
   ],
   "source": [
    "List = [[356], ['b'], ['c']]\n",
    "Simple1 = \",\".join(str(x) for x in List)\n",
    "Simple = Simple1.translate(None, \"[]'\")\n",
    "print Simple"
   ]
  },
  {
   "cell_type": "code",
   "execution_count": 173,
   "metadata": {},
   "outputs": [
    {
     "data": {
      "text/plain": [
       "'Ths cn rmv th sm chrctr thrght th txt strng n ths cs,  nd  '"
      ]
     },
     "execution_count": 173,
     "metadata": {},
     "output_type": "execute_result"
    }
   ],
   "source": [
    "strinG = \"This can remove the same character throughout the text string in this case, aeio and u\"\n",
    "strinG.translate(None, 'aeiou')"
   ]
  },
  {
   "cell_type": "code",
   "execution_count": 184,
   "metadata": {},
   "outputs": [
    {
     "name": "stdout",
     "output_type": "stream",
     "text": [
      " REMOVE THE CHARACTERS FROM THE BEGINNING AND END OF THE TEXT\n"
     ]
    }
   ],
   "source": [
    "strinG = \"This can remove the characters from the beginning and end of the text, then convert everything to uppercase\"\n",
    "strinG = strinG.replace('This can', '')[:-38].upper()\n",
    "print strinG"
   ]
  },
  {
   "cell_type": "code",
   "execution_count": 189,
   "metadata": {},
   "outputs": [
    {
     "name": "stdout",
     "output_type": "stream",
     "text": [
      "This can remove the characters from the begin\n"
     ]
    }
   ],
   "source": [
    "strinG = \"This can remove the characters from the beginning and end of the text\"\n",
    "\n",
    "strinG = strinG[:strinG.find('nning') + 1]\n",
    "print strinG"
   ]
  },
  {
   "cell_type": "code",
   "execution_count": 196,
   "metadata": {},
   "outputs": [
    {
     "name": "stdout",
     "output_type": "stream",
     "text": [
      "set(['This can replace the letters from the beginning and end or middle of the text'])\n"
     ]
    }
   ],
   "source": [
    "import string\n",
    "import re\n",
    "strinG = {'This can remove the characters from the beginning and end or middle of the text'}\n",
    "\n",
    "newString = {x.replace('remove', 'replace').replace('characters', 'letters') for x in strinG}\n",
    "print newString"
   ]
  },
  {
   "cell_type": "code",
   "execution_count": 200,
   "metadata": {},
   "outputs": [
    {
     "name": "stdout",
     "output_type": "stream",
     "text": [
      "set(['This can replace the letters from the beginning and end or middle of the text'])\n",
      "\n",
      "Notice what the last line did. I got rid of the 'set id' \n",
      "\n",
      "This can replace the letters from the beginning and end or middle of the text\n"
     ]
    }
   ],
   "source": [
    "import string\n",
    "import re\n",
    "strinG = {'This can remove the characters from the beginning and end or middle of the text'}\n",
    "\n",
    "newString = {x.replace('remove', 'replace').replace('characters', 'letters') for x in strinG}\n",
    "print newString\n",
    "print \"\\n\",\"Notice what the last line did. I got rid of the 'set id'\",\"\\n\"\n",
    "print str(newString)[6:-3]"
   ]
  },
  {
   "cell_type": "code",
   "execution_count": 236,
   "metadata": {},
   "outputs": [
    {
     "name": "stdout",
     "output_type": "stream",
     "text": [
      "This can remove characters from the center of the text \n",
      "This can remove \n",
      " characters from the center of the text\n"
     ]
    }
   ],
   "source": [
    "strinG = 'This can remove the characters from the center of the text'\n",
    "newstring = strinG[:15] + strinG[19:]\n",
    "print newstring , \"\\n\" , strinG[:15] , \"\\n\" , strinG[19:]"
   ]
  },
  {
   "cell_type": "code",
   "execution_count": 273,
   "metadata": {},
   "outputs": [
    {
     "name": "stdout",
     "output_type": "stream",
     "text": [
      "Overwriting test.data\n"
     ]
    }
   ],
   "source": [
    "%%writefile test.data\n",
    "[315.42,\n",
    "316.31,\n",
    "316.5,\n",
    "317.56,\n",
    "318.13,\n",
    "318,\n",
    "316.39,\n",
    "314.65,\n",
    "313.68,\n",
    "313.18,\n",
    "314.66,\n",
    "315.43,\n",
    "316.27,\n",
    "316.81,\n",
    "317.42,\n",
    "318.87,\n",
    "319.87,\n",
    "319.43,\n",
    "318.01,\n",
    "315.74,\n",
    "314,\n",
    "313.68,\n",
    "314.84,\n",
    "316.03,\n",
    "316.73,\n",
    "317.54,\n",
    "318.38,\n",
    "319.31,\n",
    "320.42,\n",
    "319.61,\n",
    "318.42,\n",
    "316.63,\n",
    "314.83,\n",
    "315.16,\n",
    "315.94,\n",
    "316.85,\n",
    "317.78,\n",
    "318.4,\n",
    "319.53,\n",
    "320.42,\n",
    "320.85,\n",
    "320.45,\n",
    "319.45,\n",
    "317.25,\n",
    "316.11,\n",
    "315.27,\n",
    "316.53,\n",
    "317.53,\n",
    "318.58,\n",
    "318.92,\n",
    "319.7,\n",
    "321.22,\n",
    "322.08,\n",
    "321.31,\n",
    "319.58,\n",
    "317.61,\n",
    "316.05,\n",
    "315.83,\n",
    "316.91,\n",
    "318.2,\n",
    "319.41,\n",
    "320.07,\n",
    "320.74,\n",
    "321.4,\n",
    "322.06,\n",
    "321.73,\n",
    "320.27,\n",
    "318.54,\n",
    "316.54,\n",
    "316.71,\n",
    "317.53,\n",
    "318.55,\n",
    "319.27,\n",
    "320.28,\n",
    "320.73,\n",
    "321.97,\n",
    "322,\n",
    "321.71,\n",
    "321.05,\n",
    "318.71,\n",
    "317.66,\n",
    "317.14,\n",
    "318.7,\n",
    "319.25,\n",
    "320.46]"
   ]
  },
  {
   "cell_type": "code",
   "execution_count": 237,
   "metadata": {},
   "outputs": [
    {
     "name": "stdout",
     "output_type": "stream",
     "text": [
      "Overwriting resize640.py\n"
     ]
    }
   ],
   "source": [
    "%%writefile resize640.py\n",
    "#!/usr/bin/python\n",
    "__author__ = 'Jack Northrup'\n",
    "import sys, getopt\n",
    "from PIL import Image \n",
    "image=''\n",
    "output=''\n",
    "\n",
    "try:\n",
    "    myopts, args = getopt.getopt(sys.argv[1:],\"i:o:\")\n",
    "except getopt.GetoptError as e:\n",
    "    print (str(e))\n",
    "    print(\"Usage: %s -i input -o output\" % sys.argv[0])\n",
    "    sys.exit(2)\n",
    "\n",
    "for o, a in myopts:\n",
    "    if o == '-i':\n",
    "        image=a\n",
    "    elif o == '-o':\n",
    "        output=a\n",
    "\n",
    "# Display input and output file name passed as the args\n",
    "print (\"Input file : %s and output file: %s\" % (image,output) )"
   ]
  },
  {
   "cell_type": "code",
   "execution_count": null,
   "metadata": {
    "collapsed": true
   },
   "outputs": [],
   "source": [
    "https://www.computerhope.com/issues/ch001721.htm"
   ]
  },
  {
   "cell_type": "code",
   "execution_count": 266,
   "metadata": {},
   "outputs": [
    {
     "data": {
      "image/png": "[encoded data removed]",
      "text/plain": [
       "<matplotlib.figure.Figure at 0x7f9e0f3ca310>"
      ]
     },
     "metadata": {},
     "output_type": "display_data"
    }
   ],
   "source": [
    "import matplotlib.pyplot as plt\n",
    "plt.plot([\n",
    "315.42,\n",
    "316.31,\n",
    "316.5,\n",
    "317.56,\n",
    "318.13,\n",
    "318,\n",
    "316.39,\n",
    "314.65,\n",
    "313.68,\n",
    "313.18,\n",
    "314.66,\n",
    "315.43,\n",
    "316.27,\n",
    "316.81,\n",
    "317.42,\n",
    "318.87,\n",
    "319.87,\n",
    "319.43,\n",
    "318.01,\n",
    "315.74,\n",
    "314,\n",
    "313.68,\n",
    "314.84,\n",
    "316.03,\n",
    "316.73,\n",
    "317.54,\n",
    "318.38,\n",
    "319.31,\n",
    "320.42,\n",
    "319.61,\n",
    "318.42,\n",
    "316.63,\n",
    "314.83,\n",
    "315.16,\n",
    "315.94,\n",
    "316.85,\n",
    "317.78,\n",
    "318.4,\n",
    "319.53,\n",
    "320.42,\n",
    "320.85,\n",
    "320.45,\n",
    "319.45,\n",
    "317.25,\n",
    "316.11,\n",
    "315.27,\n",
    "316.53,\n",
    "317.53,\n",
    "318.58,\n",
    "318.92,\n",
    "319.7,\n",
    "321.22,\n",
    "322.08,\n",
    "321.31,\n",
    "319.58,\n",
    "317.61,\n",
    "316.05,\n",
    "315.83,\n",
    "316.91,\n",
    "318.2,\n",
    "319.41,\n",
    "320.07,\n",
    "320.74,\n",
    "321.4,\n",
    "322.06,\n",
    "321.73,\n",
    "320.27,\n",
    "318.54,\n",
    "316.54,\n",
    "316.71,\n",
    "317.53,\n",
    "318.55,\n",
    "319.27,\n",
    "320.28,\n",
    "320.73,\n",
    "321.97,\n",
    "322,\n",
    "321.71,\n",
    "321.05,\n",
    "318.71,\n",
    "317.66,\n",
    "317.14,\n",
    "318.7,\n",
    "319.25,\n",
    "320.46\n",
    "])\n",
    "\n",
    "plt.ylabel('CO2 Levels')\n",
    "plt.show()"
   ]
  },
  {
   "cell_type": "code",
   "execution_count": 267,
   "metadata": {},
   "outputs": [
    {
     "name": "stdout",
     "output_type": "stream",
     "text": [
      "Writing test.data\n"
     ]
    }
   ],
   "source": [
    "%%writefile test.data\n",
    "315.42,\n",
    "316.31,\n",
    "316.5,\n",
    "317.56,\n",
    "318.13,\n",
    "318,\n",
    "316.39,\n",
    "314.65,\n",
    "313.68,\n",
    "313.18,\n",
    "314.66,\n",
    "315.43,\n",
    "316.27,\n",
    "316.81,\n",
    "317.42,\n",
    "318.87,\n",
    "319.87,\n",
    "319.43,\n",
    "318.01,\n",
    "315.74,\n",
    "314,\n",
    "313.68,\n",
    "314.84,\n",
    "316.03,\n",
    "316.73,\n",
    "317.54,\n",
    "318.38,\n",
    "319.31,\n",
    "320.42,\n",
    "319.61,\n",
    "318.42,\n",
    "316.63,\n",
    "314.83,\n",
    "315.16,\n",
    "315.94,\n",
    "316.85,\n",
    "317.78,\n",
    "318.4,\n",
    "319.53,\n",
    "320.42,\n",
    "320.85,\n",
    "320.45,\n",
    "319.45,\n",
    "317.25,\n",
    "316.11,\n",
    "315.27,\n",
    "316.53,\n",
    "317.53,\n",
    "318.58,\n",
    "318.92,\n",
    "319.7,\n",
    "321.22,\n",
    "322.08,\n",
    "321.31,\n",
    "319.58,\n",
    "317.61,\n",
    "316.05,\n",
    "315.83,\n",
    "316.91,\n",
    "318.2,\n",
    "319.41,\n",
    "320.07,\n",
    "320.74,\n",
    "321.4,\n",
    "322.06,\n",
    "321.73,\n",
    "320.27,\n",
    "318.54,\n",
    "316.54,\n",
    "316.71,\n",
    "317.53,\n",
    "318.55,\n",
    "319.27,\n",
    "320.28,\n",
    "320.73,\n",
    "321.97,\n",
    "322,\n",
    "321.71,\n",
    "321.05,\n",
    "318.71,\n",
    "317.66,\n",
    "317.14,\n",
    "318.7,\n",
    "319.25,\n",
    "320.46"
   ]
  },
  {
   "cell_type": "markdown",
   "metadata": {},
   "source": [
    "# Some Helpful Utility Ideas"
   ]
  },
  {
   "cell_type": "code",
   "execution_count": 506,
   "metadata": {},
   "outputs": [
    {
     "name": "stdout",
     "output_type": "stream",
     "text": [
      "0.986301369863\n"
     ]
    }
   ],
   "source": [
    "# If division result is desired as a float\n",
    "from __future__ import division\n",
    "a = 360/365\n",
    "print a"
   ]
  },
  {
   "cell_type": "code",
   "execution_count": 568,
   "metadata": {},
   "outputs": [
    {
     "data": {
      "text/plain": [
       "2017.4863387978141"
      ]
     },
     "execution_count": 568,
     "metadata": {},
     "output_type": "execute_result"
    }
   ],
   "source": [
    "#convert date to fraction of years\n",
    "from datetime import datetime\n",
    "d = datetime(2017, 6, 28, 0, 0, 0)\n",
    "(float(d.strftime(\"%j\"))-1) / 366 + float(d.strftime(\"%Y\"))\n"
   ]
  },
  {
   "cell_type": "code",
   "execution_count": 568,
   "metadata": {},
   "outputs": [
    {
     "data": {
      "text/plain": [
       "2017.4863387978141"
      ]
     },
     "execution_count": 568,
     "metadata": {},
     "output_type": "execute_result"
    }
   ],
   "source": [
    "#convert date to fraction of years\n",
    "from datetime import datetime\n",
    "d = datetime(2017, 6, 28, 0, 0, 0)\n",
    "(float(d.strftime(\"%j\"))-1) / 366 + float(d.strftime(\"%Y\"))\n"
   ]
  },
  {
   "cell_type": "code",
   "execution_count": 636,
   "metadata": {},
   "outputs": [
    {
     "name": "stdout",
     "output_type": "stream",
     "text": [
      "Help on module date2dec:\n",
      "\n",
      "NAME\n",
      "    date2dec\n",
      "\n",
      "FILE\n",
      "    /home/jack/Desktop/imagebot/date2dec.py\n",
      "\n",
      "DESCRIPTION\n",
      "    #Very rough date to fraction of years\n",
      "    # no time just numder date\n",
      "\n",
      "FUNCTIONS\n",
      "    date2dec(MonthNum, Date)\n",
      "        #Very rough date to fraction of years\n",
      "        # no time just numder date\n",
      "\n",
      "DATA\n",
      "    fract = 0.4865160848733744\n",
      "\n",
      "\n"
     ]
    }
   ],
   "source": [
    "import date2dec\n",
    "help(date2dec)\n",
    "#print date2dec.Date2Dec(4, 38)"
   ]
  },
  {
   "cell_type": "markdown",
   "metadata": {},
   "source": [
    "# Working"
   ]
  },
  {
   "cell_type": "code",
   "execution_count": null,
   "metadata": {
    "collapsed": true
   },
   "outputs": [],
   "source": [
    "#  date2dec\n",
    "#!/usr/local/bin/python\n",
    "from __future__ import division\n",
    "import sys\n",
    "import math\n",
    "import argparse\n",
    "parser = argparse.ArgumentParser(description=\"\"\"\n",
    "Convert a date into a fraction of a year\n",
    "Enter Number of Month and number of day (NO TIME) .\n",
    "USAGE:\n",
    "import date2dec\n",
    "FractionOfYear = date2dec.date2dec(6,27)\n",
    "print FractionOfYear\n",
    "\"\"\")\n",
    "args = parser.parse_args()\n",
    "\n",
    "def date2dec():\n",
    "    #MonthNum = int(sys.argv[1])\n",
    "    #Date = int(sys.argv[2])\n",
    "    \n",
    "    mn = (MonthNum-1) * 30.14\n",
    "    r = mn+DateI-1\n",
    "    op = 365.25/r-365.25\n",
    "    FractionOfYear = r/365.25\n",
    "    return FractionOfYear\n",
    "    \n",
    "if __name__ == \"__main__\":\n",
    "    MonthNum = int(raw_input(\"What month?\"))\n",
    "    DateI = int(raw_input(\"What day?\"))\n",
    "    date2dec()\n",
    "    mn = (MonthNum-1) * 30.14\n",
    "    r = mn+DateI-1\n",
    "    op = 365.25/r-365.25\n",
    "    FractionOfYear = r/365.25\n",
    "    print FractionOfYear"
   ]
  },
  {
   "cell_type": "code",
   "execution_count": 232,
   "metadata": {},
   "outputs": [
    {
     "name": "stdout",
     "output_type": "stream",
     "text": [
      "Overwriting dateTodec.py\n"
     ]
    }
   ],
   "source": [
    "%%writefile dateTodec.py\n",
    "#!/usr/local/bin/python\n",
    "from __future__ import division\n",
    "import sys\n",
    "import math\n",
    "import sys, getopt\n",
    "MonthNum = int(sys.argv[1]) \n",
    "DateI = int(sys.argv[2])\n",
    "\n",
    "\"\"\"\n",
    "from PIL import Image \n",
    "MonthNum = sys.argv[1]\n",
    "DateI = sys.argv[2]\n",
    "x=int(MonthNum)\n",
    "y=int(DateI)\n",
    "print x, y\n",
    "#!/usr/bin/python\n",
    "import sys\n",
    "MonthNum = int(sys.argv[1]) \n",
    "DateI = int(sys.argv[2])\n",
    "\"\"\"\n",
    "\n",
    "mn = (MonthNum-1)*30.14\n",
    "r = mn+DateI-1\n",
    "op = 365.25/r-365.25\n",
    "print \"fraction: \",r/365.25\n",
    "print \"\\n\"\n",
    "print \"Notice the change format of print after being turned into an object\"\n",
    "fraction = \"fraction: \",r/365.25\n",
    "print fraction\n",
    "\n",
    "\n",
    "\n"
   ]
  },
  {
   "cell_type": "code",
   "execution_count": 234,
   "metadata": {},
   "outputs": [
    {
     "name": "stdout",
     "output_type": "stream",
     "text": [
      "fraction:  0.140013689254\r\n",
      "\r\n",
      "\r\n",
      "Notice the change format of print after being turned into an object\r\n",
      "('fraction: ', 0.14001368925393567)\r\n"
     ]
    }
   ],
   "source": [
    "!python dateTodec.py 2  22\n"
   ]
  },
  {
   "cell_type": "code",
   "execution_count": 198,
   "metadata": {
    "collapsed": true
   },
   "outputs": [],
   "source": [
    "%reset -f"
   ]
  },
  {
   "cell_type": "code",
   "execution_count": null,
   "metadata": {
    "collapsed": true
   },
   "outputs": [],
   "source": []
  }
 ],
 "metadata": {
  "kernelspec": {
   "display_name": "Python 2",
   "language": "python",
   "name": "python2"
  },
  "language_info": {
   "codemirror_mode": {
    "name": "ipython",
    "version": 2
   },
   "file_extension": ".py",
   "mimetype": "text/x-python",
   "name": "python",
   "nbconvert_exporter": "python",
   "pygments_lexer": "ipython2",
   "version": "2.7.13"
  }
 },
 "nbformat": 4,
 "nbformat_minor": 2
}
