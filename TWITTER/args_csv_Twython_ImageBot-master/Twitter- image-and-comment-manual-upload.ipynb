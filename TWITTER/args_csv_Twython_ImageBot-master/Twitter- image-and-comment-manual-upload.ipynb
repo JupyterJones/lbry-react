{
 "cells": [
  {
   "cell_type": "markdown",
   "metadata": {},
   "source": [
    "# find an image "
   ]
  },
  {
   "cell_type": "code",
   "execution_count": 1,
   "metadata": {},
   "outputs": [
    {
     "name": "stdout",
     "output_type": "stream",
     "text": [
      "images/NewFolder/deep_dream.jpg   images/NewFolder/mars4.jpg\r\n",
      "images/NewFolder/deep_dreamT.jpg  images/NewFolder/mars4T.jpg\r\n",
      "images/NewFolder/islands01.jpg\t  images/NewFolder/mars5.jpg\r\n",
      "images/NewFolder/lightning01.jpg  images/NewFolder/mars.jpg\r\n",
      "images/NewFolder/lightning02.jpg  images/NewFolder/seaborn2.jpg\r\n",
      "images/NewFolder/lightning03.jpg  images/NewFolder/seaborn2T.jpg\r\n",
      "images/NewFolder/lightning04.jpg  images/NewFolder/seaborn.jpg\r\n",
      "images/NewFolder/lightning05.jpg  images/NewFolder/seabornT.jpg\r\n",
      "images/NewFolder/lightning06.jpg  images/NewFolder/tensorflow-dream2.jpg\r\n",
      "images/NewFolder/lightning07.jpg  images/NewFolder/tensorflow-dream2T.jpg\r\n",
      "images/NewFolder/lightning08.jpg  images/NewFolder/tensorflow-dream.jpg\r\n",
      "images/NewFolder/mars2.jpg\t  images/NewFolder/tensorflow-dreamT.jpg\r\n",
      "images/NewFolder/mars3.jpg\r\n"
     ]
    }
   ],
   "source": [
    "!ls images/NewFolder/*.jpg"
   ]
  },
  {
   "cell_type": "code",
   "execution_count": 2,
   "metadata": {
    "collapsed": true
   },
   "outputs": [],
   "source": [
    "!showme images/NewFolder/mars4.jpg"
   ]
  },
  {
   "cell_type": "markdown",
   "metadata": {},
   "source": [
    "# Add text"
   ]
  },
  {
   "cell_type": "code",
   "execution_count": 3,
   "metadata": {
    "collapsed": true
   },
   "outputs": [],
   "source": [
    "from PIL import Image, ImageDraw, ImageFont\n",
    "# get an image\n",
    "base = Image.open('images/NewFolder/lightning01.jpg').convert('RGBA')\n",
    "#8 5 4 6 3 2\n",
    "# make a blank image for the text, initialized to transparent text color\n",
    "txt = Image.new('RGBA', base.size, (255,255,255,0))\n",
    "\n",
    "# get a font\n",
    "fnt = ImageFont.truetype(\"/home/jack/.fonts/Exo-Black.ttf\", 20)\n",
    "# get a drawing context\n",
    "d = ImageDraw.Draw(txt)\n",
    "\n",
    "width, height = base.size\n",
    "# calculate the x,y coordinates of the text\n",
    "#marginx = 325\n",
    "#marginy = 75\n",
    "marginx = 225\n",
    "marginy = 50\n",
    "x = width - marginx\n",
    "y = height - marginy\n",
    "textin = \"The TwitterBot Project\" \n",
    "d.text((x,y), textin, font=fnt, fill=(0,255,0,180))\n",
    "\n",
    "out = Image.alpha_composite(base, txt)\n",
    "out.save(\"images/NewFolder/lightning01T.jpg\", \"JPEG\")\n",
    "out.show()\n"
   ]
  },
  {
   "cell_type": "code",
   "execution_count": 27,
   "metadata": {
    "collapsed": true
   },
   "outputs": [],
   "source": [
    "from PIL import Image\n",
    "basewidth = 612\n",
    "img = Image.open('images/NewFolder/lightning06T.jpg')\n",
    "wpercent = (basewidth/float(img.size[0]))\n",
    "hsize = int((float(img.size[1])*float(wpercent)))\n",
    "img = img.resize((basewidth,hsize), Image.ANTIALIAS)\n",
    "img.save('images/NewFolder/lightning06S.jpg') "
   ]
  },
  {
   "cell_type": "code",
   "execution_count": 28,
   "metadata": {
    "collapsed": true
   },
   "outputs": [],
   "source": [
    "!showme images/NewFolder/lightning06S.jpg"
   ]
  },
  {
   "cell_type": "markdown",
   "metadata": {},
   "source": [
    "# verify text"
   ]
  },
  {
   "cell_type": "code",
   "execution_count": 67,
   "metadata": {
    "collapsed": true
   },
   "outputs": [],
   "source": [
    "!showme images/NewFolder/deep_dreamT.jpg"
   ]
  },
  {
   "cell_type": "markdown",
   "metadata": {},
   "source": [
    "# Publish to Twitter"
   ]
  },
  {
   "cell_type": "code",
   "execution_count": 4,
   "metadata": {},
   "outputs": [
    {
     "data": {
      "text/plain": [
       "{u'contributors': None,\n",
       " u'coordinates': None,\n",
       " u'created_at': u'Thu Aug 17 22:41:15 +0000 2017',\n",
       " u'entities': {u'hashtags': [],\n",
       "  u'media': [{u'display_url': u'pic.twitter.com/ipg0xZvtMl',\n",
       "    u'expanded_url': u'https://twitter.com/JackLNorthrup/status/898313804127141888/photo/1',\n",
       "    u'id': 898313800088145920,\n",
       "    u'id_str': u'898313800088145920',\n",
       "    u'indices': [113, 136],\n",
       "    u'media_url': u'http://pbs.twimg.com/media/DHdzpEcV0AA8iIk.jpg',\n",
       "    u'media_url_https': u'https://pbs.twimg.com/media/DHdzpEcV0AA8iIk.jpg',\n",
       "    u'sizes': {u'large': {u'h': 636, u'resize': u'fit', u'w': 650},\n",
       "     u'medium': {u'h': 636, u'resize': u'fit', u'w': 650},\n",
       "     u'small': {u'h': 636, u'resize': u'fit', u'w': 650},\n",
       "     u'thumb': {u'h': 150, u'resize': u'crop', u'w': 150}},\n",
       "    u'type': u'photo',\n",
       "    u'url': u'https://t.co/ipg0xZvtMl'}],\n",
       "  u'symbols': [],\n",
       "  u'urls': [],\n",
       "  u'user_mentions': []},\n",
       " u'extended_entities': {u'media': [{u'display_url': u'pic.twitter.com/ipg0xZvtMl',\n",
       "    u'expanded_url': u'https://twitter.com/JackLNorthrup/status/898313804127141888/photo/1',\n",
       "    u'id': 898313800088145920,\n",
       "    u'id_str': u'898313800088145920',\n",
       "    u'indices': [113, 136],\n",
       "    u'media_url': u'http://pbs.twimg.com/media/DHdzpEcV0AA8iIk.jpg',\n",
       "    u'media_url_https': u'https://pbs.twimg.com/media/DHdzpEcV0AA8iIk.jpg',\n",
       "    u'sizes': {u'large': {u'h': 636, u'resize': u'fit', u'w': 650},\n",
       "     u'medium': {u'h': 636, u'resize': u'fit', u'w': 650},\n",
       "     u'small': {u'h': 636, u'resize': u'fit', u'w': 650},\n",
       "     u'thumb': {u'h': 150, u'resize': u'crop', u'w': 150}},\n",
       "    u'type': u'photo',\n",
       "    u'url': u'https://t.co/ipg0xZvtMl'}]},\n",
       " u'favorite_count': 0,\n",
       " u'favorited': False,\n",
       " u'geo': None,\n",
       " u'id': 898313804127141888,\n",
       " u'id_str': u'898313804127141888',\n",
       " u'in_reply_to_screen_name': None,\n",
       " u'in_reply_to_status_id': None,\n",
       " u'in_reply_to_status_id_str': None,\n",
       " u'in_reply_to_user_id': None,\n",
       " u'in_reply_to_user_id_str': None,\n",
       " u'is_quote_status': False,\n",
       " u'lang': u'en',\n",
       " u'place': None,\n",
       " u'possibly_sensitive': False,\n",
       " u'retweet_count': 0,\n",
       " u'retweeted': False,\n",
       " u'source': u'<a href=\"http://blogblocks.org\" rel=\"nofollow\">jack_watch</a>',\n",
       " u'text': u'Nice and simple graph. Making graphic images is easy and fun. These circular graphs have a nice appearance to me https://t.co/ipg0xZvtMl',\n",
       " u'truncated': False,\n",
       " u'user': {u'contributors_enabled': False,\n",
       "  u'created_at': u'Wed May 11 16:01:29 +0000 2011',\n",
       "  u'default_profile': False,\n",
       "  u'default_profile_image': False,\n",
       "  u'description': u\"Overcome with addictions: PHP, Python, Nodejs, JavaScript, P5.J's, Processing.J's, Ruby, MySql, Mongo, HTML, CSS, Docker, Bash scripting, C++, Linux, Android.\",\n",
       "  u'entities': {u'description': {u'urls': []},\n",
       "   u'url': {u'urls': [{u'display_url': u'jacknorthrup.com',\n",
       "      u'expanded_url': u'http://jacknorthrup.com',\n",
       "      u'indices': [0, 23],\n",
       "      u'url': u'https://t.co/SFgB3ME7hP'}]}},\n",
       "  u'favourites_count': 238,\n",
       "  u'follow_request_sent': False,\n",
       "  u'followers_count': 876,\n",
       "  u'following': False,\n",
       "  u'friends_count': 911,\n",
       "  u'geo_enabled': True,\n",
       "  u'has_extended_profile': False,\n",
       "  u'id': 296906916,\n",
       "  u'id_str': u'296906916',\n",
       "  u'is_translation_enabled': False,\n",
       "  u'is_translator': False,\n",
       "  u'lang': u'en',\n",
       "  u'listed_count': 35,\n",
       "  u'location': u'Philippines via USA',\n",
       "  u'name': u'Jack Northrup',\n",
       "  u'notifications': False,\n",
       "  u'profile_background_color': u'C0DEED',\n",
       "  u'profile_background_image_url': u'http://pbs.twimg.com/profile_background_images/837212066/b7a2e43cb82aa9f56c16b6afb60944fe.png',\n",
       "  u'profile_background_image_url_https': u'https://pbs.twimg.com/profile_background_images/837212066/b7a2e43cb82aa9f56c16b6afb60944fe.png',\n",
       "  u'profile_background_tile': True,\n",
       "  u'profile_banner_url': u'https://pbs.twimg.com/profile_banners/296906916/1502958210',\n",
       "  u'profile_image_url': u'http://pbs.twimg.com/profile_images/2765370268/48e94b4ba63cc542d5e0967136165bec_normal.png',\n",
       "  u'profile_image_url_https': u'https://pbs.twimg.com/profile_images/2765370268/48e94b4ba63cc542d5e0967136165bec_normal.png',\n",
       "  u'profile_link_color': u'F70A1D',\n",
       "  u'profile_sidebar_border_color': u'FFFFFF',\n",
       "  u'profile_sidebar_fill_color': u'DDEEF6',\n",
       "  u'profile_text_color': u'333333',\n",
       "  u'profile_use_background_image': True,\n",
       "  u'protected': False,\n",
       "  u'screen_name': u'JackLNorthrup',\n",
       "  u'statuses_count': 2829,\n",
       "  u'time_zone': u'Central Time (US & Canada)',\n",
       "  u'translator_type': u'none',\n",
       "  u'url': u'https://t.co/SFgB3ME7hP',\n",
       "  u'utc_offset': -18000,\n",
       "  u'verified': False}}"
      ]
     },
     "execution_count": 4,
     "metadata": {},
     "output_type": "execute_result"
    }
   ],
   "source": [
    "#%%writefile twitterpost.py\n",
    "#!/anaconda2/bin/python\n",
    "import os\n",
    "import random\n",
    "import sys\n",
    "import markovify\n",
    "sys.path.insert(0, '/home/jack/Desktop/pycode/vpython2')\n",
    "import twython\n",
    "from twython import Twython\n",
    "import random\n",
    "import time\n",
    "#removed keys for privacy reasons\n",
    "CONSUMER_KEY = 'xxxxxxxxxxxxxxxxx'\n",
    "CONSUMER_SECRET = 'xxxxxxxxxxxxxxxxxxxxxxx'\n",
    "ACCESS_KEY = 'xxxxxxxxxxxxxxxxxxxxxxx'\n",
    "ACCESS_SECRET = 'xxxxxxxxxxxxxxxxxxxxxx'\n",
    "\n",
    "twitter = Twython(CONSUMER_KEY, CONSUMER_SECRET, ACCESS_KEY, ACCESS_SECRET)\n",
    "#path = 'images/NewFolder'\n",
    "f = open(\"art.txt\")\n",
    "text = f.read()\n",
    "# Build the model.\n",
    "text_model = markovify.Text(text)\n",
    "# Print randomly-generated sentences of no more than 140 characters\n",
    "#http://paulbourke.net/fractals/\n",
    "#STR = (text_model.make_short_sentence(140))\n",
    "STR = (\"Nice and simple graph. Making graphic images is easy and fun. These circular graphs have a nice appearance to me\")\n",
    "#PATH = \"/home/jack/Desktop/deep-dream-generator/notebooks/STUFF/experiment/experiment8.jpg\"\n",
    "PATH = \"images/NewFolder/lightning01T.jpg\"\n",
    "# 1 , 2, 3, 12, 5, 15, 8, 6\n",
    "#photo = open('/home/jack/Desktop/deep-dream-generator/notebooks/images/'+file_list[rnd]+'.jpg','rb')\n",
    "photo = open(PATH,'rb')\n",
    "response = twitter.upload_media(media=photo)\n",
    "twitter.update_status(status=STR, media_ids=[response['media_id']])\n"
   ]
  },
  {
   "cell_type": "code",
   "execution_count": 4,
   "metadata": {},
   "outputs": [
    {
     "data": {
      "text/plain": [
       "{u'contributors': None,\n",
       " u'coordinates': None,\n",
       " u'created_at': u'Thu Aug 17 22:41:15 +0000 2017',\n",
       " u'entities': {u'hashtags': [],\n",
       "  u'media': [{u'display_url': u'pic.twitter.com/ipg0xZvtMl',\n",
       "    u'expanded_url': u'https://twitter.com/JackLNorthrup/status/898313804127141888/photo/1',\n",
       "    u'id': 898313800088145920,\n",
       "    u'id_str': u'898313800088145920',\n",
       "    u'indices': [113, 136],\n",
       "    u'media_url': u'http://pbs.twimg.com/media/DHdzpEcV0AA8iIk.jpg',\n",
       "    u'media_url_https': u'https://pbs.twimg.com/media/DHdzpEcV0AA8iIk.jpg',\n",
       "    u'sizes': {u'large': {u'h': 636, u'resize': u'fit', u'w': 650},\n",
       "     u'medium': {u'h': 636, u'resize': u'fit', u'w': 650},\n",
       "     u'small': {u'h': 636, u'resize': u'fit', u'w': 650},\n",
       "     u'thumb': {u'h': 150, u'resize': u'crop', u'w': 150}},\n",
       "    u'type': u'photo',\n",
       "    u'url': u'https://t.co/ipg0xZvtMl'}],\n",
       "  u'symbols': [],\n",
       "  u'urls': [],\n",
       "  u'user_mentions': []},\n",
       " u'extended_entities': {u'media': [{u'display_url': u'pic.twitter.com/ipg0xZvtMl',\n",
       "    u'expanded_url': u'https://twitter.com/JackLNorthrup/status/898313804127141888/photo/1',\n",
       "    u'id': 898313800088145920,\n",
       "    u'id_str': u'898313800088145920',\n",
       "    u'indices': [113, 136],\n",
       "    u'media_url': u'http://pbs.twimg.com/media/DHdzpEcV0AA8iIk.jpg',\n",
       "    u'media_url_https': u'https://pbs.twimg.com/media/DHdzpEcV0AA8iIk.jpg',\n",
       "    u'sizes': {u'large': {u'h': 636, u'resize': u'fit', u'w': 650},\n",
       "     u'medium': {u'h': 636, u'resize': u'fit', u'w': 650},\n",
       "     u'small': {u'h': 636, u'resize': u'fit', u'w': 650},\n",
       "     u'thumb': {u'h': 150, u'resize': u'crop', u'w': 150}},\n",
       "    u'type': u'photo',\n",
       "    u'url': u'https://t.co/ipg0xZvtMl'}]},\n",
       " u'favorite_count': 0,\n",
       " u'favorited': False,\n",
       " u'geo': None,\n",
       " u'id': 898313804127141888,\n",
       " u'id_str': u'898313804127141888',\n",
       " u'in_reply_to_screen_name': None,\n",
       " u'in_reply_to_status_id': None,\n",
       " u'in_reply_to_status_id_str': None,\n",
       " u'in_reply_to_user_id': None,\n",
       " u'in_reply_to_user_id_str': None,\n",
       " u'is_quote_status': False,\n",
       " u'lang': u'en',\n",
       " u'place': None,\n",
       " u'possibly_sensitive': False,\n",
       " u'retweet_count': 0,\n",
       " u'retweeted': False,\n",
       " u'source': u'<a href=\"http://blogblocks.org\" rel=\"nofollow\">jack_watch</a>',\n",
       " u'text': u'Nice and simple graph. Making graphic images is easy and fun. These circular graphs have a nice appearance to me https://t.co/ipg0xZvtMl',\n",
       " u'truncated': False,\n",
       " u'user': {u'contributors_enabled': False,\n",
       "  u'created_at': u'Wed May 11 16:01:29 +0000 2011',\n",
       "  u'default_profile': False,\n",
       "  u'default_profile_image': False,\n",
       "  u'description': u\"Overcome with addictions: PHP, Python, Nodejs, JavaScript, P5.J's, Processing.J's, Ruby, MySql, Mongo, HTML, CSS, Docker, Bash scripting, C++, Linux, Android.\",\n",
       "  u'entities': {u'description': {u'urls': []},\n",
       "   u'url': {u'urls': [{u'display_url': u'jacknorthrup.com',\n",
       "      u'expanded_url': u'http://jacknorthrup.com',\n",
       "      u'indices': [0, 23],\n",
       "      u'url': u'https://t.co/SFgB3ME7hP'}]}},\n",
       "  u'favourites_count': 238,\n",
       "  u'follow_request_sent': False,\n",
       "  u'followers_count': 876,\n",
       "  u'following': False,\n",
       "  u'friends_count': 911,\n",
       "  u'geo_enabled': True,\n",
       "  u'has_extended_profile': False,\n",
       "  u'id': 296906916,\n",
       "  u'id_str': u'296906916',\n",
       "  u'is_translation_enabled': False,\n",
       "  u'is_translator': False,\n",
       "  u'lang': u'en',\n",
       "  u'listed_count': 35,\n",
       "  u'location': u'Philippines via USA',\n",
       "  u'name': u'Jack Northrup',\n",
       "  u'notifications': False,\n",
       "  u'profile_background_color': u'C0DEED',\n",
       "  u'profile_background_image_url': u'http://pbs.twimg.com/profile_background_images/837212066/b7a2e43cb82aa9f56c16b6afb60944fe.png',\n",
       "  u'profile_background_image_url_https': u'https://pbs.twimg.com/profile_background_images/837212066/b7a2e43cb82aa9f56c16b6afb60944fe.png',\n",
       "  u'profile_background_tile': True,\n",
       "  u'profile_banner_url': u'https://pbs.twimg.com/profile_banners/296906916/1502958210',\n",
       "  u'profile_image_url': u'http://pbs.twimg.com/profile_images/2765370268/48e94b4ba63cc542d5e0967136165bec_normal.png',\n",
       "  u'profile_image_url_https': u'https://pbs.twimg.com/profile_images/2765370268/48e94b4ba63cc542d5e0967136165bec_normal.png',\n",
       "  u'profile_link_color': u'F70A1D',\n",
       "  u'profile_sidebar_border_color': u'FFFFFF',\n",
       "  u'profile_sidebar_fill_color': u'DDEEF6',\n",
       "  u'profile_text_color': u'333333',\n",
       "  u'profile_use_background_image': True,\n",
       "  u'protected': False,\n",
       "  u'screen_name': u'JackLNorthrup',\n",
       "  u'statuses_count': 2829,\n",
       "  u'time_zone': u'Central Time (US & Canada)',\n",
       "  u'translator_type': u'none',\n",
       "  u'url': u'https://t.co/SFgB3ME7hP',\n",
       "  u'utc_offset': -18000,\n",
       "  u'verified': False}}"
      ]
     },
     "execution_count": 4,
     "metadata": {},
     "output_type": "execute_result"
    }
   ],
   "source": [
    "-"
   ]
  },
  {
   "cell_type": "markdown",
   "metadata": {},
   "source": [
    "from PIL import Image, ImageDraw\n",
    "PATH = \"/home/jack/Desktop/deep-dream-generator/notebooks/STUFF/experiment/experiment2.jpg\"\n",
    "im = Image.open(PATH)\n",
    "im"
   ]
  },
  {
   "cell_type": "code",
   "execution_count": null,
   "metadata": {
    "collapsed": true
   },
   "outputs": [],
   "source": []
  },
  {
   "cell_type": "markdown",
   "metadata": {},
   "source": [
    "# Brand Your Image"
   ]
  },
  {
   "cell_type": "code",
   "execution_count": 66,
   "metadata": {
    "collapsed": true
   },
   "outputs": [],
   "source": [
    "from PIL import Image, ImageDraw, ImageFont\n",
    "base = Image.open('images/NewFolder/seaborn2.jpg').convert('RGBA')\n",
    "txt = Image.new('RGBA', base.size, (255,255,255,0))\n",
    "fnt = ImageFont.truetype(\"/home/jack/.fonts/Exo-Black.ttf\", 24)\n",
    "d = ImageDraw.Draw(txt)\n",
    "width, height = base.size\n",
    "marginx = 325\n",
    "marginy = 75\n",
    "x = width - marginx\n",
    "y = height - marginy\n",
    "textin = \"The TwitterBot Project\" \n",
    "d.text((x,y), textin, font=fnt, fill=(0,0,0,100))\n",
    "out = Image.alpha_composite(base, txt)\n",
    "\n",
    "out.save(\"images/NewFolder/seaborn2T.jpg\", \"JPEG\")\n",
    "out.show()\n"
   ]
  },
  {
   "cell_type": "markdown",
   "metadata": {},
   "source": [
    "# ALL IN ONE: Get image, place text in it and publish"
   ]
  },
  {
   "cell_type": "code",
   "execution_count": 68,
   "metadata": {},
   "outputs": [
    {
     "data": {
      "text/plain": [
       "{u'contributors': None,\n",
       " u'coordinates': None,\n",
       " u'created_at': u'Wed Aug 16 04:52:58 +0000 2017',\n",
       " u'entities': {u'hashtags': [{u'indices': [0, 13], u'text': u'seaborngraph'},\n",
       "   {u'indices': [14, 26], u'text': u'datgraphart'},\n",
       "   {u'indices': [27, 34], u'text': u'graphs'},\n",
       "   {u'indices': [35, 46], u'text': u'graphicart'}],\n",
       "  u'media': [{u'display_url': u'pic.twitter.com/CbFsMYsxdZ',\n",
       "    u'expanded_url': u'https://twitter.com/JackLNorthrup/status/897682575547936768/photo/1',\n",
       "    u'id': 897682571093475332,\n",
       "    u'id_str': u'897682571093475332',\n",
       "    u'indices': [77, 100],\n",
       "    u'media_url': u'http://pbs.twimg.com/media/DHU1itMWAAQHlN4.jpg',\n",
       "    u'media_url_https': u'https://pbs.twimg.com/media/DHU1itMWAAQHlN4.jpg',\n",
       "    u'sizes': {u'large': {u'h': 462, u'resize': u'fit', u'w': 452},\n",
       "     u'medium': {u'h': 462, u'resize': u'fit', u'w': 452},\n",
       "     u'small': {u'h': 462, u'resize': u'fit', u'w': 452},\n",
       "     u'thumb': {u'h': 150, u'resize': u'crop', u'w': 150}},\n",
       "    u'type': u'photo',\n",
       "    u'url': u'https://t.co/CbFsMYsxdZ'}],\n",
       "  u'symbols': [],\n",
       "  u'urls': [],\n",
       "  u'user_mentions': []},\n",
       " u'extended_entities': {u'media': [{u'display_url': u'pic.twitter.com/CbFsMYsxdZ',\n",
       "    u'expanded_url': u'https://twitter.com/JackLNorthrup/status/897682575547936768/photo/1',\n",
       "    u'id': 897682571093475332,\n",
       "    u'id_str': u'897682571093475332',\n",
       "    u'indices': [77, 100],\n",
       "    u'media_url': u'http://pbs.twimg.com/media/DHU1itMWAAQHlN4.jpg',\n",
       "    u'media_url_https': u'https://pbs.twimg.com/media/DHU1itMWAAQHlN4.jpg',\n",
       "    u'sizes': {u'large': {u'h': 462, u'resize': u'fit', u'w': 452},\n",
       "     u'medium': {u'h': 462, u'resize': u'fit', u'w': 452},\n",
       "     u'small': {u'h': 462, u'resize': u'fit', u'w': 452},\n",
       "     u'thumb': {u'h': 150, u'resize': u'crop', u'w': 150}},\n",
       "    u'type': u'photo',\n",
       "    u'url': u'https://t.co/CbFsMYsxdZ'}]},\n",
       " u'favorite_count': 0,\n",
       " u'favorited': False,\n",
       " u'geo': None,\n",
       " u'id': 897682575547936768,\n",
       " u'id_str': u'897682575547936768',\n",
       " u'in_reply_to_screen_name': None,\n",
       " u'in_reply_to_status_id': None,\n",
       " u'in_reply_to_status_id_str': None,\n",
       " u'in_reply_to_user_id': None,\n",
       " u'in_reply_to_user_id_str': None,\n",
       " u'is_quote_status': False,\n",
       " u'lang': u'en',\n",
       " u'place': None,\n",
       " u'possibly_sensitive': False,\n",
       " u'retweet_count': 0,\n",
       " u'retweeted': False,\n",
       " u'source': u'<a href=\"http://blogblocks.org\" rel=\"nofollow\">jack_watch</a>',\n",
       " u'text': u'#seaborngraph #datgraphart #graphs #graphicart - GRAPH ART the Seaborn way ! https://t.co/CbFsMYsxdZ',\n",
       " u'truncated': False,\n",
       " u'user': {u'contributors_enabled': False,\n",
       "  u'created_at': u'Wed May 11 16:01:29 +0000 2011',\n",
       "  u'default_profile': False,\n",
       "  u'default_profile_image': False,\n",
       "  u'description': u'My most challenging endeavor, understanding & expanding my own consciousness. I am avidly studying self hypnosis and lucid dreaming. Retired in the Philippines',\n",
       "  u'entities': {u'description': {u'urls': []},\n",
       "   u'url': {u'urls': [{u'display_url': u'jacknorthrup.com',\n",
       "      u'expanded_url': u'http://jacknorthrup.com',\n",
       "      u'indices': [0, 22],\n",
       "      u'url': u'http://t.co/4mzXWgCqw2'}]}},\n",
       "  u'favourites_count': 206,\n",
       "  u'follow_request_sent': False,\n",
       "  u'followers_count': 848,\n",
       "  u'following': False,\n",
       "  u'friends_count': 868,\n",
       "  u'geo_enabled': True,\n",
       "  u'has_extended_profile': False,\n",
       "  u'id': 296906916,\n",
       "  u'id_str': u'296906916',\n",
       "  u'is_translation_enabled': False,\n",
       "  u'is_translator': False,\n",
       "  u'lang': u'en',\n",
       "  u'listed_count': 35,\n",
       "  u'location': u'Philippines via USA',\n",
       "  u'name': u'Jack Northrup',\n",
       "  u'notifications': False,\n",
       "  u'profile_background_color': u'C0DEED',\n",
       "  u'profile_background_image_url': u'http://pbs.twimg.com/profile_background_images/837212066/b7a2e43cb82aa9f56c16b6afb60944fe.png',\n",
       "  u'profile_background_image_url_https': u'https://pbs.twimg.com/profile_background_images/837212066/b7a2e43cb82aa9f56c16b6afb60944fe.png',\n",
       "  u'profile_background_tile': True,\n",
       "  u'profile_banner_url': u'https://pbs.twimg.com/profile_banners/296906916/1365411210',\n",
       "  u'profile_image_url': u'http://pbs.twimg.com/profile_images/2765370268/48e94b4ba63cc542d5e0967136165bec_normal.png',\n",
       "  u'profile_image_url_https': u'https://pbs.twimg.com/profile_images/2765370268/48e94b4ba63cc542d5e0967136165bec_normal.png',\n",
       "  u'profile_link_color': u'F70A1D',\n",
       "  u'profile_sidebar_border_color': u'FFFFFF',\n",
       "  u'profile_sidebar_fill_color': u'DDEEF6',\n",
       "  u'profile_text_color': u'333333',\n",
       "  u'profile_use_background_image': True,\n",
       "  u'protected': False,\n",
       "  u'screen_name': u'JackLNorthrup',\n",
       "  u'statuses_count': 2773,\n",
       "  u'time_zone': u'Central Time (US & Canada)',\n",
       "  u'translator_type': u'none',\n",
       "  u'url': u'http://t.co/4mzXWgCqw2',\n",
       "  u'utc_offset': -18000,\n",
       "  u'verified': False}}"
      ]
     },
     "execution_count": 68,
     "metadata": {},
     "output_type": "execute_result"
    }
   ],
   "source": [
    "#%%writefile twitterpost.py\n",
    "#!/anaconda2/bin/python\n",
    "import os\n",
    "import random\n",
    "import sys\n",
    "import markovify\n",
    "sys.path.insert(0, '/home/jack/Desktop/pycode/vpython2')\n",
    "import twython\n",
    "from twython import Twython\n",
    "import random\n",
    "import time\n",
    "#removed keys for privacy reasons\n",
    "CONSUMER_KEY = 'xxxxxxxxxxxxxxxxxxxxx'\n",
    "CONSUMER_SECRET = 'xxxxxxxxxxxxxxxxxxxx'\n",
    "ACCESS_KEY = 'xxxxxxxxxxxxxxxxxx'\n",
    "ACCESS_SECRET = 'xxxxxxxxxxxxxxxxxxxxxxx'\n",
    "\n",
    "twitter = Twython(CONSUMER_KEY, CONSUMER_SECRET, ACCESS_KEY, ACCESS_SECRET)\n",
    "#path = 'images/NewFolder'\n",
    "f = open(\"art.txt\")\n",
    "text = f.read()\n",
    "# Build the model.\n",
    "text_model = markovify.Text(text)\n",
    "# Print randomly-generated sentences of no more than 140 characters\n",
    "#http://paulbourke.net/fractals/\n",
    "#STR = (text_model.make_short_sentence(140))\n",
    "STR = (\"#seaborngraph #datgraphart #graphs #graphicart - GRAPH ART the Seaborn way !\")\n",
    "#PATH = \"/home/jack/Desktop/deep-dream-generator/notebooks/STUFF/experiment/experiment8.jpg\"\n",
    "PATH = \"images/NewFolder/seaborn2T.jpg\"\n",
    "# 1 , 2, 3, 12, 5, 15, 8\n",
    "#photo = open('/home/jack/Desktop/deep-dream-generator/notebooks/images/'+file_list[rnd]+'.jpg','rb')\n",
    "photo = open(PATH,'rb')\n",
    "response = twitter.upload_media(media=photo)\n",
    "twitter.update_status(status=STR, media_ids=[response['media_id']])\n"
   ]
  },
  {
   "cell_type": "code",
   "execution_count": 99,
   "metadata": {
    "collapsed": true
   },
   "outputs": [],
   "source": [
    "from PIL import Image, ImageDraw\n",
    "from PIL import ImageFont\n",
    "import sys, getopt\n",
    "\n",
    "#PATH = \"/home/jack/Desktop/deep-dream-generator/notebooks/STUFF/experiment/\"\n",
    "#im = Image.open(PATH+\"experiment1.jpg\")\n",
    "\n",
    "def main():\n",
    "    hide = Image.open(\"/home/jack/Desktop/superpixels/images/mohas.jpg\")\n",
    "    brand = Image.new(\"RGBA\", hide.size)\n",
    "    burn = ImageDraw.ImageDraw(brand, \"RGBA\")\n",
    "    width, height = hide.size\n",
    "    \n",
    "    #img = Image.new(\"RGB\", (h, h), (255,255,255))\n",
    "    #print img.getpixel((0,0))\n",
    "    #draw = ImageDraw.Draw(img)\n",
    "    font_path = \"/home/jack/.fonts/Becker.ttf\"\n",
    "    font_size = 25\n",
    "    font = ImageFont.truetype(font_path, font_size)\n",
    "\n",
    "    #impression.text((w, h), char, (0,0,0),font=font)\n",
    "    #img.show()\n",
    "    \n",
    "    w = width-325\n",
    "    h = height-60\n",
    "    \n",
    "    burn.text((w, h), \"The TwitterBot Project\", (256,256,256),font=font)\n",
    "    branding = brand.convert(\"L\").point(lambda x: min(x, 256))\n",
    "    brand.putalpha(branding)\n",
    "    hide.paste(brand, None, brand)\n",
    "    hide.save(\"/home/jack/Desktop/superpixels/images/mohasT.jpg\", \"JPEG\")\n",
    "\n",
    "if __name__ == '__main__':\n",
    "    main()\n",
    "    # USAGE: python BrandingIron.py images/input-image.png images/output-image.jpg"
   ]
  },
  {
   "cell_type": "markdown",
   "metadata": {},
   "source": [
    "!locate *.ttf"
   ]
  },
  {
   "cell_type": "code",
   "execution_count": 20,
   "metadata": {
    "collapsed": true
   },
   "outputs": [],
   "source": [
    "from PIL import Image"
   ]
  },
  {
   "cell_type": "markdown",
   "metadata": {},
   "source": [
    "from PIL import Image, ImageDraw\n",
    "view = Image.open(\"/home/jack/Desktop/deep-dream-generator/notebooks/STUFF/experiment/experiment8.jpg\")\n",
    "view"
   ]
  },
  {
   "cell_type": "markdown",
   "metadata": {},
   "source": [
    "from PIL import Image, ImageDraw, ImageFont\n",
    "image = Image.open(\"/home/jack/Desktop/deep-dream-generator/notebooks/STUFF/experiment/experiment1.jpg\")\n",
    "image"
   ]
  },
  {
   "cell_type": "code",
   "execution_count": null,
   "metadata": {
    "collapsed": true
   },
   "outputs": [],
   "source": []
  },
  {
   "cell_type": "code",
   "execution_count": 1,
   "metadata": {},
   "outputs": [
    {
     "name": "stdout",
     "output_type": "stream",
     "text": [
      "experiment10.jpg  experiment14.png  experiment2.jpg  experiment6.png\r\n",
      "experiment10.png  experiment15.jpg  experiment2.png  experiment7.jpg\r\n",
      "experiment11.jpg  experiment15.png  experiment3.jpg  experiment7.png\r\n",
      "experiment11.png  experiment16.jpg  experiment3.png  experiment8.jpg\r\n",
      "experiment12.jpg  experiment16.png  experiment4.jpg  experiment8.png\r\n",
      "experiment12.png  experiment17.jpg  experiment4.png  experiment9.jpg\r\n",
      "experiment13.jpg  experiment17.png  experiment5.jpg  experiment9.png\r\n",
      "experiment13.png  experiment1.jpg   experiment5.png\r\n",
      "experiment14.jpg  experiment1.png   experiment6.jpg\r\n"
     ]
    }
   ],
   "source": [
    "!ls /home/jack/Desktop/deep-dream-generator/notebooks/STUFF/experiment/"
   ]
  },
  {
   "cell_type": "code",
   "execution_count": 14,
   "metadata": {
    "collapsed": true
   },
   "outputs": [],
   "source": [
    "from PIL import Image, ImageDraw\n",
    "PATH = \"/home/jack/Desktop/deep-dream-generator/notebooks/STUFF/experiment/\"\n",
    "im = Image.open(PATH+\"experiment2.png\")\n",
    "im.save(PATH+\"experiment2.jpg\")"
   ]
  },
  {
   "cell_type": "code",
   "execution_count": null,
   "metadata": {
    "collapsed": true
   },
   "outputs": [],
   "source": [
    "from PIL import Image, ImageDraw, ImageFont\n",
    " \n",
    "image = Image.open(\"/home/jack/Desktop/superpixels/images/colors.jpg\")\n",
    "width, height = image.size\n",
    " \n",
    "draw = ImageDraw.Draw(image)\n",
    "text = \"The TwitterBot Project\"\n",
    " \n",
    "font = ImageFont.truetype(\"/home/jack/.fonts/Exo-Black.ttf\", 22)\n",
    "textwidth, textheight = draw.textsize(text, font)\n",
    " \n",
    "# calculate the x,y coordinates of the text\n",
    "margin = 15\n",
    "x = width - textwidth - margin\n",
    "y = height - textheight - margin\n",
    " \n",
    "# draw watermark in the bottom right corner\n",
    "draw.text((x, y), text, font=font)\n",
    " \n",
    "image.save(\"/home/jack/Desktop/superpixels/images/colorsT.jpg\", \"JPEG\")"
   ]
  }
 ],
 "metadata": {
  "kernelspec": {
   "display_name": "Python 2",
   "language": "python",
   "name": "python2"
  },
  "language_info": {
   "codemirror_mode": {
    "name": "ipython",
    "version": 2
   },
   "file_extension": ".py",
   "mimetype": "text/x-python",
   "name": "python",
   "nbconvert_exporter": "python",
   "pygments_lexer": "ipython2",
   "version": "2.7.13"
  }
 },
 "nbformat": 4,
 "nbformat_minor": 2
}
