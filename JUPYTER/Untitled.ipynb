{
 "cells": [
  {
   "cell_type": "code",
   "execution_count": null,
   "id": "0a9d3431",
   "metadata": {},
   "outputs": [],
   "source": [
    "%%writefile Findword.py\n",
    "#!/usr/bin/env python\n",
    "import os\n",
    "import sys\n",
    "from sys import argv\n",
    "from sys import argv\n",
    "targetdir = sys.argv[1]\n",
    "term = sys.argv[2]\n",
    "DIRLIST = []\n",
    "def Findword(targetdir, term):\n",
    "    for folder, dirs, files in os.walk(targetdir ):\n",
    "        for file in files:\n",
    "            if file.endswith('.html'):\n",
    "                fullpath = os.path.join(folder, file)\n",
    "                if \"docs\" not in fullpath:\n",
    "                    with open(fullpath, 'r') as f:\n",
    "                        for line in f:\n",
    "                            if term in line:\n",
    "                                DIRLIST.append(fullpath)\n",
    "                                #print(fullpath)\n",
    "                                break\n",
    "data = DIRLIST\n",
    "print(data)"
   ]
  },
  {
   "cell_type": "code",
   "execution_count": 3,
   "id": "a61b041a",
   "metadata": {},
   "outputs": [
    {
     "name": "stdout",
     "output_type": "stream",
     "text": [
      "Overwriting Findword.py\n"
     ]
    }
   ],
   "source": [
    "%%writefile Findword.py\n",
    "#!/usr/bin/env python\n",
    "import os\n",
    "import sys\n",
    "from sys import argv\n",
    "from sys import argv\n",
    "targetdir = sys.argv[1]\n",
    "term = sys.argv[2]\n",
    "DIRLIST = []\n",
    "def Findword(targetdir, term):\n",
    "    for folder, dirs, files in os.walk(targetdir ):\n",
    "        for file in files:\n",
    "            if file.endswith('.html'):\n",
    "                fullpath = os.path.join(folder, file)\n",
    "                if \"docs\" not in fullpath:\n",
    "                    with open(fullpath, 'r') as f:\n",
    "                        for line in f:\n",
    "                            if term in line:\n",
    "                                DIRLIST.append(fullpath)\n",
    "                                #print(fullpath)\n",
    "                                break\n",
    "    data = DIRLIST\n",
    "    return data"
   ]
  },
  {
   "cell_type": "code",
   "execution_count": 4,
   "id": "f1635862",
   "metadata": {},
   "outputs": [],
   "source": [
    "from Findword import Findword\n",
    "targetdir = '/home/jack/Desktop/SITE/lbry-react'\n",
    "term = \"wrapper\"\n",
    "dARA =  Findword(targetdir, term)\n"
   ]
  },
  {
   "cell_type": "code",
   "execution_count": 7,
   "id": "f71f701d",
   "metadata": {},
   "outputs": [
    {
     "name": "stdout",
     "output_type": "stream",
     "text": [
      "/home/jack/Desktop/SITE/lbry-react/PIL/index.html\n"
     ]
    }
   ],
   "source": [
    "print(dARA[6])"
   ]
  },
  {
   "cell_type": "code",
   "execution_count": null,
   "id": "c8893011",
   "metadata": {},
   "outputs": [],
   "source": []
  },
  {
   "cell_type": "code",
   "execution_count": 6,
   "id": "aaf82d91",
   "metadata": {},
   "outputs": [
    {
     "name": "stdout",
     "output_type": "stream",
     "text": [
      "['/home/jack/Desktop/SITE/lbry-react/index.html', '/home/jack/Desktop/SITE/lbry-react/FFMPEG/GMIC-compile-with-g++.html', '/home/jack/Desktop/SITE/lbry-react/FFMPEG/FFMPEG1525.html', '/home/jack/Desktop/SITE/lbry-react/NUMPY-CV2/index.html', '/home/jack/Desktop/SITE/lbry-react/JUPYTER/index2.html', '/home/jack/Desktop/SITE/lbry-react/DOCKER/index.html', '/home/jack/Desktop/SITE/lbry-react/PIL/index.html', '/home/jack/Desktop/SITE/lbry-react/PYTHON/index.html', '/home/jack/Desktop/SITE/lbry-react/NODEJS/index.html', '/home/jack/Desktop/SITE/lbry-react/KEEP-NOTES/index.html', '/home/jack/Desktop/SITE/lbry-react/TWITTER/index.html', '/home/jack/Desktop/SITE/lbry-react/TKINTER/index.html', '/home/jack/Desktop/SITE/lbry-react/HTML-CSS/index.html', '/home/jack/Desktop/SITE/lbry-react/VISUALCODE/index.html', '/home/jack/Desktop/SITE/lbry-react/BASH/index.html', '/home/jack/Desktop/SITE/lbry-react/index.html', '/home/jack/Desktop/SITE/lbry-react/FFMPEG/GMIC-compile-with-g++.html', '/home/jack/Desktop/SITE/lbry-react/FFMPEG/FFMPEG1525.html', '/home/jack/Desktop/SITE/lbry-react/NUMPY-CV2/index.html', '/home/jack/Desktop/SITE/lbry-react/JUPYTER/index2.html', '/home/jack/Desktop/SITE/lbry-react/DOCKER/index.html', '/home/jack/Desktop/SITE/lbry-react/PIL/index.html', '/home/jack/Desktop/SITE/lbry-react/PYTHON/index.html', '/home/jack/Desktop/SITE/lbry-react/NODEJS/index.html', '/home/jack/Desktop/SITE/lbry-react/KEEP-NOTES/index.html', '/home/jack/Desktop/SITE/lbry-react/TWITTER/index.html', '/home/jack/Desktop/SITE/lbry-react/TKINTER/index.html', '/home/jack/Desktop/SITE/lbry-react/HTML-CSS/index.html', '/home/jack/Desktop/SITE/lbry-react/VISUALCODE/index.html', '/home/jack/Desktop/SITE/lbry-react/BASH/index.html']\n"
     ]
    }
   ],
   "source": [
    "from io import StringIO\n",
    "import sys\n",
    "from Findword import Findword\n",
    "targetdir = '/home/jack/Desktop/SITE/lbry-react'\n",
    "term = \"wrapper\"\n",
    "result = (Findword(targetdir, term))\n",
    "print(result)"
   ]
  },
  {
   "cell_type": "code",
   "execution_count": null,
   "id": "463eba1f",
   "metadata": {},
   "outputs": [],
   "source": [
    "import os\n",
    "directorylist = []\n",
    "def listdir_nohidden(path):\n",
    "    for f in os.listdir(path):\n",
    "        if not f.startswith('.'):\n",
    "            yield f\n",
    "path =\"/home/jack/Desktop/SITE/lbry-react\" \n",
    "FOLDERS = listdir_nohidden(path)\n",
    "for directories in FOLDERS:\n",
    "    if directories != \"cs\" and directories != \"README.md\" and directories != \"index.html\":\n",
    "        directorylist.append(directories)\n",
    "        print(directories)"
   ]
  },
  {
   "cell_type": "code",
   "execution_count": null,
   "id": "6b45a5a3",
   "metadata": {},
   "outputs": [],
   "source": [
    "folderandindex =[]\n",
    "import os\n",
    "rootdir=(\"/home/jack/Desktop/SITE/lbry-react\" )\n",
    "for folder, dirs, files in os.walk(rootdir):\n",
    "    for file in files:\n",
    "        if file.endswith('.html'):\n",
    "            fullpath = os.path.join(folder, file)\n",
    "            if \"docs\" not in fullpath and fullpath.endswith(\"index.html\"):\n",
    "                with open(fullpath, 'r') as f:\n",
    "                    for line in f:\n",
    "                        if \"wrapper\" in line:\n",
    "                            folderandindex.append(fullpath)\n",
    "                            print(fullpath)\n",
    "                            break\n",
    "                        \n"
   ]
  },
  {
   "cell_type": "code",
   "execution_count": null,
   "id": "52fa1393",
   "metadata": {},
   "outputs": [],
   "source": [
    "%%writefile /home/jack/hidden/Findword.py\n",
    "folderandindex =[]\n",
    "import os\n",
    "def Findword(rootdir, term):\n",
    "    for folder, dirs, files in os.walk(rootdir):\n",
    "        for file in files:\n",
    "            #if file.endswith('.html'):\n",
    "            fullpath = os.path.join(folder, file)\n",
    "            if \"docs\" not in fullpath and fullpath.endswith(\"index.html\"):\n",
    "                with open(fullpath, 'r') as f:\n",
    "                    for line in f:\n",
    "                        if term in line:\n",
    "                            folderandindex.append(fullpath)\n",
    "                            print(fullpath)\n",
    "                            break\n",
    "                        \n",
    "rootdir=(\"/home/jack/Desktop/SITE/lbry-react\")\n",
    "term = (\"php\")\n",
    "Findword(rootdir, term)"
   ]
  },
  {
   "cell_type": "code",
   "execution_count": null,
   "id": "f6b418e7",
   "metadata": {},
   "outputs": [],
   "source": [
    "for filenames in folderandindex:\n",
    "    print(filenames)"
   ]
  },
  {
   "cell_type": "code",
   "execution_count": null,
   "id": "977e577a",
   "metadata": {},
   "outputs": [],
   "source": [
    "!ls  /home/jack/hidden/"
   ]
  },
  {
   "cell_type": "code",
   "execution_count": null,
   "id": "8a1c22b5",
   "metadata": {},
   "outputs": [],
   "source": [
    "help(\"modules\")"
   ]
  },
  {
   "cell_type": "code",
   "execution_count": null,
   "id": "2e6d7bc7",
   "metadata": {},
   "outputs": [],
   "source": [
    "from Findword import Findword\n",
    "rootdir=(\"/home/jack/Desktop/SITE/lbry-react\")\n",
    "term = \"wrapper\"\n",
    "Findword(rootdir, term)"
   ]
  },
  {
   "cell_type": "code",
   "execution_count": null,
   "id": "fbbf9fa1",
   "metadata": {},
   "outputs": [],
   "source": [
    "import os\n",
    "\n",
    "def Findword(rootdir, term):\n",
    "    for folder, dirs, files in os.walk(rootdir):\n",
    "        for file in files:\n",
    "            if file.endswith('.html'):\n",
    "                fullpath = os.path.join(folder, file)\n",
    "                if \"docs\" not in fullpath:\n",
    "                    with open(fullpath, 'r') as f:\n",
    "                        for line in f:\n",
    "                            if term in line:\n",
    "                                print(fullpath)\n",
    "                                break\n",
    "                        \n",
    "rootdir=(\"/home/jack/Desktop/SITE/lbry-react\")\n",
    "term = \"wrapper\"\n",
    "Findword(rootdir, term)"
   ]
  },
  {
   "cell_type": "code",
   "execution_count": null,
   "id": "13e0009c",
   "metadata": {},
   "outputs": [],
   "source": [
    "rootdir=(\"/home/jack/Desktop/SITE/lbry-react\")\n",
    "term = \"wrapper\""
   ]
  },
  {
   "cell_type": "code",
   "execution_count": null,
   "id": "2ccc2af0",
   "metadata": {},
   "outputs": [],
   "source": [
    "%%writefile Findword\n",
    "#!/usr/bin/env python\n",
    "import os\n",
    "import sys\n",
    "from sys import argv\n",
    "from sys import argv\n",
    "targetdir = sys.argv[1]\n",
    "term = sys.argv[2]\n",
    "TERM = []\n",
    "\n",
    "def Findword(targetdir, term):\n",
    "    for folder, dirs, files in os.walk(targetdir ):\n",
    "        for file in files:\n",
    "            if file.endswith('.html'):\n",
    "                fullpath = os.path.join(folder, file)\n",
    "                if \"docs\" not in fullpath:\n",
    "                    with open(fullpath, 'r') as f:\n",
    "                        for line in f:\n",
    "                            if term in line:\n",
    "                                TERM.append(fullpath)\n",
    "                                return TERM\n",
    "                                break\n",
    "print(TERM)                        \n",
    "\n",
    "if __name__ == \"__main__\":\n",
    "    Findword(sys.argv[1], sys.argv[2])"
   ]
  },
  {
   "cell_type": "code",
   "execution_count": null,
   "id": "3608b14b",
   "metadata": {},
   "outputs": [],
   "source": [
    "!./Findword \"/home/jack/Desktop/SITE/lbry-react\", \"wrapper\""
   ]
  },
  {
   "cell_type": "code",
   "execution_count": null,
   "id": "2c402bb6",
   "metadata": {},
   "outputs": [],
   "source": [
    "%%writefile Findword\n",
    "#!/usr/bin/env python\n",
    "import os\n",
    "import sys\n",
    "from sys import argv\n",
    "from sys import argv\n",
    "targetdir = sys.argv[1]\n",
    "term = sys.argv[2]\n",
    "Dlist = []\n",
    "\n",
    "def Findword(targetdir, term):\n",
    "    for folder, dirs, files in os.walk(targetdir ):\n",
    "        for file in files:\n",
    "            if file.endswith('.html'):\n",
    "                fullpath = os.path.join(folder, file)\n",
    "                if \"docs\" not in fullpath:\n",
    "                    with open(fullpath, 'r') as f:\n",
    "                        for line in f:\n",
    "                            if term in line:\n",
    "                                print(fullpath)\n",
    "                                break\n",
    "                        \n",
    "\n",
    "if __name__ == \"__main__\":\n",
    "    print(sys.argv[1], sys.argv[2])\n",
    "    Findword(sys.argv[1], sys.argv[2])\n"
   ]
  },
  {
   "cell_type": "code",
   "execution_count": null,
   "id": "ca093358",
   "metadata": {},
   "outputs": [],
   "source": [
    "%%writefile Findword\n",
    "#!/usr/bin/env python\n",
    "import os\n",
    "import sys\n",
    "from sys import argv\n",
    "from sys import argv\n",
    "targetdir = sys.argv[1]\n",
    "term = sys.argv[2]\n",
    "DIRLIST = []\n",
    "def Findword(targetdir, term):\n",
    "    for folder, dirs, files in os.walk(targetdir ):\n",
    "        for file in files:\n",
    "            if file.endswith('.html'):\n",
    "                fullpath = os.path.join(folder, file)\n",
    "                if \"docs\" not in fullpath:\n",
    "                    with open(fullpath, 'r') as f:\n",
    "                        for line in f:\n",
    "                            if term in line:\n",
    "                                DIRLIST.append(fullpath)\n",
    "                                #print(fullpath)\n",
    "                                break\n",
    "    data = DIRLIST\n",
    "    print(data)\n",
    "targetdir = '/home/jack/Desktop/SITE/lbry-react'\n",
    "term = \"wrapper\"\n",
    "Findword(targetdir, term)"
   ]
  },
  {
   "cell_type": "code",
   "execution_count": null,
   "id": "1163ef76",
   "metadata": {},
   "outputs": [],
   "source": [
    "!./Findword '/home/jack/Desktop/SITE/lbry-react', \"wrapper\"\n"
   ]
  },
  {
   "cell_type": "code",
   "execution_count": null,
   "id": "48791640",
   "metadata": {},
   "outputs": [],
   "source": [
    "%%writefile ARG\n",
    "#!/usr/bin/env python\n",
    "import os\n",
    "import sys\n",
    "from sys import argv\n",
    "targetdir = sys.argv[1]\n",
    "term = sys.argv[2]\n",
    "print(targetdir,term)"
   ]
  },
  {
   "cell_type": "code",
   "execution_count": null,
   "id": "edcbaf8f",
   "metadata": {},
   "outputs": [],
   "source": [
    "!./ARG  '/home/jack/Desktop/SITE/lbry-react', \"python\""
   ]
  },
  {
   "cell_type": "code",
   "execution_count": null,
   "id": "0cfe9c9d",
   "metadata": {},
   "outputs": [],
   "source": [
    "!chmod +x Findword"
   ]
  },
  {
   "cell_type": "code",
   "execution_count": null,
   "id": "c1c04160",
   "metadata": {},
   "outputs": [],
   "source": [
    "!chmod +x ./ARG"
   ]
  },
  {
   "cell_type": "code",
   "execution_count": null,
   "id": "9983d3f7",
   "metadata": {},
   "outputs": [],
   "source": [
    "!chmod +x Findword"
   ]
  },
  {
   "cell_type": "code",
   "execution_count": null,
   "id": "a1b17f50",
   "metadata": {},
   "outputs": [],
   "source": [
    "import os\n",
    "p=os.listdir('/home/jack/Desktop/SITE/lbry-react')\n",
    "for i in p:\n",
    "    print(i)\n",
    "    if os.path.isdir(i):\n",
    "        if \"\\.\" not in i:\n",
    "            print(i)"
   ]
  },
  {
   "cell_type": "code",
   "execution_count": null,
   "id": "e4a935ec",
   "metadata": {},
   "outputs": [],
   "source": [
    "for root, dirnames, filenames in os.walk(\"/home/jack/Desktop/SITE\"):\n",
    "    for filename in (filenames, extensions):\n",
    "        if filename == \"index.html\" :\n",
    "            Path =(os.path.join(root, filename))\n",
    "            if \"/.\" not in Path:\n",
    "                print (Path)"
   ]
  },
  {
   "cell_type": "code",
   "execution_count": null,
   "id": "a0b0a09f",
   "metadata": {},
   "outputs": [],
   "source": [
    "import fnmatch\n",
    "from urllib.request import urlopen as uReq\n",
    "import os\n",
    "from bs4 import BeautifulSoup as soup\n",
    "from bs4 import Doctype\n",
    "\n",
    "files = ['index.html']\n",
    "matches = []\n",
    "\n",
    "for root, dirnames, filenames in os.walk(\"/home/jack/Desktop/SITE\"):\n",
    "    for extensions in files:\n",
    "        for filename in fnmatch.filter(filenames, extensions):\n",
    "            matches.append(os.path.join(root, filename))\n",
    "            print(matches)"
   ]
  },
  {
   "cell_type": "code",
   "execution_count": null,
   "id": "f5d4b8e0",
   "metadata": {},
   "outputs": [],
   "source": [
    "import glob, os\n",
    "os.chdir(\"/home/jack/Desktop/SITE\")\n",
    "for file in glob.glob(\"index.html\"):\n",
    "    print(file)"
   ]
  },
  {
   "cell_type": "code",
   "execution_count": null,
   "id": "18a1b674",
   "metadata": {},
   "outputs": [],
   "source": [
    "for files in matches:\n",
    "    print(files)"
   ]
  },
  {
   "cell_type": "code",
   "execution_count": null,
   "id": "6c72bfcb",
   "metadata": {},
   "outputs": [],
   "source": [
    "FILZ = [] \n",
    "for file in matches:\n",
    "    content = open(file).readlines()\n",
    "  \n",
    "    for lines in content:\n",
    "        if \"wrapper\" in lines and \"docs\" not in file:\n",
    "            FILZ.append(file)"
   ]
  },
  {
   "cell_type": "code",
   "execution_count": null,
   "id": "307be461",
   "metadata": {},
   "outputs": [],
   "source": [
    "import os\n",
    "from bs4 import BeautifulSoup, Doctype\n",
    "\n",
    "directory = '/home/jack/Desktop/SITE'\n",
    "for root, dirnames, filenames in os.walk(directory):\n",
    "    for filename in filenames:\n",
    "        if filename.endswith('index.html'):\n",
    "            fname = os.path.join(root, filename)\n",
    "            print('Filename: {}'.format(fname))\n",
    "            with open(fname) as handle:\n",
    "                soup = BeautifulSoup(handle.read(), 'html.parser')\n",
    "                for item in soup.contents:\n",
    "                    if isinstance(item, Doctype):\n",
    "                        print('Doctype: {}'.format(item))\n",
    "                        break\n"
   ]
  },
  {
   "cell_type": "code",
   "execution_count": null,
   "id": "dbc10f63",
   "metadata": {},
   "outputs": [],
   "source": [
    "print(os.listdir(\"lbry-react\"))"
   ]
  },
  {
   "cell_type": "code",
   "execution_count": null,
   "id": "af92f675",
   "metadata": {},
   "outputs": [],
   "source": [
    "subfolders = [ f.path for f in os.scandir(\"/home/jack/Desktop/SITE/lbry-react\") if f.is_dir() ]\n",
    "print (subfolders)"
   ]
  },
  {
   "cell_type": "code",
   "execution_count": null,
   "id": "9157235f",
   "metadata": {},
   "outputs": [],
   "source": [
    "Path = os.path.abspath(\"/home/jack/Desktop/SITE\")\n",
    "Path"
   ]
  },
  {
   "cell_type": "code",
   "execution_count": null,
   "id": "715a8dbd",
   "metadata": {},
   "outputs": [],
   "source": [
    "!pwd"
   ]
  },
  {
   "cell_type": "code",
   "execution_count": null,
   "id": "82d39415",
   "metadata": {},
   "outputs": [],
   "source": [
    "print(os.listdir('/home/jack/Desktop/SITE/lbry-react'))"
   ]
  },
  {
   "cell_type": "code",
   "execution_count": null,
   "id": "26a15e80",
   "metadata": {},
   "outputs": [],
   "source": []
  }
 ],
 "metadata": {
  "kernelspec": {
   "display_name": "Python 3 (ipykernel)",
   "language": "python",
   "name": "python3"
  },
  "language_info": {
   "codemirror_mode": {
    "name": "ipython",
    "version": 3
   },
   "file_extension": ".py",
   "mimetype": "text/x-python",
   "name": "python",
   "nbconvert_exporter": "python",
   "pygments_lexer": "ipython3",
   "version": "3.9.12"
  }
 },
 "nbformat": 4,
 "nbformat_minor": 5
}
